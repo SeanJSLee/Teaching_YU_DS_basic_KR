{
 "cells": [
  {
   "cell_type": "code",
   "execution_count": null,
   "metadata": {},
   "outputs": [],
   "source": [
    "def draw_ols_result(ols_result):\n",
    "    import numpy as np\n",
    "    import matplotlib.pyplot as plt\n",
    "    import scipy.stats as stats\n",
    "    # \n",
    "    betas   = list(ols_result.params.index)\n",
    "    dof     = ols_result.df_resid\n",
    "    # \n",
    "    fig, axs = plt.subplots(nrows=len(betas), figsize=(10, 4*len(betas)))\n",
    "    # \n",
    "    for ax, beta in zip(axs, betas) :\n",
    "        b_mean  = ols_result.params[beta]\n",
    "        b_se    = ols_result.bse[beta]\n",
    "        b_conf  = [ols_result.conf_int().loc[beta][0], ols_result.conf_int().loc[beta][1]]\n",
    "        p_val   = ols_result.pvalues[beta]\n",
    "        # \n",
    "        x = np.linspace(min(0, b_mean - 4 * b_se), (b_mean + 4 * b_se), 1000)\n",
    "        y = stats.t.pdf(x, df=dof, loc=b_mean, scale=b_se)\n",
    "        # \n",
    "        ax.plot(x, y, label=f'$b_{beta}$={b_mean:.3f}, $s_{beta}^2$={b_se:.3f}$^2$))')\n",
    "        # \n",
    "        # Plot the critical values\n",
    "        ax.axvline(b_conf[1], linestyle='--', alpha=0.5, color='red')\n",
    "        ax.axvline(b_conf[0], linestyle='--', alpha=0.5, color='green')              \n",
    "        ax.axvline(b_mean, linestyle='--', alpha=0.5, color='b')              \n",
    "        # Fill between for the two-tail areas with different alphas\n",
    "        ax.fill_between(x, y, where=(x > b_conf[0]) & (x < b_conf[1]), alpha=0.1, label=f'{.95:.00%} CI [{b_conf[0]:.3f}, {b_conf[1]:.3f}]')\n",
    "        # text\n",
    "        ax.text(b_conf[1], max(y)/3, f'ub={b_conf[1]:.3f}', horizontalalignment='center', color='red', rotation=20, size=13)\n",
    "        ax.text(b_conf[0], max(y)/5, f'lb={b_conf[0]:.3f}', horizontalalignment='center', color='green', rotation=20, size=13)\n",
    "        ax.text(b_mean, 0, f'beta={b_mean:.3f}', horizontalalignment='center', color='b', rotation=0, size=13)\n",
    "        # \n",
    "        # mark \"t-statistic\"\n",
    "        ax.axvline(0, linestyle='--', alpha=0.5, color='k')\n",
    "        ax.text(0, max(y)/7, f't-statistic\\n={(b_mean/b_se):.3f}', horizontalalignment='center', color='k', rotation=20, size=13)\n",
    "        ax.text(0, 0, f'p-value={(p_val):.3f}', horizontalalignment='center', color='k', rotation=20, size=13)\n",
    "        # \n",
    "        ax.set_xlabel(f'{beta}')\n",
    "        # ax.set_ylabel('Probability Density')\n",
    "        # ax.set_title(f'{beta}')\n",
    "        # ax.set_title('p.d.f. of X')\n",
    "        ax.legend()\n",
    "    #\n",
    "    # plt.legend()\n",
    "    plt.show()\n",
    "\n",
    "# draw_ols_result(result_cps)"
   ]
  },
  {
   "cell_type": "code",
   "execution_count": null,
   "metadata": {},
   "outputs": [],
   "source": [
    "import pandas as pd\n",
    "import numpy as np\n",
    "import statsmodels.api as sm\n",
    "import patsy\n",
    "import matplotlib.pyplot as plt\n",
    "\n",
    "\n",
    "def ols_alt_spec(spec, data, show_res=True):\n",
    "    y,X = patsy.dmatrices(spec, data=data, return_type='dataframe')\n",
    "    model  = sm.OLS(y,X)\n",
    "    result = model.fit(cov_type='HC0', use_t=True)\n",
    "    if show_res : print(result.summary())\n",
    "    return result\n",
    "\n",
    "# Load the dataset\n",
    "df_hps = pd.read_csv(\"https://raw.githubusercontent.com/SeanJSLee/Teaching_YU_DS_basic_KR/main/data/KOSIS_houshold_panel_survey/data_income_kor.csv\")\n",
    "df_hps.head(3)"
   ]
  },
  {
   "cell_type": "markdown",
   "metadata": {},
   "source": [
    "## 연령그룹에 따라 추정해보기"
   ]
  },
  {
   "cell_type": "code",
   "execution_count": null,
   "metadata": {},
   "outputs": [],
   "source": [
    "# 20대의 경우 \n",
    "print('20대 OLS')\n",
    "# ols_alt_spec(spec='ln_income ~ edu_year', data= df_hps.loc[df_hps['age'].isin(range(20,30))])\n",
    "draw_ols_result(\n",
    "    ols_alt_spec(spec='ln_income ~ edu_year', data= df_hps.loc[df_hps['age'].isin(range(20,30))])\n",
    "    )"
   ]
  },
  {
   "cell_type": "code",
   "execution_count": null,
   "metadata": {},
   "outputs": [],
   "source": [
    "# 30대의 경우 \n",
    "print('30대 OLS')\n",
    "ols_alt_spec(spec='ln_income ~ edu_year', data= df_hps.loc[df_hps['age'].isin(range(30,40))])"
   ]
  },
  {
   "cell_type": "code",
   "execution_count": null,
   "metadata": {},
   "outputs": [],
   "source": [
    "# 40대의 경우 \n",
    "print('40대 OLS')\n",
    "ols_alt_spec(spec='ln_income ~ edu_year', data= df_hps.loc[df_hps['age'].isin(range(40,50))])"
   ]
  },
  {
   "cell_type": "code",
   "execution_count": null,
   "metadata": {},
   "outputs": [],
   "source": [
    "# 50대의 경우 \n",
    "print('50대 OLS')\n",
    "ols_alt_spec(spec='ln_income ~ edu_year', data= df_hps.loc[df_hps['age'].isin(range(50,60))])"
   ]
  },
  {
   "cell_type": "code",
   "execution_count": null,
   "metadata": {},
   "outputs": [],
   "source": []
  },
  {
   "cell_type": "code",
   "execution_count": null,
   "metadata": {},
   "outputs": [],
   "source": []
  },
  {
   "cell_type": "markdown",
   "metadata": {},
   "source": [
    "### Alternative specification\n",
    "- 임금과 연관된 다른 변수 추가해보기 - 경력을 근사 할 수 있는 나이"
   ]
  },
  {
   "cell_type": "code",
   "execution_count": null,
   "metadata": {},
   "outputs": [],
   "source": [
    "result_spec = {}\n",
    "result_spec['original'] = ols_alt_spec(spec='ln_income ~ edu_year', data= df_hps)\n",
    "draw_ols_result(result_spec['original'])\n",
    "print('\\n\\n\\n\\n')\n",
    "result_spec['alt_age'] = ols_alt_spec(spec='ln_income ~ edu_year + age', data= df_hps)\n",
    "draw_ols_result(result_spec['alt_age'])\n",
    "print('\\n\\n\\n\\n')\n",
    "result_spec['alt_age_sq'] = ols_alt_spec(spec='ln_income ~ edu_year + age + np.power(age,2)', data= df_hps)\n",
    "draw_ols_result(result_spec['alt_age_sq'])"
   ]
  },
  {
   "cell_type": "code",
   "execution_count": null,
   "metadata": {},
   "outputs": [],
   "source": [
    "for model in result_spec.keys() :\n",
    "    print(model, 'RMSE=', round(result_spec[model].mse_resid ** .5, 4))"
   ]
  },
  {
   "cell_type": "code",
   "execution_count": null,
   "metadata": {},
   "outputs": [],
   "source": []
  },
  {
   "cell_type": "code",
   "execution_count": null,
   "metadata": {},
   "outputs": [],
   "source": [
    "\n",
    "\n",
    "# fitted value df\n",
    "df_predict = pd.DataFrame(columns=result_spec['alt_age_sq'].params.index)\n",
    "df_predict['edu_year'] = range(0,22)\n",
    "df_predict['Intercept'] = 1\n",
    "df_predict['age'] = df_hps['age'].mean()\n",
    "df_predict['np.power(age, 2)'] = df_hps['age'].mean() ** 2\n",
    "df_predict\n"
   ]
  },
  {
   "cell_type": "code",
   "execution_count": null,
   "metadata": {},
   "outputs": [],
   "source": [
    "fig, ax = plt.subplots(figsize=(8,8), sharex = True)\n",
    "\n",
    "\n",
    "# actual values\n",
    "ax.scatter(df_hps['edu_year'], df_hps['ln_income'], alpha=0.1, s=5, marker='D', c='b')\n",
    "\n",
    "\n",
    "# 교육연도별 임금평균 - alternative specification\n",
    "CEF_income_edu = df_hps.groupby('edu_year')['ln_income'].mean()\n",
    "# \n",
    "ax.plot(CEF_income_edu, linestyle='-', marker='o', c='b')\n",
    "\n",
    "\n",
    "for model in result_spec.keys() :\n",
    "    ax.plot(result_spec[model].predict(df_predict[result_spec[model].params.index]))\n",
    "\n",
    "# HS\n",
    "edu_year = 12\n",
    "ax.axvline(edu_year, color='0.5', linestyle='--', label='HS')\n",
    "# Post-secondary\n",
    "edu_year = 16\n",
    "ax.axvline(edu_year, color='0.5', linestyle='--', label='PS')\n",
    "    \n",
    "plt.legend(['Actual', 'CEF', 'Fitted', '+age', '+age+$age^2$'])\n",
    "plt.show()"
   ]
  }
 ],
 "metadata": {
  "kernelspec": {
   "display_name": "base",
   "language": "python",
   "name": "python3"
  },
  "language_info": {
   "codemirror_mode": {
    "name": "ipython",
    "version": 3
   },
   "file_extension": ".py",
   "mimetype": "text/x-python",
   "name": "python",
   "nbconvert_exporter": "python",
   "pygments_lexer": "ipython3",
   "version": "3.11.6"
  }
 },
 "nbformat": 4,
 "nbformat_minor": 2
}
