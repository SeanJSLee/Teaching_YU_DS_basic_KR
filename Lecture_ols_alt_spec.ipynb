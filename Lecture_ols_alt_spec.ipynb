{
 "cells": [
  {
   "cell_type": "code",
   "execution_count": null,
   "metadata": {},
   "outputs": [],
   "source": [
    "import pandas as pd\n",
    "import numpy as np\n",
    "import statsmodels.api as sm\n",
    "import patsy\n",
    "import matplotlib.pyplot as plt\n",
    "\n",
    "\n",
    "def ols_alt_spec(spec, data, show_res=True):\n",
    "    y,X = patsy.dmatrices(spec, data=data, return_type='dataframe')\n",
    "    model  = sm.OLS(y,X)\n",
    "    result = model.fit(cov_type='HC0')\n",
    "    if show_res : print(result.summary())\n",
    "    return result\n",
    "\n",
    "# Load the dataset\n",
    "df_hps = pd.read_csv(\"https://raw.githubusercontent.com/SeanJSLee/Teaching_YU_DS_basic_KR/main/data/KOSIS_houshold_panel_survey/data_income_kor.csv\")\n",
    "df_hps.head(3)"
   ]
  },
  {
   "cell_type": "markdown",
   "metadata": {},
   "source": [
    "## 연령그룹에 따라 추정해보기"
   ]
  },
  {
   "cell_type": "code",
   "execution_count": null,
   "metadata": {},
   "outputs": [],
   "source": [
    "# 20대의 경우 \n",
    "print('20대 OLS')\n",
    "ols_alt_spec(spec='ln_income ~ edu_year', data= df_hps.loc[df_hps['age'].isin(range(20,30))])"
   ]
  },
  {
   "cell_type": "code",
   "execution_count": null,
   "metadata": {},
   "outputs": [],
   "source": [
    "# 30대의 경우 \n",
    "print('30대 OLS')\n",
    "ols_alt_spec(spec='ln_income ~ edu_year', data= df_hps.loc[df_hps['age'].isin(range(30,40))])"
   ]
  },
  {
   "cell_type": "code",
   "execution_count": null,
   "metadata": {},
   "outputs": [],
   "source": [
    "# 40대의 경우 \n",
    "print('40대 OLS')\n",
    "ols_alt_spec(spec='ln_income ~ edu_year', data= df_hps.loc[df_hps['age'].isin(range(40,50))])"
   ]
  },
  {
   "cell_type": "code",
   "execution_count": null,
   "metadata": {},
   "outputs": [],
   "source": [
    "# 50대의 경우 \n",
    "print('50대 OLS')\n",
    "ols_alt_spec(spec='ln_income ~ edu_year', data= df_hps.loc[df_hps['age'].isin(range(50,60))])"
   ]
  },
  {
   "cell_type": "code",
   "execution_count": null,
   "metadata": {},
   "outputs": [],
   "source": []
  },
  {
   "cell_type": "code",
   "execution_count": null,
   "metadata": {},
   "outputs": [],
   "source": []
  },
  {
   "cell_type": "markdown",
   "metadata": {},
   "source": [
    "### Alternative specification\n",
    "- 임금과 연관된 다른 변수 추가해보기 - 경력을 근사 할 수 있는 나이"
   ]
  },
  {
   "cell_type": "code",
   "execution_count": null,
   "metadata": {},
   "outputs": [],
   "source": [
    "result_spec = {}\n",
    "result_spec['original'] = ols_alt_spec(spec='ln_income ~ edu_year', data= df_hps)\n",
    "print('\\n\\n\\n\\n')\n",
    "result_spec['alt_age'] = ols_alt_spec(spec='ln_income ~ edu_year + age', data= df_hps)\n",
    "print('\\n\\n\\n\\n')\n",
    "result_spec['alt_age_sq'] = ols_alt_spec(spec='ln_income ~ edu_year + age + np.power(age,2)', data= df_hps)"
   ]
  },
  {
   "cell_type": "code",
   "execution_count": null,
   "metadata": {},
   "outputs": [],
   "source": [
    "for model in result_spec.keys() :\n",
    "    print(model, 'RMSE=', round(result_spec[model].mse_resid ** .5, 4))"
   ]
  },
  {
   "cell_type": "code",
   "execution_count": null,
   "metadata": {},
   "outputs": [],
   "source": []
  },
  {
   "cell_type": "code",
   "execution_count": null,
   "metadata": {},
   "outputs": [],
   "source": [
    "\n",
    "\n",
    "# fitted value df\n",
    "df_predict = pd.DataFrame(columns=result_spec['alt_age_sq'].params.index)\n",
    "df_predict['edu_year'] = range(0,22)\n",
    "df_predict['Intercept'] = 1\n",
    "df_predict['age'] = df_hps['age'].mean()\n",
    "df_predict['np.power(age, 2)'] = df_hps['age'].mean() ** 2\n",
    "df_predict\n"
   ]
  },
  {
   "cell_type": "code",
   "execution_count": null,
   "metadata": {},
   "outputs": [],
   "source": [
    "fig, ax = plt.subplots(figsize=(8,8), sharex = True)\n",
    "\n",
    "\n",
    "# actual values\n",
    "ax.scatter(df_hps['edu_year'], df_hps['ln_income'], alpha=0.1, s=5, marker='D', c='b')\n",
    "\n",
    "\n",
    "# 교육연도별 임금평균 - alternative specification\n",
    "CEF_income_edu = df_hps.groupby('edu_year')['ln_income'].mean()\n",
    "# \n",
    "ax.plot(CEF_income_edu, linestyle='-', marker='o', c='b')\n",
    "\n",
    "\n",
    "for model in result_spec.keys() :\n",
    "    ax.plot(result_spec[model].predict(df_predict[result_spec[model].params.index]))\n",
    "\n",
    "# HS\n",
    "edu_year = 12\n",
    "ax.axvline(edu_year, color='0.5', linestyle='--', label='HS')\n",
    "# Post-secondary\n",
    "edu_year = 16\n",
    "ax.axvline(edu_year, color='0.5', linestyle='--', label='PS')\n",
    "    \n",
    "plt.legend(['Actual', 'CEF', 'Fitted', '+age', '+age+$age^2$'])\n",
    "plt.show()"
   ]
  }
 ],
 "metadata": {
  "kernelspec": {
   "display_name": "base",
   "language": "python",
   "name": "python3"
  },
  "language_info": {
   "codemirror_mode": {
    "name": "ipython",
    "version": 3
   },
   "file_extension": ".py",
   "mimetype": "text/x-python",
   "name": "python",
   "nbconvert_exporter": "python",
   "pygments_lexer": "ipython3",
   "version": "3.11.6"
  }
 },
 "nbformat": 4,
 "nbformat_minor": 2
}
