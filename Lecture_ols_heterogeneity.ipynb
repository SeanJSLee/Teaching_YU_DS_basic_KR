{
 "cells": [
  {
   "cell_type": "code",
   "execution_count": null,
   "metadata": {},
   "outputs": [],
   "source": [
    "import pandas as pd\n",
    "import numpy as np\n",
    "import statsmodels.api as sm\n",
    "import patsy\n",
    "import matplotlib.pyplot as plt\n",
    "\n",
    "# Load the dataset\n",
    "df_hps = pd.read_csv(\"https://raw.githubusercontent.com/SeanJSLee/Teaching_YU_DS_basic_KR/main/data/KOSIS_houshold_panel_survey/data_income_kor.csv\")\n",
    "df_hps.head(3)"
   ]
  },
  {
   "cell_type": "code",
   "execution_count": null,
   "metadata": {},
   "outputs": [],
   "source": [
    "def ols_alt_spec(spec, data, show_res=True):\n",
    "    y,X = patsy.dmatrices(spec, data=data, return_type='dataframe')\n",
    "    model  = sm.OLS(y,X)\n",
    "    result = model.fit(cov_type='HC0')\n",
    "    if show_res : print(result.summary())\n",
    "    return result"
   ]
  },
  {
   "cell_type": "code",
   "execution_count": null,
   "metadata": {},
   "outputs": [],
   "source": [
    "# 한국표준산업분류\n",
    "# 'A' : '농업, 임업 및 어업(01~03)',\n",
    "# 'B' : '광 업(05~08)',\n",
    "# 'C' : '제 조 업(10~34)',\n",
    "# 'D' : '전기, 가스, 증기 및 공기 조절 공급업(35)',\n",
    "# 'E' : '수도, 하수 및 폐기물 처리, 원료 재생업(36~39)',\n",
    "# 'F' : '건 설 업(41~42)',\n",
    "# 'G' : '도매 및 소매업(45~47)',\n",
    "# 'H' : '운수 및 창고업(49~52)',\n",
    "# 'I' : '숙박 및 음식점업(55~56)',\n",
    "# 'J' : '정보통신업(58~63)',\n",
    "# 'K' : '금융 및 보험업(64~66)',\n",
    "# 'L' : '부동산업(68)',\n",
    "# 'M' : '전문, 과학 및 기술 서비스업(70~73)',\n",
    "# 'N' : '사업시설 관리, 사업 지원 및 임대 서비스업(74~76)',\n",
    "# 'O' : '공공 행정, 국방 및 사회보장 행정(84)',\n",
    "# 'P' : '교육 서비스업(85)',\n",
    "# 'Q' : '보건업 및 사회복지 서비스업(86~87)',\n",
    "# 'R' : '예술, 스포츠 및 여가관련 서비스업(90~91)',\n",
    "# 'S' : '협회 및 단체, 수리 및 기타 개인 서비스업(94~96)',\n",
    "# 'T' : '가구 내 고용활동 및 달리 분류되지 않은 자가 소비 생산활동(97~98)',\n",
    "# 'U' : '국제 및 외국기관(99)'\n",
    "\n",
    "\n",
    "dict_ksic = {\n",
    "    'A' : 'Agriculture, Forestry and Fishing (01~03)',\n",
    "    'B' : 'Mining (05~08)',\n",
    "    'C' : 'Manufacturing (10~34)',\n",
    "    'D' : 'Electricity, Gas, Steam and Air Conditioning Supply (35)',\n",
    "    'E' : 'Water Supply; Sewerage, Waste Management and Remediation Activities (36~39)',\n",
    "    'F' : 'Construction (41~42)',\n",
    "    'G' : 'Wholesale and Retail Trade (45~47)',\n",
    "    'H' : 'Transportation and Storage (49~52)',\n",
    "    'I' : 'Accommodation and Food Service Activities (55~56)',\n",
    "    'J' : 'Information and Communication (58~63)',\n",
    "    'K' : 'Financial and Insurance Activities (64~66)',\n",
    "    'L' : 'Real Estate Activities (68)',\n",
    "    'M' : 'Professional, Scientific and Technical Services (70~73)',\n",
    "    'N' : 'Administrative and Support Service Activities; Rental and Leasing Activities (74~76)',\n",
    "    'O' : 'Public Administration and Defence; Compulsory Social Security (84)',\n",
    "    'P' : 'Education (85)',\n",
    "    'Q' : 'Human Health and Social Work Activities (86~87)',\n",
    "    'R' : 'Arts, Entertainment and Recreation (90~91)',\n",
    "    'S' : 'Other Service Activities; Activities of Membership Organizations; Repair of Computers and Personal and Household Goods (94~96)',\n",
    "    'T' : 'Activities of Households as Employers; Undifferentiated Goods- and Services-Producing Activities of Households for Own Use (97~98)',\n",
    "    'U' : 'Activities of Extraterritorial Organizations and Bodies (99)'\n",
    "    }\n",
    "\n",
    "res_ksic = {}\n",
    "for ksic in dict_ksic.keys() :\n",
    "    res_ksic[ksic] = ols_alt_spec(spec='ln_income ~ edu_year', data= df_hps.loc[df_hps['ksic']==ksic], show_res=False)\n",
    "    print(ksic, dict_ksic[ksic], '\\nbeta_edu_year =',round(res_ksic[ksic].params['edu_year'],3),'\\n')"
   ]
  },
  {
   "cell_type": "code",
   "execution_count": null,
   "metadata": {},
   "outputs": [],
   "source": [
    "fig, axe = plt.subplots(len(dict_ksic), sharex=True, figsize=(5,40))\n",
    "for ax,ksic in zip(axe, dict_ksic.keys()) :\n",
    "    ax.hist(df_hps.loc[df_hps['ksic']==ksic]['ln_income'], bins=30, density=True, label=ksic)\n",
    "    ax.set_title((ksic + ': ' +dict_ksic[ksic][:40]))\n",
    "    # mean\n",
    "    ax.axvline(df_hps['ln_income'].mean(), color='k', linestyle='--')\n",
    "    # mean - hs\n",
    "    ax.axvline(df_hps.loc[df_hps['edu_year'] == 12]['ln_income'].mean(), color='r', linestyle='--')\n",
    "    # mean - ps\n",
    "    ax.axvline(df_hps.loc[df_hps['edu_year'] == 16]['ln_income'].mean(), color='m', linestyle='--')\n",
    "\n",
    "\n",
    "# plt.legend()\n",
    "plt.show()"
   ]
  },
  {
   "cell_type": "code",
   "execution_count": null,
   "metadata": {},
   "outputs": [],
   "source": []
  },
  {
   "cell_type": "code",
   "execution_count": null,
   "metadata": {},
   "outputs": [],
   "source": []
  },
  {
   "cell_type": "code",
   "execution_count": null,
   "metadata": {},
   "outputs": [],
   "source": [
    "# 한국표준직업분류\n",
    "# '1': '관리자',\n",
    "# '2': '전문가 및 관련 종사자',\n",
    "# '3': '사무 종사자',\n",
    "# '4': '서비스 종사자',\n",
    "# '5': '판매 종사자',\n",
    "# '6': '농림ㆍ어업 숙련 종사자',\n",
    "# '7': '기능원 및 관련 기능 종사자',\n",
    "# '8': '장치ㆍ기계 조작 및 조립 종사자',\n",
    "# '9': '단순노무 종사자',\n",
    "# 'A': '군 인'\n",
    "\n",
    "dict_ksco = {\n",
    "    '1': 'Managers',\n",
    "    '2': 'Professionals and related workers',\n",
    "    '3': 'Office workers',\n",
    "    '4': 'Service workers',\n",
    "    '5': 'Sales workers',\n",
    "    '6': 'Agriculture, forestry, and fishery skilled workers',\n",
    "    '7': 'Craft and related trades workers',\n",
    "    '8': 'Plant and machine operators and assemblers',\n",
    "    '9': 'Elementary occupations',\n",
    "    'A': 'Military personnel'\n",
    "}\n",
    "\n",
    "\n",
    "res_ksco = {}\n",
    "for ksco in dict_ksco.keys() :\n",
    "    res_ksco[ksco] = ols_alt_spec(spec='ln_income ~ edu_year', data= df_hps.loc[df_hps['ksco']==ksco], show_res=False)\n",
    "    print(ksco, dict_ksco[ksco], '\\nbeta_edu_year =',round(res_ksco[ksco].params['edu_year'],3),'\\n')"
   ]
  },
  {
   "cell_type": "code",
   "execution_count": null,
   "metadata": {},
   "outputs": [],
   "source": [
    "fig, axe = plt.subplots(len(dict_ksco), sharex=True, figsize=(5,40))\n",
    "for ax,ksco in zip(axe, dict_ksco.keys()) :\n",
    "    ax.hist(df_hps.loc[df_hps['ksco']==ksco]['ln_income'], bins=30, density=True, label=ksco)\n",
    "    ax.set_title((ksco + ': ' +dict_ksco[ksco]))\n",
    "    # mean\n",
    "    ax.axvline(df_hps['ln_income'].mean(), color='k', linestyle='--')\n",
    "    # mean - hs\n",
    "    ax.axvline(df_hps.loc[df_hps['edu_year'] == 12]['ln_income'].mean(), color='r', linestyle='--')\n",
    "    # mean - ps\n",
    "    ax.axvline(df_hps.loc[df_hps['edu_year'] == 16]['ln_income'].mean(), color='m', linestyle='--')\n",
    "\n",
    "\n",
    "plt.show()"
   ]
  },
  {
   "cell_type": "code",
   "execution_count": null,
   "metadata": {},
   "outputs": [],
   "source": []
  },
  {
   "cell_type": "code",
   "execution_count": null,
   "metadata": {},
   "outputs": [],
   "source": []
  }
 ],
 "metadata": {
  "kernelspec": {
   "display_name": "base",
   "language": "python",
   "name": "python3"
  },
  "language_info": {
   "codemirror_mode": {
    "name": "ipython",
    "version": 3
   },
   "file_extension": ".py",
   "mimetype": "text/x-python",
   "name": "python",
   "nbconvert_exporter": "python",
   "pygments_lexer": "ipython3",
   "version": "3.11.6"
  }
 },
 "nbformat": 4,
 "nbformat_minor": 2
}
