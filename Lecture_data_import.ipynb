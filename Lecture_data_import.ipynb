{
 "cells": [
  {
   "cell_type": "markdown",
   "metadata": {},
   "source": [
    "# 데이터 불러오기\n"
   ]
  },
  {
   "cell_type": "markdown",
   "metadata": {},
   "source": [
    "[다운로드 링크 - 가계동향조사 csv](https://github.com/SeanJSLee/Teaching_YU_DS_basic_KR/blob/main/data/KOSIS_houshold_panel_survey/data_income_kor.csv)\n",
    "\n",
    "\n",
    "1. 다운로드 버튼  \n",
    "<img src=\"https://github.com/SeanJSLee/Teaching_YU_DS_basic_KR/blob/main/doc/img/github_hps_csv.png?raw=true\" width=\"800\" />  \n",
    "\n",
    "\n",
    "1. 업로드 버튼  \n",
    "<img src=\"https://github.com/SeanJSLee/Teaching_YU_DS_basic_KR/blob/main/doc/img/colab_upload.png?raw=true\" width=\"800\" /> \n"
   ]
  },
  {
   "cell_type": "code",
   "execution_count": null,
   "metadata": {},
   "outputs": [],
   "source": [
    "import pandas as pd\n",
    "import numpy as np\n",
    "\n",
    "# 소수점 설정\n",
    "pd.options.display.float_format = \"{:,.1f}\".format\n",
    "\n",
    "# CSV 파일 불러오기\n",
    "df_csv = pd.read_csv(r'data_income_kor.csv')\n",
    "print(df_csv.dtypes)\n",
    "df_csv"
   ]
  },
  {
   "cell_type": "code",
   "execution_count": null,
   "metadata": {},
   "outputs": [],
   "source": [
    "# Excel 불러오기\n",
    "df_xlsx = pd.read_excel(r'data_income_kor.xlsx')\n",
    "print(df_xlsx.dtypes)\n",
    "df_xlsx"
   ]
  },
  {
   "cell_type": "code",
   "execution_count": null,
   "metadata": {},
   "outputs": [],
   "source": [
    "\n",
    "df_csv.groupby('edu_level').describe().T"
   ]
  },
  {
   "cell_type": "code",
   "execution_count": null,
   "metadata": {},
   "outputs": [],
   "source": [
    "df_csv.hist(column=['income'], bins=100)"
   ]
  },
  {
   "cell_type": "code",
   "execution_count": null,
   "metadata": {},
   "outputs": [],
   "source": []
  },
  {
   "cell_type": "code",
   "execution_count": null,
   "metadata": {},
   "outputs": [],
   "source": []
  },
  {
   "cell_type": "code",
   "execution_count": null,
   "metadata": {},
   "outputs": [],
   "source": []
  },
  {
   "cell_type": "code",
   "execution_count": null,
   "metadata": {},
   "outputs": [],
   "source": []
  }
 ],
 "metadata": {
  "kernelspec": {
   "display_name": "base",
   "language": "python",
   "name": "python3"
  },
  "language_info": {
   "codemirror_mode": {
    "name": "ipython",
    "version": 3
   },
   "file_extension": ".py",
   "mimetype": "text/x-python",
   "name": "python",
   "nbconvert_exporter": "python",
   "pygments_lexer": "ipython3",
   "version": "3.11.6"
  }
 },
 "nbformat": 4,
 "nbformat_minor": 2
}
