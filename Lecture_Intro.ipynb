{
 "cells": [
  {
   "cell_type": "markdown",
   "metadata": {},
   "source": [
    "# 경제금융 데이터 분석 소프트웨어 사용법 특강\n",
    "\n",
    "<p style=\"text-align: center;\">Slow Track class 2024.3.11-15, 상경관 306호<br>이재석, University of Missouri, Columbia</p>\n"
   ]
  },
  {
   "cell_type": "markdown",
   "metadata": {},
   "source": [
    "**_경제학적 접근법의 실제적 문제해결_**  \n",
    "이 강의는 실제적인 경제학적 사고를 실현하는 것을 목표로 하며, 파이썬을 사용하여 실제에 가까운 문제를 해결하는 방법을 배우게 됩니다. 학생들은 이론적 배경과 계량경제학적 방법론에 대한 이해를 바탕으로, 응용 경제학의 문제해결 방법을 경험하게 됩니다. 이 과정에서 개념의 혼동을 방지하기 위해 주로 원문 용어를 사용하고, 평균과 같은 기본적인 통계량의 중요성의 숙달하는 것에 집중합니다.\n",
    "\n"
   ]
  },
  {
   "cell_type": "markdown",
   "metadata": {},
   "source": [
    "## 소개\n",
    " * University of Missouri, Columbia. 경제학 박사과정 ([LinkedIn](nkedin.com/in/seanjaeseoklee/))\n",
    "     - 연구주제: 기후경제와 교육경제의 주제들에 관하여 **_불평등 문제_**\n",
    "     - [\"Academic mobility in U.S. public schools: Evidence from nearly 3 million students\"](https://doi.org/10.1016/j.jpubeco.2023.105016)\n",
    " * 경제금융학부 2015 졸업\n",
    " * [취미](https://photos.app.goo.gl/Q8MYyrtTXNLsTiTt8): 낚시, 등산, 산책\n",
    " * TMIs: INTJ"
   ]
  },
  {
   "cell_type": "markdown",
   "metadata": {},
   "source": [
    "## 참고자료\n",
    " * Mostly Harmless Econometrics ([link](https://www.mostlyharmlesseconometrics.com/))  \n",
    " 챕터 3까지의 내용에 집중\n",
    "     * [Joshua Angrist](https://www.nobelprize.org/prizes/economic-sciences/2021/angrist/facts/) **_2021 노벨경제학상 수상_**  \n",
    "     * [Jörn-Steffen Pischke](https://personal.lse.ac.uk/pischke/)  \n",
    "    <img src=\"doc\\img\\MHE_cover.jpg\" width=\"300\" height=\"400\" border=\"5\"/>\n",
    " <!-- * The Credibility Revolution in Empirical Economics: How Better Research Design Is Taking the Con out of Econometrics ([link](https://www.aeaweb.org/articles?id=10.1257/jep.24.2.3)) **_인과관계 추정의 방법론_** -->\n",
    "\n",
    "\n",
    "\n",
    "\n",
    "\n"
   ]
  },
  {
   "cell_type": "markdown",
   "metadata": {},
   "source": [
    "## Motivation\n",
    "\n",
    "- [\"All models are wrong, but some are useful.\" - George Box (1976)](https://en.wikipedia.org/wiki/All_models_are_wrong)\n",
    "- 모델을 세우는 이유는 어떤 질문에 답하기 위해서.\n",
    "- 운이 좋다면, 모델에 직접 대입 할 수 있는 데이터가 있음.\n",
    "- 모델을 계량경제학적 방법으로 추정하면, 누구나 인정해야만 하는 결과가 나올 수 도 있음. 소모적인 논쟁을 피하는 방법. \n",
    "    - 기계적인 통계량들을 확인해서 문제가 크게 없다면,\n",
    "    - 경제적인 의미를 담은 결론을 도출 할 수 있다.\n",
    "    - 모델을 수정해서 가장 적합한 model specification 찾기\n",
    "\n",
    "- 회귀분석, OLS, Regression, 최소제곱자승법,.. 비슷비슷 하지만 다름.\n",
    "- OLS: Ordinary Least Square \n",
    "    - linear\n",
    "    - cost function is (y-y_hat)^2\n",
    "    - under assumptions\n",
    "        - normal\n",
    "        - mean 0\n",
    "    - OLS는 불확실성이 없는? 뻔한? 예측가능한? 방식이기 때문에 헷갈릴 여지가 없는 방식이고 아직도 발전이 이루어지는(?) 모델.\n",
    "        - 보다 복잡한 모델의 발전방향은 OLS의 조건이 일부 혹은 전부 성립하지 않을 때, OLS 보다 좀 더 나은 결과를 냄. 그러나 OLS의 범용성이 훨씬 더 중요.\n",
    "    - OLS 결과를 해석하는 법\n",
    "        1. 모델의 설명력이 존재함을 Wald test로 확인\n",
    "        1. 모델의 설명력이 적절한 수준인지, Adjusted R2로 확인\n",
    "        1. 추정치의 크기를 확인.\n",
    "        1. 추정치가 통계적으로 의미가 있는지 (0이 아닌지) 확인 (t-stat)\n",
    "- 평균, 분산, Critical value\n",
    "- 회귀분석의 목적 - 평균적으로 효과가 있는가? 있다면 얼마나 효과가 있는가?\n",
    "- 자연스럽게 연결되는 그냥 평균을 비교하는 것은?\n",
    "    - 모델이 쉽게 복잡해짐. 예를 들어, 20대와 30대의 연봉을 비교한다면, 교육정도, 직업군, 지역, 경력기간, \n",
    "        - \"평균의 평균의 평균의 평균..\"\n",
    "    - OLS를 사용하면 훨씬 간편하게, 관심있는 변수의 영향을 추정 할 수 있음. 예를 들어, '[Cetris paribus](https://en.wikipedia.org/wiki/Ceteris_paribus)' 1 단위의 교육은 소득에 어떤 영향을 주는가.\n",
    "- ."
   ]
  },
  {
   "cell_type": "markdown",
   "metadata": {},
   "source": [
    "OLS 결과에 익숙해지기 위해서, point estimate 인 평균과 평균의 통계적 test 방법인 t-stat에 익숙해 지기.\n"
   ]
  },
  {
   "cell_type": "markdown",
   "metadata": {},
   "source": [
    "![normal dist](https://currentprotocols.onlinelibrary.wiley.com/cms/asset/d39ab523-dfbe-4589-89ab-28afcbc9e0c1/cpz1801-fig-0005-m.jpg)  \n",
    "![t-stat](https://www.scribbr.com/wp-content/uploads/2020/08/diff_scores_ci.png)"
   ]
  },
  {
   "cell_type": "markdown",
   "metadata": {},
   "source": [
    "## 강의구성\n",
    "\n",
    " 1. Python crash course ([공식 한글튜토리얼](https://docs.python.org/ko/3/tutorial/index.html))\n",
    "     * 소프트웨어\n",
    "          * [Google Colab](https://colab.research.google.com/) - \n",
    "               파이썬, [Jupyter](https://jupyter.org/) 노트북\n",
    "               [![IMAGE ALT TEXT HERE](https://i.ytimg.com/an_webp/inN8seMm7UI/mqdefault_6s.webp?du=3000&sqp=CI7Sn68G&rs=AOn4CLCNMslWhrFZKQt4xdwdy-7SmsAXVA)](https://www.youtube.com/watch?v=inN8seMm7UI)\n",
    "\n",
    "          * [pandas](https://pandas.pydata.org/docs/reference/index.html#api) - \n",
    "               엑셀 \n",
    "          * [numpy](https://numpy.org/doc/stable/reference/index.html#reference) - \n",
    "               기본 함수 \n",
    "          * [statsmodels](https://www.statsmodels.org/stable/api.html) - \n",
    "               회귀분석 \n",
    "          * [matplotlib](https://matplotlib.org/stable/gallery/index.html) - \n",
    "               그래프\n",
    "\n",
    "     * 기본 사용법\n",
    "          * 덧셈, 갯수 (https://docs.python.org/ko/3/library/functions.html)\n",
    "               * sum(), count()\n",
    "          * 평균, 분산, 표준편차\n",
    "               * numpy.mean(), numpy.var(), numpy.std()\n",
    "     * 데이터 불러오기\n",
    "          * pandas.read_excel(), pandas.read_csv(), pandas.read_html()\n",
    "          * 데이터 신뢰성 확인\n",
    "               * numpy.isnan() pandas.describe()\n",
    "          * 변수의 평균, 분산, 표준편차 및 신뢰구간\n",
    " 1. 예제 - 교육수준과 소득 (Figure 3.1.3, 1980 Census-IPUMS)\n",
    " 1. 데이터 불러오기\n",
    " 1. Descriptive statistics - 기초통계량\n",
    "     * 교육수준 별 임금 - 평균, 표준편차, 신뢰구간\n",
    "     * CEF \n",
    "          * The CEF for a dependent variable $y_i$, given a $k×1$ vector of covariates $X_i$ (with elements $x_ki$), is the expectation, or population average, of $y_i$, with $X_i$ held fixed.\n",
    "          * For a specific value of $X_i$, say $X_i = x$, we write $E[y_i|X_i = x]$\n",
    "               * If $y_i$ is discrete, $E[y_i|X_i = x]$ equals the $\\sum_t t P(y_i = t|X_i = x)$, where $P(y_i = t|X_i = x)$ is the conditional probability mass function for $y_i$ given $X_i = x$.\n",
    "               * For continuous $y_i$ with conditional density $f_y (t|X_i = x)$ at $y_i = t$, the CEF is $E[y_i|X_i = x]= \\int tfy(t|X_i = x)dt$.\n",
    "     * Why expectation?  \n",
    "     Expectation is a population concept. In practice, data usually come in the form of samples and rarely consist of an entire population. We therefore use samples to make inferences about the population. For example, the sample CEF is used to learn about the population CEF. This is necessary and important, but we postpone a discussion of the formal inference step taking us from sample to population until section 3.1.3. Our “population-first” approach to econometrics is motivated by the fact that we must define the objects of interest before we can use data to study them.\n",
    "\n",
    " 1. Ordinary Least Squared - 단순회귀분석\n",
    "     * 수학적 노테이션\n",
    "     * 파이썬으로 기본으로\n",
    "     * 통계패키지 사용.\n",
    "\n",
    " 1. OLS 해석  \n",
    "     어떤 통계량이 필요한지. 어디에 통계량들이 있는지 알아보기.\n",
    "     결과를 확인하기 전에 모델이 적절한지에 대해서 통계적으로 확인해보기. \"All models are wrong, but some are useful.\" - George Box (1976)\n",
    "     \n",
    "     * Obs 샘플 수. \n",
    "     * Wald estimator (모델의 적합성)\n",
    "     * $\\bar{R}^2$\n",
    "     * Coefficients (평균)\n",
    "          * $ E(Y|X=x) $\n",
    "          \n",
    "     * Standard error (표준오차)\n",
    "          * $ \\sqrt{Var(\\hat{\\beta})} $\n",
    "     * Confidence Interval (신뢰구간) with $ \\alpha = 0.05 $\n",
    "          * $ [\\hat{\\beta} - {Crit}_{\\alpha = 0.025} * \\frac{SE}{\\sqrt{obs}}, \\hat{\\beta} + {Crit}_{\\alpha = 0.975} * \\frac{SE}{\\sqrt{obs}}] $\n",
    "     \n",
    "     의미있는 결과로 해석하기\n",
    "     * 학사학위의 기대 임금 $ E(Y|X=학사O) - E(Y|x=학사X)  $\n",
    "          * coeff. 는 구할 수있음. 이 coeff.가 통계적으로 의미 있는지는 wald test or t-test\n",
    "     \n",
    " 1. Data Visualization - 데이터 시각화\n",
    " "
   ]
  },
  {
   "cell_type": "markdown",
   "metadata": {},
   "source": [
    "### 기본명령어\n",
    "* 더하기 (Addition)  \n",
    "    $ x_0 + x_1 + x_2 +...+x_n $  \n",
    "    or $ \\sum (x_0, x_1, x_2,...,x_n) $\n"
   ]
  },
  {
   "cell_type": "code",
   "execution_count": 2,
   "metadata": {},
   "outputs": [
    {
     "name": "stdout",
     "output_type": "stream",
     "text": [
      "Addition 1: 6\n"
     ]
    }
   ],
   "source": [
    "addition_1 = 1+2+3\n",
    "print('Addition 1:', addition_1)"
   ]
  },
  {
   "cell_type": "code",
   "execution_count": 3,
   "metadata": {},
   "outputs": [
    {
     "name": "stdout",
     "output_type": "stream",
     "text": [
      "Addition 2: 6\n"
     ]
    }
   ],
   "source": [
    "x_0 = 1\n",
    "x_1 = 2\n",
    "x_2 = 3\n",
    "addition_2 = x_0 + x_1 + x_2\n",
    "print('Addition 2:', addition_2)"
   ]
  },
  {
   "cell_type": "code",
   "execution_count": 4,
   "metadata": {},
   "outputs": [
    {
     "name": "stdout",
     "output_type": "stream",
     "text": [
      "Addition 3: 6\n"
     ]
    }
   ],
   "source": [
    "vector = [1, 2, 3]\n",
    "addition_3 = sum(vector)\n",
    "print('Addition 3:', addition_3)"
   ]
  },
  {
   "cell_type": "markdown",
   "metadata": {},
   "source": [
    "* 갯수 (Count) [len()](https://docs.python.org/ko/3/library/functions.html#len)  \n",
    "    $ \\vec{x} = (x_0, x_1, x_2,...,x_n) $  \n",
    "    이라면, 갯수는 $ dim(\\vec{x}) = n $\n"
   ]
  },
  {
   "cell_type": "code",
   "execution_count": 2,
   "metadata": {},
   "outputs": [
    {
     "name": "stdout",
     "output_type": "stream",
     "text": [
      "3\n"
     ]
    }
   ],
   "source": [
    "vector = [1,2,3]\n",
    "print(len(vector))"
   ]
  },
  {
   "cell_type": "code",
   "execution_count": 9,
   "metadata": {},
   "outputs": [
    {
     "name": "stdout",
     "output_type": "stream",
     "text": [
      "3\n"
     ]
    }
   ],
   "source": [
    "x_0, x_1, x_2 = 4, 5, 6\n",
    "vector_x = [x_0, x_1, x_2]\n",
    "print(len(vector_x))"
   ]
  },
  {
   "cell_type": "markdown",
   "metadata": {},
   "source": [
    "* 평균 (Mean)  \n",
    "    $ E(x) = \\frac{1}{n} (x_0 + x_1 + x_2 +...+x_n) $,  \n",
    "    or $ \\frac{1}{n} \\sum (x_0, x_1, x_2,...,x_n) $\n"
   ]
  },
  {
   "cell_type": "code",
   "execution_count": 13,
   "metadata": {},
   "outputs": [
    {
     "name": "stdout",
     "output_type": "stream",
     "text": [
      "Mean 1: 2.0\n"
     ]
    }
   ],
   "source": [
    "# 평균\n",
    "vector = [1,2,3]\n",
    "mean_1 = sum(vector) / len(vector)\n",
    "print('Mean 1:', mean_1)"
   ]
  },
  {
   "cell_type": "code",
   "execution_count": 14,
   "metadata": {},
   "outputs": [
    {
     "data": {
      "text/plain": [
       "2.0"
      ]
     },
     "execution_count": 14,
     "metadata": {},
     "output_type": "execute_result"
    }
   ],
   "source": [
    "import numpy\n",
    "numpy.mean(vector)"
   ]
  },
  {
   "cell_type": "markdown",
   "metadata": {},
   "source": [
    " * 분산  \n",
    "   $ \\frac{1}{n-1} \\sum (x_i - E(x))^2 $  \n",
    "    Degree of Freedom 조정\n",
    " * 표준편차"
   ]
  },
  {
   "cell_type": "code",
   "execution_count": 18,
   "metadata": {},
   "outputs": [
    {
     "data": {
      "text/plain": [
       "1.0"
      ]
     },
     "execution_count": 18,
     "metadata": {},
     "output_type": "execute_result"
    }
   ],
   "source": [
    "numpy.var(vector, ddof=1)"
   ]
  },
  {
   "cell_type": "markdown",
   "metadata": {},
   "source": [
    "* 신뢰구간\n",
    "$ [\\bar{x} - {Crit}_{alpha}\\frac{SD}{\\sqrt{n}}, \\bar{x} + {Crit}_{alpha}\\frac{SD}{\\sqrt{n}}] $  \n",
    "or $ [x_{percentile=0.025} , x_{percentile=0.975} ] $"
   ]
  },
  {
   "cell_type": "code",
   "execution_count": 21,
   "metadata": {},
   "outputs": [
    {
     "data": {
      "text/plain": [
       "1.0"
      ]
     },
     "execution_count": 21,
     "metadata": {},
     "output_type": "execute_result"
    }
   ],
   "source": [
    "numpy.std(vector, ddof=1)"
   ]
  },
  {
   "cell_type": "markdown",
   "metadata": {},
   "source": [
    "## 데이터 불러오기\n",
    "\n",
    "* vector 설명\n",
    "    - 행벡터\n",
    "    - 열벡터 \n",
    "* 매트릭스 설명\n",
    "가로로는 obs\n",
    "세로로는 sampled space"
   ]
  },
  {
   "cell_type": "markdown",
   "metadata": {},
   "source": [
    "[data](Untitled-1.ipynb)"
   ]
  }
 ],
 "metadata": {
  "kernelspec": {
   "display_name": "base",
   "language": "python",
   "name": "python3"
  },
  "language_info": {
   "codemirror_mode": {
    "name": "ipython",
    "version": 3
   },
   "file_extension": ".py",
   "mimetype": "text/x-python",
   "name": "python",
   "nbconvert_exporter": "python",
   "pygments_lexer": "ipython3",
   "version": "3.11.6"
  }
 },
 "nbformat": 4,
 "nbformat_minor": 2
}
