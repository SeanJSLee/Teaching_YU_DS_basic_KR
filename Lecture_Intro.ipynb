{
 "cells": [
  {
   "cell_type": "markdown",
   "metadata": {},
   "source": [
    "## 강의구성\n",
    "\n",
    " 1. Python crash course ([공식 한글튜토리얼](https://docs.python.org/ko/3/tutorial/index.html))\n",
    "     * 소프트웨어\n",
    "          * [Google Colab](https://colab.research.google.com/) - \n",
    "               파이썬, [Jupyter](https://jupyter.org/) 노트북\n",
    "               [![IMAGE ALT TEXT HERE](https://i.ytimg.com/an_webp/inN8seMm7UI/mqdefault_6s.webp?du=3000&sqp=CI7Sn68G&rs=AOn4CLCNMslWhrFZKQt4xdwdy-7SmsAXVA)](https://www.youtube.com/watch?v=inN8seMm7UI)\n",
    "\n",
    "          * [pandas](https://pandas.pydata.org/docs/reference/index.html#api) - \n",
    "               엑셀 \n",
    "          * [numpy](https://numpy.org/doc/stable/reference/index.html#reference) - \n",
    "               기본 함수 \n",
    "          * [statsmodels](https://www.statsmodels.org/stable/api.html) - \n",
    "               회귀분석 \n",
    "          * [matplotlib](https://matplotlib.org/stable/gallery/index.html) - \n",
    "               그래프\n",
    "\n",
    "     * 기본 사용법\n",
    "          * 덧셈, 갯수 (https://docs.python.org/ko/3/library/functions.html)\n",
    "               * sum(), count()\n",
    "          * 평균, 분산, 표준편차\n",
    "               * numpy.mean(), numpy.var(), numpy.std()\n",
    "     * 데이터 불러오기\n",
    "          * pandas.read_excel(), pandas.read_csv(), pandas.read_html()\n",
    "          * 데이터 신뢰성 확인\n",
    "               * numpy.isnan() pandas.describe()\n",
    "          * 변수의 평균, 분산, 표준편차 및 신뢰구간\n",
    " 1. 예제 - 교육수준과 소득 (Figure 3.1.3, 1980 Census-IPUMS)\n",
    " 1. 데이터 불러오기\n"
   ]
  },
  {
   "cell_type": "markdown",
   "metadata": {},
   "source": [
    "### 기본명령어\n",
    "* 더하기 (Addition)  \n",
    "    $ x_0 + x_1 + x_2 +...+x_n $  \n",
    "    or $ \\sum (x_0, x_1, x_2,...,x_n) $\n"
   ]
  },
  {
   "cell_type": "code",
   "execution_count": 2,
   "metadata": {},
   "outputs": [
    {
     "name": "stdout",
     "output_type": "stream",
     "text": [
      "Addition 1: 6\n"
     ]
    }
   ],
   "source": [
    "addition_1 = 1+2+3\n",
    "print('Addition 1:', addition_1)"
   ]
  },
  {
   "cell_type": "code",
   "execution_count": 3,
   "metadata": {},
   "outputs": [
    {
     "name": "stdout",
     "output_type": "stream",
     "text": [
      "Addition 2: 6\n"
     ]
    }
   ],
   "source": [
    "x_0 = 1\n",
    "x_1 = 2\n",
    "x_2 = 3\n",
    "addition_2 = x_0 + x_1 + x_2\n",
    "print('Addition 2:', addition_2)"
   ]
  },
  {
   "cell_type": "code",
   "execution_count": 4,
   "metadata": {},
   "outputs": [
    {
     "name": "stdout",
     "output_type": "stream",
     "text": [
      "Addition 3: 6\n"
     ]
    }
   ],
   "source": [
    "vector = [1, 2, 3]\n",
    "addition_3 = sum(vector)\n",
    "print('Addition 3:', addition_3)"
   ]
  },
  {
   "cell_type": "markdown",
   "metadata": {},
   "source": [
    "* 갯수 (Count) [len()](https://docs.python.org/ko/3/library/functions.html#len)  \n",
    "    $ \\vec{x} = (x_0, x_1, x_2,...,x_n) $  \n",
    "    이라면, 갯수는 $ dim(\\vec{x}) = n $\n"
   ]
  },
  {
   "cell_type": "code",
   "execution_count": 2,
   "metadata": {},
   "outputs": [
    {
     "name": "stdout",
     "output_type": "stream",
     "text": [
      "3\n"
     ]
    }
   ],
   "source": [
    "vector = [1,2,3]\n",
    "print(len(vector))"
   ]
  },
  {
   "cell_type": "code",
   "execution_count": 9,
   "metadata": {},
   "outputs": [
    {
     "name": "stdout",
     "output_type": "stream",
     "text": [
      "3\n"
     ]
    }
   ],
   "source": [
    "x_0, x_1, x_2 = 4, 5, 6\n",
    "vector_x = [x_0, x_1, x_2]\n",
    "print(len(vector_x))"
   ]
  },
  {
   "cell_type": "markdown",
   "metadata": {},
   "source": [
    "* 평균 (Mean)  \n",
    "    $ E(x) = \\frac{1}{n} (x_0 + x_1 + x_2 +...+x_n) $,  \n",
    "    or $ \\frac{1}{n} \\sum (x_0, x_1, x_2,...,x_n) $\n"
   ]
  },
  {
   "cell_type": "code",
   "execution_count": 13,
   "metadata": {},
   "outputs": [
    {
     "name": "stdout",
     "output_type": "stream",
     "text": [
      "Mean 1: 2.0\n"
     ]
    }
   ],
   "source": [
    "# 평균\n",
    "vector = [1,2,3]\n",
    "mean_1 = sum(vector) / len(vector)\n",
    "print('Mean 1:', mean_1)"
   ]
  },
  {
   "cell_type": "code",
   "execution_count": 14,
   "metadata": {},
   "outputs": [
    {
     "data": {
      "text/plain": [
       "2.0"
      ]
     },
     "execution_count": 14,
     "metadata": {},
     "output_type": "execute_result"
    }
   ],
   "source": [
    "import numpy\n",
    "numpy.mean(vector)"
   ]
  },
  {
   "cell_type": "markdown",
   "metadata": {},
   "source": [
    " * 분산  \n",
    "   $ \\frac{1}{n-1} \\sum (x_i - E(x))^2 $  \n",
    "    Degree of Freedom 조정\n",
    " * 표준편차"
   ]
  },
  {
   "cell_type": "code",
   "execution_count": 18,
   "metadata": {},
   "outputs": [
    {
     "data": {
      "text/plain": [
       "1.0"
      ]
     },
     "execution_count": 18,
     "metadata": {},
     "output_type": "execute_result"
    }
   ],
   "source": [
    "numpy.var(vector, ddof=1)"
   ]
  },
  {
   "cell_type": "markdown",
   "metadata": {},
   "source": [
    "* 신뢰구간\n",
    "$ [\\bar{x} - {Crit}_{alpha}\\frac{SD}{\\sqrt{n}}, \\bar{x} + {Crit}_{alpha}\\frac{SD}{\\sqrt{n}}] $  \n",
    "or $ [x_{percentile=0.025} , x_{percentile=0.975} ] $"
   ]
  },
  {
   "cell_type": "code",
   "execution_count": 21,
   "metadata": {},
   "outputs": [
    {
     "data": {
      "text/plain": [
       "1.0"
      ]
     },
     "execution_count": 21,
     "metadata": {},
     "output_type": "execute_result"
    }
   ],
   "source": [
    "numpy.std(vector, ddof=1)"
   ]
  },
  {
   "cell_type": "markdown",
   "metadata": {},
   "source": [
    "## 데이터 불러오기\n",
    "\n",
    "* vector 설명\n",
    "    - 행벡터\n",
    "    - 열벡터 \n",
    "* 매트릭스 설명\n",
    "가로로는 obs\n",
    "세로로는 sampled space"
   ]
  },
  {
   "cell_type": "markdown",
   "metadata": {},
   "source": [
    "[data](Untitled-1.ipynb)"
   ]
  }
 ],
 "metadata": {
  "kernelspec": {
   "display_name": "base",
   "language": "python",
   "name": "python3"
  },
  "language_info": {
   "codemirror_mode": {
    "name": "ipython",
    "version": 3
   },
   "file_extension": ".py",
   "mimetype": "text/x-python",
   "name": "python",
   "nbconvert_exporter": "python",
   "pygments_lexer": "ipython3",
   "version": "3.11.6"
  }
 },
 "nbformat": 4,
 "nbformat_minor": 2
}
