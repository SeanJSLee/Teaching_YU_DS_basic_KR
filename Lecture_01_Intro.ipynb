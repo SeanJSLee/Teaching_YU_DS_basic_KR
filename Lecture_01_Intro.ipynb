{
 "cells": [
  {
   "cell_type": "markdown",
   "metadata": {},
   "source": [
    "## Who am I?\n",
    " * University of Missouri, Columbia. 경제학 박사과정.\n",
    " * 경제금융학부 2015 졸업.\n",
    " * [LinkedIn 프로필](nkedin.com/in/seanjaeseoklee/)\n",
    " * 취미\n",
    "     - 학부: IT 장비\n",
    "     - [대학원](https://photos.app.goo.gl/Q8MYyrtTXNLsTiTt8): 낚시, 하이킹\n",
    " * 고양이파\n",
    " * Tip - 유연하게 생각하기, 여러각도에서 살펴보기, 연습, 반복. 학부에서 배운 내용들은 현실의 문제를 해결하기 위함. 현실의 문제는 케이스 바이 케이스. 쿡북을 설명하는 것 과 같음. 많은 조리법을 가지고 있는 오픈소스 프로그램이 배우는데 도움이 됨.\n",
    "\n"
   ]
  },
  {
   "cell_type": "markdown",
   "metadata": {},
   "source": [
    "## 강의목적 - 경제학적 사고의 실현.\n",
    " * How to be a realistic analysis. \n",
    " * 리얼리스틱 하지 않다면, 같은 문제를 단순히 다른 프로그램으로 반복해서 푸는 것 뿐.\n",
    " * 다른 세팅에서 어떻게 해야할 지 자신감이 없게 됨.\n",
    " * All models are wrong, but some are useful.\n",
    " * Python을 사용하는 이유는 파이썬 사용자 층이 많아서, 많은 사람들의 피드백을 받을 수 있기 때문.\n",
    " * 영어를 사용하는 이유는 저 피드백 들이 영어로 되어 있어서, 혼돈을 방지하기 위함.\n",
    " * Near-realistic 한 문제나 예제를 접하는건 사실 박사 2년차, 확률과 통계 및 회귀분석에 대한 인텐시브하고 기계적인 학습 후. 그러나, 모든 사람에게 이 과정은 필요하지 않다. 기계적인 과정은 교수님들이 도와 줄 수 있다. 여러분의 아이디어가 가장 중요. 이 강의는 여러분들이 가지고 있을 아이디어를 구체화 시키는데에 아이디어에 대해 최신 응용경제학 방향을 넌지시 알려주고, 어떻게 아이디어를 실현해 볼 수 있는지 맛보는 코스.\n",
    " * 이를 위해서 정말 최소한의 내용을 담고, 익숙한 표현으로 설명하려고 했음. 개념의 혼동을 피하기 위해, 최소한만 번역하고. 나중에 스스로 찾아볼 때, 헷갈리지 않도록 원문용어를 사용함.\n",
    " * 파이썬은 필요한 것부터 시작하고 점점 알아가면 됨. 유명한 사람들이 작성한 코드를 봐도, 단순하고 이해하기 쉽게 작성한게 많음. \n",
    " * 스토리 텔링 - 경제학적 사고\n",
    " * 이론적 바탕 - 통계적 표현\n",
    " * 구현 - 소프트웨어적 실현 \n",
    " * 이 강의는 스토리 텔링 + 구현 위주 - 응용경제학\n",
    " * 거의 모든 통계량은 사실상 평균과 평균의 응용임을 이해하는 것.\n",
    " * 왜 평균에 의미를 두는지 이해하는 것.\n",
    " * 먼저 이론의 구현방법을 익히고, 스토리를 이해한 후, 구현한 후 이론을 바탕으로 해석하는 것.\n",
    " * 구분해서 이해한 후, 반복하여 숙달하기\n",
    "\n"
   ]
  },
  {
   "cell_type": "markdown",
   "metadata": {},
   "source": [
    "## 참고자료 소개 - 응용\n",
    " * Mostly Harmless Econometrics ([link](https://www.mostlyharmlesseconometrics.com/))\n",
    "     * [Joshua Angrist](https://www.nobelprize.org/prizes/economic-sciences/2021/angrist/facts/) \n",
    "     * [Jörn-Steffen Pischke](https://personal.lse.ac.uk/pischke/)  \n",
    "    <img src=\"doc\\img\\MHE_cover.jpg\" width=\"300\" height=\"400\" border=\"5\"/>\n",
    " * The Credibility Revolution in Empirical Economics: How Better Research Design Is Taking the Con out of Econometrics ([link](https://www.aeaweb.org/articles?id=10.1257/jep.24.2.3))\n",
    "\n",
    "\n",
    "\n",
    "\n",
    "\n"
   ]
  },
  {
   "cell_type": "markdown",
   "metadata": {},
   "source": [
    "## 강의구성\n",
    "\n",
    " 1. Python crash course ([공식 한글튜토리얼](https://docs.python.org/ko/3/tutorial/index.html))\n",
    "     * 소프트웨어\n",
    "          * [Google Colab](https://colab.research.google.com/) - \n",
    "               파이썬, [Jupyter](https://jupyter.org/) 노트북\n",
    "          * [pandas](https://pandas.pydata.org/docs/reference/index.html#api) - \n",
    "               엑셀 \n",
    "          * [numpy](https://numpy.org/doc/stable/reference/index.html#reference) - \n",
    "               기본 함수 \n",
    "          * [statsmodel](https://www.statsmodels.org/stable/api.html) - \n",
    "               회귀분석 \n",
    "          * [matplotlib](https://matplotlib.org/stable/gallery/index.html) - \n",
    "               그래프\n",
    "\n",
    "     * 기본 사용법\n",
    "          * 덧셈, 갯수 (https://docs.python.org/ko/3/library/functions.html)\n",
    "               * sum(), count()\n",
    "          * 평균, 분산, 표준편차\n",
    "               * numpy.mean(), numpy.var(), numpy.std()\n",
    "     * 데이터 불러오기\n",
    "          * pandas.read_excel(), pandas.read_csv(), pandas.read_html()\n",
    "          * 데이터 신뢰성 확인\n",
    "               * numpy.isnan() pandas.describe()\n",
    "          * 변수의 평균, 분산, 표준편차 및 신뢰구간\n",
    " 1. 예제 - 교육수준과 소득 (Figure 3.1.3, 1980 Census-IPUMS)\n",
    " 1. 데이터 불러오기\n",
    " 1. Descriptive statistics - 기초통계량\n",
    "     * 교육수준 별 임금 - 평균, 표준편차, 신뢰구간\n",
    "     * CEF \n",
    "          * The CEF for a dependent variable $y_i$, given a $k×1$ vector of covariates $X_i$ (with elements $x_ki$), is the expectation, or population average, of $y_i$, with $X_i$ held fixed.\n",
    "          * For a specific value of $X_i$, say $X_i = x$, we write $E[y_i|X_i = x]$\n",
    "               * If $y_i$ is discrete, $E[y_i|X_i = x]$ equals the $\\sum_t t P(y_i = t|X_i = x)$, where $P(y_i = t|X_i = x)$ is the conditional probability mass function for $y_i$ given $X_i = x$.\n",
    "               * For continuous $y_i$ with conditional density $f_y (t|X_i = x)$ at $y_i = t$, the CEF is $E[y_i|X_i = x]= \\int tfy(t|X_i = x)dt$.\n",
    "     * Why expectation?  \n",
    "     Expectation is a population concept. In practice, data usually come in the form of samples and rarely consist of an entire population. We therefore use samples to make inferences about the population. For example, the sample CEF is used to learn about the population CEF. This is necessary and important, but we postpone a discussion of the formal inference step taking us from sample to population until section 3.1.3. Our “population-first” approach to econometrics is motivated by the fact that we must define the objects of interest before we can use data to study them.\n",
    "\n",
    " 1. Ordinary Least Squared - 단순회귀분석\n",
    "     * 수학적 노테이션\n",
    "     * 파이썬으로 기본으로\n",
    "     * 통계패키지 사용.\n",
    "\n",
    " 1. OLS 해석  \n",
    "     어떤 통계량이 필요한지. 어디에 통계량들이 있는지 알아보기.\n",
    "     결과를 확인하기 전에 모델이 적절한지에 대해서 통계적으로 확인해보기. \"All models are wrong, but some are useful.\" - George Box (1976)\n",
    "     \n",
    "     * Obs 샘플 수. \n",
    "     * Wald estimator (모델의 적합성)\n",
    "     * $\\bar{R}^2$\n",
    "     * Coefficients (평균)\n",
    "          * $ E(Y|X=x) $\n",
    "          \n",
    "     * Standard error (표준오차)\n",
    "          * $ \\sqrt{Var(\\hat{\\beta})} $\n",
    "     * Confidence Interval (신뢰구간) with $ \\alpha = 0.05 $\n",
    "          * $ [\\hat{\\beta} - {Crit}_{\\alpha = 0.025} * \\frac{SE}{\\sqrt{obs}}, \\hat{\\beta} + {Crit}_{\\alpha = 0.975} * \\frac{SE}{\\sqrt{obs}}] $\n",
    "     \n",
    "     의미있는 결과로 해석하기\n",
    "     * 학사학위의 기대 임금 $ E(Y|X=학사O) - E(Y|x=학사X)  $\n",
    "          * coeff. 는 구할 수있음. 이 coeff.가 통계적으로 의미 있는지는 wald test or t-test\n",
    "     \n",
    " 1. Data Visualization - 데이터 시각화\n",
    " "
   ]
  },
  {
   "cell_type": "markdown",
   "metadata": {},
   "source": [
    "### 기본명령어\n",
    "* 더하기 (Addition)  \n",
    "    $ x_0 + x_1 + x_2 +...+x_n $  \n",
    "    or $ \\sum (x_0, x_1, x_2,...,x_n) $\n"
   ]
  },
  {
   "cell_type": "code",
   "execution_count": 2,
   "metadata": {},
   "outputs": [
    {
     "name": "stdout",
     "output_type": "stream",
     "text": [
      "Addition 1: 6\n"
     ]
    }
   ],
   "source": [
    "addition_1 = 1+2+3\n",
    "print('Addition 1:', addition_1)"
   ]
  },
  {
   "cell_type": "code",
   "execution_count": 3,
   "metadata": {},
   "outputs": [
    {
     "name": "stdout",
     "output_type": "stream",
     "text": [
      "Addition 2: 6\n"
     ]
    }
   ],
   "source": [
    "x_0 = 1\n",
    "x_1 = 2\n",
    "x_2 = 3\n",
    "addition_2 = x_0 + x_1 + x_2\n",
    "print('Addition 2:', addition_2)"
   ]
  },
  {
   "cell_type": "code",
   "execution_count": 4,
   "metadata": {},
   "outputs": [
    {
     "name": "stdout",
     "output_type": "stream",
     "text": [
      "Addition 3: 6\n"
     ]
    }
   ],
   "source": [
    "vector = [1, 2, 3]\n",
    "addition_3 = sum(vector)\n",
    "print('Addition 3:', addition_3)"
   ]
  },
  {
   "cell_type": "markdown",
   "metadata": {},
   "source": [
    "* 갯수 (Count) [len()](https://docs.python.org/ko/3/library/functions.html#len)  \n",
    "    $ \\vec{x} = (x_0, x_1, x_2,...,x_n) $  \n",
    "    이라면, 갯수는 $ dim(\\vec{x}) = n $\n"
   ]
  },
  {
   "cell_type": "code",
   "execution_count": 2,
   "metadata": {},
   "outputs": [
    {
     "name": "stdout",
     "output_type": "stream",
     "text": [
      "3\n"
     ]
    }
   ],
   "source": [
    "vector = [1,2,3]\n",
    "print(len(vector))"
   ]
  },
  {
   "cell_type": "code",
   "execution_count": 9,
   "metadata": {},
   "outputs": [
    {
     "name": "stdout",
     "output_type": "stream",
     "text": [
      "3\n"
     ]
    }
   ],
   "source": [
    "x_0, x_1, x_2 = 4, 5, 6\n",
    "vector_x = [x_0, x_1, x_2]\n",
    "print(len(vector_x))"
   ]
  },
  {
   "cell_type": "markdown",
   "metadata": {},
   "source": [
    "* 평균 (Mean)  \n",
    "    $ E(x) = \\frac{1}{n} (x_0 + x_1 + x_2 +...+x_n) $,  \n",
    "    or $ \\frac{1}{n} \\sum (x_0, x_1, x_2,...,x_n) $\n"
   ]
  },
  {
   "cell_type": "code",
   "execution_count": 13,
   "metadata": {},
   "outputs": [
    {
     "name": "stdout",
     "output_type": "stream",
     "text": [
      "Mean 1: 2.0\n"
     ]
    }
   ],
   "source": [
    "# 평균\n",
    "vector = [1,2,3]\n",
    "mean_1 = sum(vector) / len(vector)\n",
    "print('Mean 1:', mean_1)"
   ]
  },
  {
   "cell_type": "code",
   "execution_count": 14,
   "metadata": {},
   "outputs": [
    {
     "data": {
      "text/plain": [
       "2.0"
      ]
     },
     "execution_count": 14,
     "metadata": {},
     "output_type": "execute_result"
    }
   ],
   "source": [
    "import numpy\n",
    "numpy.mean(vector)"
   ]
  },
  {
   "cell_type": "markdown",
   "metadata": {},
   "source": [
    " * 분산  \n",
    "   $ \\frac{1}{n-1} \\sum (x_i - E(x))^2 $  \n",
    "    Degree of Freedom 조정\n",
    " * 표준편차"
   ]
  },
  {
   "cell_type": "code",
   "execution_count": 18,
   "metadata": {},
   "outputs": [
    {
     "data": {
      "text/plain": [
       "1.0"
      ]
     },
     "execution_count": 18,
     "metadata": {},
     "output_type": "execute_result"
    }
   ],
   "source": [
    "numpy.var(vector, ddof=1)"
   ]
  },
  {
   "cell_type": "markdown",
   "metadata": {},
   "source": [
    "* 신뢰구간\n",
    "$ [\\bar{x} - {Crit}_{alpha}\\frac{SD}{\\sqrt{n}}, \\bar{x} + {Crit}_{alpha}\\frac{SD}{\\sqrt{n}}] $  \n",
    "or $ [x_{percentile=0.025} , x_{percentile=0.975} ] $"
   ]
  },
  {
   "cell_type": "code",
   "execution_count": 21,
   "metadata": {},
   "outputs": [
    {
     "data": {
      "text/plain": [
       "1.0"
      ]
     },
     "execution_count": 21,
     "metadata": {},
     "output_type": "execute_result"
    }
   ],
   "source": [
    "numpy.std(vector, ddof=1)"
   ]
  },
  {
   "cell_type": "markdown",
   "metadata": {},
   "source": [
    "## 데이터 불러오기\n",
    "\n",
    "* vector 설명\n",
    "    - 행벡터\n",
    "    - 열벡터 \n",
    "* 매트릭스 설명\n",
    "가로로는 obs\n",
    "세로로는 sampled space"
   ]
  },
  {
   "cell_type": "markdown",
   "metadata": {},
   "source": [
    "[data](Untitled-1.ipynb)"
   ]
  },
  {
   "cell_type": "code",
   "execution_count": null,
   "metadata": {},
   "outputs": [],
   "source": [
    "import pandas\n",
    "'tt'\n",
    "url = r'https://finance.naver.com/item/fchart.naver?code=069500'\n",
    "url = r'https://www.google.com/finance/quote/000660:KRX'\n",
    "# tab_0 = pandas.read_html(url, encoding='EUC-KR')\n",
    "tab_0 = pandas.read_html(url)\n",
    "tab_0"
   ]
  },
  {
   "cell_type": "code",
   "execution_count": 12,
   "metadata": {},
   "outputs": [
    {
     "data": {
      "text/html": [
       "<div>\n",
       "<style scoped>\n",
       "    .dataframe tbody tr th:only-of-type {\n",
       "        vertical-align: middle;\n",
       "    }\n",
       "\n",
       "    .dataframe tbody tr th {\n",
       "        vertical-align: top;\n",
       "    }\n",
       "\n",
       "    .dataframe thead th {\n",
       "        text-align: right;\n",
       "    }\n",
       "</style>\n",
       "<table border=\"1\" class=\"dataframe\">\n",
       "  <thead>\n",
       "    <tr style=\"text-align: right;\">\n",
       "      <th></th>\n",
       "      <th>Unnamed: 0</th>\n",
       "      <th>Unnamed: 1</th>\n",
       "      <th>Unnamed: 2</th>\n",
       "      <th>Unnamed: 3</th>\n",
       "      <th>Unnamed: 4</th>\n",
       "      <th>Unnamed: 5</th>\n",
       "      <th>Unnamed: 6</th>\n",
       "      <th>Unnamed: 7</th>\n",
       "      <th>Unnamed: 8</th>\n",
       "    </tr>\n",
       "  </thead>\n",
       "  <tbody>\n",
       "    <tr>\n",
       "      <th>0</th>\n",
       "      <td>Date</td>\n",
       "      <td>Ben \\nAshley</td>\n",
       "      <td>Tom Brooks</td>\n",
       "      <td>Jimmy Cooney</td>\n",
       "      <td>Sue \\nDaniels</td>\n",
       "      <td>Berlinda Fong</td>\n",
       "      <td>Terry Jones</td>\n",
       "      <td>Angelina Little</td>\n",
       "      <td>Linda Smith</td>\n",
       "    </tr>\n",
       "    <tr>\n",
       "      <th>1</th>\n",
       "      <td>2020-10-01 00:00:00</td>\n",
       "      <td>False</td>\n",
       "      <td>True</td>\n",
       "      <td>True</td>\n",
       "      <td>True</td>\n",
       "      <td>True</td>\n",
       "      <td>True</td>\n",
       "      <td>False</td>\n",
       "      <td>True</td>\n",
       "    </tr>\n",
       "    <tr>\n",
       "      <th>2</th>\n",
       "      <td>2020-10-02 00:00:00</td>\n",
       "      <td>False</td>\n",
       "      <td>False</td>\n",
       "      <td>False</td>\n",
       "      <td>False</td>\n",
       "      <td>False</td>\n",
       "      <td>False</td>\n",
       "      <td>False</td>\n",
       "      <td>False</td>\n",
       "    </tr>\n",
       "    <tr>\n",
       "      <th>3</th>\n",
       "      <td>2020-10-03 00:00:00</td>\n",
       "      <td>False</td>\n",
       "      <td>False</td>\n",
       "      <td>False</td>\n",
       "      <td>False</td>\n",
       "      <td>False</td>\n",
       "      <td>False</td>\n",
       "      <td>False</td>\n",
       "      <td>False</td>\n",
       "    </tr>\n",
       "    <tr>\n",
       "      <th>4</th>\n",
       "      <td>2020-10-04 00:00:00</td>\n",
       "      <td>False</td>\n",
       "      <td>False</td>\n",
       "      <td>False</td>\n",
       "      <td>False</td>\n",
       "      <td>False</td>\n",
       "      <td>False</td>\n",
       "      <td>False</td>\n",
       "      <td>False</td>\n",
       "    </tr>\n",
       "    <tr>\n",
       "      <th>5</th>\n",
       "      <td>2020-10-05 00:00:00</td>\n",
       "      <td>False</td>\n",
       "      <td>False</td>\n",
       "      <td>False</td>\n",
       "      <td>False</td>\n",
       "      <td>False</td>\n",
       "      <td>False</td>\n",
       "      <td>False</td>\n",
       "      <td>False</td>\n",
       "    </tr>\n",
       "    <tr>\n",
       "      <th>6</th>\n",
       "      <td>2020-10-06 00:00:00</td>\n",
       "      <td>False</td>\n",
       "      <td>False</td>\n",
       "      <td>False</td>\n",
       "      <td>False</td>\n",
       "      <td>False</td>\n",
       "      <td>False</td>\n",
       "      <td>False</td>\n",
       "      <td>False</td>\n",
       "    </tr>\n",
       "    <tr>\n",
       "      <th>7</th>\n",
       "      <td>2020-10-07 00:00:00</td>\n",
       "      <td>False</td>\n",
       "      <td>False</td>\n",
       "      <td>False</td>\n",
       "      <td>False</td>\n",
       "      <td>False</td>\n",
       "      <td>False</td>\n",
       "      <td>False</td>\n",
       "      <td>False</td>\n",
       "    </tr>\n",
       "    <tr>\n",
       "      <th>8</th>\n",
       "      <td>2020-10-08 00:00:00</td>\n",
       "      <td>False</td>\n",
       "      <td>False</td>\n",
       "      <td>False</td>\n",
       "      <td>False</td>\n",
       "      <td>False</td>\n",
       "      <td>False</td>\n",
       "      <td>False</td>\n",
       "      <td>False</td>\n",
       "    </tr>\n",
       "    <tr>\n",
       "      <th>9</th>\n",
       "      <td>2020-10-09 00:00:00</td>\n",
       "      <td>False</td>\n",
       "      <td>False</td>\n",
       "      <td>False</td>\n",
       "      <td>False</td>\n",
       "      <td>False</td>\n",
       "      <td>False</td>\n",
       "      <td>False</td>\n",
       "      <td>False</td>\n",
       "    </tr>\n",
       "    <tr>\n",
       "      <th>10</th>\n",
       "      <td>2020-10-10 00:00:00</td>\n",
       "      <td>False</td>\n",
       "      <td>False</td>\n",
       "      <td>False</td>\n",
       "      <td>False</td>\n",
       "      <td>False</td>\n",
       "      <td>False</td>\n",
       "      <td>False</td>\n",
       "      <td>False</td>\n",
       "    </tr>\n",
       "    <tr>\n",
       "      <th>11</th>\n",
       "      <td>2020-10-11 00:00:00</td>\n",
       "      <td>False</td>\n",
       "      <td>False</td>\n",
       "      <td>False</td>\n",
       "      <td>False</td>\n",
       "      <td>False</td>\n",
       "      <td>False</td>\n",
       "      <td>False</td>\n",
       "      <td>False</td>\n",
       "    </tr>\n",
       "    <tr>\n",
       "      <th>12</th>\n",
       "      <td>2020-10-12 00:00:00</td>\n",
       "      <td>False</td>\n",
       "      <td>False</td>\n",
       "      <td>False</td>\n",
       "      <td>False</td>\n",
       "      <td>False</td>\n",
       "      <td>False</td>\n",
       "      <td>False</td>\n",
       "      <td>False</td>\n",
       "    </tr>\n",
       "    <tr>\n",
       "      <th>13</th>\n",
       "      <td>2020-10-13 00:00:00</td>\n",
       "      <td>False</td>\n",
       "      <td>False</td>\n",
       "      <td>False</td>\n",
       "      <td>False</td>\n",
       "      <td>False</td>\n",
       "      <td>False</td>\n",
       "      <td>False</td>\n",
       "      <td>False</td>\n",
       "    </tr>\n",
       "    <tr>\n",
       "      <th>14</th>\n",
       "      <td>2020-10-14 00:00:00</td>\n",
       "      <td>False</td>\n",
       "      <td>False</td>\n",
       "      <td>False</td>\n",
       "      <td>False</td>\n",
       "      <td>False</td>\n",
       "      <td>False</td>\n",
       "      <td>False</td>\n",
       "      <td>False</td>\n",
       "    </tr>\n",
       "    <tr>\n",
       "      <th>15</th>\n",
       "      <td>2020-10-15 00:00:00</td>\n",
       "      <td>False</td>\n",
       "      <td>False</td>\n",
       "      <td>False</td>\n",
       "      <td>False</td>\n",
       "      <td>False</td>\n",
       "      <td>False</td>\n",
       "      <td>False</td>\n",
       "      <td>False</td>\n",
       "    </tr>\n",
       "    <tr>\n",
       "      <th>16</th>\n",
       "      <td>2020-10-16 00:00:00</td>\n",
       "      <td>False</td>\n",
       "      <td>False</td>\n",
       "      <td>False</td>\n",
       "      <td>False</td>\n",
       "      <td>False</td>\n",
       "      <td>False</td>\n",
       "      <td>False</td>\n",
       "      <td>False</td>\n",
       "    </tr>\n",
       "    <tr>\n",
       "      <th>17</th>\n",
       "      <td>2020-10-17 00:00:00</td>\n",
       "      <td>False</td>\n",
       "      <td>False</td>\n",
       "      <td>False</td>\n",
       "      <td>False</td>\n",
       "      <td>False</td>\n",
       "      <td>False</td>\n",
       "      <td>False</td>\n",
       "      <td>False</td>\n",
       "    </tr>\n",
       "    <tr>\n",
       "      <th>18</th>\n",
       "      <td>2020-10-18 00:00:00</td>\n",
       "      <td>False</td>\n",
       "      <td>False</td>\n",
       "      <td>False</td>\n",
       "      <td>False</td>\n",
       "      <td>False</td>\n",
       "      <td>False</td>\n",
       "      <td>False</td>\n",
       "      <td>False</td>\n",
       "    </tr>\n",
       "    <tr>\n",
       "      <th>19</th>\n",
       "      <td>2020-10-19 00:00:00</td>\n",
       "      <td>False</td>\n",
       "      <td>False</td>\n",
       "      <td>False</td>\n",
       "      <td>False</td>\n",
       "      <td>False</td>\n",
       "      <td>False</td>\n",
       "      <td>False</td>\n",
       "      <td>False</td>\n",
       "    </tr>\n",
       "    <tr>\n",
       "      <th>20</th>\n",
       "      <td>2020-10-20 00:00:00</td>\n",
       "      <td>False</td>\n",
       "      <td>False</td>\n",
       "      <td>False</td>\n",
       "      <td>False</td>\n",
       "      <td>False</td>\n",
       "      <td>False</td>\n",
       "      <td>False</td>\n",
       "      <td>False</td>\n",
       "    </tr>\n",
       "    <tr>\n",
       "      <th>21</th>\n",
       "      <td>2020-10-21 00:00:00</td>\n",
       "      <td>False</td>\n",
       "      <td>False</td>\n",
       "      <td>False</td>\n",
       "      <td>False</td>\n",
       "      <td>False</td>\n",
       "      <td>False</td>\n",
       "      <td>False</td>\n",
       "      <td>False</td>\n",
       "    </tr>\n",
       "    <tr>\n",
       "      <th>22</th>\n",
       "      <td>2020-10-22 00:00:00</td>\n",
       "      <td>False</td>\n",
       "      <td>False</td>\n",
       "      <td>False</td>\n",
       "      <td>False</td>\n",
       "      <td>False</td>\n",
       "      <td>False</td>\n",
       "      <td>False</td>\n",
       "      <td>False</td>\n",
       "    </tr>\n",
       "    <tr>\n",
       "      <th>23</th>\n",
       "      <td>2020-10-23 00:00:00</td>\n",
       "      <td>False</td>\n",
       "      <td>False</td>\n",
       "      <td>False</td>\n",
       "      <td>False</td>\n",
       "      <td>False</td>\n",
       "      <td>False</td>\n",
       "      <td>False</td>\n",
       "      <td>False</td>\n",
       "    </tr>\n",
       "    <tr>\n",
       "      <th>24</th>\n",
       "      <td>Total</td>\n",
       "      <td>False</td>\n",
       "      <td>True</td>\n",
       "      <td>True</td>\n",
       "      <td>True</td>\n",
       "      <td>True</td>\n",
       "      <td>True</td>\n",
       "      <td>False</td>\n",
       "      <td>True</td>\n",
       "    </tr>\n",
       "  </tbody>\n",
       "</table>\n",
       "</div>"
      ],
      "text/plain": [
       "             Unnamed: 0    Unnamed: 1  Unnamed: 2    Unnamed: 3  \\\n",
       "0                  Date  Ben \\nAshley  Tom Brooks  Jimmy Cooney   \n",
       "1   2020-10-01 00:00:00         False        True          True   \n",
       "2   2020-10-02 00:00:00         False       False         False   \n",
       "3   2020-10-03 00:00:00         False       False         False   \n",
       "4   2020-10-04 00:00:00         False       False         False   \n",
       "5   2020-10-05 00:00:00         False       False         False   \n",
       "6   2020-10-06 00:00:00         False       False         False   \n",
       "7   2020-10-07 00:00:00         False       False         False   \n",
       "8   2020-10-08 00:00:00         False       False         False   \n",
       "9   2020-10-09 00:00:00         False       False         False   \n",
       "10  2020-10-10 00:00:00         False       False         False   \n",
       "11  2020-10-11 00:00:00         False       False         False   \n",
       "12  2020-10-12 00:00:00         False       False         False   \n",
       "13  2020-10-13 00:00:00         False       False         False   \n",
       "14  2020-10-14 00:00:00         False       False         False   \n",
       "15  2020-10-15 00:00:00         False       False         False   \n",
       "16  2020-10-16 00:00:00         False       False         False   \n",
       "17  2020-10-17 00:00:00         False       False         False   \n",
       "18  2020-10-18 00:00:00         False       False         False   \n",
       "19  2020-10-19 00:00:00         False       False         False   \n",
       "20  2020-10-20 00:00:00         False       False         False   \n",
       "21  2020-10-21 00:00:00         False       False         False   \n",
       "22  2020-10-22 00:00:00         False       False         False   \n",
       "23  2020-10-23 00:00:00         False       False         False   \n",
       "24                Total         False        True          True   \n",
       "\n",
       "       Unnamed: 4     Unnamed: 5   Unnamed: 6       Unnamed: 7   Unnamed: 8  \n",
       "0   Sue \\nDaniels  Berlinda Fong  Terry Jones  Angelina Little  Linda Smith  \n",
       "1            True           True         True            False         True  \n",
       "2           False          False        False            False        False  \n",
       "3           False          False        False            False        False  \n",
       "4           False          False        False            False        False  \n",
       "5           False          False        False            False        False  \n",
       "6           False          False        False            False        False  \n",
       "7           False          False        False            False        False  \n",
       "8           False          False        False            False        False  \n",
       "9           False          False        False            False        False  \n",
       "10          False          False        False            False        False  \n",
       "11          False          False        False            False        False  \n",
       "12          False          False        False            False        False  \n",
       "13          False          False        False            False        False  \n",
       "14          False          False        False            False        False  \n",
       "15          False          False        False            False        False  \n",
       "16          False          False        False            False        False  \n",
       "17          False          False        False            False        False  \n",
       "18          False          False        False            False        False  \n",
       "19          False          False        False            False        False  \n",
       "20          False          False        False            False        False  \n",
       "21          False          False        False            False        False  \n",
       "22          False          False        False            False        False  \n",
       "23          False          False        False            False        False  \n",
       "24           True           True         True            False         True  "
      ]
     },
     "execution_count": 12,
     "metadata": {},
     "output_type": "execute_result"
    }
   ],
   "source": [
    "import pandas, requests\n",
    "from io import BytesIO\n",
    "url = 'https://github.com/SheetJS/test_files/raw/master/Attendance.xlsx'\n",
    "file = BytesIO(requests.get(url).content)\n",
    "pandas.read_excel(file, engine='openpyxl')"
   ]
  },
  {
   "cell_type": "code",
   "execution_count": 11,
   "metadata": {},
   "outputs": [
    {
     "data": {
      "text/plain": [
       "<_io.BytesIO at 0x1b38eb9cae0>"
      ]
     },
     "execution_count": 11,
     "metadata": {},
     "output_type": "execute_result"
    }
   ],
   "source": [
    "file"
   ]
  },
  {
   "cell_type": "code",
   "execution_count": 14,
   "metadata": {},
   "outputs": [
    {
     "data": {
      "text/plain": [
       "array([2.])"
      ]
     },
     "execution_count": 14,
     "metadata": {},
     "output_type": "execute_result"
    }
   ],
   "source": [
    "column_vector = [[1],[2],[3]]\n",
    "numpy.mean(column_vector, axis=0)"
   ]
  }
 ],
 "metadata": {
  "kernelspec": {
   "display_name": "base",
   "language": "python",
   "name": "python3"
  },
  "language_info": {
   "codemirror_mode": {
    "name": "ipython",
    "version": 3
   },
   "file_extension": ".py",
   "mimetype": "text/x-python",
   "name": "python",
   "nbconvert_exporter": "python",
   "pygments_lexer": "ipython3",
   "version": "3.11.6"
  }
 },
 "nbformat": 4,
 "nbformat_minor": 2
}
