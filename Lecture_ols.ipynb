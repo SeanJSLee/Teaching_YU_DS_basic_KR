{
 "cells": [
  {
   "cell_type": "markdown",
   "metadata": {},
   "source": [
    "# 회귀분석\n",
    "(경제학에서는) 경제학에서 의미를 가지는 데이터를 '종속변수 (dependent variable)'로 설정하고, '종속변수'를 설명할 수 있는 '독립변수 (independent variable)'를 이용하여 변수들 간의 관계를 통계적으로 추정하는 분석방법.\n",
    "- 회귀분석을 하는 이유는 '경제학적 질문'으로 부터.\n",
    "- 회귀분석을 시작하려면, 질문을 분석해 볼 데이터가 있는가?\n",
    "    - '독립변수'는 '종속변수'의 '경제적 질문'과 연결되어 있어야 함.\n",
    "- '질문'과 '데이터'가 준비되어 있다면, OLS 분석방법을 시도해 보자.\n",
    "- OLS의 강력한 장점들\n",
    "    - 모델이 다음과 같을 때,\n",
    "        - $ \\begin{equation} Y = \\beta_0 + \\beta_1 X_1 + \\beta_2 X_2 + \\cdots + \\beta_K X_K + u \\nonumber \\end{equation}$\n",
    "    - 두가지 조건만 만족하면, 추정치를 구할 수 있음  \n",
    "        - OLS.1: $ E(X'u)=0 $ (consistent)\n",
    "        - OLS.2: $ rank \\, E(X'X)=K $ (invertable)\n",
    "    - 계산법이 간단함. 추정치 $\\hat{\\beta}$,  \n",
    "    $ \\hat{\\beta} = (X'X)^{-1}X'Y $\n",
    "    - 간단한 모델링과 계산법으로 인해, 결과해석이 간단함 (사칙연산).  \n",
    "    $ \\hat{Y} = E[Y|X]= X\\hat{\\beta} $\n",
    "    - 모델이 적합한지 확인 할 수 있는 방법이 존재.\n",
    "        - 모델의 설명력의 존재 유무 테스트: Wald test, F-test, R-squared\n",
    "        - 모델의 적합도 측정: RMSE\n",
    "        - 추정치의 통계적 의미: t-statistics\n",
    "    - 모델에 따라 개선방법들이 많이 연구되어 있음."
   ]
  },
  {
   "cell_type": "markdown",
   "metadata": {},
   "source": [
    "## OLS (Ordinary Least Square); 단순회귀분석\n",
    "\n",
    "교육서비스를 제공해야 하나?\n",
    "\n",
    "- 교육서비스와 소득에 경제학적 접근\n",
    "    - 교육에 투자해야 할 이유\n",
    "        - 개인의 경우 소득.\n",
    "        - 정부의 경우 미래 세금 수입.\n",
    "    - 얼마나 많은 교육 서비스를 제공 할 지\n",
    "        - 유한한 자원; 서비스 비용의 증가.\n",
    "        - 효율적인 자원분배; 복지나 인프라에 투자 가능.\n",
    "\n",
    "\n",
    "1. '종속변수'와 '독립변수'의 관계를 수식으로 표현하기  \n",
    "$\\begin{align}\n",
    "\\ln({earnings}) = \\beta_{intercept} + \\beta_{school} {school} + \\varepsilon \\nonumber\n",
    "\\end{align}$\n",
    "1. 그래프로 데이터 이해하기\n",
    "<!-- ![fig_3_1_2](https://github.com/SeanJSLee/Teaching_YU_DS_basic_KR/blob/main/doc/img/Figure_3_1_1.png?raw=true) -->\n",
    "<img src=\"https://github.com/SeanJSLee/Teaching_YU_DS_basic_KR/blob/main/doc/img/Figure_3_1_1.png?raw=true\" width=\"800\"/>\n",
    "\n",
    "\n",
    "1. OLS 실행하고 분석하기\n",
    "<!-- ![fig_3_1_3_a](https://github.com/SeanJSLee/Teaching_YU_DS_basic_KR/blob/main/doc/img/Figure_3_1_3_a.png?raw=true) -->\n",
    "<img src=\"https://github.com/SeanJSLee/Teaching_YU_DS_basic_KR/blob/main/doc/img/Figure_3_1_3_a.png?raw=true\" width=\"800\"/>\n",
    "\n",
    "- 추정결과  \n",
    "$\\begin{align}\n",
    "E[\\ln({earnings})|{school}] = 5.835761 + 0.0674387 \\cdot {school} \\nonumber\n",
    "\\end{align}$\n",
    "    - 대학졸업자의 일주일 평균 급여: \n",
    "    $\\begin{align} e^{E[ln(earning)|school=16]} &= e^{\\hat{\\beta}_{intercept} + \\hat{\\beta}_{school} \\cdot 16} \\nonumber\\\\\n",
    "    &= e^{5.835761 + 0.0674387 \\cdot 16} \\nonumber\\\\\n",
    "    &= e^{6.9147802} \\nonumber \\\\\n",
    "    &\\sim 1007.05 \\nonumber\n",
    "    \\end{align}$\n",
    "    - 고등학교 졸업자의 일주일 평균 급여:  \n",
    "    $\\begin{align} e^{E[ln(earning)|school=12]} &= e^{\\hat{\\beta}_{intercept} + \\hat{\\beta}_{school} \\cdot 12} \\nonumber\\\\\n",
    "    &= e^{5.835761 + 0.0674387 \\cdot 12} \\nonumber \\\\\n",
    "    &= e^{6.6450254} \\nonumber \\\\\n",
    "    &\\sim 768.95 \\nonumber\n",
    "    \\end{align}$\n",
    "    \n",
    "    - 추정값이 의미가 있는 지 확인하기\n",
    "        - 관측치가 40만개가량이며, t-statistics가 2 이상이기 떄문에, 95% 이상의 관측치들이 0보다 큰 영향을 가지고 있음. 통계적으로 의미가 있음.\n",
    "        - F-test 결과도 0으로 수렴하기 때문에, 모델은 설명력이 존재.\n",
    "        - Adjusted $R^2$ 0.107은 상당한 설명력을 보여줌\n",
    "        <!-- - 표준오차(standard error): 표준편차랑 거의 같음 -->\n",
    "<!-- ![normal dist](https://currentprotocols.onlinelibrary.wiley.com/cms/asset/d39ab523-dfbe-4589-89ab-28afcbc9e0c1/cpz1801-fig-0005-m.jpg)   -->"
   ]
  },
  {
   "cell_type": "code",
   "execution_count": null,
   "metadata": {},
   "outputs": [],
   "source": [
    "import pandas as pd\n",
    "import numpy as np\n",
    "import statsmodels.api as sm\n",
    "import patsy\n",
    "import matplotlib.pyplot as plt\n",
    "\n",
    "# 소수점 설정\n",
    "pd.options.display.float_format = \"{:,.3f}\".format\n",
    "\n",
    "# Load the dataset\n",
    "df_cps = pd.read_csv(\"https://raw.githubusercontent.com/SeanJSLee/Teaching_YU_DS_basic_KR/main/data/Dehejia_and_Wahba_1999/data_cps78_income.csv\")\n",
    "df_cps"
   ]
  },
  {
   "cell_type": "code",
   "execution_count": null,
   "metadata": {},
   "outputs": [],
   "source": [
    "y_cps,X_cps = patsy.dmatrices('ln_income_at_23 ~ edu_year', data=df_cps, return_type='dataframe')\n",
    "\n",
    "# Fit the OLS model\n",
    "model_cps = sm.OLS(y_cps,X_cps)\n",
    "result_cps = model_cps.fit(cov_type='HC0')\n",
    "\n",
    "# Print the model summary\n",
    "result_cps.summary()"
   ]
  },
  {
   "cell_type": "code",
   "execution_count": null,
   "metadata": {},
   "outputs": [],
   "source": [
    "def draw_dist(data, alpha) :\n",
    "    import numpy as np\n",
    "    import matplotlib.pyplot as plt\n",
    "    import scipy.stats as stats\n",
    "    mu = np.nanmean(data)\n",
    "    sigma = np.nanstd(data)\n",
    "    n = len(data[~np.isnan(data)])\n",
    "    # Alpha level for two-tailed test\n",
    "    # alpha = 0.05\n",
    "    # \n",
    "    fig, ax = plt.subplots()\n",
    "    ax.hist(data, bins=min(round(np.sqrt(n)),50), density=True, alpha=0.8)\n",
    "    # Generate points on the x axis\n",
    "    x = np.linspace((mu-3*sigma), (mu+3*sigma), 1000)\n",
    "    # Calculate the normal distribution's PDF at these points:\n",
    "    y = stats.norm.pdf(x, mu, sigma)\n",
    "    ax.plot(x, y)\n",
    "    # Critical values for two-tailed test at alpha level\n",
    "    critical_value_right = mu + stats.norm.ppf(1 - alpha / 2) * sigma\n",
    "    critical_value_left  = mu + stats.norm.ppf(alpha / 2) * sigma\n",
    "    # Plot the critical values\n",
    "    ax.axvline(critical_value_right, color='r', linestyle='--', label='Critical Value (Right Tail)')\n",
    "    ax.axvline(critical_value_left, color='g', linestyle='--', label='Critical Value (Left Tail)')\n",
    "    # Labeling the critical values\n",
    "    ax.text(critical_value_right, 0.1, f'{critical_value_right:.2f}', horizontalalignment='center', color='red')\n",
    "    ax.text(critical_value_left, 0.1, f'{critical_value_left:.2f}', horizontalalignment='center', color='green')\n",
    "    # Fill between for the two-tail areas\n",
    "    ax.fill_between(x, y, where=(x > critical_value_left) & (x < critical_value_right), \n",
    "    color='blue', alpha=0.5, label=f'{(1-alpha):.00%} data')\n",
    "    print(f'Total observation:{n} \\n95% observation are in [{critical_value_left:.2f}, {critical_value_right:.2f}] \\n\\tnumber of observation: {len(data[(data>=critical_value_left)&(data<=critical_value_right)])}, {len(data[(data>=critical_value_left)&(data<=critical_value_right)])/len(data):.2%}')\n",
    "    plt.xlabel('z')\n",
    "    plt.ylabel('Probability Density')\n",
    "    plt.title('Standard Normal Distribution with Two-Tail Test (α={alpha})'.format(alpha=alpha))\n",
    "    plt.legend()\n",
    "    plt.grid(True)\n",
    "    plt.show()\n",
    "\n",
    "\n",
    "alpha = 0.05\n",
    "draw_dist(y_cps, alpha)"
   ]
  },
  {
   "cell_type": "code",
   "execution_count": null,
   "metadata": {},
   "outputs": [],
   "source": [
    "import pandas as pd\n",
    "import numpy as np\n",
    "import statsmodels.api as sm\n",
    "import patsy\n",
    "import matplotlib.pyplot as plt\n",
    "\n",
    "# Load the dataset\n",
    "df_hps = pd.read_csv(\"https://raw.githubusercontent.com/SeanJSLee/Teaching_YU_DS_basic_KR/main/data/KOSIS_houshold_panel_survey/data_income_kor.csv\")\n",
    "df_hps"
   ]
  },
  {
   "cell_type": "code",
   "execution_count": null,
   "metadata": {},
   "outputs": [],
   "source": [
    "# pd.read_excel('https://github.com/SeanJSLee/Teaching_YU_DS_basic_KR/raw/main/data/KOSIS_houshold_panel_survey/data_income_kor.xlsx')"
   ]
  },
  {
   "cell_type": "code",
   "execution_count": null,
   "metadata": {},
   "outputs": [],
   "source": [
    "y,X = patsy.dmatrices('ln_income ~ edu_year', data=df_hps, return_type='dataframe')\n",
    "\n",
    "alpha = 0.05\n",
    "draw_dist(y, alpha)"
   ]
  },
  {
   "cell_type": "code",
   "execution_count": null,
   "metadata": {},
   "outputs": [],
   "source": [
    "# Fit the OLS model\n",
    "model = sm.OLS(y, X)\n",
    "result = model.fit(cov_type='HC0')\n",
    "result.summary()"
   ]
  },
  {
   "cell_type": "markdown",
   "metadata": {},
   "source": [
    "[statsmodels.regression.linear_model.OLSResults](https://www.statsmodels.org/stable/generated/statsmodels.regression.linear_model.OLSResults.html)"
   ]
  },
  {
   "cell_type": "code",
   "execution_count": null,
   "metadata": {},
   "outputs": [],
   "source": [
    "# 관축치\n",
    "result.nobs"
   ]
  },
  {
   "cell_type": "markdown",
   "metadata": {},
   "source": [
    " * Wald test [res.wald_test()](https://www.statsmodels.org/stable/generated/statsmodels.regression.linear_model.OLSResults.wald_test.html)  \n",
    " follows k DoF Chi-squared distribution. [critical value table](https://www.itl.nist.gov/div898/handbook/eda/section3/eda3674.htm)"
   ]
  },
  {
   "cell_type": "code",
   "execution_count": null,
   "metadata": {},
   "outputs": [],
   "source": [
    "result.wald_test(result.params.index.to_list(), use_f=False, scalar=True)"
   ]
  },
  {
   "cell_type": "code",
   "execution_count": null,
   "metadata": {},
   "outputs": [],
   "source": [
    "from scipy.stats import chi2\n",
    "chi2.ppf(.99,df=2)"
   ]
  },
  {
   "cell_type": "code",
   "execution_count": null,
   "metadata": {},
   "outputs": [],
   "source": [
    "# 추정치\n",
    "result.params"
   ]
  },
  {
   "cell_type": "code",
   "execution_count": null,
   "metadata": {},
   "outputs": [],
   "source": [
    "# Standard Error\n",
    "result.bse"
   ]
  },
  {
   "cell_type": "code",
   "execution_count": null,
   "metadata": {},
   "outputs": [],
   "source": [
    "# t-statistic\n",
    "result.tvalues"
   ]
  },
  {
   "cell_type": "code",
   "execution_count": null,
   "metadata": {},
   "outputs": [],
   "source": [
    "# p-value\n",
    "result.pvalues"
   ]
  },
  {
   "cell_type": "code",
   "execution_count": null,
   "metadata": {},
   "outputs": [],
   "source": [
    "# confidence inverval\n",
    "result.conf_int()"
   ]
  },
  {
   "cell_type": "code",
   "execution_count": null,
   "metadata": {},
   "outputs": [],
   "source": [
    "# adjusted R-squared\n",
    "result.rsquared_adj"
   ]
  },
  {
   "cell_type": "code",
   "execution_count": null,
   "metadata": {},
   "outputs": [],
   "source": [
    "# RMSE; root mean squred error\n",
    "result.mse_resid**.5"
   ]
  },
  {
   "cell_type": "code",
   "execution_count": null,
   "metadata": {},
   "outputs": [],
   "source": [
    "# \n",
    "est_beta_intercept = result.params['Intercept']\n",
    "est_beta_intercept"
   ]
  },
  {
   "cell_type": "code",
   "execution_count": null,
   "metadata": {},
   "outputs": [],
   "source": [
    "est_beta_school = result.params['edu_year']\n",
    "est_beta_school"
   ]
  },
  {
   "cell_type": "code",
   "execution_count": null,
   "metadata": {},
   "outputs": [],
   "source": [
    "# 대학졸업자 월평균 임금\n",
    "np.exp(est_beta_intercept + est_beta_school * 16)"
   ]
  },
  {
   "cell_type": "code",
   "execution_count": null,
   "metadata": {},
   "outputs": [],
   "source": [
    "# 고등학교졸업자 월평균 임금\n",
    "np.exp(est_beta_intercept + est_beta_school * 12)"
   ]
  },
  {
   "cell_type": "markdown",
   "metadata": {},
   "source": [
    "행렬연산으로 추정치 구해보기 $ \\hat{\\beta} = (X'X)^{-1}X'Y $"
   ]
  },
  {
   "cell_type": "code",
   "execution_count": null,
   "metadata": {},
   "outputs": [],
   "source": [
    "mat_x = np.matrix(X)\n",
    "mat_y = np.matrix(y)\n",
    "\n",
    "xTx = mat_x.T * mat_x\n",
    "xTx_inv = np.linalg.inv(xTx)\n",
    "xTy = mat_x.T * mat_y\n",
    "\n",
    "beta_hat = xTx_inv * xTy\n",
    "print('beta :',beta_hat, '\\nbeta 0:',beta_hat[0], '\\nbeta 1:',beta_hat[1])"
   ]
  },
  {
   "cell_type": "markdown",
   "metadata": {},
   "source": [
    "### OLS 결과 분석"
   ]
  },
  {
   "cell_type": "markdown",
   "metadata": {},
   "source": [
    "#### 추정치를 그래프로 표현해보기\n",
    "교육연도에 따른 임금변화율을 그래프로 표현"
   ]
  },
  {
   "cell_type": "code",
   "execution_count": null,
   "metadata": {},
   "outputs": [],
   "source": [
    "# fig, ax = plt.subplots()\n",
    "# ax.scatter(x=result.predict(), y=df_hps['ln_income'], alpha=0.1, s=5, marker='D', c='b')\n",
    "\n",
    "# # plt.legend(['CEF', 'Fitted', 'Actual'])\n",
    "# plt.show"
   ]
  },
  {
   "cell_type": "code",
   "execution_count": null,
   "metadata": {},
   "outputs": [],
   "source": [
    "# 관측치를 이용하여 교육연도별 임금평균\n",
    "school_means = df_hps.groupby('edu_year')['ln_income'].mean()\n",
    "school_means"
   ]
  },
  {
   "cell_type": "code",
   "execution_count": null,
   "metadata": {},
   "outputs": [],
   "source": [
    "result.predict(sm.add_constant(range(0,22)))\n"
   ]
  },
  {
   "cell_type": "code",
   "execution_count": null,
   "metadata": {},
   "outputs": [],
   "source": [
    "fig, ax = plt.subplots(figsize=(8,8))\n",
    "ax.plot(school_means, linestyle='-', marker='o', c='b')\n",
    "ax.plot(result.predict(sm.add_constant(range(0,22))) ,linestyle='-', linewidth=2, c='r')\n",
    "ax.scatter(df_hps['edu_year'], df_hps['ln_income'], alpha=0.1, s=5, marker='D', c='b')\n",
    "\n",
    "# HS\n",
    "edu_year = 12\n",
    "ax.axvline(edu_year, color='0.5', linestyle='--', label='HS')\n",
    "# Post-secondary\n",
    "edu_year = 16\n",
    "ax.axvline(edu_year, color='0.5', linestyle='--', label='PS')\n",
    "        \n",
    "\n",
    "\n",
    "plt.legend(['CEF', 'Fitted', 'Actual'])\n",
    "plt.show"
   ]
  },
  {
   "cell_type": "code",
   "execution_count": null,
   "metadata": {},
   "outputs": [],
   "source": []
  },
  {
   "cell_type": "markdown",
   "metadata": {},
   "source": [
    "### OLS.1 가정이 성립하지 않을때\n",
    "#### 시나리오: 높은 인적자본을 가진 표본들의 노동시간이 더 많을 경우 "
   ]
  },
  {
   "cell_type": "code",
   "execution_count": null,
   "metadata": {},
   "outputs": [],
   "source": [
    "def ols_alt_spec(spec, data, show_res=True):\n",
    "    y,X = patsy.dmatrices(spec, data=data, return_type='dataframe')\n",
    "    model  = sm.OLS(y,X)\n",
    "    result = model.fit(cov_type='HC0')\n",
    "    if show_res : print(result.summary())\n",
    "    return result"
   ]
  },
  {
   "cell_type": "code",
   "execution_count": null,
   "metadata": {},
   "outputs": [],
   "source": [
    "# df_hps = df_hps[['income', 'edu_year']]\n",
    "df_hps['income_alt'] = df_hps.apply(lambda x : x['income'] * 0.8 if x['edu_year'] >= 14 else x['income'], axis=1)\n",
    "df_hps['ln_income_alt'] = np.log(df_hps['income_alt'])\n",
    "result_alt_age = ols_alt_spec(spec='ln_income_alt ~ edu_year', data= df_hps)"
   ]
  },
  {
   "cell_type": "code",
   "execution_count": null,
   "metadata": {},
   "outputs": [],
   "source": []
  },
  {
   "cell_type": "code",
   "execution_count": null,
   "metadata": {},
   "outputs": [],
   "source": []
  },
  {
   "cell_type": "markdown",
   "metadata": {},
   "source": [
    "### POLS - Pooled OLS"
   ]
  },
  {
   "cell_type": "code",
   "execution_count": null,
   "metadata": {},
   "outputs": [],
   "source": [
    "ols_alt_spec(spec='ln_income ~ edu_year', data= df_hps.loc[(df_hps['date']=='2023-03-01')])\n",
    "ols_alt_spec(spec='ln_income ~ edu_year', data= df_hps.loc[(df_hps['date']=='2023-06-01')])\n",
    "ols_alt_spec(spec='ln_income ~ edu_year', data= df_hps.loc[(df_hps['date']=='2023-09-01')])\n",
    "ols_alt_spec(spec='ln_income ~ edu_year', data= df_hps.loc[(df_hps['date']=='2023-12-01')])"
   ]
  },
  {
   "cell_type": "code",
   "execution_count": null,
   "metadata": {},
   "outputs": [],
   "source": []
  },
  {
   "cell_type": "code",
   "execution_count": null,
   "metadata": {},
   "outputs": [],
   "source": []
  },
  {
   "cell_type": "code",
   "execution_count": null,
   "metadata": {},
   "outputs": [],
   "source": []
  },
  {
   "cell_type": "code",
   "execution_count": null,
   "metadata": {},
   "outputs": [],
   "source": []
  },
  {
   "cell_type": "code",
   "execution_count": null,
   "metadata": {},
   "outputs": [],
   "source": [
    "# 지난시간에 틀리게 말했던 것.\n",
    "\n",
    "df_tt = df_hps[['income', 'edu_year']]\n",
    "df_tt['ln_income_month_to_week'] = np.log(df_tt['income']/4)\n",
    "result_alt_age = ols_alt_spec(spec='ln_income_month_to_week ~ edu_year', data= df_tt)"
   ]
  },
  {
   "cell_type": "code",
   "execution_count": null,
   "metadata": {},
   "outputs": [],
   "source": []
  }
 ],
 "metadata": {
  "kernelspec": {
   "display_name": "base",
   "language": "python",
   "name": "python3"
  },
  "language_info": {
   "codemirror_mode": {
    "name": "ipython",
    "version": 3
   },
   "file_extension": ".py",
   "mimetype": "text/x-python",
   "name": "python",
   "nbconvert_exporter": "python",
   "pygments_lexer": "ipython3",
   "version": "3.11.6"
  }
 },
 "nbformat": 4,
 "nbformat_minor": 2
}
