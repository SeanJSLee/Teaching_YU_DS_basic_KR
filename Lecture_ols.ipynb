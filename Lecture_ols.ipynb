{
 "cells": [
  {
   "cell_type": "markdown",
   "metadata": {},
   "source": [
    "# 회귀분석\n",
    "(경제학에서는) 경제학에서 의미를 가지는 데이터를 '종속변수 (dependent variable)'로 설정하고, '종속변수'를 설명할 수 있는 '독립변수 (independent variable)'를 이용하여 변수들 간의 관계를 통계적으로 추정하는 분석방법.\n",
    "- 회귀분석을 하는 이유는 '경제학적 질문'으로 부터.\n",
    "- 회귀분석을 시작하려면, 질문을 분석해 볼 데이터가 있는가?\n",
    "    - '독립변수'는 '종속변수'의 '경제적 질문'과 연결되어 있어야 함.\n",
    "- '질문'과 '데이터'가 준비되어 있다면, OLS 분석방법을 시도해 보자.\n",
    "- OLS의 강력한 장점들\n",
    "    - 모델이 다음과 같을 때,\n",
    "        - $ \\begin{equation} Y = \\beta_0 + \\beta_1 X_1 + \\beta_2 X_2 + \\cdots + \\beta_K X_K + u \\nonumber \\end{equation}$\n",
    "    - 두가지 조건만 만족하면, 추정치를 구할 수 있음  \n",
    "        - OLS.1: $ E(X'u)=0 $\n",
    "        - OLS.2: $ rank \\, E(X'X)=K $\n",
    "    - 계산법이 간단함. 추정치 $\\hat{\\beta}$,  \n",
    "    $ \\hat{\\beta} = (X'X)^{-1}X'Y $\n",
    "    - 간단한 모델링과 계산법으로 인해, 결과해석이 간단함 (사칙연산).  \n",
    "    $ \\hat{Y} = E[Y|X]= X\\hat{\\beta} $\n",
    "    - 모델이 적합한지 확인 할 수 있는 방법이 존재.\n",
    "        - 모델의 설명력의 존재 유무 테스트: Wald test, F-test, R-squared\n",
    "        - 모델의 적합도 측정: RMSE\n",
    "        - 추정치의 통계적 의미: t-statistics\n",
    "    - 모델에 따라 개선방법들이 많이 연구되어 있음."
   ]
  },
  {
   "cell_type": "markdown",
   "metadata": {},
   "source": [
    "## OLS (Ordinary Least Square); 단순회귀분석\n",
    "\n",
    "교육서비스를 제공해야 하나?\n",
    "\n",
    "- 교육서비스와 소득에 경제학적 접근\n",
    "    - 교육에 투자해야 할 이유\n",
    "        - 개인의 경우 소득.\n",
    "        - 정부의 경우 미래 세금 수입.\n",
    "    - 얼마나 많은 교육 서비스를 제공 할 지\n",
    "        - 유한한 자원; 서비스 비용의 증가.\n",
    "        - 효율적인 자원분배; 복지나 인프라에 투자 가능.\n",
    "\n",
    "\n",
    "1. '종속변수'와 '독립변수'의 관계를 수식으로 표현하기  \n",
    "$\\begin{align}\n",
    "\\ln({earnings}) = \\beta_{intercept} + \\beta_{school} {school} + \\varepsilon \\nonumber\n",
    "\\end{align}$\n",
    "1. 그래프로 데이터 이해하기\n",
    "![fig_3_1_2](https://github.com/SeanJSLee/Teaching_YU_DS_basic_KR/blob/main/doc/img/Figure_3_1_1.png?raw=true)\n",
    "1. OLS 실행하고 분석하기\n",
    "![fig_3_1_3_a](https://github.com/SeanJSLee/Teaching_YU_DS_basic_KR/blob/main/doc/img/Figure_3_1_3_a.png?raw=true)\n",
    "    - 추정결과  \n",
    "    $\\begin{align}\n",
    "    E[\\ln({earnings})|{school}] = 5.835761 + 0.0674387 \\cdot {school} \\nonumber\n",
    "    \\end{align}$\n",
    "        - 대학졸업자의 일주일 평균 급여: $ e^{E[ln(earning)|school=16]} = e^{5.835761 + 0.0674387 \\cdot 16} = e^{6.9147802} \\sim 1007.05 $\n",
    "        - 고등학교 졸업자의 일주일 평균 급여: $ e^{E[ln(earning)|school=12]} = e^{5.835761 + 0.0674387 \\cdot 12} = e^{6.6450254} \\sim 768.95 $\n",
    "        - 추정값이 의미가 있는 지 확인하기\n",
    "            - 관측치가 40만개가량이며, t-statistics가 2 이상이기 떄문에, 95% 이상의 관측치들이 0보다 큰 영향을 가지고 있음. 통계적으로 의미가 있음.\n",
    "            - F-test 결과도 0으로 수렴하기 때문에, 모델은 설명력이 존재.\n",
    "            - Adjusted $R^2$ 0.107은 상당한 설명력을 보여줌\n",
    "            <!-- - 표준오차(standard error): 표준편차랑 거의 같음 -->\n",
    "<!-- ![normal dist](https://currentprotocols.onlinelibrary.wiley.com/cms/asset/d39ab523-dfbe-4589-89ab-28afcbc9e0c1/cpz1801-fig-0005-m.jpg)   -->"
   ]
  },
  {
   "cell_type": "code",
   "execution_count": 1,
   "metadata": {},
   "outputs": [
    {
     "data": {
      "text/html": [
       "<div>\n",
       "<style scoped>\n",
       "    .dataframe tbody tr th:only-of-type {\n",
       "        vertical-align: middle;\n",
       "    }\n",
       "\n",
       "    .dataframe tbody tr th {\n",
       "        vertical-align: top;\n",
       "    }\n",
       "\n",
       "    .dataframe thead th {\n",
       "        text-align: right;\n",
       "    }\n",
       "</style>\n",
       "<table border=\"1\" class=\"dataframe\">\n",
       "  <thead>\n",
       "    <tr style=\"text-align: right;\">\n",
       "      <th></th>\n",
       "      <th>Unnamed: 0</th>\n",
       "      <th>income_78</th>\n",
       "      <th>edu_year</th>\n",
       "      <th>age</th>\n",
       "      <th>edu_level</th>\n",
       "      <th>income_at_23</th>\n",
       "      <th>ln_income_at_23</th>\n",
       "    </tr>\n",
       "  </thead>\n",
       "  <tbody>\n",
       "    <tr>\n",
       "      <th>0</th>\n",
       "      <td>0</td>\n",
       "      <td>9,930.046</td>\n",
       "      <td>11</td>\n",
       "      <td>37</td>\n",
       "      <td>Secondary</td>\n",
       "      <td>46,406.210</td>\n",
       "      <td>10.745</td>\n",
       "    </tr>\n",
       "    <tr>\n",
       "      <th>1</th>\n",
       "      <td>1</td>\n",
       "      <td>3,595.894</td>\n",
       "      <td>9</td>\n",
       "      <td>22</td>\n",
       "      <td>Secondary</td>\n",
       "      <td>16,804.736</td>\n",
       "      <td>9.729</td>\n",
       "    </tr>\n",
       "    <tr>\n",
       "      <th>2</th>\n",
       "      <td>2</td>\n",
       "      <td>24,909.450</td>\n",
       "      <td>12</td>\n",
       "      <td>30</td>\n",
       "      <td>Secondary</td>\n",
       "      <td>116,409.640</td>\n",
       "      <td>11.665</td>\n",
       "    </tr>\n",
       "    <tr>\n",
       "      <th>3</th>\n",
       "      <td>3</td>\n",
       "      <td>7,506.146</td>\n",
       "      <td>11</td>\n",
       "      <td>27</td>\n",
       "      <td>Secondary</td>\n",
       "      <td>35,078.566</td>\n",
       "      <td>10.465</td>\n",
       "    </tr>\n",
       "    <tr>\n",
       "      <th>4</th>\n",
       "      <td>4</td>\n",
       "      <td>289.790</td>\n",
       "      <td>8</td>\n",
       "      <td>33</td>\n",
       "      <td>Secondary</td>\n",
       "      <td>1,354.279</td>\n",
       "      <td>7.211</td>\n",
       "    </tr>\n",
       "    <tr>\n",
       "      <th>...</th>\n",
       "      <td>...</td>\n",
       "      <td>...</td>\n",
       "      <td>...</td>\n",
       "      <td>...</td>\n",
       "      <td>...</td>\n",
       "      <td>...</td>\n",
       "      <td>...</td>\n",
       "    </tr>\n",
       "    <tr>\n",
       "      <th>13955</th>\n",
       "      <td>13955</td>\n",
       "      <td>2,757.438</td>\n",
       "      <td>12</td>\n",
       "      <td>22</td>\n",
       "      <td>Secondary</td>\n",
       "      <td>12,886.370</td>\n",
       "      <td>9.464</td>\n",
       "    </tr>\n",
       "    <tr>\n",
       "      <th>13956</th>\n",
       "      <td>13956</td>\n",
       "      <td>6,895.072</td>\n",
       "      <td>12</td>\n",
       "      <td>20</td>\n",
       "      <td>Secondary</td>\n",
       "      <td>32,222.826</td>\n",
       "      <td>10.380</td>\n",
       "    </tr>\n",
       "    <tr>\n",
       "      <th>13957</th>\n",
       "      <td>13957</td>\n",
       "      <td>4,221.865</td>\n",
       "      <td>12</td>\n",
       "      <td>37</td>\n",
       "      <td>Secondary</td>\n",
       "      <td>19,730.096</td>\n",
       "      <td>9.890</td>\n",
       "    </tr>\n",
       "    <tr>\n",
       "      <th>13958</th>\n",
       "      <td>13958</td>\n",
       "      <td>13,671.930</td>\n",
       "      <td>9</td>\n",
       "      <td>47</td>\n",
       "      <td>Secondary</td>\n",
       "      <td>63,893.203</td>\n",
       "      <td>11.065</td>\n",
       "    </tr>\n",
       "    <tr>\n",
       "      <th>13959</th>\n",
       "      <td>13959</td>\n",
       "      <td>7,979.724</td>\n",
       "      <td>10</td>\n",
       "      <td>40</td>\n",
       "      <td>Secondary</td>\n",
       "      <td>37,291.746</td>\n",
       "      <td>10.527</td>\n",
       "    </tr>\n",
       "  </tbody>\n",
       "</table>\n",
       "<p>13960 rows × 7 columns</p>\n",
       "</div>"
      ],
      "text/plain": [
       "       Unnamed: 0  income_78  edu_year  age  edu_level  income_at_23  \\\n",
       "0               0  9,930.046        11   37  Secondary    46,406.210   \n",
       "1               1  3,595.894         9   22  Secondary    16,804.736   \n",
       "2               2 24,909.450        12   30  Secondary   116,409.640   \n",
       "3               3  7,506.146        11   27  Secondary    35,078.566   \n",
       "4               4    289.790         8   33  Secondary     1,354.279   \n",
       "...           ...        ...       ...  ...        ...           ...   \n",
       "13955       13955  2,757.438        12   22  Secondary    12,886.370   \n",
       "13956       13956  6,895.072        12   20  Secondary    32,222.826   \n",
       "13957       13957  4,221.865        12   37  Secondary    19,730.096   \n",
       "13958       13958 13,671.930         9   47  Secondary    63,893.203   \n",
       "13959       13959  7,979.724        10   40  Secondary    37,291.746   \n",
       "\n",
       "       ln_income_at_23  \n",
       "0               10.745  \n",
       "1                9.729  \n",
       "2               11.665  \n",
       "3               10.465  \n",
       "4                7.211  \n",
       "...                ...  \n",
       "13955            9.464  \n",
       "13956           10.380  \n",
       "13957            9.890  \n",
       "13958           11.065  \n",
       "13959           10.527  \n",
       "\n",
       "[13960 rows x 7 columns]"
      ]
     },
     "execution_count": 1,
     "metadata": {},
     "output_type": "execute_result"
    }
   ],
   "source": [
    "import pandas as pd\n",
    "import numpy as np\n",
    "import statsmodels.api as sm\n",
    "import patsy\n",
    "import matplotlib.pyplot as plt\n",
    "\n",
    "# 소수점 설정\n",
    "pd.options.display.float_format = \"{:,.3f}\".format\n",
    "\n",
    "# Load the dataset\n",
    "df_cps = pd.read_csv(\"https://raw.githubusercontent.com/SeanJSLee/Teaching_YU_DS_basic_KR/main/data/Dehejia_and_Wahba_1999/data_cps78_income.csv\")\n",
    "df_cps"
   ]
  },
  {
   "cell_type": "code",
   "execution_count": 2,
   "metadata": {},
   "outputs": [
    {
     "data": {
      "text/html": [
       "<table class=\"simpletable\">\n",
       "<caption>OLS Regression Results</caption>\n",
       "<tr>\n",
       "  <th>Dep. Variable:</th>     <td>ln_income_at_23</td> <th>  R-squared:         </th> <td>   0.018</td> \n",
       "</tr>\n",
       "<tr>\n",
       "  <th>Model:</th>                   <td>OLS</td>       <th>  Adj. R-squared:    </th> <td>   0.018</td> \n",
       "</tr>\n",
       "<tr>\n",
       "  <th>Method:</th>             <td>Least Squares</td>  <th>  F-statistic:       </th> <td>   245.4</td> \n",
       "</tr>\n",
       "<tr>\n",
       "  <th>Date:</th>             <td>Fri, 15 Mar 2024</td> <th>  Prob (F-statistic):</th> <td>7.49e-55</td> \n",
       "</tr>\n",
       "<tr>\n",
       "  <th>Time:</th>                 <td>13:44:26</td>     <th>  Log-Likelihood:    </th> <td> -19164.</td> \n",
       "</tr>\n",
       "<tr>\n",
       "  <th>No. Observations:</th>      <td> 13960</td>      <th>  AIC:               </th> <td>3.833e+04</td>\n",
       "</tr>\n",
       "<tr>\n",
       "  <th>Df Residuals:</th>          <td> 13958</td>      <th>  BIC:               </th> <td>3.835e+04</td>\n",
       "</tr>\n",
       "<tr>\n",
       "  <th>Df Model:</th>              <td>     1</td>      <th>                     </th>     <td> </td>    \n",
       "</tr>\n",
       "<tr>\n",
       "  <th>Covariance Type:</th>         <td>HC0</td>       <th>                     </th>     <td> </td>    \n",
       "</tr>\n",
       "</table>\n",
       "<table class=\"simpletable\">\n",
       "<tr>\n",
       "      <td></td>         <th>coef</th>     <th>std err</th>      <th>z</th>      <th>P>|z|</th>  <th>[0.025</th>    <th>0.975]</th>  \n",
       "</tr>\n",
       "<tr>\n",
       "  <th>Intercept</th> <td>   10.4906</td> <td>    0.036</td> <td>  292.881</td> <td> 0.000</td> <td>   10.420</td> <td>   10.561</td>\n",
       "</tr>\n",
       "<tr>\n",
       "  <th>edu_year</th>  <td>    0.0450</td> <td>    0.003</td> <td>   15.667</td> <td> 0.000</td> <td>    0.039</td> <td>    0.051</td>\n",
       "</tr>\n",
       "</table>\n",
       "<table class=\"simpletable\">\n",
       "<tr>\n",
       "  <th>Omnibus:</th>       <td>7880.097</td> <th>  Durbin-Watson:     </th> <td>   1.914</td> \n",
       "</tr>\n",
       "<tr>\n",
       "  <th>Prob(Omnibus):</th>  <td> 0.000</td>  <th>  Jarque-Bera (JB):  </th> <td>68169.419</td>\n",
       "</tr>\n",
       "<tr>\n",
       "  <th>Skew:</th>           <td>-2.627</td>  <th>  Prob(JB):          </th> <td>    0.00</td> \n",
       "</tr>\n",
       "<tr>\n",
       "  <th>Kurtosis:</th>       <td>12.465</td>  <th>  Cond. No.          </th> <td>    53.5</td> \n",
       "</tr>\n",
       "</table><br/><br/>Notes:<br/>[1] Standard Errors are heteroscedasticity robust (HC0)"
      ],
      "text/latex": [
       "\\begin{center}\n",
       "\\begin{tabular}{lclc}\n",
       "\\toprule\n",
       "\\textbf{Dep. Variable:}    & ln\\_income\\_at\\_23 & \\textbf{  R-squared:         } &     0.018   \\\\\n",
       "\\textbf{Model:}            &        OLS         & \\textbf{  Adj. R-squared:    } &     0.018   \\\\\n",
       "\\textbf{Method:}           &   Least Squares    & \\textbf{  F-statistic:       } &     245.4   \\\\\n",
       "\\textbf{Date:}             &  Fri, 15 Mar 2024  & \\textbf{  Prob (F-statistic):} &  7.49e-55   \\\\\n",
       "\\textbf{Time:}             &      13:44:26      & \\textbf{  Log-Likelihood:    } &   -19164.   \\\\\n",
       "\\textbf{No. Observations:} &        13960       & \\textbf{  AIC:               } & 3.833e+04   \\\\\n",
       "\\textbf{Df Residuals:}     &        13958       & \\textbf{  BIC:               } & 3.835e+04   \\\\\n",
       "\\textbf{Df Model:}         &            1       & \\textbf{                     } &             \\\\\n",
       "\\textbf{Covariance Type:}  &        HC0         & \\textbf{                     } &             \\\\\n",
       "\\bottomrule\n",
       "\\end{tabular}\n",
       "\\begin{tabular}{lcccccc}\n",
       "                   & \\textbf{coef} & \\textbf{std err} & \\textbf{z} & \\textbf{P$> |$z$|$} & \\textbf{[0.025} & \\textbf{0.975]}  \\\\\n",
       "\\midrule\n",
       "\\textbf{Intercept} &      10.4906  &        0.036     &   292.881  &         0.000        &       10.420    &       10.561     \\\\\n",
       "\\textbf{edu\\_year} &       0.0450  &        0.003     &    15.667  &         0.000        &        0.039    &        0.051     \\\\\n",
       "\\bottomrule\n",
       "\\end{tabular}\n",
       "\\begin{tabular}{lclc}\n",
       "\\textbf{Omnibus:}       & 7880.097 & \\textbf{  Durbin-Watson:     } &     1.914  \\\\\n",
       "\\textbf{Prob(Omnibus):} &   0.000  & \\textbf{  Jarque-Bera (JB):  } & 68169.419  \\\\\n",
       "\\textbf{Skew:}          &  -2.627  & \\textbf{  Prob(JB):          } &      0.00  \\\\\n",
       "\\textbf{Kurtosis:}      &  12.465  & \\textbf{  Cond. No.          } &      53.5  \\\\\n",
       "\\bottomrule\n",
       "\\end{tabular}\n",
       "%\\caption{OLS Regression Results}\n",
       "\\end{center}\n",
       "\n",
       "Notes: \\newline\n",
       " [1] Standard Errors are heteroscedasticity robust (HC0)"
      ],
      "text/plain": [
       "<class 'statsmodels.iolib.summary.Summary'>\n",
       "\"\"\"\n",
       "                            OLS Regression Results                            \n",
       "==============================================================================\n",
       "Dep. Variable:        ln_income_at_23   R-squared:                       0.018\n",
       "Model:                            OLS   Adj. R-squared:                  0.018\n",
       "Method:                 Least Squares   F-statistic:                     245.4\n",
       "Date:                Fri, 15 Mar 2024   Prob (F-statistic):           7.49e-55\n",
       "Time:                        13:44:26   Log-Likelihood:                -19164.\n",
       "No. Observations:               13960   AIC:                         3.833e+04\n",
       "Df Residuals:                   13958   BIC:                         3.835e+04\n",
       "Df Model:                           1                                         \n",
       "Covariance Type:                  HC0                                         \n",
       "==============================================================================\n",
       "                 coef    std err          z      P>|z|      [0.025      0.975]\n",
       "------------------------------------------------------------------------------\n",
       "Intercept     10.4906      0.036    292.881      0.000      10.420      10.561\n",
       "edu_year       0.0450      0.003     15.667      0.000       0.039       0.051\n",
       "==============================================================================\n",
       "Omnibus:                     7880.097   Durbin-Watson:                   1.914\n",
       "Prob(Omnibus):                  0.000   Jarque-Bera (JB):            68169.419\n",
       "Skew:                          -2.627   Prob(JB):                         0.00\n",
       "Kurtosis:                      12.465   Cond. No.                         53.5\n",
       "==============================================================================\n",
       "\n",
       "Notes:\n",
       "[1] Standard Errors are heteroscedasticity robust (HC0)\n",
       "\"\"\""
      ]
     },
     "execution_count": 2,
     "metadata": {},
     "output_type": "execute_result"
    }
   ],
   "source": [
    "y_cps,X_cps = patsy.dmatrices('ln_income_at_23 ~ edu_year', data=df_cps, return_type='dataframe')\n",
    "\n",
    "# Fit the OLS model\n",
    "model_cps = sm.OLS(y_cps,X_cps)\n",
    "result_cps = model_cps.fit(cov_type='HC0')\n",
    "\n",
    "# Print the model summary\n",
    "result_cps.summary()"
   ]
  },
  {
   "cell_type": "code",
   "execution_count": 3,
   "metadata": {},
   "outputs": [
    {
     "name": "stdout",
     "output_type": "stream",
     "text": [
      "Total observation:13960 \n",
      "95% observation are in [9.14, 12.92] \n",
      "\tnumber of observation: 13960, 100.00%\n"
     ]
    },
    {
     "data": {
      "image/png": "[encoded data removed]",
      "text/plain": [
       "<Figure size 640x480 with 1 Axes>"
      ]
     },
     "metadata": {},
     "output_type": "display_data"
    }
   ],
   "source": [
    "def draw_dist(data, alpha) :\n",
    "    import numpy as np\n",
    "    import matplotlib.pyplot as plt\n",
    "    import scipy.stats as stats\n",
    "    mu = np.nanmean(data)\n",
    "    sigma = np.nanstd(data)\n",
    "    n = len(data[~np.isnan(data)])\n",
    "    # Alpha level for two-tailed test\n",
    "    # alpha = 0.05\n",
    "    # \n",
    "    fig, ax = plt.subplots()\n",
    "    ax.hist(data, bins=min(round(np.sqrt(n)),50), density=True, alpha=0.8)\n",
    "    # Generate points on the x axis\n",
    "    x = np.linspace((mu-3*sigma), (mu+3*sigma), 1000)\n",
    "    # Calculate the normal distribution's PDF at these points:\n",
    "    y = stats.norm.pdf(x, mu, sigma)\n",
    "    ax.plot(x, y)\n",
    "    # Critical values for two-tailed test at alpha level\n",
    "    critical_value_right = mu + stats.norm.ppf(1 - alpha / 2) * sigma\n",
    "    critical_value_left  = mu + stats.norm.ppf(alpha / 2) * sigma\n",
    "    # Plot the critical values\n",
    "    ax.axvline(critical_value_right, color='r', linestyle='--', label='Critical Value (Right Tail)')\n",
    "    ax.axvline(critical_value_left, color='g', linestyle='--', label='Critical Value (Left Tail)')\n",
    "    # Labeling the critical values\n",
    "    ax.text(critical_value_right, 0.1, f'{critical_value_right:.2f}', horizontalalignment='center', color='red')\n",
    "    ax.text(critical_value_left, 0.1, f'{critical_value_left:.2f}', horizontalalignment='center', color='green')\n",
    "    # Fill between for the two-tail areas\n",
    "    ax.fill_between(x, y, where=(x > critical_value_left) & (x < critical_value_right), \n",
    "    color='blue', alpha=0.5, label=f'{(1-alpha):.00%} data')\n",
    "    print(f'Total observation:{n} \\n95% observation are in [{critical_value_left:.2f}, {critical_value_right:.2f}] \\n\\tnumber of observation: {len(data[(data>=critical_value_left)&(data<=critical_value_right)])}, {len(data[(data>=critical_value_left)&(data<=critical_value_right)])/len(data):.2%}')\n",
    "    plt.xlabel('z')\n",
    "    plt.ylabel('Probability Density')\n",
    "    plt.title('Standard Normal Distribution with Two-Tail Test (α={alpha})'.format(alpha=alpha))\n",
    "    plt.legend()\n",
    "    plt.grid(True)\n",
    "    plt.show()\n",
    "\n",
    "\n",
    "alpha = 0.05\n",
    "draw_dist(y_cps, alpha)"
   ]
  },
  {
   "cell_type": "code",
   "execution_count": 4,
   "metadata": {},
   "outputs": [
    {
     "data": {
      "text/html": [
       "<div>\n",
       "<style scoped>\n",
       "    .dataframe tbody tr th:only-of-type {\n",
       "        vertical-align: middle;\n",
       "    }\n",
       "\n",
       "    .dataframe tbody tr th {\n",
       "        vertical-align: top;\n",
       "    }\n",
       "\n",
       "    .dataframe thead th {\n",
       "        text-align: right;\n",
       "    }\n",
       "</style>\n",
       "<table border=\"1\" class=\"dataframe\">\n",
       "  <thead>\n",
       "    <tr style=\"text-align: right;\">\n",
       "      <th></th>\n",
       "      <th>Unnamed: 0</th>\n",
       "      <th>date</th>\n",
       "      <th>id</th>\n",
       "      <th>household</th>\n",
       "      <th>female</th>\n",
       "      <th>age</th>\n",
       "      <th>income</th>\n",
       "      <th>edu_year</th>\n",
       "      <th>ln_income</th>\n",
       "    </tr>\n",
       "  </thead>\n",
       "  <tbody>\n",
       "    <tr>\n",
       "      <th>0</th>\n",
       "      <td>0</td>\n",
       "      <td>2023-03-01</td>\n",
       "      <td>1</td>\n",
       "      <td>True</td>\n",
       "      <td>False</td>\n",
       "      <td>43.000</td>\n",
       "      <td>5,170,000.000</td>\n",
       "      <td>12</td>\n",
       "      <td>15.458</td>\n",
       "    </tr>\n",
       "    <tr>\n",
       "      <th>1</th>\n",
       "      <td>1</td>\n",
       "      <td>2023-03-01</td>\n",
       "      <td>2</td>\n",
       "      <td>True</td>\n",
       "      <td>False</td>\n",
       "      <td>66.000</td>\n",
       "      <td>2,176,800.000</td>\n",
       "      <td>9</td>\n",
       "      <td>14.593</td>\n",
       "    </tr>\n",
       "    <tr>\n",
       "      <th>2</th>\n",
       "      <td>2</td>\n",
       "      <td>2023-03-01</td>\n",
       "      <td>4</td>\n",
       "      <td>True</td>\n",
       "      <td>True</td>\n",
       "      <td>50.000</td>\n",
       "      <td>2,078,090.000</td>\n",
       "      <td>12</td>\n",
       "      <td>14.547</td>\n",
       "    </tr>\n",
       "    <tr>\n",
       "      <th>3</th>\n",
       "      <td>3</td>\n",
       "      <td>2023-03-01</td>\n",
       "      <td>5</td>\n",
       "      <td>True</td>\n",
       "      <td>False</td>\n",
       "      <td>30.000</td>\n",
       "      <td>700,514.000</td>\n",
       "      <td>14</td>\n",
       "      <td>13.460</td>\n",
       "    </tr>\n",
       "    <tr>\n",
       "      <th>4</th>\n",
       "      <td>4</td>\n",
       "      <td>2023-03-01</td>\n",
       "      <td>6</td>\n",
       "      <td>True</td>\n",
       "      <td>True</td>\n",
       "      <td>65.000</td>\n",
       "      <td>895,976.000</td>\n",
       "      <td>12</td>\n",
       "      <td>13.706</td>\n",
       "    </tr>\n",
       "    <tr>\n",
       "      <th>...</th>\n",
       "      <td>...</td>\n",
       "      <td>...</td>\n",
       "      <td>...</td>\n",
       "      <td>...</td>\n",
       "      <td>...</td>\n",
       "      <td>...</td>\n",
       "      <td>...</td>\n",
       "      <td>...</td>\n",
       "      <td>...</td>\n",
       "    </tr>\n",
       "    <tr>\n",
       "      <th>22052</th>\n",
       "      <td>22052</td>\n",
       "      <td>2023-12-01</td>\n",
       "      <td>7109</td>\n",
       "      <td>False</td>\n",
       "      <td>True</td>\n",
       "      <td>39.000</td>\n",
       "      <td>2,500,000.000</td>\n",
       "      <td>16</td>\n",
       "      <td>14.732</td>\n",
       "    </tr>\n",
       "    <tr>\n",
       "      <th>22053</th>\n",
       "      <td>22053</td>\n",
       "      <td>2023-12-01</td>\n",
       "      <td>7114</td>\n",
       "      <td>False</td>\n",
       "      <td>True</td>\n",
       "      <td>51.000</td>\n",
       "      <td>2,292,890.000</td>\n",
       "      <td>12</td>\n",
       "      <td>14.645</td>\n",
       "    </tr>\n",
       "    <tr>\n",
       "      <th>22054</th>\n",
       "      <td>22054</td>\n",
       "      <td>2023-12-01</td>\n",
       "      <td>7118</td>\n",
       "      <td>False</td>\n",
       "      <td>True</td>\n",
       "      <td>39.000</td>\n",
       "      <td>135,000.000</td>\n",
       "      <td>16</td>\n",
       "      <td>11.813</td>\n",
       "    </tr>\n",
       "    <tr>\n",
       "      <th>22055</th>\n",
       "      <td>22055</td>\n",
       "      <td>2023-12-01</td>\n",
       "      <td>7124</td>\n",
       "      <td>False</td>\n",
       "      <td>True</td>\n",
       "      <td>77.000</td>\n",
       "      <td>270,000.000</td>\n",
       "      <td>6</td>\n",
       "      <td>12.506</td>\n",
       "    </tr>\n",
       "    <tr>\n",
       "      <th>22056</th>\n",
       "      <td>22056</td>\n",
       "      <td>2023-12-01</td>\n",
       "      <td>7129</td>\n",
       "      <td>False</td>\n",
       "      <td>True</td>\n",
       "      <td>43.000</td>\n",
       "      <td>1,906,275.000</td>\n",
       "      <td>14</td>\n",
       "      <td>14.461</td>\n",
       "    </tr>\n",
       "  </tbody>\n",
       "</table>\n",
       "<p>22057 rows × 9 columns</p>\n",
       "</div>"
      ],
      "text/plain": [
       "       Unnamed: 0        date    id  household  female    age        income  \\\n",
       "0               0  2023-03-01     1       True   False 43.000 5,170,000.000   \n",
       "1               1  2023-03-01     2       True   False 66.000 2,176,800.000   \n",
       "2               2  2023-03-01     4       True    True 50.000 2,078,090.000   \n",
       "3               3  2023-03-01     5       True   False 30.000   700,514.000   \n",
       "4               4  2023-03-01     6       True    True 65.000   895,976.000   \n",
       "...           ...         ...   ...        ...     ...    ...           ...   \n",
       "22052       22052  2023-12-01  7109      False    True 39.000 2,500,000.000   \n",
       "22053       22053  2023-12-01  7114      False    True 51.000 2,292,890.000   \n",
       "22054       22054  2023-12-01  7118      False    True 39.000   135,000.000   \n",
       "22055       22055  2023-12-01  7124      False    True 77.000   270,000.000   \n",
       "22056       22056  2023-12-01  7129      False    True 43.000 1,906,275.000   \n",
       "\n",
       "       edu_year  ln_income  \n",
       "0            12     15.458  \n",
       "1             9     14.593  \n",
       "2            12     14.547  \n",
       "3            14     13.460  \n",
       "4            12     13.706  \n",
       "...         ...        ...  \n",
       "22052        16     14.732  \n",
       "22053        12     14.645  \n",
       "22054        16     11.813  \n",
       "22055         6     12.506  \n",
       "22056        14     14.461  \n",
       "\n",
       "[22057 rows x 9 columns]"
      ]
     },
     "execution_count": 4,
     "metadata": {},
     "output_type": "execute_result"
    }
   ],
   "source": [
    "import pandas as pd\n",
    "import numpy as np\n",
    "import statsmodels.api as sm\n",
    "import patsy\n",
    "import matplotlib.pyplot as plt\n",
    "\n",
    "# Load the dataset\n",
    "df_hps = pd.read_csv(\"https://raw.githubusercontent.com/SeanJSLee/Teaching_YU_DS_basic_KR/main/data/KOSIS_houshold_panel_survey/data_income_kor.csv\")\n",
    "df_hps"
   ]
  },
  {
   "cell_type": "code",
   "execution_count": 5,
   "metadata": {},
   "outputs": [
    {
     "name": "stdout",
     "output_type": "stream",
     "text": [
      "Total observation:22057 \n",
      "95% observation are in [12.51, 16.67] \n",
      "\tnumber of observation: 22057, 100.00%\n"
     ]
    },
    {
     "data": {
      "image/png": "[encoded data removed]",
      "text/plain": [
       "<Figure size 640x480 with 1 Axes>"
      ]
     },
     "metadata": {},
     "output_type": "display_data"
    }
   ],
   "source": [
    "y,X = patsy.dmatrices('ln_income ~ edu_year', data=df_hps, return_type='dataframe')\n",
    "\n",
    "alpha = 0.05\n",
    "draw_dist(y, alpha)"
   ]
  },
  {
   "cell_type": "code",
   "execution_count": 6,
   "metadata": {},
   "outputs": [
    {
     "data": {
      "text/html": [
       "<table class=\"simpletable\">\n",
       "<caption>OLS Regression Results</caption>\n",
       "<tr>\n",
       "  <th>Dep. Variable:</th>        <td>ln_income</td>    <th>  R-squared:         </th> <td>   0.294</td> \n",
       "</tr>\n",
       "<tr>\n",
       "  <th>Model:</th>                   <td>OLS</td>       <th>  Adj. R-squared:    </th> <td>   0.294</td> \n",
       "</tr>\n",
       "<tr>\n",
       "  <th>Method:</th>             <td>Least Squares</td>  <th>  F-statistic:       </th> <td>   7854.</td> \n",
       "</tr>\n",
       "<tr>\n",
       "  <th>Date:</th>             <td>Fri, 15 Mar 2024</td> <th>  Prob (F-statistic):</th>  <td>  0.00</td>  \n",
       "</tr>\n",
       "<tr>\n",
       "  <th>Time:</th>                 <td>13:44:27</td>     <th>  Log-Likelihood:    </th> <td> -28789.</td> \n",
       "</tr>\n",
       "<tr>\n",
       "  <th>No. Observations:</th>      <td> 22057</td>      <th>  AIC:               </th> <td>5.758e+04</td>\n",
       "</tr>\n",
       "<tr>\n",
       "  <th>Df Residuals:</th>          <td> 22055</td>      <th>  BIC:               </th> <td>5.760e+04</td>\n",
       "</tr>\n",
       "<tr>\n",
       "  <th>Df Model:</th>              <td>     1</td>      <th>                     </th>     <td> </td>    \n",
       "</tr>\n",
       "<tr>\n",
       "  <th>Covariance Type:</th>         <td>HC0</td>       <th>                     </th>     <td> </td>    \n",
       "</tr>\n",
       "</table>\n",
       "<table class=\"simpletable\">\n",
       "<tr>\n",
       "      <td></td>         <th>coef</th>     <th>std err</th>      <th>z</th>      <th>P>|z|</th>  <th>[0.025</th>    <th>0.975]</th>  \n",
       "</tr>\n",
       "<tr>\n",
       "  <th>Intercept</th> <td>   12.5089</td> <td>    0.025</td> <td>  495.433</td> <td> 0.000</td> <td>   12.459</td> <td>   12.558</td>\n",
       "</tr>\n",
       "<tr>\n",
       "  <th>edu_year</th>  <td>    0.1591</td> <td>    0.002</td> <td>   88.623</td> <td> 0.000</td> <td>    0.156</td> <td>    0.163</td>\n",
       "</tr>\n",
       "</table>\n",
       "<table class=\"simpletable\">\n",
       "<tr>\n",
       "  <th>Omnibus:</th>       <td>6968.947</td> <th>  Durbin-Watson:     </th> <td>   1.814</td> \n",
       "</tr>\n",
       "<tr>\n",
       "  <th>Prob(Omnibus):</th>  <td> 0.000</td>  <th>  Jarque-Bera (JB):  </th> <td>29732.713</td>\n",
       "</tr>\n",
       "<tr>\n",
       "  <th>Skew:</th>           <td>-1.505</td>  <th>  Prob(JB):          </th> <td>    0.00</td> \n",
       "</tr>\n",
       "<tr>\n",
       "  <th>Kurtosis:</th>       <td> 7.826</td>  <th>  Cond. No.          </th> <td>    51.1</td> \n",
       "</tr>\n",
       "</table><br/><br/>Notes:<br/>[1] Standard Errors are heteroscedasticity robust (HC0)"
      ],
      "text/latex": [
       "\\begin{center}\n",
       "\\begin{tabular}{lclc}\n",
       "\\toprule\n",
       "\\textbf{Dep. Variable:}    &    ln\\_income    & \\textbf{  R-squared:         } &     0.294   \\\\\n",
       "\\textbf{Model:}            &       OLS        & \\textbf{  Adj. R-squared:    } &     0.294   \\\\\n",
       "\\textbf{Method:}           &  Least Squares   & \\textbf{  F-statistic:       } &     7854.   \\\\\n",
       "\\textbf{Date:}             & Fri, 15 Mar 2024 & \\textbf{  Prob (F-statistic):} &     0.00    \\\\\n",
       "\\textbf{Time:}             &     13:44:27     & \\textbf{  Log-Likelihood:    } &   -28789.   \\\\\n",
       "\\textbf{No. Observations:} &       22057      & \\textbf{  AIC:               } & 5.758e+04   \\\\\n",
       "\\textbf{Df Residuals:}     &       22055      & \\textbf{  BIC:               } & 5.760e+04   \\\\\n",
       "\\textbf{Df Model:}         &           1      & \\textbf{                     } &             \\\\\n",
       "\\textbf{Covariance Type:}  &       HC0        & \\textbf{                     } &             \\\\\n",
       "\\bottomrule\n",
       "\\end{tabular}\n",
       "\\begin{tabular}{lcccccc}\n",
       "                   & \\textbf{coef} & \\textbf{std err} & \\textbf{z} & \\textbf{P$> |$z$|$} & \\textbf{[0.025} & \\textbf{0.975]}  \\\\\n",
       "\\midrule\n",
       "\\textbf{Intercept} &      12.5089  &        0.025     &   495.433  &         0.000        &       12.459    &       12.558     \\\\\n",
       "\\textbf{edu\\_year} &       0.1591  &        0.002     &    88.623  &         0.000        &        0.156    &        0.163     \\\\\n",
       "\\bottomrule\n",
       "\\end{tabular}\n",
       "\\begin{tabular}{lclc}\n",
       "\\textbf{Omnibus:}       & 6968.947 & \\textbf{  Durbin-Watson:     } &     1.814  \\\\\n",
       "\\textbf{Prob(Omnibus):} &   0.000  & \\textbf{  Jarque-Bera (JB):  } & 29732.713  \\\\\n",
       "\\textbf{Skew:}          &  -1.505  & \\textbf{  Prob(JB):          } &      0.00  \\\\\n",
       "\\textbf{Kurtosis:}      &   7.826  & \\textbf{  Cond. No.          } &      51.1  \\\\\n",
       "\\bottomrule\n",
       "\\end{tabular}\n",
       "%\\caption{OLS Regression Results}\n",
       "\\end{center}\n",
       "\n",
       "Notes: \\newline\n",
       " [1] Standard Errors are heteroscedasticity robust (HC0)"
      ],
      "text/plain": [
       "<class 'statsmodels.iolib.summary.Summary'>\n",
       "\"\"\"\n",
       "                            OLS Regression Results                            \n",
       "==============================================================================\n",
       "Dep. Variable:              ln_income   R-squared:                       0.294\n",
       "Model:                            OLS   Adj. R-squared:                  0.294\n",
       "Method:                 Least Squares   F-statistic:                     7854.\n",
       "Date:                Fri, 15 Mar 2024   Prob (F-statistic):               0.00\n",
       "Time:                        13:44:27   Log-Likelihood:                -28789.\n",
       "No. Observations:               22057   AIC:                         5.758e+04\n",
       "Df Residuals:                   22055   BIC:                         5.760e+04\n",
       "Df Model:                           1                                         \n",
       "Covariance Type:                  HC0                                         \n",
       "==============================================================================\n",
       "                 coef    std err          z      P>|z|      [0.025      0.975]\n",
       "------------------------------------------------------------------------------\n",
       "Intercept     12.5089      0.025    495.433      0.000      12.459      12.558\n",
       "edu_year       0.1591      0.002     88.623      0.000       0.156       0.163\n",
       "==============================================================================\n",
       "Omnibus:                     6968.947   Durbin-Watson:                   1.814\n",
       "Prob(Omnibus):                  0.000   Jarque-Bera (JB):            29732.713\n",
       "Skew:                          -1.505   Prob(JB):                         0.00\n",
       "Kurtosis:                       7.826   Cond. No.                         51.1\n",
       "==============================================================================\n",
       "\n",
       "Notes:\n",
       "[1] Standard Errors are heteroscedasticity robust (HC0)\n",
       "\"\"\""
      ]
     },
     "execution_count": 6,
     "metadata": {},
     "output_type": "execute_result"
    }
   ],
   "source": [
    "# Fit the OLS model\n",
    "model = sm.OLS(y, X)\n",
    "result = model.fit(cov_type='HC0')\n",
    "result.summary()"
   ]
  },
  {
   "cell_type": "markdown",
   "metadata": {},
   "source": [
    "[statsmodels.regression.linear_model.OLSResults](https://www.statsmodels.org/stable/generated/statsmodels.regression.linear_model.OLSResults.html)"
   ]
  },
  {
   "cell_type": "code",
   "execution_count": 7,
   "metadata": {},
   "outputs": [
    {
     "data": {
      "text/plain": [
       "22057.0"
      ]
     },
     "execution_count": 7,
     "metadata": {},
     "output_type": "execute_result"
    }
   ],
   "source": [
    "# 관축치\n",
    "result.nobs"
   ]
  },
  {
   "cell_type": "markdown",
   "metadata": {},
   "source": [
    " * Wald test [res.wald_test()](https://www.statsmodels.org/stable/generated/statsmodels.regression.linear_model.OLSResults.wald_test.html)  \n",
    " follows k DoF Chi-squared distribution. [critical value table](https://www.itl.nist.gov/div898/handbook/eda/section3/eda3674.htm)"
   ]
  },
  {
   "cell_type": "code",
   "execution_count": 8,
   "metadata": {},
   "outputs": [
    {
     "data": {
      "text/plain": [
       "<class 'statsmodels.stats.contrast.ContrastResults'>\n",
       "<Wald test (chi2): statistic=6174199.144142043, p-value=0.0, df_denom=2>"
      ]
     },
     "execution_count": 8,
     "metadata": {},
     "output_type": "execute_result"
    }
   ],
   "source": [
    "result.wald_test(result.params.index.to_list(), use_f=False, scalar=True)"
   ]
  },
  {
   "cell_type": "code",
   "execution_count": 9,
   "metadata": {},
   "outputs": [
    {
     "data": {
      "text/plain": [
       "9.21034037197618"
      ]
     },
     "execution_count": 9,
     "metadata": {},
     "output_type": "execute_result"
    }
   ],
   "source": [
    "from scipy.stats import chi2\n",
    "chi2.ppf(.99,df=2)"
   ]
  },
  {
   "cell_type": "code",
   "execution_count": 10,
   "metadata": {},
   "outputs": [
    {
     "data": {
      "text/plain": [
       "Intercept   12.509\n",
       "edu_year     0.159\n",
       "dtype: float64"
      ]
     },
     "execution_count": 10,
     "metadata": {},
     "output_type": "execute_result"
    }
   ],
   "source": [
    "# 추정치\n",
    "result.params"
   ]
  },
  {
   "cell_type": "code",
   "execution_count": 11,
   "metadata": {},
   "outputs": [
    {
     "data": {
      "text/plain": [
       "Intercept   0.025\n",
       "edu_year    0.002\n",
       "dtype: float64"
      ]
     },
     "execution_count": 11,
     "metadata": {},
     "output_type": "execute_result"
    }
   ],
   "source": [
    "# Standard Error\n",
    "result.bse"
   ]
  },
  {
   "cell_type": "code",
   "execution_count": 12,
   "metadata": {},
   "outputs": [
    {
     "data": {
      "text/plain": [
       "Intercept   495.433\n",
       "edu_year     88.623\n",
       "dtype: float64"
      ]
     },
     "execution_count": 12,
     "metadata": {},
     "output_type": "execute_result"
    }
   ],
   "source": [
    "# t-statistic\n",
    "result.tvalues"
   ]
  },
  {
   "cell_type": "code",
   "execution_count": 13,
   "metadata": {},
   "outputs": [
    {
     "data": {
      "text/plain": [
       "Intercept   0.000\n",
       "edu_year    0.000\n",
       "dtype: float64"
      ]
     },
     "execution_count": 13,
     "metadata": {},
     "output_type": "execute_result"
    }
   ],
   "source": [
    "# p-value\n",
    "result.pvalues"
   ]
  },
  {
   "cell_type": "code",
   "execution_count": 14,
   "metadata": {},
   "outputs": [
    {
     "data": {
      "text/html": [
       "<div>\n",
       "<style scoped>\n",
       "    .dataframe tbody tr th:only-of-type {\n",
       "        vertical-align: middle;\n",
       "    }\n",
       "\n",
       "    .dataframe tbody tr th {\n",
       "        vertical-align: top;\n",
       "    }\n",
       "\n",
       "    .dataframe thead th {\n",
       "        text-align: right;\n",
       "    }\n",
       "</style>\n",
       "<table border=\"1\" class=\"dataframe\">\n",
       "  <thead>\n",
       "    <tr style=\"text-align: right;\">\n",
       "      <th></th>\n",
       "      <th>0</th>\n",
       "      <th>1</th>\n",
       "    </tr>\n",
       "  </thead>\n",
       "  <tbody>\n",
       "    <tr>\n",
       "      <th>Intercept</th>\n",
       "      <td>12.459</td>\n",
       "      <td>12.558</td>\n",
       "    </tr>\n",
       "    <tr>\n",
       "      <th>edu_year</th>\n",
       "      <td>0.156</td>\n",
       "      <td>0.163</td>\n",
       "    </tr>\n",
       "  </tbody>\n",
       "</table>\n",
       "</div>"
      ],
      "text/plain": [
       "               0      1\n",
       "Intercept 12.459 12.558\n",
       "edu_year   0.156  0.163"
      ]
     },
     "execution_count": 14,
     "metadata": {},
     "output_type": "execute_result"
    }
   ],
   "source": [
    "# confidence inverval\n",
    "result.conf_int()"
   ]
  },
  {
   "cell_type": "code",
   "execution_count": 15,
   "metadata": {},
   "outputs": [
    {
     "data": {
      "text/plain": [
       "0.2941239971943721"
      ]
     },
     "execution_count": 15,
     "metadata": {},
     "output_type": "execute_result"
    }
   ],
   "source": [
    "# adjusted R-squared\n",
    "result.rsquared_adj"
   ]
  },
  {
   "cell_type": "code",
   "execution_count": 16,
   "metadata": {},
   "outputs": [
    {
     "data": {
      "text/plain": [
       "0.892534652476287"
      ]
     },
     "execution_count": 16,
     "metadata": {},
     "output_type": "execute_result"
    }
   ],
   "source": [
    "# RMSE; root mean squred error\n",
    "result.mse_resid**.5"
   ]
  },
  {
   "cell_type": "code",
   "execution_count": 17,
   "metadata": {},
   "outputs": [
    {
     "data": {
      "text/plain": [
       "12.508918006111662"
      ]
     },
     "execution_count": 17,
     "metadata": {},
     "output_type": "execute_result"
    }
   ],
   "source": [
    "# \n",
    "est_beta_intercept = result.params['Intercept']\n",
    "est_beta_intercept"
   ]
  },
  {
   "cell_type": "code",
   "execution_count": 18,
   "metadata": {},
   "outputs": [
    {
     "data": {
      "text/plain": [
       "0.1590793652629975"
      ]
     },
     "execution_count": 18,
     "metadata": {},
     "output_type": "execute_result"
    }
   ],
   "source": [
    "est_beta_school = result.params['edu_year']\n",
    "est_beta_school"
   ]
  },
  {
   "cell_type": "code",
   "execution_count": 19,
   "metadata": {},
   "outputs": [
    {
     "data": {
      "text/plain": [
       "3451045.7199773034"
      ]
     },
     "execution_count": 19,
     "metadata": {},
     "output_type": "execute_result"
    }
   ],
   "source": [
    "# 대학졸업자 월평균 임금\n",
    "np.exp(est_beta_intercept + est_beta_school * 16)"
   ]
  },
  {
   "cell_type": "code",
   "execution_count": 20,
   "metadata": {},
   "outputs": [
    {
     "data": {
      "text/plain": [
       "1826423.7708783718"
      ]
     },
     "execution_count": 20,
     "metadata": {},
     "output_type": "execute_result"
    }
   ],
   "source": [
    "# 고등학교졸업자 월평균 임금\n",
    "np.exp(est_beta_intercept + est_beta_school * 12)"
   ]
  },
  {
   "cell_type": "markdown",
   "metadata": {},
   "source": [
    "행렬연산으로 추정치 구해보기 $ \\hat{\\beta} = (X'X)^{-1}X'Y $"
   ]
  },
  {
   "cell_type": "code",
   "execution_count": 21,
   "metadata": {},
   "outputs": [
    {
     "name": "stdout",
     "output_type": "stream",
     "text": [
      "beta : [[12.50891801]\n",
      " [ 0.15907937]] \n",
      "beta 0: [[12.50891801]] \n",
      "beta 1: [[0.15907937]]\n"
     ]
    }
   ],
   "source": [
    "mat_x = np.matrix(X)\n",
    "mat_y = np.matrix(y)\n",
    "\n",
    "xTx = mat_x.T * mat_x\n",
    "xTx_inv = np.linalg.inv(xTx)\n",
    "xTy = mat_x.T * mat_y\n",
    "\n",
    "beta_hat = xTx_inv * xTy\n",
    "print('beta :',beta_hat, '\\nbeta 0:',beta_hat[0], '\\nbeta 1:',beta_hat[1])"
   ]
  },
  {
   "cell_type": "markdown",
   "metadata": {},
   "source": [
    "### OLS 결과 분석"
   ]
  },
  {
   "cell_type": "markdown",
   "metadata": {},
   "source": [
    "#### 추정치를 그래프로 표현해보기\n",
    "교육연도에 따른 임금변화율을 그래프로 표현"
   ]
  },
  {
   "cell_type": "code",
   "execution_count": 77,
   "metadata": {},
   "outputs": [],
   "source": [
    "# fig, ax = plt.subplots()\n",
    "# ax.scatter(x=result.predict(), y=df_hps['ln_income'], alpha=0.1, s=5, marker='D', c='b')\n",
    "\n",
    "# # plt.legend(['CEF', 'Fitted', 'Actual'])\n",
    "# plt.show"
   ]
  },
  {
   "cell_type": "code",
   "execution_count": 22,
   "metadata": {},
   "outputs": [
    {
     "data": {
      "text/plain": [
       "edu_year\n",
       "0    12.704\n",
       "6    13.221\n",
       "9    13.857\n",
       "12   14.509\n",
       "14   14.756\n",
       "16   15.054\n",
       "18   15.156\n",
       "21   15.573\n",
       "Name: ln_income, dtype: float64"
      ]
     },
     "execution_count": 22,
     "metadata": {},
     "output_type": "execute_result"
    }
   ],
   "source": [
    "# 관측치를 이용하여 교육연도별 임금평균\n",
    "school_means = df_hps.groupby('edu_year')['ln_income'].mean()\n",
    "school_means"
   ]
  },
  {
   "cell_type": "code",
   "execution_count": 23,
   "metadata": {},
   "outputs": [
    {
     "data": {
      "text/plain": [
       "array([12.50891801, 12.66799737, 12.82707674, 12.9861561 , 13.14523547,\n",
       "       13.30431483, 13.4633942 , 13.62247356, 13.78155293, 13.94063229,\n",
       "       14.09971166, 14.25879102, 14.41787039, 14.57694975, 14.73602912,\n",
       "       14.89510849, 15.05418785, 15.21326722, 15.37234658, 15.53142595,\n",
       "       15.69050531, 15.84958468])"
      ]
     },
     "execution_count": 23,
     "metadata": {},
     "output_type": "execute_result"
    }
   ],
   "source": [
    "result.predict(sm.add_constant(range(0,22)))\n"
   ]
  },
  {
   "cell_type": "code",
   "execution_count": 108,
   "metadata": {},
   "outputs": [
    {
     "data": {
      "text/plain": [
       "<function matplotlib.pyplot.show(close=None, block=None)>"
      ]
     },
     "execution_count": 108,
     "metadata": {},
     "output_type": "execute_result"
    },
    {
     "data": {
      "image/png": "[encoded data removed]",
      "text/plain": [
       "<Figure size 800x800 with 1 Axes>"
      ]
     },
     "metadata": {},
     "output_type": "display_data"
    }
   ],
   "source": [
    "fig, ax = plt.subplots(figsize=(8,8))\n",
    "ax.plot(school_means, linestyle='-', marker='o', c='b')\n",
    "ax.plot(result.predict(sm.add_constant(range(0,22))) ,linestyle='-', linewidth=2, c='r')\n",
    "ax.scatter(df_hps['edu_year'], df_hps['ln_income'], alpha=0.1, s=5, marker='D', c='b')\n",
    "\n",
    "plt.legend(['CEF', 'Fitted', 'Actual'])\n",
    "plt.show"
   ]
  },
  {
   "cell_type": "markdown",
   "metadata": {},
   "source": [
    "### Alternative specification\n",
    "- 임금과 연관된 다른 변수 추가해보기 - 경력을 근사 할 수 있는 나이"
   ]
  },
  {
   "cell_type": "code",
   "execution_count": 61,
   "metadata": {},
   "outputs": [
    {
     "name": "stdout",
     "output_type": "stream",
     "text": [
      "                            OLS Regression Results                            \n",
      "==============================================================================\n",
      "Dep. Variable:              ln_income   R-squared:                       0.324\n",
      "Model:                            OLS   Adj. R-squared:                  0.324\n",
      "Method:                 Least Squares   F-statistic:                     4727.\n",
      "Date:                Fri, 15 Mar 2024   Prob (F-statistic):               0.00\n",
      "Time:                        13:51:00   Log-Likelihood:                -28316.\n",
      "No. Observations:               22057   AIC:                         5.664e+04\n",
      "Df Residuals:                   22054   BIC:                         5.666e+04\n",
      "Df Model:                           2                                         \n",
      "Covariance Type:                  HC0                                         \n",
      "==============================================================================\n",
      "                 coef    std err          z      P>|z|      [0.025      0.975]\n",
      "------------------------------------------------------------------------------\n",
      "Intercept     13.8046      0.054    255.500      0.000      13.699      13.911\n",
      "edu_year       0.1220      0.002     54.655      0.000       0.118       0.126\n",
      "age           -0.0159      0.001    -26.567      0.000      -0.017      -0.015\n",
      "==============================================================================\n",
      "Omnibus:                     6860.389   Durbin-Watson:                   1.785\n",
      "Prob(Omnibus):                  0.000   Jarque-Bera (JB):            30740.748\n",
      "Skew:                          -1.462   Prob(JB):                         0.00\n",
      "Kurtosis:                       7.990   Cond. No.                         435.\n",
      "==============================================================================\n",
      "\n",
      "Notes:\n",
      "[1] Standard Errors are heteroscedasticity robust (HC0)\n"
     ]
    }
   ],
   "source": [
    "def ols_alt_spec(spec, data):\n",
    "    import statsmodels.api as sm\n",
    "    import patsy\n",
    "    y,X = patsy.dmatrices(spec, data=data, return_type='dataframe')\n",
    "    model  = sm.OLS(y,X)\n",
    "    result = model.fit(cov_type='HC0')\n",
    "    print(result.summary())\n",
    "    return result\n",
    "\n",
    "result_alt_age = ols_alt_spec(spec='ln_income ~ edu_year + age', data= df_hps)"
   ]
  },
  {
   "cell_type": "code",
   "execution_count": 62,
   "metadata": {},
   "outputs": [
    {
     "name": "stdout",
     "output_type": "stream",
     "text": [
      "                            OLS Regression Results                            \n",
      "==============================================================================\n",
      "Dep. Variable:              ln_income   R-squared:                       0.412\n",
      "Model:                            OLS   Adj. R-squared:                  0.412\n",
      "Method:                 Least Squares   F-statistic:                     4475.\n",
      "Date:                Fri, 15 Mar 2024   Prob (F-statistic):               0.00\n",
      "Time:                        13:51:19   Log-Likelihood:                -26771.\n",
      "No. Observations:               22057   AIC:                         5.355e+04\n",
      "Df Residuals:                   22053   BIC:                         5.358e+04\n",
      "Df Model:                           3                                         \n",
      "Covariance Type:                  HC0                                         \n",
      "====================================================================================\n",
      "                       coef    std err          z      P>|z|      [0.025      0.975]\n",
      "------------------------------------------------------------------------------------\n",
      "Intercept           11.1272      0.066    169.510      0.000      10.999      11.256\n",
      "edu_year             0.0793      0.002     33.871      0.000       0.075       0.084\n",
      "age                  0.1268      0.003     46.572      0.000       0.121       0.132\n",
      "np.power(age, 2)    -0.0014   2.78e-05    -51.915      0.000      -0.001      -0.001\n",
      "==============================================================================\n",
      "Omnibus:                     8270.220   Durbin-Watson:                   1.772\n",
      "Prob(Omnibus):                  0.000   Jarque-Bera (JB):            51349.376\n",
      "Skew:                          -1.677   Prob(JB):                         0.00\n",
      "Kurtosis:                       9.680   Cond. No.                     3.70e+04\n",
      "==============================================================================\n",
      "\n",
      "Notes:\n",
      "[1] Standard Errors are heteroscedasticity robust (HC0)\n",
      "[2] The condition number is large, 3.7e+04. This might indicate that there are\n",
      "strong multicollinearity or other numerical problems.\n"
     ]
    }
   ],
   "source": [
    "result_alt_age_sq = ols_alt_spec(spec='ln_income ~ edu_year + age + np.power(age,2)', data= df_hps)"
   ]
  },
  {
   "cell_type": "code",
   "execution_count": 71,
   "metadata": {},
   "outputs": [
    {
     "name": "stdout",
     "output_type": "stream",
     "text": [
      "model: original; RMSE= 0.892534652476287\n",
      "model: alt(age); RMSE= 0.873618866662106\n",
      "model: alt(age, age^2); RMSE= 0.8145501283741318\n"
     ]
    }
   ],
   "source": [
    "print('model: original; RMSE=' , result.mse_resid ** .5)\n",
    "print('model: alt(age); RMSE=' , result_alt_age.mse_resid ** .5)\n",
    "print('model: alt(age, age^2); RMSE=' , result_alt_age_sq.mse_resid ** .5)\n"
   ]
  },
  {
   "cell_type": "code",
   "execution_count": 98,
   "metadata": {},
   "outputs": [
    {
     "data": {
      "text/html": [
       "<div>\n",
       "<style scoped>\n",
       "    .dataframe tbody tr th:only-of-type {\n",
       "        vertical-align: middle;\n",
       "    }\n",
       "\n",
       "    .dataframe tbody tr th {\n",
       "        vertical-align: top;\n",
       "    }\n",
       "\n",
       "    .dataframe thead th {\n",
       "        text-align: right;\n",
       "    }\n",
       "</style>\n",
       "<table border=\"1\" class=\"dataframe\">\n",
       "  <thead>\n",
       "    <tr style=\"text-align: right;\">\n",
       "      <th></th>\n",
       "      <th>Intercept</th>\n",
       "      <th>edu_year</th>\n",
       "      <th>age</th>\n",
       "      <th>np.power(age, 2)</th>\n",
       "    </tr>\n",
       "  </thead>\n",
       "  <tbody>\n",
       "    <tr>\n",
       "      <th>0</th>\n",
       "      <td>1</td>\n",
       "      <td>0</td>\n",
       "      <td>50.880</td>\n",
       "      <td>2,588.811</td>\n",
       "    </tr>\n",
       "    <tr>\n",
       "      <th>1</th>\n",
       "      <td>1</td>\n",
       "      <td>1</td>\n",
       "      <td>50.880</td>\n",
       "      <td>2,588.811</td>\n",
       "    </tr>\n",
       "    <tr>\n",
       "      <th>2</th>\n",
       "      <td>1</td>\n",
       "      <td>2</td>\n",
       "      <td>50.880</td>\n",
       "      <td>2,588.811</td>\n",
       "    </tr>\n",
       "    <tr>\n",
       "      <th>3</th>\n",
       "      <td>1</td>\n",
       "      <td>3</td>\n",
       "      <td>50.880</td>\n",
       "      <td>2,588.811</td>\n",
       "    </tr>\n",
       "    <tr>\n",
       "      <th>4</th>\n",
       "      <td>1</td>\n",
       "      <td>4</td>\n",
       "      <td>50.880</td>\n",
       "      <td>2,588.811</td>\n",
       "    </tr>\n",
       "    <tr>\n",
       "      <th>5</th>\n",
       "      <td>1</td>\n",
       "      <td>5</td>\n",
       "      <td>50.880</td>\n",
       "      <td>2,588.811</td>\n",
       "    </tr>\n",
       "    <tr>\n",
       "      <th>6</th>\n",
       "      <td>1</td>\n",
       "      <td>6</td>\n",
       "      <td>50.880</td>\n",
       "      <td>2,588.811</td>\n",
       "    </tr>\n",
       "    <tr>\n",
       "      <th>7</th>\n",
       "      <td>1</td>\n",
       "      <td>7</td>\n",
       "      <td>50.880</td>\n",
       "      <td>2,588.811</td>\n",
       "    </tr>\n",
       "    <tr>\n",
       "      <th>8</th>\n",
       "      <td>1</td>\n",
       "      <td>8</td>\n",
       "      <td>50.880</td>\n",
       "      <td>2,588.811</td>\n",
       "    </tr>\n",
       "    <tr>\n",
       "      <th>9</th>\n",
       "      <td>1</td>\n",
       "      <td>9</td>\n",
       "      <td>50.880</td>\n",
       "      <td>2,588.811</td>\n",
       "    </tr>\n",
       "    <tr>\n",
       "      <th>10</th>\n",
       "      <td>1</td>\n",
       "      <td>10</td>\n",
       "      <td>50.880</td>\n",
       "      <td>2,588.811</td>\n",
       "    </tr>\n",
       "    <tr>\n",
       "      <th>11</th>\n",
       "      <td>1</td>\n",
       "      <td>11</td>\n",
       "      <td>50.880</td>\n",
       "      <td>2,588.811</td>\n",
       "    </tr>\n",
       "    <tr>\n",
       "      <th>12</th>\n",
       "      <td>1</td>\n",
       "      <td>12</td>\n",
       "      <td>50.880</td>\n",
       "      <td>2,588.811</td>\n",
       "    </tr>\n",
       "    <tr>\n",
       "      <th>13</th>\n",
       "      <td>1</td>\n",
       "      <td>13</td>\n",
       "      <td>50.880</td>\n",
       "      <td>2,588.811</td>\n",
       "    </tr>\n",
       "    <tr>\n",
       "      <th>14</th>\n",
       "      <td>1</td>\n",
       "      <td>14</td>\n",
       "      <td>50.880</td>\n",
       "      <td>2,588.811</td>\n",
       "    </tr>\n",
       "    <tr>\n",
       "      <th>15</th>\n",
       "      <td>1</td>\n",
       "      <td>15</td>\n",
       "      <td>50.880</td>\n",
       "      <td>2,588.811</td>\n",
       "    </tr>\n",
       "    <tr>\n",
       "      <th>16</th>\n",
       "      <td>1</td>\n",
       "      <td>16</td>\n",
       "      <td>50.880</td>\n",
       "      <td>2,588.811</td>\n",
       "    </tr>\n",
       "    <tr>\n",
       "      <th>17</th>\n",
       "      <td>1</td>\n",
       "      <td>17</td>\n",
       "      <td>50.880</td>\n",
       "      <td>2,588.811</td>\n",
       "    </tr>\n",
       "    <tr>\n",
       "      <th>18</th>\n",
       "      <td>1</td>\n",
       "      <td>18</td>\n",
       "      <td>50.880</td>\n",
       "      <td>2,588.811</td>\n",
       "    </tr>\n",
       "    <tr>\n",
       "      <th>19</th>\n",
       "      <td>1</td>\n",
       "      <td>19</td>\n",
       "      <td>50.880</td>\n",
       "      <td>2,588.811</td>\n",
       "    </tr>\n",
       "    <tr>\n",
       "      <th>20</th>\n",
       "      <td>1</td>\n",
       "      <td>20</td>\n",
       "      <td>50.880</td>\n",
       "      <td>2,588.811</td>\n",
       "    </tr>\n",
       "    <tr>\n",
       "      <th>21</th>\n",
       "      <td>1</td>\n",
       "      <td>21</td>\n",
       "      <td>50.880</td>\n",
       "      <td>2,588.811</td>\n",
       "    </tr>\n",
       "  </tbody>\n",
       "</table>\n",
       "</div>"
      ],
      "text/plain": [
       "    Intercept  edu_year    age  np.power(age, 2)\n",
       "0           1         0 50.880         2,588.811\n",
       "1           1         1 50.880         2,588.811\n",
       "2           1         2 50.880         2,588.811\n",
       "3           1         3 50.880         2,588.811\n",
       "4           1         4 50.880         2,588.811\n",
       "5           1         5 50.880         2,588.811\n",
       "6           1         6 50.880         2,588.811\n",
       "7           1         7 50.880         2,588.811\n",
       "8           1         8 50.880         2,588.811\n",
       "9           1         9 50.880         2,588.811\n",
       "10          1        10 50.880         2,588.811\n",
       "11          1        11 50.880         2,588.811\n",
       "12          1        12 50.880         2,588.811\n",
       "13          1        13 50.880         2,588.811\n",
       "14          1        14 50.880         2,588.811\n",
       "15          1        15 50.880         2,588.811\n",
       "16          1        16 50.880         2,588.811\n",
       "17          1        17 50.880         2,588.811\n",
       "18          1        18 50.880         2,588.811\n",
       "19          1        19 50.880         2,588.811\n",
       "20          1        20 50.880         2,588.811\n",
       "21          1        21 50.880         2,588.811"
      ]
     },
     "execution_count": 98,
     "metadata": {},
     "output_type": "execute_result"
    }
   ],
   "source": [
    "# 교육연도별 임금평균 - alternative specification\n",
    "CEF_income_edu = df_hps.groupby('edu_year')['ln_income'].mean()\n",
    "\n",
    "\n",
    "df_to_predict_age = pd.DataFrame(columns=result_alt_age_sq.params.index)\n",
    "# result_alt_age.predict()\n",
    "df_to_predict_age['edu_year'] = range(0,22)\n",
    "df_to_predict_age['Intercept'] = 1\n",
    "df_to_predict_age['age'] = df_hps['age'].mean()\n",
    "df_to_predict_age['np.power(age, 2)'] = df_hps['age'].mean() ** 2\n",
    "df_to_predict_age\n",
    "# \n",
    "# result_alt_age.predict(df_to_predict_age[result_alt_age.params.index])\n",
    "df_to_predict_age\n"
   ]
  },
  {
   "cell_type": "code",
   "execution_count": 105,
   "metadata": {},
   "outputs": [
    {
     "data": {
      "text/plain": [
       "<function matplotlib.pyplot.show(close=None, block=None)>"
      ]
     },
     "execution_count": 105,
     "metadata": {},
     "output_type": "execute_result"
    },
    {
     "data": {
      "image/png": "[encoded data removed]",
      "text/plain": [
       "<Figure size 800x800 with 1 Axes>"
      ]
     },
     "metadata": {},
     "output_type": "display_data"
    }
   ],
   "source": [
    "fig, ax = plt.subplots(figsize=(8,8))\n",
    "ax.plot(school_means, linestyle='-', marker='o', c='b')\n",
    "ax.plot(result.predict(sm.add_constant(range(0,22))) ,linestyle='-', linewidth=3, c='r')\n",
    "ax.scatter(df_hps['edu_year'], df_hps['ln_income'], alpha=0.1, s=5, marker='D', c='b')\n",
    "# alt 1\n",
    "ax.plot(result_alt_age.predict(df_to_predict_age[result_alt_age.params.index]) ,linestyle='-', linewidth=3, c='g')\n",
    "# alt 2\n",
    "ax.plot(result_alt_age_sq.predict(df_to_predict_age[result_alt_age_sq.params.index]) ,linestyle='-', linewidth=3, c='m')\n",
    "\n",
    "\n",
    "\n",
    "plt.legend(['CEF', 'Fitted', 'Actual', '+age', '+age+$age^2$'])\n",
    "plt.show"
   ]
  },
  {
   "cell_type": "code",
   "execution_count": 109,
   "metadata": {},
   "outputs": [
    {
     "data": {
      "text/html": [
       "<div>\n",
       "<style scoped>\n",
       "    .dataframe tbody tr th:only-of-type {\n",
       "        vertical-align: middle;\n",
       "    }\n",
       "\n",
       "    .dataframe tbody tr th {\n",
       "        vertical-align: top;\n",
       "    }\n",
       "\n",
       "    .dataframe thead th {\n",
       "        text-align: right;\n",
       "    }\n",
       "</style>\n",
       "<table border=\"1\" class=\"dataframe\">\n",
       "  <thead>\n",
       "    <tr style=\"text-align: right;\">\n",
       "      <th></th>\n",
       "      <th>Unnamed: 0</th>\n",
       "      <th>date</th>\n",
       "      <th>id</th>\n",
       "      <th>household</th>\n",
       "      <th>female</th>\n",
       "      <th>age</th>\n",
       "      <th>income</th>\n",
       "      <th>edu_year</th>\n",
       "      <th>ln_income</th>\n",
       "    </tr>\n",
       "  </thead>\n",
       "  <tbody>\n",
       "    <tr>\n",
       "      <th>0</th>\n",
       "      <td>0</td>\n",
       "      <td>2023-03-01</td>\n",
       "      <td>1</td>\n",
       "      <td>True</td>\n",
       "      <td>False</td>\n",
       "      <td>43.000</td>\n",
       "      <td>5,170,000.000</td>\n",
       "      <td>12</td>\n",
       "      <td>15.458</td>\n",
       "    </tr>\n",
       "    <tr>\n",
       "      <th>1</th>\n",
       "      <td>1</td>\n",
       "      <td>2023-03-01</td>\n",
       "      <td>2</td>\n",
       "      <td>True</td>\n",
       "      <td>False</td>\n",
       "      <td>66.000</td>\n",
       "      <td>2,176,800.000</td>\n",
       "      <td>9</td>\n",
       "      <td>14.593</td>\n",
       "    </tr>\n",
       "    <tr>\n",
       "      <th>2</th>\n",
       "      <td>2</td>\n",
       "      <td>2023-03-01</td>\n",
       "      <td>4</td>\n",
       "      <td>True</td>\n",
       "      <td>True</td>\n",
       "      <td>50.000</td>\n",
       "      <td>2,078,090.000</td>\n",
       "      <td>12</td>\n",
       "      <td>14.547</td>\n",
       "    </tr>\n",
       "    <tr>\n",
       "      <th>3</th>\n",
       "      <td>3</td>\n",
       "      <td>2023-03-01</td>\n",
       "      <td>5</td>\n",
       "      <td>True</td>\n",
       "      <td>False</td>\n",
       "      <td>30.000</td>\n",
       "      <td>700,514.000</td>\n",
       "      <td>14</td>\n",
       "      <td>13.460</td>\n",
       "    </tr>\n",
       "    <tr>\n",
       "      <th>4</th>\n",
       "      <td>4</td>\n",
       "      <td>2023-03-01</td>\n",
       "      <td>6</td>\n",
       "      <td>True</td>\n",
       "      <td>True</td>\n",
       "      <td>65.000</td>\n",
       "      <td>895,976.000</td>\n",
       "      <td>12</td>\n",
       "      <td>13.706</td>\n",
       "    </tr>\n",
       "    <tr>\n",
       "      <th>...</th>\n",
       "      <td>...</td>\n",
       "      <td>...</td>\n",
       "      <td>...</td>\n",
       "      <td>...</td>\n",
       "      <td>...</td>\n",
       "      <td>...</td>\n",
       "      <td>...</td>\n",
       "      <td>...</td>\n",
       "      <td>...</td>\n",
       "    </tr>\n",
       "    <tr>\n",
       "      <th>22052</th>\n",
       "      <td>22052</td>\n",
       "      <td>2023-12-01</td>\n",
       "      <td>7109</td>\n",
       "      <td>False</td>\n",
       "      <td>True</td>\n",
       "      <td>39.000</td>\n",
       "      <td>2,500,000.000</td>\n",
       "      <td>16</td>\n",
       "      <td>14.732</td>\n",
       "    </tr>\n",
       "    <tr>\n",
       "      <th>22053</th>\n",
       "      <td>22053</td>\n",
       "      <td>2023-12-01</td>\n",
       "      <td>7114</td>\n",
       "      <td>False</td>\n",
       "      <td>True</td>\n",
       "      <td>51.000</td>\n",
       "      <td>2,292,890.000</td>\n",
       "      <td>12</td>\n",
       "      <td>14.645</td>\n",
       "    </tr>\n",
       "    <tr>\n",
       "      <th>22054</th>\n",
       "      <td>22054</td>\n",
       "      <td>2023-12-01</td>\n",
       "      <td>7118</td>\n",
       "      <td>False</td>\n",
       "      <td>True</td>\n",
       "      <td>39.000</td>\n",
       "      <td>135,000.000</td>\n",
       "      <td>16</td>\n",
       "      <td>11.813</td>\n",
       "    </tr>\n",
       "    <tr>\n",
       "      <th>22055</th>\n",
       "      <td>22055</td>\n",
       "      <td>2023-12-01</td>\n",
       "      <td>7124</td>\n",
       "      <td>False</td>\n",
       "      <td>True</td>\n",
       "      <td>77.000</td>\n",
       "      <td>270,000.000</td>\n",
       "      <td>6</td>\n",
       "      <td>12.506</td>\n",
       "    </tr>\n",
       "    <tr>\n",
       "      <th>22056</th>\n",
       "      <td>22056</td>\n",
       "      <td>2023-12-01</td>\n",
       "      <td>7129</td>\n",
       "      <td>False</td>\n",
       "      <td>True</td>\n",
       "      <td>43.000</td>\n",
       "      <td>1,906,275.000</td>\n",
       "      <td>14</td>\n",
       "      <td>14.461</td>\n",
       "    </tr>\n",
       "  </tbody>\n",
       "</table>\n",
       "<p>22057 rows × 9 columns</p>\n",
       "</div>"
      ],
      "text/plain": [
       "       Unnamed: 0        date    id  household  female    age        income  \\\n",
       "0               0  2023-03-01     1       True   False 43.000 5,170,000.000   \n",
       "1               1  2023-03-01     2       True   False 66.000 2,176,800.000   \n",
       "2               2  2023-03-01     4       True    True 50.000 2,078,090.000   \n",
       "3               3  2023-03-01     5       True   False 30.000   700,514.000   \n",
       "4               4  2023-03-01     6       True    True 65.000   895,976.000   \n",
       "...           ...         ...   ...        ...     ...    ...           ...   \n",
       "22052       22052  2023-12-01  7109      False    True 39.000 2,500,000.000   \n",
       "22053       22053  2023-12-01  7114      False    True 51.000 2,292,890.000   \n",
       "22054       22054  2023-12-01  7118      False    True 39.000   135,000.000   \n",
       "22055       22055  2023-12-01  7124      False    True 77.000   270,000.000   \n",
       "22056       22056  2023-12-01  7129      False    True 43.000 1,906,275.000   \n",
       "\n",
       "       edu_year  ln_income  \n",
       "0            12     15.458  \n",
       "1             9     14.593  \n",
       "2            12     14.547  \n",
       "3            14     13.460  \n",
       "4            12     13.706  \n",
       "...         ...        ...  \n",
       "22052        16     14.732  \n",
       "22053        12     14.645  \n",
       "22054        16     11.813  \n",
       "22055         6     12.506  \n",
       "22056        14     14.461  \n",
       "\n",
       "[22057 rows x 9 columns]"
      ]
     },
     "execution_count": 109,
     "metadata": {},
     "output_type": "execute_result"
    }
   ],
   "source": [
    "df_hps"
   ]
  },
  {
   "cell_type": "code",
   "execution_count": 115,
   "metadata": {},
   "outputs": [
    {
     "name": "stdout",
     "output_type": "stream",
     "text": [
      "                            OLS Regression Results                            \n",
      "==============================================================================\n",
      "Dep. Variable:              ln_income   R-squared:                       0.449\n",
      "Model:                            OLS   Adj. R-squared:                  0.449\n",
      "Method:                 Least Squares   F-statistic:                     4547.\n",
      "Date:                Fri, 15 Mar 2024   Prob (F-statistic):               0.00\n",
      "Time:                        14:30:46   Log-Likelihood:                -23795.\n",
      "No. Observations:               19718   AIC:                         4.760e+04\n",
      "Df Residuals:                   19714   BIC:                         4.763e+04\n",
      "Df Model:                           3                                         \n",
      "Covariance Type:                  HC0                                         \n",
      "====================================================================================\n",
      "                       coef    std err          z      P>|z|      [0.025      0.975]\n",
      "------------------------------------------------------------------------------------\n",
      "Intercept           10.9703      0.067    163.407      0.000      10.839      11.102\n",
      "edu_year             0.0780      0.002     32.065      0.000       0.073       0.083\n",
      "age                  0.1378      0.003     48.647      0.000       0.132       0.143\n",
      "np.power(age, 2)    -0.0016   2.91e-05    -53.805      0.000      -0.002      -0.002\n",
      "==============================================================================\n",
      "Omnibus:                     7494.730   Durbin-Watson:                   1.790\n",
      "Prob(Omnibus):                  0.000   Jarque-Bera (JB):            48787.296\n",
      "Skew:                          -1.686   Prob(JB):                         0.00\n",
      "Kurtosis:                       9.929   Cond. No.                     3.66e+04\n",
      "==============================================================================\n",
      "\n",
      "Notes:\n",
      "[1] Standard Errors are heteroscedasticity robust (HC0)\n",
      "[2] The condition number is large, 3.66e+04. This might indicate that there are\n",
      "strong multicollinearity or other numerical problems.\n"
     ]
    },
    {
     "data": {
      "text/plain": [
       "<statsmodels.regression.linear_model.RegressionResultsWrapper at 0x1a5a6d67a10>"
      ]
     },
     "execution_count": 115,
     "metadata": {},
     "output_type": "execute_result"
    }
   ],
   "source": [
    "ols_alt_spec(spec='ln_income ~ edu_year + age + np.power(age,2)', data= df_hps.loc[(df_hps['age'].isin(range(40,50))) & df_hps['female']==False])"
   ]
  },
  {
   "cell_type": "markdown",
   "metadata": {},
   "source": [
    "### OLS.1 가정이 성립하지 않을때\n",
    "#### 시나리오 1: 1980 미국 평균 노동시간 42시간 vs 2023  "
   ]
  },
  {
   "cell_type": "code",
   "execution_count": 40,
   "metadata": {},
   "outputs": [
    {
     "name": "stdout",
     "output_type": "stream",
     "text": [
      "                            OLS Regression Results                            \n",
      "==============================================================================\n",
      "Dep. Variable:            ln_income_w   R-squared:                       0.294\n",
      "Model:                            OLS   Adj. R-squared:                  0.294\n",
      "Method:                 Least Squares   F-statistic:                     7854.\n",
      "Date:                Fri, 15 Mar 2024   Prob (F-statistic):               0.00\n",
      "Time:                        13:44:28   Log-Likelihood:                -28789.\n",
      "No. Observations:               22057   AIC:                         5.758e+04\n",
      "Df Residuals:                   22055   BIC:                         5.760e+04\n",
      "Df Model:                           1                                         \n",
      "Covariance Type:                  HC0                                         \n",
      "==============================================================================\n",
      "                 coef    std err          z      P>|z|      [0.025      0.975]\n",
      "------------------------------------------------------------------------------\n",
      "Intercept     11.1226      0.025    440.527      0.000      11.073      11.172\n",
      "edu_year       0.1591      0.002     88.623      0.000       0.156       0.163\n",
      "==============================================================================\n",
      "Omnibus:                     6968.947   Durbin-Watson:                   1.814\n",
      "Prob(Omnibus):                  0.000   Jarque-Bera (JB):            29732.713\n",
      "Skew:                          -1.505   Prob(JB):                         0.00\n",
      "Kurtosis:                       7.826   Cond. No.                         51.1\n",
      "==============================================================================\n",
      "\n",
      "Notes:\n",
      "[1] Standard Errors are heteroscedasticity robust (HC0)\n"
     ]
    },
    {
     "name": "stderr",
     "output_type": "stream",
     "text": [
      "C:\\Users\\SeanJ\\AppData\\Local\\Temp\\ipykernel_6296\\1611864120.py:2: SettingWithCopyWarning: \n",
      "A value is trying to be set on a copy of a slice from a DataFrame.\n",
      "Try using .loc[row_indexer,col_indexer] = value instead\n",
      "\n",
      "See the caveats in the documentation: https://pandas.pydata.org/pandas-docs/stable/user_guide/indexing.html#returning-a-view-versus-a-copy\n",
      "  df_tt['ln_income_w'] = np.log(df_tt['income']/4)\n"
     ]
    }
   ],
   "source": [
    "df_tt = df_hps[['income', 'edu_year']]\n",
    "df_tt['ln_income_w'] = np.log(df_tt['income']/4)\n",
    "result_alt_age = ols_alt_spec(spec='ln_income_w ~ edu_year', data= df_tt)"
   ]
  },
  {
   "cell_type": "code",
   "execution_count": 41,
   "metadata": {},
   "outputs": [
    {
     "name": "stdout",
     "output_type": "stream",
     "text": [
      "                            OLS Regression Results                            \n",
      "==============================================================================\n",
      "Dep. Variable:         ln_income_hour   R-squared:                       0.248\n",
      "Model:                            OLS   Adj. R-squared:                  0.248\n",
      "Method:                 Least Squares   F-statistic:                     6265.\n",
      "Date:                Fri, 15 Mar 2024   Prob (F-statistic):               0.00\n",
      "Time:                        13:44:28   Log-Likelihood:                -28707.\n",
      "No. Observations:               22057   AIC:                         5.742e+04\n",
      "Df Residuals:                   22055   BIC:                         5.743e+04\n",
      "Df Model:                           1                                         \n",
      "Covariance Type:                  HC0                                         \n",
      "==============================================================================\n",
      "                 coef    std err          z      P>|z|      [0.025      0.975]\n",
      "------------------------------------------------------------------------------\n",
      "Intercept     12.5606      0.025    501.635      0.000      12.512      12.610\n",
      "edu_year       0.1409      0.002     79.149      0.000       0.137       0.144\n",
      "==============================================================================\n",
      "Omnibus:                     7010.215   Durbin-Watson:                   1.815\n",
      "Prob(Omnibus):                  0.000   Jarque-Bera (JB):            30521.124\n",
      "Skew:                          -1.507   Prob(JB):                         0.00\n",
      "Kurtosis:                       7.911   Cond. No.                         51.1\n",
      "==============================================================================\n",
      "\n",
      "Notes:\n",
      "[1] Standard Errors are heteroscedasticity robust (HC0)\n"
     ]
    },
    {
     "name": "stderr",
     "output_type": "stream",
     "text": [
      "C:\\Users\\SeanJ\\AppData\\Local\\Temp\\ipykernel_6296\\2812815708.py:2: SettingWithCopyWarning: \n",
      "A value is trying to be set on a copy of a slice from a DataFrame.\n",
      "Try using .loc[row_indexer,col_indexer] = value instead\n",
      "\n",
      "See the caveats in the documentation: https://pandas.pydata.org/pandas-docs/stable/user_guide/indexing.html#returning-a-view-versus-a-copy\n",
      "  df_tt['income_hour'] = df_tt.apply(lambda x : x['income'] * 0.8 if x['edu_year'] >= 12 else x['income'], axis=1)\n",
      "C:\\Users\\SeanJ\\AppData\\Local\\Temp\\ipykernel_6296\\2812815708.py:3: SettingWithCopyWarning: \n",
      "A value is trying to be set on a copy of a slice from a DataFrame.\n",
      "Try using .loc[row_indexer,col_indexer] = value instead\n",
      "\n",
      "See the caveats in the documentation: https://pandas.pydata.org/pandas-docs/stable/user_guide/indexing.html#returning-a-view-versus-a-copy\n",
      "  df_tt['ln_income_hour'] = np.log(df_tt['income_hour'])\n"
     ]
    }
   ],
   "source": [
    "df_tt = df_hps[['income', 'edu_year']]\n",
    "df_tt['income_hour'] = df_tt.apply(lambda x : x['income'] * 0.8 if x['edu_year'] >= 12 else x['income'], axis=1)\n",
    "df_tt['ln_income_hour'] = np.log(df_tt['income_hour'])\n",
    "result_alt_age = ols_alt_spec(spec='ln_income_hour ~ edu_year', data= df_tt)"
   ]
  }
 ],
 "metadata": {
  "kernelspec": {
   "display_name": "base",
   "language": "python",
   "name": "python3"
  },
  "language_info": {
   "codemirror_mode": {
    "name": "ipython",
    "version": 3
   },
   "file_extension": ".py",
   "mimetype": "text/x-python",
   "name": "python",
   "nbconvert_exporter": "python",
   "pygments_lexer": "ipython3",
   "version": "3.11.6"
  }
 },
 "nbformat": 4,
 "nbformat_minor": 2
}
