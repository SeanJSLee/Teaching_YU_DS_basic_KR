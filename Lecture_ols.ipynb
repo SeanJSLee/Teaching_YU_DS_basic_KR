{
 "cells": [
  {
   "cell_type": "markdown",
   "metadata": {},
   "source": [
    "    Source | SS df MS Number of obs = 409435\n",
    "    -------------+------------------------------ F( 1,409433) =49118.25\n",
    "    Model | 22631.4793 1 22631.4793 Prob > F = 0.0000\n",
    "    Residual | 188648.31 409433 .460755019 R-squared = 0.1071\n",
    "    -------------+------------------------------ Adj R-squared = 0.1071\n",
    "    Total | 211279.789 409434 .51602893 Root MSE = .67879\n",
    "    -------------+----------------------------------------------------------\n",
    "    | Robust Old Fashioned\n",
    "    earnings | Coef. Std. Err. t Std. Err. t\n",
    "    -------------+----------------------------------------------------------\n",
    "    school | .0674387 .0003447 195.63 .0003043 221.63\n",
    "    const. | 5.835761 .0045507 1282.39 .0040043 1457.38\n",
    "    ------------------------------------------------------------------------"
   ]
  },
  {
   "cell_type": "code",
   "execution_count": 13,
   "metadata": {},
   "outputs": [
    {
     "data": {
      "text/html": [
       "<div>\n",
       "<style scoped>\n",
       "    .dataframe tbody tr th:only-of-type {\n",
       "        vertical-align: middle;\n",
       "    }\n",
       "\n",
       "    .dataframe tbody tr th {\n",
       "        vertical-align: top;\n",
       "    }\n",
       "\n",
       "    .dataframe thead th {\n",
       "        text-align: right;\n",
       "    }\n",
       "</style>\n",
       "<table border=\"1\" class=\"dataframe\">\n",
       "  <thead>\n",
       "    <tr style=\"text-align: right;\">\n",
       "      <th></th>\n",
       "      <th>earning</th>\n",
       "      <th>ln_earning</th>\n",
       "      <th>school</th>\n",
       "      <th>age</th>\n",
       "    </tr>\n",
       "  </thead>\n",
       "  <tbody>\n",
       "    <tr>\n",
       "      <th>0</th>\n",
       "      <td>10804.320312</td>\n",
       "      <td>9.287702</td>\n",
       "      <td>12</td>\n",
       "      <td>40</td>\n",
       "    </tr>\n",
       "    <tr>\n",
       "      <th>1</th>\n",
       "      <td>5149.500977</td>\n",
       "      <td>8.546655</td>\n",
       "      <td>14</td>\n",
       "      <td>41</td>\n",
       "    </tr>\n",
       "    <tr>\n",
       "      <th>2</th>\n",
       "      <td>6551.591797</td>\n",
       "      <td>8.787463</td>\n",
       "      <td>4</td>\n",
       "      <td>48</td>\n",
       "    </tr>\n",
       "    <tr>\n",
       "      <th>3</th>\n",
       "      <td>20505.929688</td>\n",
       "      <td>9.928470</td>\n",
       "      <td>14</td>\n",
       "      <td>42</td>\n",
       "    </tr>\n",
       "    <tr>\n",
       "      <th>4</th>\n",
       "      <td>3094.156006</td>\n",
       "      <td>8.037271</td>\n",
       "      <td>8</td>\n",
       "      <td>46</td>\n",
       "    </tr>\n",
       "    <tr>\n",
       "      <th>...</th>\n",
       "      <td>...</td>\n",
       "      <td>...</td>\n",
       "      <td>...</td>\n",
       "      <td>...</td>\n",
       "    </tr>\n",
       "    <tr>\n",
       "      <th>2538</th>\n",
       "      <td>15746.650391</td>\n",
       "      <td>9.664383</td>\n",
       "      <td>8</td>\n",
       "      <td>41</td>\n",
       "    </tr>\n",
       "    <tr>\n",
       "      <th>2539</th>\n",
       "      <td>25564.669922</td>\n",
       "      <td>10.148967</td>\n",
       "      <td>14</td>\n",
       "      <td>45</td>\n",
       "    </tr>\n",
       "    <tr>\n",
       "      <th>2540</th>\n",
       "      <td>25564.669922</td>\n",
       "      <td>10.148967</td>\n",
       "      <td>10</td>\n",
       "      <td>48</td>\n",
       "    </tr>\n",
       "    <tr>\n",
       "      <th>2541</th>\n",
       "      <td>13671.929688</td>\n",
       "      <td>9.523100</td>\n",
       "      <td>9</td>\n",
       "      <td>47</td>\n",
       "    </tr>\n",
       "    <tr>\n",
       "      <th>2542</th>\n",
       "      <td>7979.724121</td>\n",
       "      <td>8.984659</td>\n",
       "      <td>10</td>\n",
       "      <td>40</td>\n",
       "    </tr>\n",
       "  </tbody>\n",
       "</table>\n",
       "<p>2543 rows × 4 columns</p>\n",
       "</div>"
      ],
      "text/plain": [
       "           earning  ln_earning  school  age\n",
       "0     10804.320312    9.287702      12   40\n",
       "1      5149.500977    8.546655      14   41\n",
       "2      6551.591797    8.787463       4   48\n",
       "3     20505.929688    9.928470      14   42\n",
       "4      3094.156006    8.037271       8   46\n",
       "...            ...         ...     ...  ...\n",
       "2538  15746.650391    9.664383       8   41\n",
       "2539  25564.669922   10.148967      14   45\n",
       "2540  25564.669922   10.148967      10   48\n",
       "2541  13671.929688    9.523100       9   47\n",
       "2542   7979.724121    8.984659      10   40\n",
       "\n",
       "[2543 rows x 4 columns]"
      ]
     },
     "execution_count": 13,
     "metadata": {},
     "output_type": "execute_result"
    }
   ],
   "source": [
    "import pandas as pd\n",
    "import numpy as np\n",
    "import statsmodels.api as sm\n",
    "import patsy\n",
    "\n",
    "df_40_to_49 = pd.read_stata(r'data\\Dehejia_and_Wahba_1999\\cps1re74.dta')\n",
    "df_40_to_49 = df_40_to_49.loc[df_40_to_49['age'].isin(range(40,50))].loc[df_40_to_49['re78']>0].reset_index(drop=True)\n",
    "df_40_to_49['earning'] = df_40_to_49['re78']\n",
    "df_40_to_49['ln_earning'] = np.log(df_40_to_49['earning'])\n",
    "df_40_to_49['school'] = df_40_to_49 ['ed']\n",
    "df_40_to_49 = df_40_to_49[['earning', 'ln_earning', 'school','age']]\n",
    "df_40_to_49"
   ]
  },
  {
   "cell_type": "code",
   "execution_count": 2,
   "metadata": {},
   "outputs": [
    {
     "data": {
      "text/html": [
       "<table class=\"simpletable\">\n",
       "<caption>OLS Regression Results</caption>\n",
       "<tr>\n",
       "  <th>Dep. Variable:</th>       <td>ln_earning</td>    <th>  R-squared:         </th> <td>   0.008</td>\n",
       "</tr>\n",
       "<tr>\n",
       "  <th>Model:</th>                   <td>OLS</td>       <th>  Adj. R-squared:    </th> <td>   0.007</td>\n",
       "</tr>\n",
       "<tr>\n",
       "  <th>Method:</th>             <td>Least Squares</td>  <th>  F-statistic:       </th> <td>   14.59</td>\n",
       "</tr>\n",
       "<tr>\n",
       "  <th>Date:</th>             <td>Sat, 02 Mar 2024</td> <th>  Prob (F-statistic):</th> <td>0.000137</td>\n",
       "</tr>\n",
       "<tr>\n",
       "  <th>Time:</th>                 <td>12:16:40</td>     <th>  Log-Likelihood:    </th> <td> -3139.8</td>\n",
       "</tr>\n",
       "<tr>\n",
       "  <th>No. Observations:</th>      <td>  2543</td>      <th>  AIC:               </th> <td>   6284.</td>\n",
       "</tr>\n",
       "<tr>\n",
       "  <th>Df Residuals:</th>          <td>  2541</td>      <th>  BIC:               </th> <td>   6295.</td>\n",
       "</tr>\n",
       "<tr>\n",
       "  <th>Df Model:</th>              <td>     1</td>      <th>                     </th>     <td> </td>   \n",
       "</tr>\n",
       "<tr>\n",
       "  <th>Covariance Type:</th>         <td>HC0</td>       <th>                     </th>     <td> </td>   \n",
       "</tr>\n",
       "</table>\n",
       "<table class=\"simpletable\">\n",
       "<tr>\n",
       "      <td></td>         <th>coef</th>     <th>std err</th>      <th>z</th>      <th>P>|z|</th>  <th>[0.025</th>    <th>0.975]</th>  \n",
       "</tr>\n",
       "<tr>\n",
       "  <th>Intercept</th> <td>    9.4069</td> <td>    0.068</td> <td>  139.171</td> <td> 0.000</td> <td>    9.274</td> <td>    9.539</td>\n",
       "</tr>\n",
       "<tr>\n",
       "  <th>school</th>    <td>    0.0230</td> <td>    0.006</td> <td>    3.819</td> <td> 0.000</td> <td>    0.011</td> <td>    0.035</td>\n",
       "</tr>\n",
       "</table>\n",
       "<table class=\"simpletable\">\n",
       "<tr>\n",
       "  <th>Omnibus:</th>       <td>1661.494</td> <th>  Durbin-Watson:     </th> <td>   1.921</td> \n",
       "</tr>\n",
       "<tr>\n",
       "  <th>Prob(Omnibus):</th>  <td> 0.000</td>  <th>  Jarque-Bera (JB):  </th> <td>18547.215</td>\n",
       "</tr>\n",
       "<tr>\n",
       "  <th>Skew:</th>           <td>-3.025</td>  <th>  Prob(JB):          </th> <td>    0.00</td> \n",
       "</tr>\n",
       "<tr>\n",
       "  <th>Kurtosis:</th>       <td>14.766</td>  <th>  Cond. No.          </th> <td>    42.6</td> \n",
       "</tr>\n",
       "</table><br/><br/>Notes:<br/>[1] Standard Errors are heteroscedasticity robust (HC0)"
      ],
      "text/latex": [
       "\\begin{center}\n",
       "\\begin{tabular}{lclc}\n",
       "\\toprule\n",
       "\\textbf{Dep. Variable:}    &   ln\\_earning    & \\textbf{  R-squared:         } &     0.008   \\\\\n",
       "\\textbf{Model:}            &       OLS        & \\textbf{  Adj. R-squared:    } &     0.007   \\\\\n",
       "\\textbf{Method:}           &  Least Squares   & \\textbf{  F-statistic:       } &     14.59   \\\\\n",
       "\\textbf{Date:}             & Sat, 02 Mar 2024 & \\textbf{  Prob (F-statistic):} &  0.000137   \\\\\n",
       "\\textbf{Time:}             &     12:16:40     & \\textbf{  Log-Likelihood:    } &   -3139.8   \\\\\n",
       "\\textbf{No. Observations:} &        2543      & \\textbf{  AIC:               } &     6284.   \\\\\n",
       "\\textbf{Df Residuals:}     &        2541      & \\textbf{  BIC:               } &     6295.   \\\\\n",
       "\\textbf{Df Model:}         &           1      & \\textbf{                     } &             \\\\\n",
       "\\textbf{Covariance Type:}  &       HC0        & \\textbf{                     } &             \\\\\n",
       "\\bottomrule\n",
       "\\end{tabular}\n",
       "\\begin{tabular}{lcccccc}\n",
       "                   & \\textbf{coef} & \\textbf{std err} & \\textbf{z} & \\textbf{P$> |$z$|$} & \\textbf{[0.025} & \\textbf{0.975]}  \\\\\n",
       "\\midrule\n",
       "\\textbf{Intercept} &       9.4069  &        0.068     &   139.171  &         0.000        &        9.274    &        9.539     \\\\\n",
       "\\textbf{school}    &       0.0230  &        0.006     &     3.819  &         0.000        &        0.011    &        0.035     \\\\\n",
       "\\bottomrule\n",
       "\\end{tabular}\n",
       "\\begin{tabular}{lclc}\n",
       "\\textbf{Omnibus:}       & 1661.494 & \\textbf{  Durbin-Watson:     } &     1.921  \\\\\n",
       "\\textbf{Prob(Omnibus):} &   0.000  & \\textbf{  Jarque-Bera (JB):  } & 18547.215  \\\\\n",
       "\\textbf{Skew:}          &  -3.025  & \\textbf{  Prob(JB):          } &      0.00  \\\\\n",
       "\\textbf{Kurtosis:}      &  14.766  & \\textbf{  Cond. No.          } &      42.6  \\\\\n",
       "\\bottomrule\n",
       "\\end{tabular}\n",
       "%\\caption{OLS Regression Results}\n",
       "\\end{center}\n",
       "\n",
       "Notes: \\newline\n",
       " [1] Standard Errors are heteroscedasticity robust (HC0)"
      ],
      "text/plain": [
       "<class 'statsmodels.iolib.summary.Summary'>\n",
       "\"\"\"\n",
       "                            OLS Regression Results                            \n",
       "==============================================================================\n",
       "Dep. Variable:             ln_earning   R-squared:                       0.008\n",
       "Model:                            OLS   Adj. R-squared:                  0.007\n",
       "Method:                 Least Squares   F-statistic:                     14.59\n",
       "Date:                Sat, 02 Mar 2024   Prob (F-statistic):           0.000137\n",
       "Time:                        12:16:40   Log-Likelihood:                -3139.8\n",
       "No. Observations:                2543   AIC:                             6284.\n",
       "Df Residuals:                    2541   BIC:                             6295.\n",
       "Df Model:                           1                                         \n",
       "Covariance Type:                  HC0                                         \n",
       "==============================================================================\n",
       "                 coef    std err          z      P>|z|      [0.025      0.975]\n",
       "------------------------------------------------------------------------------\n",
       "Intercept      9.4069      0.068    139.171      0.000       9.274       9.539\n",
       "school         0.0230      0.006      3.819      0.000       0.011       0.035\n",
       "==============================================================================\n",
       "Omnibus:                     1661.494   Durbin-Watson:                   1.921\n",
       "Prob(Omnibus):                  0.000   Jarque-Bera (JB):            18547.215\n",
       "Skew:                          -3.025   Prob(JB):                         0.00\n",
       "Kurtosis:                      14.766   Cond. No.                         42.6\n",
       "==============================================================================\n",
       "\n",
       "Notes:\n",
       "[1] Standard Errors are heteroscedasticity robust (HC0)\n",
       "\"\"\""
      ]
     },
     "execution_count": 2,
     "metadata": {},
     "output_type": "execute_result"
    }
   ],
   "source": [
    "y,X = patsy.dmatrices('ln_earning ~ school',data=df_40_to_49, return_type='dataframe')\n",
    "\n",
    "result = sm.OLS(y,X).fit(cov_type='HC0')\n",
    "result.summary()\n"
   ]
  },
  {
   "cell_type": "markdown",
   "metadata": {},
   "source": [
    "### 6. OLS 해석\n",
    "\n",
    "[statsmodels.regression.linear_model.OLSResults](https://www.statsmodels.org/stable/generated/statsmodels.regression.linear_model.OLSResults.html)\n",
    "\n",
    " * OBS  \n"
   ]
  },
  {
   "cell_type": "code",
   "execution_count": 55,
   "metadata": {},
   "outputs": [
    {
     "data": {
      "text/plain": [
       "2543.0"
      ]
     },
     "execution_count": 55,
     "metadata": {},
     "output_type": "execute_result"
    }
   ],
   "source": [
    "result.nobs"
   ]
  },
  {
   "cell_type": "markdown",
   "metadata": {},
   "source": [
    "\n",
    " * Wald test [res.wald_test()](https://www.statsmodels.org/stable/generated/statsmodels.regression.linear_model.OLSResults.wald_test.html)  \n",
    " follows k DoF. Chi-squared distribution. (9.210 @ k=2, alpha=.99) [critical value table](https://www.itl.nist.gov/div898/handbook/eda/section3/eda3674.htm)"
   ]
  },
  {
   "cell_type": "code",
   "execution_count": 75,
   "metadata": {},
   "outputs": [
    {
     "data": {
      "text/plain": [
       "<class 'statsmodels.stats.contrast.ContrastResults'>\n",
       "<Wald test (chi2): statistic=346354.1039804812, p-value=0.0, df_denom=2>"
      ]
     },
     "execution_count": 75,
     "metadata": {},
     "output_type": "execute_result"
    }
   ],
   "source": [
    "result.wald_test(['Intercept', 'school'], use_f=False, scalar=True)"
   ]
  },
  {
   "cell_type": "code",
   "execution_count": 62,
   "metadata": {},
   "outputs": [
    {
     "data": {
      "text/plain": [
       "9.21034037197618"
      ]
     },
     "execution_count": 62,
     "metadata": {},
     "output_type": "execute_result"
    }
   ],
   "source": [
    "from scipy.stats import chi2\n",
    "chi2.ppf(.99,df=2)"
   ]
  },
  {
   "cell_type": "markdown",
   "metadata": {},
   "source": [
    " * Coeff   \n",
    " \n",
    "|variable   | coef\t  |  \n",
    "|--         | --:      |\n",
    "| Intercept\t| 9.4069  |\n",
    "| school\t  | 0.0230  | \n",
    "\n"
   ]
  },
  {
   "cell_type": "code",
   "execution_count": 50,
   "metadata": {},
   "outputs": [
    {
     "data": {
      "text/plain": [
       "Intercept    9.406906\n",
       "school       0.022967\n",
       "dtype: float64"
      ]
     },
     "execution_count": 50,
     "metadata": {},
     "output_type": "execute_result"
    }
   ],
   "source": [
    "result.params"
   ]
  },
  {
   "cell_type": "markdown",
   "metadata": {},
   "source": [
    " * t stat and SE\n",
    "  \n",
    "|variable   | std err\t| t       | P>\\|t\\| |  \n",
    "|--         | --:      | --:      | --: |\n",
    "| Intercept\t| 0.060   | 156.583 | 0.000 |\n",
    "| school\t  | 0.005   | 4.445   | 0.000 | \n",
    "\n"
   ]
  },
  {
   "cell_type": "code",
   "execution_count": 51,
   "metadata": {},
   "outputs": [
    {
     "data": {
      "text/plain": [
       "Intercept    0.067592\n",
       "school       0.006013\n",
       "dtype: float64"
      ]
     },
     "execution_count": 51,
     "metadata": {},
     "output_type": "execute_result"
    }
   ],
   "source": [
    "result.bse"
   ]
  },
  {
   "cell_type": "code",
   "execution_count": 52,
   "metadata": {},
   "outputs": [
    {
     "data": {
      "text/plain": [
       "Intercept    139.171202\n",
       "school         3.819423\n",
       "dtype: float64"
      ]
     },
     "execution_count": 52,
     "metadata": {},
     "output_type": "execute_result"
    }
   ],
   "source": [
    "result.tvalues"
   ]
  },
  {
   "cell_type": "code",
   "execution_count": 53,
   "metadata": {},
   "outputs": [
    {
     "data": {
      "text/plain": [
       "Intercept    0.000000\n",
       "school       0.000134\n",
       "dtype: float64"
      ]
     },
     "execution_count": 53,
     "metadata": {},
     "output_type": "execute_result"
    }
   ],
   "source": [
    "result.pvalues"
   ]
  },
  {
   "cell_type": "markdown",
   "metadata": {},
   "source": [
    " * Confidence interval\n",
    "\n",
    "  \n",
    "|variable   | \\[0.025\t  | 0.975\\]\t  |  \n",
    "|--         | --:      |--:      |\n",
    "| Intercept\t| 9.289  |9.4069  |\n",
    "| school\t  | 0.013  |0.033  | \n",
    "\n"
   ]
  },
  {
   "cell_type": "code",
   "execution_count": 54,
   "metadata": {},
   "outputs": [
    {
     "data": {
      "text/html": [
       "<div>\n",
       "<style scoped>\n",
       "    .dataframe tbody tr th:only-of-type {\n",
       "        vertical-align: middle;\n",
       "    }\n",
       "\n",
       "    .dataframe tbody tr th {\n",
       "        vertical-align: top;\n",
       "    }\n",
       "\n",
       "    .dataframe thead th {\n",
       "        text-align: right;\n",
       "    }\n",
       "</style>\n",
       "<table border=\"1\" class=\"dataframe\">\n",
       "  <thead>\n",
       "    <tr style=\"text-align: right;\">\n",
       "      <th></th>\n",
       "      <th>0</th>\n",
       "      <th>1</th>\n",
       "    </tr>\n",
       "  </thead>\n",
       "  <tbody>\n",
       "    <tr>\n",
       "      <th>Intercept</th>\n",
       "      <td>9.274427</td>\n",
       "      <td>9.539384</td>\n",
       "    </tr>\n",
       "    <tr>\n",
       "      <th>school</th>\n",
       "      <td>0.011181</td>\n",
       "      <td>0.034753</td>\n",
       "    </tr>\n",
       "  </tbody>\n",
       "</table>\n",
       "</div>"
      ],
      "text/plain": [
       "                  0         1\n",
       "Intercept  9.274427  9.539384\n",
       "school     0.011181  0.034753"
      ]
     },
     "execution_count": 54,
     "metadata": {},
     "output_type": "execute_result"
    }
   ],
   "source": [
    "result.conf_int()"
   ]
  },
  {
   "cell_type": "markdown",
   "metadata": {},
   "source": [
    " * R-squared\n",
    " "
   ]
  },
  {
   "cell_type": "code",
   "execution_count": 56,
   "metadata": {},
   "outputs": [
    {
     "data": {
      "text/plain": [
       "0.007325428459439731"
      ]
     },
     "execution_count": 56,
     "metadata": {},
     "output_type": "execute_result"
    }
   ],
   "source": [
    "result.rsquared_adj"
   ]
  },
  {
   "cell_type": "markdown",
   "metadata": {},
   "source": [
    "* consider an alternative specification - RMSE"
   ]
  },
  {
   "cell_type": "code",
   "execution_count": 62,
   "metadata": {},
   "outputs": [
    {
     "data": {
      "text/plain": [
       "0.8320650657302663"
      ]
     },
     "execution_count": 62,
     "metadata": {},
     "output_type": "execute_result"
    }
   ],
   "source": [
    "result.mse_resid**.5"
   ]
  },
  {
   "cell_type": "markdown",
   "metadata": {},
   "source": [
    "OLS in matrix form."
   ]
  },
  {
   "cell_type": "code",
   "execution_count": 113,
   "metadata": {},
   "outputs": [
    {
     "name": "stdout",
     "output_type": "stream",
     "text": [
      "beta : [[9.40690552]\n",
      " [0.02296705]] \n",
      "beta 0: [[9.40690552]] \n",
      "beta 1: [[0.02296705]]\n"
     ]
    }
   ],
   "source": [
    "mat_x = np.matrix(X)\n",
    "mat_y = np.matrix(y)\n",
    "\n",
    "xTx = mat_x.T * mat_x\n",
    "xTx_inv = np.linalg.inv(xx)\n",
    "xTy = mat_x.T * mat_y\n",
    "\n",
    "beta_hat = xTx_inv * xTy\n",
    "print('beta :',beta_hat, '\\nbeta 0:',beta_hat[0], '\\nbeta 1:',beta_hat[1])"
   ]
  },
  {
   "cell_type": "code",
   "execution_count": 11,
   "metadata": {},
   "outputs": [
    {
     "name": "stderr",
     "output_type": "stream",
     "text": [
      "C:\\Users\\SeanJ\\AppData\\Local\\Temp\\ipykernel_5308\\3455649620.py:2: FutureWarning: Series.__getitem__ treating keys as positions is deprecated. In a future version, integer keys will always be treated as labels (consistent with DataFrame behavior). To access a value by position, use `ser.iloc[pos]`\n",
      "  yhat = pd.Series(result.params[0] + result.params[1] * school_means.index.values, index=school_means.index.values)\n"
     ]
    },
    {
     "data": {
      "text/plain": [
       "<Axes: xlabel='school'>"
      ]
     },
     "execution_count": 11,
     "metadata": {},
     "output_type": "execute_result"
    },
    {
     "data": {
      "image/png": "[encoded data removed]",
      "text/plain": [
       "<Figure size 640x480 with 1 Axes>"
      ]
     },
     "metadata": {},
     "output_type": "display_data"
    }
   ],
   "source": [
    "school_means = df_40_to_49.groupby('school')['ln_earning'].mean()\n",
    "yhat = pd.Series(result.params[0] + result.params[1] * school_means.index.values, index=school_means.index.values)\n",
    "\n",
    "import matplotlib.pyplot as plt\n",
    "\n",
    "plt.figure()\n",
    "school_means.plot(kind='line', x='school', y='ln wage', style='-o')\n",
    "yhat.plot()"
   ]
  },
  {
   "cell_type": "code",
   "execution_count": null,
   "metadata": {},
   "outputs": [],
   "source": []
  },
  {
   "cell_type": "code",
   "execution_count": 17,
   "metadata": {},
   "outputs": [
    {
     "data": {
      "text/html": [
       "<table class=\"simpletable\">\n",
       "<caption>OLS Regression Results</caption>\n",
       "<tr>\n",
       "  <th>Dep. Variable:</th>       <td>ln_earning</td>    <th>  R-squared:         </th> <td>   0.009</td>\n",
       "</tr>\n",
       "<tr>\n",
       "  <th>Model:</th>                   <td>OLS</td>       <th>  Adj. R-squared:    </th> <td>   0.007</td>\n",
       "</tr>\n",
       "<tr>\n",
       "  <th>Method:</th>             <td>Least Squares</td>  <th>  F-statistic:       </th> <td>   5.843</td>\n",
       "</tr>\n",
       "<tr>\n",
       "  <th>Date:</th>             <td>Sat, 02 Mar 2024</td> <th>  Prob (F-statistic):</th> <td>0.000565</td>\n",
       "</tr>\n",
       "<tr>\n",
       "  <th>Time:</th>                 <td>12:41:56</td>     <th>  Log-Likelihood:    </th> <td> -3138.8</td>\n",
       "</tr>\n",
       "<tr>\n",
       "  <th>No. Observations:</th>      <td>  2543</td>      <th>  AIC:               </th> <td>   6286.</td>\n",
       "</tr>\n",
       "<tr>\n",
       "  <th>Df Residuals:</th>          <td>  2539</td>      <th>  BIC:               </th> <td>   6309.</td>\n",
       "</tr>\n",
       "<tr>\n",
       "  <th>Df Model:</th>              <td>     3</td>      <th>                     </th>     <td> </td>   \n",
       "</tr>\n",
       "<tr>\n",
       "  <th>Covariance Type:</th>         <td>HC0</td>       <th>                     </th>     <td> </td>   \n",
       "</tr>\n",
       "</table>\n",
       "<table class=\"simpletable\">\n",
       "<tr>\n",
       "          <td></td>            <th>coef</th>     <th>std err</th>      <th>z</th>      <th>P>|z|</th>  <th>[0.025</th>    <th>0.975]</th>  \n",
       "</tr>\n",
       "<tr>\n",
       "  <th>Intercept</th>        <td>    9.0631</td> <td>    0.263</td> <td>   34.510</td> <td> 0.000</td> <td>    8.548</td> <td>    9.578</td>\n",
       "</tr>\n",
       "<tr>\n",
       "  <th>school</th>           <td>    0.0235</td> <td>    0.006</td> <td>    3.918</td> <td> 0.000</td> <td>    0.012</td> <td>    0.035</td>\n",
       "</tr>\n",
       "<tr>\n",
       "  <th>age</th>              <td>    0.0076</td> <td>    0.006</td> <td>    1.342</td> <td> 0.180</td> <td>   -0.003</td> <td>    0.019</td>\n",
       "</tr>\n",
       "<tr>\n",
       "  <th>np.power(age, 2)</th> <td>   -0.0002</td> <td>    0.000</td> <td>   -0.939</td> <td> 0.348</td> <td>   -0.001</td> <td>    0.000</td>\n",
       "</tr>\n",
       "</table>\n",
       "<table class=\"simpletable\">\n",
       "<tr>\n",
       "  <th>Omnibus:</th>       <td>1658.780</td> <th>  Durbin-Watson:     </th> <td>   1.920</td> \n",
       "</tr>\n",
       "<tr>\n",
       "  <th>Prob(Omnibus):</th>  <td> 0.000</td>  <th>  Jarque-Bera (JB):  </th> <td>18435.973</td>\n",
       "</tr>\n",
       "<tr>\n",
       "  <th>Skew:</th>           <td>-3.020</td>  <th>  Prob(JB):          </th> <td>    0.00</td> \n",
       "</tr>\n",
       "<tr>\n",
       "  <th>Kurtosis:</th>       <td>14.727</td>  <th>  Cond. No.          </th> <td>1.24e+03</td> \n",
       "</tr>\n",
       "</table><br/><br/>Notes:<br/>[1] Standard Errors are heteroscedasticity robust (HC0)<br/>[2] The condition number is large, 1.24e+03. This might indicate that there are<br/>strong multicollinearity or other numerical problems."
      ],
      "text/latex": [
       "\\begin{center}\n",
       "\\begin{tabular}{lclc}\n",
       "\\toprule\n",
       "\\textbf{Dep. Variable:}    &   ln\\_earning    & \\textbf{  R-squared:         } &     0.009   \\\\\n",
       "\\textbf{Model:}            &       OLS        & \\textbf{  Adj. R-squared:    } &     0.007   \\\\\n",
       "\\textbf{Method:}           &  Least Squares   & \\textbf{  F-statistic:       } &     5.843   \\\\\n",
       "\\textbf{Date:}             & Sat, 02 Mar 2024 & \\textbf{  Prob (F-statistic):} &  0.000565   \\\\\n",
       "\\textbf{Time:}             &     12:41:56     & \\textbf{  Log-Likelihood:    } &   -3138.8   \\\\\n",
       "\\textbf{No. Observations:} &        2543      & \\textbf{  AIC:               } &     6286.   \\\\\n",
       "\\textbf{Df Residuals:}     &        2539      & \\textbf{  BIC:               } &     6309.   \\\\\n",
       "\\textbf{Df Model:}         &           3      & \\textbf{                     } &             \\\\\n",
       "\\textbf{Covariance Type:}  &       HC0        & \\textbf{                     } &             \\\\\n",
       "\\bottomrule\n",
       "\\end{tabular}\n",
       "\\begin{tabular}{lcccccc}\n",
       "                          & \\textbf{coef} & \\textbf{std err} & \\textbf{z} & \\textbf{P$> |$z$|$} & \\textbf{[0.025} & \\textbf{0.975]}  \\\\\n",
       "\\midrule\n",
       "\\textbf{Intercept}        &       9.0631  &        0.263     &    34.510  &         0.000        &        8.548    &        9.578     \\\\\n",
       "\\textbf{school}           &       0.0235  &        0.006     &     3.918  &         0.000        &        0.012    &        0.035     \\\\\n",
       "\\textbf{age}              &       0.0076  &        0.006     &     1.342  &         0.180        &       -0.003    &        0.019     \\\\\n",
       "\\textbf{np.power(age, 2)} &      -0.0002  &        0.000     &    -0.939  &         0.348        &       -0.001    &        0.000     \\\\\n",
       "\\bottomrule\n",
       "\\end{tabular}\n",
       "\\begin{tabular}{lclc}\n",
       "\\textbf{Omnibus:}       & 1658.780 & \\textbf{  Durbin-Watson:     } &     1.920  \\\\\n",
       "\\textbf{Prob(Omnibus):} &   0.000  & \\textbf{  Jarque-Bera (JB):  } & 18435.973  \\\\\n",
       "\\textbf{Skew:}          &  -3.020  & \\textbf{  Prob(JB):          } &      0.00  \\\\\n",
       "\\textbf{Kurtosis:}      &  14.727  & \\textbf{  Cond. No.          } &  1.24e+03  \\\\\n",
       "\\bottomrule\n",
       "\\end{tabular}\n",
       "%\\caption{OLS Regression Results}\n",
       "\\end{center}\n",
       "\n",
       "Notes: \\newline\n",
       " [1] Standard Errors are heteroscedasticity robust (HC0) \\newline\n",
       " [2] The condition number is large, 1.24e+03. This might indicate that there are \\newline\n",
       " strong multicollinearity or other numerical problems."
      ],
      "text/plain": [
       "<class 'statsmodels.iolib.summary.Summary'>\n",
       "\"\"\"\n",
       "                            OLS Regression Results                            \n",
       "==============================================================================\n",
       "Dep. Variable:             ln_earning   R-squared:                       0.009\n",
       "Model:                            OLS   Adj. R-squared:                  0.007\n",
       "Method:                 Least Squares   F-statistic:                     5.843\n",
       "Date:                Sat, 02 Mar 2024   Prob (F-statistic):           0.000565\n",
       "Time:                        12:41:56   Log-Likelihood:                -3138.8\n",
       "No. Observations:                2543   AIC:                             6286.\n",
       "Df Residuals:                    2539   BIC:                             6309.\n",
       "Df Model:                           3                                         \n",
       "Covariance Type:                  HC0                                         \n",
       "====================================================================================\n",
       "                       coef    std err          z      P>|z|      [0.025      0.975]\n",
       "------------------------------------------------------------------------------------\n",
       "Intercept            9.0631      0.263     34.510      0.000       8.548       9.578\n",
       "school               0.0235      0.006      3.918      0.000       0.012       0.035\n",
       "age                  0.0076      0.006      1.342      0.180      -0.003       0.019\n",
       "np.power(age, 2)    -0.0002      0.000     -0.939      0.348      -0.001       0.000\n",
       "==============================================================================\n",
       "Omnibus:                     1658.780   Durbin-Watson:                   1.920\n",
       "Prob(Omnibus):                  0.000   Jarque-Bera (JB):            18435.973\n",
       "Skew:                          -3.020   Prob(JB):                         0.00\n",
       "Kurtosis:                      14.727   Cond. No.                     1.24e+03\n",
       "==============================================================================\n",
       "\n",
       "Notes:\n",
       "[1] Standard Errors are heteroscedasticity robust (HC0)\n",
       "[2] The condition number is large, 1.24e+03. This might indicate that there are\n",
       "strong multicollinearity or other numerical problems.\n",
       "\"\"\""
      ]
     },
     "execution_count": 17,
     "metadata": {},
     "output_type": "execute_result"
    }
   ],
   "source": [
    "y,X = patsy.dmatrices('ln_earning ~ school + age + np.power(age,2)',data=df_40_to_49, return_type='dataframe')\n",
    "\n",
    "model_2 = sm.OLS(y,X)\n",
    "result_2 = model_2.fit(cov_type='HC0')\n",
    "result_2.summary()"
   ]
  },
  {
   "cell_type": "code",
   "execution_count": 59,
   "metadata": {},
   "outputs": [
    {
     "name": "stderr",
     "output_type": "stream",
     "text": [
      "C:\\Users\\SeanJ\\AppData\\Local\\Temp\\ipykernel_5308\\1101543827.py:2: FutureWarning: Series.__getitem__ treating keys as positions is deprecated. In a future version, integer keys will always be treated as labels (consistent with DataFrame behavior). To access a value by position, use `ser.iloc[pos]`\n",
      "  yhat = pd.Series(result_2.params[0] + result_2.params[1] * school_means.index.values, index=school_means.index.values)\n"
     ]
    },
    {
     "data": {
      "text/plain": [
       "<Axes: xlabel='school'>"
      ]
     },
     "execution_count": 59,
     "metadata": {},
     "output_type": "execute_result"
    },
    {
     "data": {
      "image/png": "[encoded data removed]",
      "text/plain": [
       "<Figure size 640x480 with 1 Axes>"
      ]
     },
     "metadata": {},
     "output_type": "display_data"
    }
   ],
   "source": [
    "school_means = df_40_to_49.groupby('school')['ln_earning'].mean()\n",
    "yhat = pd.Series(result_2.params[0] + result_2.params[1] * school_means.index.values, index=school_means.index.values)\n",
    "\n",
    "import matplotlib.pyplot as plt\n",
    "\n",
    "plt.figure()\n",
    "school_means.plot(kind='line', x='school', y='ln wage', style='-o')\n",
    "yhat.plot()"
   ]
  },
  {
   "cell_type": "code",
   "execution_count": 41,
   "metadata": {},
   "outputs": [
    {
     "data": {
      "text/html": [
       "<table class=\"simpletable\">\n",
       "<caption>OLS Regression Results</caption>\n",
       "<tr>\n",
       "  <th>Dep. Variable:</th>       <td>ln_earning</td>    <th>  R-squared:         </th> <td>   0.008</td>\n",
       "</tr>\n",
       "<tr>\n",
       "  <th>Model:</th>                   <td>OLS</td>       <th>  Adj. R-squared:    </th> <td>   0.007</td>\n",
       "</tr>\n",
       "<tr>\n",
       "  <th>Method:</th>             <td>Least Squares</td>  <th>  F-statistic:       </th> <td>   8.230</td>\n",
       "</tr>\n",
       "<tr>\n",
       "  <th>Date:</th>             <td>Sat, 02 Mar 2024</td> <th>  Prob (F-statistic):</th> <td>0.000274</td>\n",
       "</tr>\n",
       "<tr>\n",
       "  <th>Time:</th>                 <td>14:18:44</td>     <th>  Log-Likelihood:    </th> <td> -3139.2</td>\n",
       "</tr>\n",
       "<tr>\n",
       "  <th>No. Observations:</th>      <td>  2543</td>      <th>  AIC:               </th> <td>   6284.</td>\n",
       "</tr>\n",
       "<tr>\n",
       "  <th>Df Residuals:</th>          <td>  2540</td>      <th>  BIC:               </th> <td>   6302.</td>\n",
       "</tr>\n",
       "<tr>\n",
       "  <th>Df Model:</th>              <td>     2</td>      <th>                     </th>     <td> </td>   \n",
       "</tr>\n",
       "<tr>\n",
       "  <th>Covariance Type:</th>         <td>HC0</td>       <th>                     </th>     <td> </td>   \n",
       "</tr>\n",
       "</table>\n",
       "<table class=\"simpletable\">\n",
       "<tr>\n",
       "       <td></td>         <th>coef</th>     <th>std err</th>      <th>z</th>      <th>P>|z|</th>  <th>[0.025</th>    <th>0.975]</th>  \n",
       "</tr>\n",
       "<tr>\n",
       "  <th>Intercept</th>  <td>    9.1073</td> <td>    0.258</td> <td>   35.241</td> <td> 0.000</td> <td>    8.601</td> <td>    9.614</td>\n",
       "</tr>\n",
       "<tr>\n",
       "  <th>school</th>     <td>    0.0301</td> <td>    0.008</td> <td>    3.633</td> <td> 0.000</td> <td>    0.014</td> <td>    0.046</td>\n",
       "</tr>\n",
       "<tr>\n",
       "  <th>experience</th> <td>    0.0066</td> <td>    0.006</td> <td>    1.195</td> <td> 0.232</td> <td>   -0.004</td> <td>    0.017</td>\n",
       "</tr>\n",
       "</table>\n",
       "<table class=\"simpletable\">\n",
       "<tr>\n",
       "  <th>Omnibus:</th>       <td>1659.354</td> <th>  Durbin-Watson:     </th> <td>   1.920</td> \n",
       "</tr>\n",
       "<tr>\n",
       "  <th>Prob(Omnibus):</th>  <td> 0.000</td>  <th>  Jarque-Bera (JB):  </th> <td>18445.660</td>\n",
       "</tr>\n",
       "<tr>\n",
       "  <th>Skew:</th>           <td>-3.021</td>  <th>  Prob(JB):          </th> <td>    0.00</td> \n",
       "</tr>\n",
       "<tr>\n",
       "  <th>Kurtosis:</th>       <td>14.729</td>  <th>  Cond. No.          </th> <td>    571.</td> \n",
       "</tr>\n",
       "</table><br/><br/>Notes:<br/>[1] Standard Errors are heteroscedasticity robust (HC0)"
      ],
      "text/latex": [
       "\\begin{center}\n",
       "\\begin{tabular}{lclc}\n",
       "\\toprule\n",
       "\\textbf{Dep. Variable:}    &   ln\\_earning    & \\textbf{  R-squared:         } &     0.008   \\\\\n",
       "\\textbf{Model:}            &       OLS        & \\textbf{  Adj. R-squared:    } &     0.007   \\\\\n",
       "\\textbf{Method:}           &  Least Squares   & \\textbf{  F-statistic:       } &     8.230   \\\\\n",
       "\\textbf{Date:}             & Sat, 02 Mar 2024 & \\textbf{  Prob (F-statistic):} &  0.000274   \\\\\n",
       "\\textbf{Time:}             &     14:18:44     & \\textbf{  Log-Likelihood:    } &   -3139.2   \\\\\n",
       "\\textbf{No. Observations:} &        2543      & \\textbf{  AIC:               } &     6284.   \\\\\n",
       "\\textbf{Df Residuals:}     &        2540      & \\textbf{  BIC:               } &     6302.   \\\\\n",
       "\\textbf{Df Model:}         &           2      & \\textbf{                     } &             \\\\\n",
       "\\textbf{Covariance Type:}  &       HC0        & \\textbf{                     } &             \\\\\n",
       "\\bottomrule\n",
       "\\end{tabular}\n",
       "\\begin{tabular}{lcccccc}\n",
       "                    & \\textbf{coef} & \\textbf{std err} & \\textbf{z} & \\textbf{P$> |$z$|$} & \\textbf{[0.025} & \\textbf{0.975]}  \\\\\n",
       "\\midrule\n",
       "\\textbf{Intercept}  &       9.1073  &        0.258     &    35.241  &         0.000        &        8.601    &        9.614     \\\\\n",
       "\\textbf{school}     &       0.0301  &        0.008     &     3.633  &         0.000        &        0.014    &        0.046     \\\\\n",
       "\\textbf{experience} &       0.0066  &        0.006     &     1.195  &         0.232        &       -0.004    &        0.017     \\\\\n",
       "\\bottomrule\n",
       "\\end{tabular}\n",
       "\\begin{tabular}{lclc}\n",
       "\\textbf{Omnibus:}       & 1659.354 & \\textbf{  Durbin-Watson:     } &     1.920  \\\\\n",
       "\\textbf{Prob(Omnibus):} &   0.000  & \\textbf{  Jarque-Bera (JB):  } & 18445.660  \\\\\n",
       "\\textbf{Skew:}          &  -3.021  & \\textbf{  Prob(JB):          } &      0.00  \\\\\n",
       "\\textbf{Kurtosis:}      &  14.729  & \\textbf{  Cond. No.          } &      571.  \\\\\n",
       "\\bottomrule\n",
       "\\end{tabular}\n",
       "%\\caption{OLS Regression Results}\n",
       "\\end{center}\n",
       "\n",
       "Notes: \\newline\n",
       " [1] Standard Errors are heteroscedasticity robust (HC0)"
      ],
      "text/plain": [
       "<class 'statsmodels.iolib.summary.Summary'>\n",
       "\"\"\"\n",
       "                            OLS Regression Results                            \n",
       "==============================================================================\n",
       "Dep. Variable:             ln_earning   R-squared:                       0.008\n",
       "Model:                            OLS   Adj. R-squared:                  0.007\n",
       "Method:                 Least Squares   F-statistic:                     8.230\n",
       "Date:                Sat, 02 Mar 2024   Prob (F-statistic):           0.000274\n",
       "Time:                        14:18:44   Log-Likelihood:                -3139.2\n",
       "No. Observations:                2543   AIC:                             6284.\n",
       "Df Residuals:                    2540   BIC:                             6302.\n",
       "Df Model:                           2                                         \n",
       "Covariance Type:                  HC0                                         \n",
       "==============================================================================\n",
       "                 coef    std err          z      P>|z|      [0.025      0.975]\n",
       "------------------------------------------------------------------------------\n",
       "Intercept      9.1073      0.258     35.241      0.000       8.601       9.614\n",
       "school         0.0301      0.008      3.633      0.000       0.014       0.046\n",
       "experience     0.0066      0.006      1.195      0.232      -0.004       0.017\n",
       "==============================================================================\n",
       "Omnibus:                     1659.354   Durbin-Watson:                   1.920\n",
       "Prob(Omnibus):                  0.000   Jarque-Bera (JB):            18445.660\n",
       "Skew:                          -3.021   Prob(JB):                         0.00\n",
       "Kurtosis:                      14.729   Cond. No.                         571.\n",
       "==============================================================================\n",
       "\n",
       "Notes:\n",
       "[1] Standard Errors are heteroscedasticity robust (HC0)\n",
       "\"\"\""
      ]
     },
     "execution_count": 41,
     "metadata": {},
     "output_type": "execute_result"
    }
   ],
   "source": [
    "df_40_to_49['experience'] = df_40_to_49['age'] - df_40_to_49['school']\n",
    "y,X = patsy.dmatrices('ln_earning ~ school + experience ',data=df_40_to_49, return_type='dataframe')\n",
    "\n",
    "model_3 = sm.OLS(y,X)\n",
    "result_3 = model_3.fit(cov_type='HC0')\n",
    "result_3.summary()"
   ]
  },
  {
   "cell_type": "code",
   "execution_count": 26,
   "metadata": {},
   "outputs": [
    {
     "name": "stderr",
     "output_type": "stream",
     "text": [
      "C:\\Users\\SeanJ\\AppData\\Local\\Temp\\ipykernel_5308\\1114850971.py:2: FutureWarning: Series.__getitem__ treating keys as positions is deprecated. In a future version, integer keys will always be treated as labels (consistent with DataFrame behavior). To access a value by position, use `ser.iloc[pos]`\n",
      "  yhat = pd.Series(result_3.params[0] + result_3.params[1] * school_means.index.values, index=school_means.index.values)\n"
     ]
    },
    {
     "data": {
      "text/plain": [
       "<Axes: xlabel='school'>"
      ]
     },
     "execution_count": 26,
     "metadata": {},
     "output_type": "execute_result"
    },
    {
     "data": {
      "image/png": "[encoded data removed]",
      "text/plain": [
       "<Figure size 640x480 with 1 Axes>"
      ]
     },
     "metadata": {},
     "output_type": "display_data"
    }
   ],
   "source": [
    "school_means = df_40_to_49.groupby('school')['ln_earning'].mean()\n",
    "yhat = pd.Series(result_3.params[0] + result_3.params[1] * school_means.index.values, index=school_means.index.values)\n",
    "\n",
    "import matplotlib.pyplot as plt\n",
    "\n",
    "plt.figure()\n",
    "school_means.plot(kind='line', x='school', y='ln wage', style='-o')\n",
    "yhat.plot()"
   ]
  },
  {
   "cell_type": "code",
   "execution_count": 34,
   "metadata": {},
   "outputs": [
    {
     "data": {
      "text/plain": [
       "2.701854947826664"
      ]
     },
     "execution_count": 34,
     "metadata": {},
     "output_type": "execute_result"
    }
   ],
   "source": [
    "result_3.mse_model**.5"
   ]
  },
  {
   "cell_type": "code",
   "execution_count": 33,
   "metadata": {},
   "outputs": [
    {
     "data": {
      "text/plain": [
       "3.6985881186855756"
      ]
     },
     "execution_count": 33,
     "metadata": {},
     "output_type": "execute_result"
    }
   ],
   "source": [
    "result.mse_model**.5"
   ]
  },
  {
   "cell_type": "code",
   "execution_count": 68,
   "metadata": {},
   "outputs": [
    {
     "data": {
      "text/html": [
       "<div>\n",
       "<style scoped>\n",
       "    .dataframe tbody tr th:only-of-type {\n",
       "        vertical-align: middle;\n",
       "    }\n",
       "\n",
       "    .dataframe tbody tr th {\n",
       "        vertical-align: top;\n",
       "    }\n",
       "\n",
       "    .dataframe thead th {\n",
       "        text-align: right;\n",
       "    }\n",
       "</style>\n",
       "<table border=\"1\" class=\"dataframe\">\n",
       "  <thead>\n",
       "    <tr style=\"text-align: right;\">\n",
       "      <th></th>\n",
       "      <th>model 1</th>\n",
       "      <th>model 2</th>\n",
       "      <th>model 3</th>\n",
       "    </tr>\n",
       "  </thead>\n",
       "  <tbody>\n",
       "    <tr>\n",
       "      <th>obs</th>\n",
       "      <td>2543.000000</td>\n",
       "      <td>2543.000000</td>\n",
       "      <td>2543.000000</td>\n",
       "    </tr>\n",
       "    <tr>\n",
       "      <th>rmse</th>\n",
       "      <td>0.832065</td>\n",
       "      <td>0.832044</td>\n",
       "      <td>0.832011</td>\n",
       "    </tr>\n",
       "    <tr>\n",
       "      <th>R2</th>\n",
       "      <td>0.007716</td>\n",
       "      <td>0.008546</td>\n",
       "      <td>0.008235</td>\n",
       "    </tr>\n",
       "    <tr>\n",
       "      <th>Adj R2</th>\n",
       "      <td>0.007325</td>\n",
       "      <td>0.007375</td>\n",
       "      <td>0.007454</td>\n",
       "    </tr>\n",
       "    <tr>\n",
       "      <th>DoF</th>\n",
       "      <td>2541.000000</td>\n",
       "      <td>2539.000000</td>\n",
       "      <td>2540.000000</td>\n",
       "    </tr>\n",
       "    <tr>\n",
       "      <th>b_school</th>\n",
       "      <td>0.022967</td>\n",
       "      <td>0.023526</td>\n",
       "      <td>0.030084</td>\n",
       "    </tr>\n",
       "  </tbody>\n",
       "</table>\n",
       "</div>"
      ],
      "text/plain": [
       "              model 1      model 2      model 3\n",
       "obs       2543.000000  2543.000000  2543.000000\n",
       "rmse         0.832065     0.832044     0.832011\n",
       "R2           0.007716     0.008546     0.008235\n",
       "Adj R2       0.007325     0.007375     0.007454\n",
       "DoF       2541.000000  2539.000000  2540.000000\n",
       "b_school     0.022967     0.023526     0.030084"
      ]
     },
     "execution_count": 68,
     "metadata": {},
     "output_type": "execute_result"
    }
   ],
   "source": [
    "def stats(ols_result):\n",
    "    list_stats = []\n",
    "    list_stats += [ols_result.nobs]\n",
    "    list_stats += [ols_result.mse_resid**.5]\n",
    "    list_stats += [ols_result.rsquared]\n",
    "    list_stats += [ols_result.rsquared_adj]\n",
    "    list_stats += [ols_result.df_resid]\n",
    "    list_stats += [ols_result.params['school']]\n",
    "    return list_stats\n",
    "\n",
    "pd.DataFrame(\n",
    "        {\n",
    "        'model 1' : stats(result),\n",
    "        'model 2' : stats(result_2),\n",
    "        'model 3' : stats(result_3)\n",
    "        },\n",
    "             index=['obs','rmse','R2','Adj R2','DoF','b_school'])"
   ]
  },
  {
   "cell_type": "code",
   "execution_count": null,
   "metadata": {},
   "outputs": [],
   "source": []
  },
  {
   "cell_type": "code",
   "execution_count": 71,
   "metadata": {},
   "outputs": [
    {
     "name": "stderr",
     "output_type": "stream",
     "text": [
      "C:\\Users\\SeanJ\\AppData\\Local\\Temp\\ipykernel_5308\\1876056179.py:2: FutureWarning: Series.__getitem__ treating keys as positions is deprecated. In a future version, integer keys will always be treated as labels (consistent with DataFrame behavior). To access a value by position, use `ser.iloc[pos]`\n",
      "  yhat = pd.Series(result.params[0] + result.params[1] * school_means.index.values, index=school_means.index.values)\n",
      "C:\\Users\\SeanJ\\AppData\\Local\\Temp\\ipykernel_5308\\1876056179.py:3: FutureWarning: Series.__getitem__ treating keys as positions is deprecated. In a future version, integer keys will always be treated as labels (consistent with DataFrame behavior). To access a value by position, use `ser.iloc[pos]`\n",
      "  yhat_2 = pd.Series(result_2.params[0] + result_2.params[1] * school_means.index.values, index=school_means.index.values)\n",
      "C:\\Users\\SeanJ\\AppData\\Local\\Temp\\ipykernel_5308\\1876056179.py:4: FutureWarning: Series.__getitem__ treating keys as positions is deprecated. In a future version, integer keys will always be treated as labels (consistent with DataFrame behavior). To access a value by position, use `ser.iloc[pos]`\n",
      "  yhat_3 = pd.Series(result_3.params[0] + result_3.params[1] * school_means.index.values, index=school_means.index.values)\n",
      "C:\\Users\\SeanJ\\AppData\\Local\\Temp\\ipykernel_5308\\1876056179.py:6: FutureWarning: Series.__getitem__ treating keys as positions is deprecated. In a future version, integer keys will always be treated as labels (consistent with DataFrame behavior). To access a value by position, use `ser.iloc[pos]`\n",
      "  y_textbook = pd.Series(result_3.params[0] + 0.0674387 * school_means.index.values, index=school_means.index.values)\n"
     ]
    },
    {
     "data": {
      "text/plain": [
       "<Axes: xlabel='school'>"
      ]
     },
     "execution_count": 71,
     "metadata": {},
     "output_type": "execute_result"
    },
    {
     "data": {
      "image/png": "[encoded data removed]",
      "text/plain": [
       "<Figure size 640x480 with 1 Axes>"
      ]
     },
     "metadata": {},
     "output_type": "display_data"
    }
   ],
   "source": [
    "school_means = df_40_to_49.groupby('school')['ln_earning'].mean()\n",
    "yhat = pd.Series(result.params[0] + result.params[1] * school_means.index.values, index=school_means.index.values)\n",
    "yhat_2 = pd.Series(result_2.params[0] + result_2.params[1] * school_means.index.values, index=school_means.index.values)\n",
    "yhat_3 = pd.Series(result_3.params[0] + result_3.params[1] * school_means.index.values, index=school_means.index.values)\n",
    "# textbook \n",
    "y_textbook = pd.Series(result_3.params[0] + 0.0674387 * school_means.index.values, index=school_means.index.values)\n",
    "\n",
    "import matplotlib.pyplot as plt\n",
    "\n",
    "plt.figure()\n",
    "school_means.plot(kind='line', x='school', y='ln wage', style='-o')\n",
    "yhat.plot(c='k')\n",
    "yhat_2.plot(c='b')\n",
    "yhat_3.plot(c='r')\n",
    "y_textbook.plot(c='g',style='*')"
   ]
  },
  {
   "cell_type": "code",
   "execution_count": null,
   "metadata": {},
   "outputs": [],
   "source": []
  },
  {
   "cell_type": "code",
   "execution_count": 76,
   "metadata": {},
   "outputs": [
    {
     "data": {
      "text/plain": [
       "<class 'statsmodels.stats.contrast.ContrastResults'>\n",
       "<Wald test (chi2): statistic=1383.31030321759, p-value=4.149390194713e-301, df_denom=2>"
      ]
     },
     "execution_count": 76,
     "metadata": {},
     "output_type": "execute_result"
    }
   ],
   "source": [
    "result.wald_test(['Intercept', 'school'], use_f=False, scalar=True)\n",
    "result_2.wald_test(['Intercept', 'school'], use_f=False, scalar=True)\n"
   ]
  },
  {
   "cell_type": "code",
   "execution_count": 77,
   "metadata": {},
   "outputs": [
    {
     "data": {
      "text/plain": [
       "<class 'statsmodels.stats.contrast.ContrastResults'>\n",
       "<Wald test (chi2): statistic=5266.289531728599, p-value=0.0, df_denom=2>"
      ]
     },
     "execution_count": 77,
     "metadata": {},
     "output_type": "execute_result"
    }
   ],
   "source": [
    "result_3.wald_test(['Intercept', 'school'], use_f=False, scalar=True)"
   ]
  },
  {
   "cell_type": "code",
   "execution_count": 78,
   "metadata": {},
   "outputs": [
    {
     "data": {
      "text/plain": [
       "<class 'statsmodels.stats.contrast.ContrastResults'>\n",
       "<Wald test (chi2): statistic=349345.49099017336, p-value=0.0, df_denom=3>"
      ]
     },
     "execution_count": 78,
     "metadata": {},
     "output_type": "execute_result"
    }
   ],
   "source": [
    "result_3.wald_test(['Intercept', 'school','experience'], use_f=False, scalar=True)"
   ]
  }
 ],
 "metadata": {
  "kernelspec": {
   "display_name": "base",
   "language": "python",
   "name": "python3"
  },
  "language_info": {
   "codemirror_mode": {
    "name": "ipython",
    "version": 3
   },
   "file_extension": ".py",
   "mimetype": "text/x-python",
   "name": "python",
   "nbconvert_exporter": "python",
   "pygments_lexer": "ipython3",
   "version": "3.11.6"
  }
 },
 "nbformat": 4,
 "nbformat_minor": 2
}
