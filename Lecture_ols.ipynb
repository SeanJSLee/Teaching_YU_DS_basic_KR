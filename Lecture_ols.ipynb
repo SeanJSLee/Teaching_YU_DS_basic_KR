{
 "cells": [
  {
   "cell_type": "code",
   "execution_count": 20,
   "metadata": {},
   "outputs": [],
   "source": [
    "import pandas as pd\n",
    "import numpy as np\n",
    "import statsmodels.api as sm\n",
    "import patsy\n",
    "import matplotlib.pyplot as plt\n",
    "\n",
    "\n",
    "# 소수점 설정\n",
    "pd.options.display.float_format = \"{:,.3f}\".format"
   ]
  },
  {
   "cell_type": "markdown",
   "metadata": {},
   "source": [
    "## 4. OLS 회귀분석\n",
    "\n",
    "- 교육서비스와 소득에 경제학적 접근\n",
    "    - 교육에 투자해야 할 이유\n",
    "        - 개인의 경우 소득.\n",
    "        - 정부의 경우 미래 세금 수입.\n",
    "    - 얼마나 많은 교육 서비스를 제공 할 지\n",
    "        - 유한한 자원: 서비스 비용의 증가.\n",
    "        - 효율적인 자원분배: 복지나 인프라에 투자 가능.\n",
    "\n",
    "![fig_3_1_2](doc\\img\\Figure_3_1_2.png)\n",
    "\n",
    "![fig_3_1_3_a](doc\\img\\Figure_3_1_3_a.png)\n",
    "\n",
    "- OLS의 구성\n",
    "    - 결과값\n",
    "        - 평균\n",
    "    - 결과값이 얼마나 믿을만 한지 검사\n",
    "        - 표준오차(standard error): 표준편차랑 거의 같음"
   ]
  },
  {
   "cell_type": "code",
   "execution_count": 3,
   "metadata": {},
   "outputs": [
    {
     "data": {
      "text/html": [
       "<div>\n",
       "<style scoped>\n",
       "    .dataframe tbody tr th:only-of-type {\n",
       "        vertical-align: middle;\n",
       "    }\n",
       "\n",
       "    .dataframe tbody tr th {\n",
       "        vertical-align: top;\n",
       "    }\n",
       "\n",
       "    .dataframe thead th {\n",
       "        text-align: right;\n",
       "    }\n",
       "</style>\n",
       "<table border=\"1\" class=\"dataframe\">\n",
       "  <thead>\n",
       "    <tr style=\"text-align: right;\">\n",
       "      <th></th>\n",
       "      <th>Unnamed: 0</th>\n",
       "      <th>income_78</th>\n",
       "      <th>edu_year</th>\n",
       "      <th>age</th>\n",
       "      <th>edu_level</th>\n",
       "      <th>income_at_23</th>\n",
       "      <th>ln_income_at_23</th>\n",
       "    </tr>\n",
       "  </thead>\n",
       "  <tbody>\n",
       "    <tr>\n",
       "      <th>0</th>\n",
       "      <td>0</td>\n",
       "      <td>9,930.05</td>\n",
       "      <td>11</td>\n",
       "      <td>37</td>\n",
       "      <td>Secondary</td>\n",
       "      <td>46,406.21</td>\n",
       "      <td>10.75</td>\n",
       "    </tr>\n",
       "    <tr>\n",
       "      <th>1</th>\n",
       "      <td>1</td>\n",
       "      <td>3,595.89</td>\n",
       "      <td>9</td>\n",
       "      <td>22</td>\n",
       "      <td>Secondary</td>\n",
       "      <td>16,804.74</td>\n",
       "      <td>9.73</td>\n",
       "    </tr>\n",
       "    <tr>\n",
       "      <th>2</th>\n",
       "      <td>2</td>\n",
       "      <td>24,909.45</td>\n",
       "      <td>12</td>\n",
       "      <td>30</td>\n",
       "      <td>Secondary</td>\n",
       "      <td>116,409.64</td>\n",
       "      <td>11.66</td>\n",
       "    </tr>\n",
       "    <tr>\n",
       "      <th>3</th>\n",
       "      <td>3</td>\n",
       "      <td>7,506.15</td>\n",
       "      <td>11</td>\n",
       "      <td>27</td>\n",
       "      <td>Secondary</td>\n",
       "      <td>35,078.57</td>\n",
       "      <td>10.47</td>\n",
       "    </tr>\n",
       "    <tr>\n",
       "      <th>4</th>\n",
       "      <td>4</td>\n",
       "      <td>289.79</td>\n",
       "      <td>8</td>\n",
       "      <td>33</td>\n",
       "      <td>Secondary</td>\n",
       "      <td>1,354.28</td>\n",
       "      <td>7.21</td>\n",
       "    </tr>\n",
       "    <tr>\n",
       "      <th>...</th>\n",
       "      <td>...</td>\n",
       "      <td>...</td>\n",
       "      <td>...</td>\n",
       "      <td>...</td>\n",
       "      <td>...</td>\n",
       "      <td>...</td>\n",
       "      <td>...</td>\n",
       "    </tr>\n",
       "    <tr>\n",
       "      <th>13955</th>\n",
       "      <td>13955</td>\n",
       "      <td>2,757.44</td>\n",
       "      <td>12</td>\n",
       "      <td>22</td>\n",
       "      <td>Secondary</td>\n",
       "      <td>12,886.37</td>\n",
       "      <td>9.46</td>\n",
       "    </tr>\n",
       "    <tr>\n",
       "      <th>13956</th>\n",
       "      <td>13956</td>\n",
       "      <td>6,895.07</td>\n",
       "      <td>12</td>\n",
       "      <td>20</td>\n",
       "      <td>Secondary</td>\n",
       "      <td>32,222.83</td>\n",
       "      <td>10.38</td>\n",
       "    </tr>\n",
       "    <tr>\n",
       "      <th>13957</th>\n",
       "      <td>13957</td>\n",
       "      <td>4,221.86</td>\n",
       "      <td>12</td>\n",
       "      <td>37</td>\n",
       "      <td>Secondary</td>\n",
       "      <td>19,730.10</td>\n",
       "      <td>9.89</td>\n",
       "    </tr>\n",
       "    <tr>\n",
       "      <th>13958</th>\n",
       "      <td>13958</td>\n",
       "      <td>13,671.93</td>\n",
       "      <td>9</td>\n",
       "      <td>47</td>\n",
       "      <td>Secondary</td>\n",
       "      <td>63,893.20</td>\n",
       "      <td>11.06</td>\n",
       "    </tr>\n",
       "    <tr>\n",
       "      <th>13959</th>\n",
       "      <td>13959</td>\n",
       "      <td>7,979.72</td>\n",
       "      <td>10</td>\n",
       "      <td>40</td>\n",
       "      <td>Secondary</td>\n",
       "      <td>37,291.75</td>\n",
       "      <td>10.53</td>\n",
       "    </tr>\n",
       "  </tbody>\n",
       "</table>\n",
       "<p>13960 rows × 7 columns</p>\n",
       "</div>"
      ],
      "text/plain": [
       "       Unnamed: 0  income_78  edu_year  age  edu_level  income_at_23  \\\n",
       "0               0   9,930.05        11   37  Secondary     46,406.21   \n",
       "1               1   3,595.89         9   22  Secondary     16,804.74   \n",
       "2               2  24,909.45        12   30  Secondary    116,409.64   \n",
       "3               3   7,506.15        11   27  Secondary     35,078.57   \n",
       "4               4     289.79         8   33  Secondary      1,354.28   \n",
       "...           ...        ...       ...  ...        ...           ...   \n",
       "13955       13955   2,757.44        12   22  Secondary     12,886.37   \n",
       "13956       13956   6,895.07        12   20  Secondary     32,222.83   \n",
       "13957       13957   4,221.86        12   37  Secondary     19,730.10   \n",
       "13958       13958  13,671.93         9   47  Secondary     63,893.20   \n",
       "13959       13959   7,979.72        10   40  Secondary     37,291.75   \n",
       "\n",
       "       ln_income_at_23  \n",
       "0                10.75  \n",
       "1                 9.73  \n",
       "2                11.66  \n",
       "3                10.47  \n",
       "4                 7.21  \n",
       "...                ...  \n",
       "13955             9.46  \n",
       "13956            10.38  \n",
       "13957             9.89  \n",
       "13958            11.06  \n",
       "13959            10.53  \n",
       "\n",
       "[13960 rows x 7 columns]"
      ]
     },
     "execution_count": 3,
     "metadata": {},
     "output_type": "execute_result"
    }
   ],
   "source": [
    "df_income = pd.read_csv(r'data\\Dehejia_and_Wahba_1999\\data_cps78_income.csv')\n",
    "df_income"
   ]
  },
  {
   "cell_type": "code",
   "execution_count": null,
   "metadata": {},
   "outputs": [],
   "source": [
    "# df_40_to_49 = pd.read_stata(r'data\\Dehejia_and_Wahba_1999\\cps1re74.dta')\n",
    "# df_40_to_49 = df_40_to_49.loc[df_40_to_49['age'].isin(range(40,50))].loc[df_40_to_49['re78']>0].reset_index(drop=True)\n",
    "# df_40_to_49['earning'] = df_40_to_49['re78']\n",
    "# df_40_to_49['ln_earning'] = np.log(df_40_to_49['earning'])\n",
    "# df_40_to_49['school'] = df_40_to_49 ['ed']\n",
    "# df_40_to_49 = df_40_to_49[['earning', 'ln_earning', 'school','age']]\n",
    "# df_40_to_49"
   ]
  },
  {
   "cell_type": "code",
   "execution_count": null,
   "metadata": {},
   "outputs": [],
   "source": []
  },
  {
   "cell_type": "code",
   "execution_count": null,
   "metadata": {},
   "outputs": [],
   "source": []
  },
  {
   "cell_type": "code",
   "execution_count": 7,
   "metadata": {},
   "outputs": [
    {
     "data": {
      "text/html": [
       "<table class=\"simpletable\">\n",
       "<caption>OLS Regression Results</caption>\n",
       "<tr>\n",
       "  <th>Dep. Variable:</th>     <td>ln_income_at_23</td> <th>  R-squared:         </th> <td>   0.018</td> \n",
       "</tr>\n",
       "<tr>\n",
       "  <th>Model:</th>                   <td>OLS</td>       <th>  Adj. R-squared:    </th> <td>   0.018</td> \n",
       "</tr>\n",
       "<tr>\n",
       "  <th>Method:</th>             <td>Least Squares</td>  <th>  F-statistic:       </th> <td>   245.4</td> \n",
       "</tr>\n",
       "<tr>\n",
       "  <th>Date:</th>             <td>Thu, 07 Mar 2024</td> <th>  Prob (F-statistic):</th> <td>7.49e-55</td> \n",
       "</tr>\n",
       "<tr>\n",
       "  <th>Time:</th>                 <td>17:26:20</td>     <th>  Log-Likelihood:    </th> <td> -19164.</td> \n",
       "</tr>\n",
       "<tr>\n",
       "  <th>No. Observations:</th>      <td> 13960</td>      <th>  AIC:               </th> <td>3.833e+04</td>\n",
       "</tr>\n",
       "<tr>\n",
       "  <th>Df Residuals:</th>          <td> 13958</td>      <th>  BIC:               </th> <td>3.835e+04</td>\n",
       "</tr>\n",
       "<tr>\n",
       "  <th>Df Model:</th>              <td>     1</td>      <th>                     </th>     <td> </td>    \n",
       "</tr>\n",
       "<tr>\n",
       "  <th>Covariance Type:</th>         <td>HC0</td>       <th>                     </th>     <td> </td>    \n",
       "</tr>\n",
       "</table>\n",
       "<table class=\"simpletable\">\n",
       "<tr>\n",
       "      <td></td>         <th>coef</th>     <th>std err</th>      <th>z</th>      <th>P>|z|</th>  <th>[0.025</th>    <th>0.975]</th>  \n",
       "</tr>\n",
       "<tr>\n",
       "  <th>Intercept</th> <td>   10.4906</td> <td>    0.036</td> <td>  292.881</td> <td> 0.000</td> <td>   10.420</td> <td>   10.561</td>\n",
       "</tr>\n",
       "<tr>\n",
       "  <th>edu_year</th>  <td>    0.0450</td> <td>    0.003</td> <td>   15.667</td> <td> 0.000</td> <td>    0.039</td> <td>    0.051</td>\n",
       "</tr>\n",
       "</table>\n",
       "<table class=\"simpletable\">\n",
       "<tr>\n",
       "  <th>Omnibus:</th>       <td>7880.097</td> <th>  Durbin-Watson:     </th> <td>   1.914</td> \n",
       "</tr>\n",
       "<tr>\n",
       "  <th>Prob(Omnibus):</th>  <td> 0.000</td>  <th>  Jarque-Bera (JB):  </th> <td>68169.419</td>\n",
       "</tr>\n",
       "<tr>\n",
       "  <th>Skew:</th>           <td>-2.627</td>  <th>  Prob(JB):          </th> <td>    0.00</td> \n",
       "</tr>\n",
       "<tr>\n",
       "  <th>Kurtosis:</th>       <td>12.465</td>  <th>  Cond. No.          </th> <td>    53.5</td> \n",
       "</tr>\n",
       "</table><br/><br/>Notes:<br/>[1] Standard Errors are heteroscedasticity robust (HC0)"
      ],
      "text/latex": [
       "\\begin{center}\n",
       "\\begin{tabular}{lclc}\n",
       "\\toprule\n",
       "\\textbf{Dep. Variable:}    & ln\\_income\\_at\\_23 & \\textbf{  R-squared:         } &     0.018   \\\\\n",
       "\\textbf{Model:}            &        OLS         & \\textbf{  Adj. R-squared:    } &     0.018   \\\\\n",
       "\\textbf{Method:}           &   Least Squares    & \\textbf{  F-statistic:       } &     245.4   \\\\\n",
       "\\textbf{Date:}             &  Thu, 07 Mar 2024  & \\textbf{  Prob (F-statistic):} &  7.49e-55   \\\\\n",
       "\\textbf{Time:}             &      17:26:20      & \\textbf{  Log-Likelihood:    } &   -19164.   \\\\\n",
       "\\textbf{No. Observations:} &        13960       & \\textbf{  AIC:               } & 3.833e+04   \\\\\n",
       "\\textbf{Df Residuals:}     &        13958       & \\textbf{  BIC:               } & 3.835e+04   \\\\\n",
       "\\textbf{Df Model:}         &            1       & \\textbf{                     } &             \\\\\n",
       "\\textbf{Covariance Type:}  &        HC0         & \\textbf{                     } &             \\\\\n",
       "\\bottomrule\n",
       "\\end{tabular}\n",
       "\\begin{tabular}{lcccccc}\n",
       "                   & \\textbf{coef} & \\textbf{std err} & \\textbf{z} & \\textbf{P$> |$z$|$} & \\textbf{[0.025} & \\textbf{0.975]}  \\\\\n",
       "\\midrule\n",
       "\\textbf{Intercept} &      10.4906  &        0.036     &   292.881  &         0.000        &       10.420    &       10.561     \\\\\n",
       "\\textbf{edu\\_year} &       0.0450  &        0.003     &    15.667  &         0.000        &        0.039    &        0.051     \\\\\n",
       "\\bottomrule\n",
       "\\end{tabular}\n",
       "\\begin{tabular}{lclc}\n",
       "\\textbf{Omnibus:}       & 7880.097 & \\textbf{  Durbin-Watson:     } &     1.914  \\\\\n",
       "\\textbf{Prob(Omnibus):} &   0.000  & \\textbf{  Jarque-Bera (JB):  } & 68169.419  \\\\\n",
       "\\textbf{Skew:}          &  -2.627  & \\textbf{  Prob(JB):          } &      0.00  \\\\\n",
       "\\textbf{Kurtosis:}      &  12.465  & \\textbf{  Cond. No.          } &      53.5  \\\\\n",
       "\\bottomrule\n",
       "\\end{tabular}\n",
       "%\\caption{OLS Regression Results}\n",
       "\\end{center}\n",
       "\n",
       "Notes: \\newline\n",
       " [1] Standard Errors are heteroscedasticity robust (HC0)"
      ],
      "text/plain": [
       "<class 'statsmodels.iolib.summary.Summary'>\n",
       "\"\"\"\n",
       "                            OLS Regression Results                            \n",
       "==============================================================================\n",
       "Dep. Variable:        ln_income_at_23   R-squared:                       0.018\n",
       "Model:                            OLS   Adj. R-squared:                  0.018\n",
       "Method:                 Least Squares   F-statistic:                     245.4\n",
       "Date:                Thu, 07 Mar 2024   Prob (F-statistic):           7.49e-55\n",
       "Time:                        17:26:20   Log-Likelihood:                -19164.\n",
       "No. Observations:               13960   AIC:                         3.833e+04\n",
       "Df Residuals:                   13958   BIC:                         3.835e+04\n",
       "Df Model:                           1                                         \n",
       "Covariance Type:                  HC0                                         \n",
       "==============================================================================\n",
       "                 coef    std err          z      P>|z|      [0.025      0.975]\n",
       "------------------------------------------------------------------------------\n",
       "Intercept     10.4906      0.036    292.881      0.000      10.420      10.561\n",
       "edu_year       0.0450      0.003     15.667      0.000       0.039       0.051\n",
       "==============================================================================\n",
       "Omnibus:                     7880.097   Durbin-Watson:                   1.914\n",
       "Prob(Omnibus):                  0.000   Jarque-Bera (JB):            68169.419\n",
       "Skew:                          -2.627   Prob(JB):                         0.00\n",
       "Kurtosis:                      12.465   Cond. No.                         53.5\n",
       "==============================================================================\n",
       "\n",
       "Notes:\n",
       "[1] Standard Errors are heteroscedasticity robust (HC0)\n",
       "\"\"\""
      ]
     },
     "execution_count": 7,
     "metadata": {},
     "output_type": "execute_result"
    }
   ],
   "source": [
    "y,X = patsy.dmatrices('ln_income_at_23 ~ edu_year',data=df_income, return_type='dataframe')\n",
    "\n",
    "result = sm.OLS(y,X).fit(cov_type='HC0')\n",
    "result.summary()\n"
   ]
  },
  {
   "cell_type": "markdown",
   "metadata": {},
   "source": [
    "![fig_3_1_3_a](doc\\img\\Figure_3_1_3_a.png)"
   ]
  },
  {
   "cell_type": "markdown",
   "metadata": {},
   "source": [
    "### 6. OLS 해석\n",
    "\n",
    "[statsmodels.regression.linear_model.OLSResults](https://www.statsmodels.org/stable/generated/statsmodels.regression.linear_model.OLSResults.html)\n",
    "\n",
    " * OBS  \n"
   ]
  },
  {
   "cell_type": "code",
   "execution_count": 21,
   "metadata": {},
   "outputs": [
    {
     "data": {
      "text/plain": [
       "13960.0"
      ]
     },
     "execution_count": 21,
     "metadata": {},
     "output_type": "execute_result"
    }
   ],
   "source": [
    "result.nobs"
   ]
  },
  {
   "cell_type": "markdown",
   "metadata": {},
   "source": [
    "\n",
    " * Wald test [res.wald_test()](https://www.statsmodels.org/stable/generated/statsmodels.regression.linear_model.OLSResults.wald_test.html)  \n",
    " follows k DoF. Chi-squared distribution. (9.210 @ k=2, alpha=.99) [critical value table](https://www.itl.nist.gov/div898/handbook/eda/section3/eda3674.htm)"
   ]
  },
  {
   "cell_type": "code",
   "execution_count": 22,
   "metadata": {},
   "outputs": [
    {
     "data": {
      "text/plain": [
       "<class 'statsmodels.stats.contrast.ContrastResults'>\n",
       "<Wald test (chi2): statistic=1870626.2975232098, p-value=0.0, df_denom=2>"
      ]
     },
     "execution_count": 22,
     "metadata": {},
     "output_type": "execute_result"
    }
   ],
   "source": [
    "result.wald_test(result.params.index.to_list(), use_f=False, scalar=True)"
   ]
  },
  {
   "cell_type": "code",
   "execution_count": 23,
   "metadata": {},
   "outputs": [
    {
     "data": {
      "text/plain": [
       "9.21034037197618"
      ]
     },
     "execution_count": 23,
     "metadata": {},
     "output_type": "execute_result"
    }
   ],
   "source": [
    "from scipy.stats import chi2\n",
    "chi2.ppf(.99,df=2)"
   ]
  },
  {
   "cell_type": "markdown",
   "metadata": {},
   "source": [
    " * Coeff   \n",
    " \n",
    "|variable   | coef\t  |  \n",
    "|--         | --:      |\n",
    "| Intercept\t| 9.4069  |\n",
    "| school\t  | 0.0230  | \n",
    "\n"
   ]
  },
  {
   "cell_type": "code",
   "execution_count": 24,
   "metadata": {},
   "outputs": [
    {
     "data": {
      "text/plain": [
       "Intercept   10.491\n",
       "edu_year     0.045\n",
       "dtype: float64"
      ]
     },
     "execution_count": 24,
     "metadata": {},
     "output_type": "execute_result"
    }
   ],
   "source": [
    "result.params"
   ]
  },
  {
   "cell_type": "markdown",
   "metadata": {},
   "source": [
    " * t stat and SE\n",
    "  \n",
    "|variable   | std err\t| t       | P>\\|t\\| |  \n",
    "|--         | --:      | --:      | --: |\n",
    "| Intercept\t| 0.060   | 156.583 | 0.000 |\n",
    "| school\t  | 0.005   | 4.445   | 0.000 | \n",
    "\n"
   ]
  },
  {
   "cell_type": "code",
   "execution_count": 25,
   "metadata": {},
   "outputs": [
    {
     "data": {
      "text/plain": [
       "Intercept   0.036\n",
       "edu_year    0.003\n",
       "dtype: float64"
      ]
     },
     "execution_count": 25,
     "metadata": {},
     "output_type": "execute_result"
    }
   ],
   "source": [
    "result.bse"
   ]
  },
  {
   "cell_type": "code",
   "execution_count": 26,
   "metadata": {},
   "outputs": [
    {
     "data": {
      "text/plain": [
       "Intercept   292.881\n",
       "edu_year     15.667\n",
       "dtype: float64"
      ]
     },
     "execution_count": 26,
     "metadata": {},
     "output_type": "execute_result"
    }
   ],
   "source": [
    "result.tvalues"
   ]
  },
  {
   "cell_type": "code",
   "execution_count": 27,
   "metadata": {},
   "outputs": [
    {
     "data": {
      "text/plain": [
       "Intercept   0.000\n",
       "edu_year    0.000\n",
       "dtype: float64"
      ]
     },
     "execution_count": 27,
     "metadata": {},
     "output_type": "execute_result"
    }
   ],
   "source": [
    "result.pvalues"
   ]
  },
  {
   "cell_type": "markdown",
   "metadata": {},
   "source": [
    " * Confidence interval\n",
    "\n",
    "  \n",
    "|variable   | \\[0.025\t  | 0.975\\]\t  |  \n",
    "|--         | --:      |--:      |\n",
    "| Intercept\t| 9.289  |9.4069  |\n",
    "| school\t  | 0.013  |0.033  | \n",
    "\n"
   ]
  },
  {
   "cell_type": "code",
   "execution_count": 28,
   "metadata": {},
   "outputs": [
    {
     "data": {
      "text/html": [
       "<div>\n",
       "<style scoped>\n",
       "    .dataframe tbody tr th:only-of-type {\n",
       "        vertical-align: middle;\n",
       "    }\n",
       "\n",
       "    .dataframe tbody tr th {\n",
       "        vertical-align: top;\n",
       "    }\n",
       "\n",
       "    .dataframe thead th {\n",
       "        text-align: right;\n",
       "    }\n",
       "</style>\n",
       "<table border=\"1\" class=\"dataframe\">\n",
       "  <thead>\n",
       "    <tr style=\"text-align: right;\">\n",
       "      <th></th>\n",
       "      <th>0</th>\n",
       "      <th>1</th>\n",
       "    </tr>\n",
       "  </thead>\n",
       "  <tbody>\n",
       "    <tr>\n",
       "      <th>Intercept</th>\n",
       "      <td>10.420</td>\n",
       "      <td>10.561</td>\n",
       "    </tr>\n",
       "    <tr>\n",
       "      <th>edu_year</th>\n",
       "      <td>0.039</td>\n",
       "      <td>0.051</td>\n",
       "    </tr>\n",
       "  </tbody>\n",
       "</table>\n",
       "</div>"
      ],
      "text/plain": [
       "               0      1\n",
       "Intercept 10.420 10.561\n",
       "edu_year   0.039  0.051"
      ]
     },
     "execution_count": 28,
     "metadata": {},
     "output_type": "execute_result"
    }
   ],
   "source": [
    "result.conf_int()"
   ]
  },
  {
   "cell_type": "markdown",
   "metadata": {},
   "source": [
    " * R-squared\n",
    " "
   ]
  },
  {
   "cell_type": "code",
   "execution_count": 29,
   "metadata": {},
   "outputs": [
    {
     "data": {
      "text/plain": [
       "0.017747284527518725"
      ]
     },
     "execution_count": 29,
     "metadata": {},
     "output_type": "execute_result"
    }
   ],
   "source": [
    "result.rsquared_adj"
   ]
  },
  {
   "cell_type": "markdown",
   "metadata": {},
   "source": [
    "* consider an alternative specification - RMSE"
   ]
  },
  {
   "cell_type": "code",
   "execution_count": 30,
   "metadata": {},
   "outputs": [
    {
     "data": {
      "text/plain": [
       "0.9549736923548962"
      ]
     },
     "execution_count": 30,
     "metadata": {},
     "output_type": "execute_result"
    }
   ],
   "source": [
    "result.mse_resid**.5"
   ]
  },
  {
   "cell_type": "markdown",
   "metadata": {},
   "source": [
    "OLS in matrix form."
   ]
  },
  {
   "cell_type": "code",
   "execution_count": 31,
   "metadata": {},
   "outputs": [
    {
     "name": "stdout",
     "output_type": "stream",
     "text": [
      "beta : [[10.49061331]\n",
      " [ 0.04503469]] \n",
      "beta 0: [[10.49061331]] \n",
      "beta 1: [[0.04503469]]\n"
     ]
    }
   ],
   "source": [
    "mat_x = np.matrix(X)\n",
    "mat_y = np.matrix(y)\n",
    "\n",
    "xTx = mat_x.T * mat_x\n",
    "xTx_inv = np.linalg.inv(xTx)\n",
    "xTy = mat_x.T * mat_y\n",
    "\n",
    "beta_hat = xTx_inv * xTy\n",
    "print('beta :',beta_hat, '\\nbeta 0:',beta_hat[0], '\\nbeta 1:',beta_hat[1])"
   ]
  },
  {
   "cell_type": "code",
   "execution_count": 44,
   "metadata": {},
   "outputs": [
    {
     "data": {
      "text/plain": [
       "<Axes: xlabel='edu_year'>"
      ]
     },
     "execution_count": 44,
     "metadata": {},
     "output_type": "execute_result"
    },
    {
     "data": {
      "image/png": "[encoded data removed]",
      "text/plain": [
       "<Figure size 640x480 with 1 Axes>"
      ]
     },
     "metadata": {},
     "output_type": "display_data"
    }
   ],
   "source": [
    "school_means = df_income.groupby('edu_year')['ln_income_at_23'].mean()\n",
    "yhat = pd.Series(result.params['Intercept'] + result.params['edu_year'] * school_means.index.values, index=school_means.index.values)\n",
    "\n",
    "\n",
    "plt.figure()\n",
    "school_means.plot(kind='line', x='edu_year', y='ln_earning_23', style='-o')\n",
    "yhat.plot(style='-.')"
   ]
  },
  {
   "cell_type": "code",
   "execution_count": null,
   "metadata": {},
   "outputs": [],
   "source": []
  },
  {
   "cell_type": "code",
   "execution_count": 38,
   "metadata": {},
   "outputs": [
    {
     "data": {
      "text/html": [
       "<table class=\"simpletable\">\n",
       "<caption>OLS Regression Results</caption>\n",
       "<tr>\n",
       "  <th>Dep. Variable:</th>     <td>ln_income_at_23</td> <th>  R-squared:         </th> <td>   0.075</td> \n",
       "</tr>\n",
       "<tr>\n",
       "  <th>Model:</th>                   <td>OLS</td>       <th>  Adj. R-squared:    </th> <td>   0.075</td> \n",
       "</tr>\n",
       "<tr>\n",
       "  <th>Method:</th>             <td>Least Squares</td>  <th>  F-statistic:       </th> <td>   487.5</td> \n",
       "</tr>\n",
       "<tr>\n",
       "  <th>Date:</th>             <td>Thu, 07 Mar 2024</td> <th>  Prob (F-statistic):</th> <td>2.25e-205</td>\n",
       "</tr>\n",
       "<tr>\n",
       "  <th>Time:</th>                 <td>17:33:05</td>     <th>  Log-Likelihood:    </th> <td> -18743.</td> \n",
       "</tr>\n",
       "<tr>\n",
       "  <th>No. Observations:</th>      <td> 13960</td>      <th>  AIC:               </th> <td>3.749e+04</td>\n",
       "</tr>\n",
       "<tr>\n",
       "  <th>Df Residuals:</th>          <td> 13957</td>      <th>  BIC:               </th> <td>3.751e+04</td>\n",
       "</tr>\n",
       "<tr>\n",
       "  <th>Df Model:</th>              <td>     2</td>      <th>                     </th>     <td> </td>    \n",
       "</tr>\n",
       "<tr>\n",
       "  <th>Covariance Type:</th>         <td>HC0</td>       <th>                     </th>     <td> </td>    \n",
       "</tr>\n",
       "</table>\n",
       "<table class=\"simpletable\">\n",
       "<tr>\n",
       "      <td></td>         <th>coef</th>     <th>std err</th>      <th>z</th>      <th>P>|z|</th>  <th>[0.025</th>    <th>0.975]</th>  \n",
       "</tr>\n",
       "<tr>\n",
       "  <th>Intercept</th> <td>    9.6654</td> <td>    0.048</td> <td>  199.425</td> <td> 0.000</td> <td>    9.570</td> <td>    9.760</td>\n",
       "</tr>\n",
       "<tr>\n",
       "  <th>edu_year</th>  <td>    0.0554</td> <td>    0.003</td> <td>   19.144</td> <td> 0.000</td> <td>    0.050</td> <td>    0.061</td>\n",
       "</tr>\n",
       "<tr>\n",
       "  <th>age</th>       <td>    0.0214</td> <td>    0.001</td> <td>   28.383</td> <td> 0.000</td> <td>    0.020</td> <td>    0.023</td>\n",
       "</tr>\n",
       "</table>\n",
       "<table class=\"simpletable\">\n",
       "<tr>\n",
       "  <th>Omnibus:</th>       <td>8185.735</td> <th>  Durbin-Watson:     </th> <td>   1.915</td> \n",
       "</tr>\n",
       "<tr>\n",
       "  <th>Prob(Omnibus):</th>  <td> 0.000</td>  <th>  Jarque-Bera (JB):  </th> <td>79318.302</td>\n",
       "</tr>\n",
       "<tr>\n",
       "  <th>Skew:</th>           <td>-2.714</td>  <th>  Prob(JB):          </th> <td>    0.00</td> \n",
       "</tr>\n",
       "<tr>\n",
       "  <th>Kurtosis:</th>       <td>13.339</td>  <th>  Cond. No.          </th> <td>    204.</td> \n",
       "</tr>\n",
       "</table><br/><br/>Notes:<br/>[1] Standard Errors are heteroscedasticity robust (HC0)"
      ],
      "text/latex": [
       "\\begin{center}\n",
       "\\begin{tabular}{lclc}\n",
       "\\toprule\n",
       "\\textbf{Dep. Variable:}    & ln\\_income\\_at\\_23 & \\textbf{  R-squared:         } &     0.075   \\\\\n",
       "\\textbf{Model:}            &        OLS         & \\textbf{  Adj. R-squared:    } &     0.075   \\\\\n",
       "\\textbf{Method:}           &   Least Squares    & \\textbf{  F-statistic:       } &     487.5   \\\\\n",
       "\\textbf{Date:}             &  Thu, 07 Mar 2024  & \\textbf{  Prob (F-statistic):} & 2.25e-205   \\\\\n",
       "\\textbf{Time:}             &      17:33:05      & \\textbf{  Log-Likelihood:    } &   -18743.   \\\\\n",
       "\\textbf{No. Observations:} &        13960       & \\textbf{  AIC:               } & 3.749e+04   \\\\\n",
       "\\textbf{Df Residuals:}     &        13957       & \\textbf{  BIC:               } & 3.751e+04   \\\\\n",
       "\\textbf{Df Model:}         &            2       & \\textbf{                     } &             \\\\\n",
       "\\textbf{Covariance Type:}  &        HC0         & \\textbf{                     } &             \\\\\n",
       "\\bottomrule\n",
       "\\end{tabular}\n",
       "\\begin{tabular}{lcccccc}\n",
       "                   & \\textbf{coef} & \\textbf{std err} & \\textbf{z} & \\textbf{P$> |$z$|$} & \\textbf{[0.025} & \\textbf{0.975]}  \\\\\n",
       "\\midrule\n",
       "\\textbf{Intercept} &       9.6654  &        0.048     &   199.425  &         0.000        &        9.570    &        9.760     \\\\\n",
       "\\textbf{edu\\_year} &       0.0554  &        0.003     &    19.144  &         0.000        &        0.050    &        0.061     \\\\\n",
       "\\textbf{age}       &       0.0214  &        0.001     &    28.383  &         0.000        &        0.020    &        0.023     \\\\\n",
       "\\bottomrule\n",
       "\\end{tabular}\n",
       "\\begin{tabular}{lclc}\n",
       "\\textbf{Omnibus:}       & 8185.735 & \\textbf{  Durbin-Watson:     } &     1.915  \\\\\n",
       "\\textbf{Prob(Omnibus):} &   0.000  & \\textbf{  Jarque-Bera (JB):  } & 79318.302  \\\\\n",
       "\\textbf{Skew:}          &  -2.714  & \\textbf{  Prob(JB):          } &      0.00  \\\\\n",
       "\\textbf{Kurtosis:}      &  13.339  & \\textbf{  Cond. No.          } &      204.  \\\\\n",
       "\\bottomrule\n",
       "\\end{tabular}\n",
       "%\\caption{OLS Regression Results}\n",
       "\\end{center}\n",
       "\n",
       "Notes: \\newline\n",
       " [1] Standard Errors are heteroscedasticity robust (HC0)"
      ],
      "text/plain": [
       "<class 'statsmodels.iolib.summary.Summary'>\n",
       "\"\"\"\n",
       "                            OLS Regression Results                            \n",
       "==============================================================================\n",
       "Dep. Variable:        ln_income_at_23   R-squared:                       0.075\n",
       "Model:                            OLS   Adj. R-squared:                  0.075\n",
       "Method:                 Least Squares   F-statistic:                     487.5\n",
       "Date:                Thu, 07 Mar 2024   Prob (F-statistic):          2.25e-205\n",
       "Time:                        17:33:05   Log-Likelihood:                -18743.\n",
       "No. Observations:               13960   AIC:                         3.749e+04\n",
       "Df Residuals:                   13957   BIC:                         3.751e+04\n",
       "Df Model:                           2                                         \n",
       "Covariance Type:                  HC0                                         \n",
       "==============================================================================\n",
       "                 coef    std err          z      P>|z|      [0.025      0.975]\n",
       "------------------------------------------------------------------------------\n",
       "Intercept      9.6654      0.048    199.425      0.000       9.570       9.760\n",
       "edu_year       0.0554      0.003     19.144      0.000       0.050       0.061\n",
       "age            0.0214      0.001     28.383      0.000       0.020       0.023\n",
       "==============================================================================\n",
       "Omnibus:                     8185.735   Durbin-Watson:                   1.915\n",
       "Prob(Omnibus):                  0.000   Jarque-Bera (JB):            79318.302\n",
       "Skew:                          -2.714   Prob(JB):                         0.00\n",
       "Kurtosis:                      13.339   Cond. No.                         204.\n",
       "==============================================================================\n",
       "\n",
       "Notes:\n",
       "[1] Standard Errors are heteroscedasticity robust (HC0)\n",
       "\"\"\""
      ]
     },
     "execution_count": 38,
     "metadata": {},
     "output_type": "execute_result"
    }
   ],
   "source": [
    "y,X = patsy.dmatrices('ln_income_at_23 ~ edu_year + age',data=df_income, return_type='dataframe')\n",
    "\n",
    "model_2 = sm.OLS(y,X)\n",
    "result_2 = model_2.fit(cov_type='HC0')\n",
    "result_2.summary()"
   ]
  },
  {
   "cell_type": "code",
   "execution_count": 47,
   "metadata": {},
   "outputs": [
    {
     "data": {
      "text/plain": [
       "32.79068767908309"
      ]
     },
     "execution_count": 47,
     "metadata": {},
     "output_type": "execute_result"
    }
   ],
   "source": [
    "df_income['age'].mean()"
   ]
  },
  {
   "cell_type": "code",
   "execution_count": 48,
   "metadata": {},
   "outputs": [
    {
     "data": {
      "text/plain": [
       "<Axes: xlabel='edu_year'>"
      ]
     },
     "execution_count": 48,
     "metadata": {},
     "output_type": "execute_result"
    },
    {
     "data": {
      "image/png": "[encoded data removed]",
      "text/plain": [
       "<Figure size 640x480 with 1 Axes>"
      ]
     },
     "metadata": {},
     "output_type": "display_data"
    }
   ],
   "source": [
    "school_means = df_income.groupby('edu_year')['ln_income_at_23'].mean()\n",
    "yhat = pd.Series(df_income['age'].mean() * result_2.params['age']+ result_2.params['Intercept'] + result_2.params['edu_year'] * school_means.index.values, index=school_means.index.values)\n",
    "\n",
    "import matplotlib.pyplot as plt\n",
    "\n",
    "plt.figure()\n",
    "school_means.plot(kind='line', x='edu_year', y='ln_income_at_23', style='-o')\n",
    "yhat.plot()"
   ]
  },
  {
   "cell_type": "code",
   "execution_count": 41,
   "metadata": {},
   "outputs": [
    {
     "data": {
      "text/html": [
       "<table class=\"simpletable\">\n",
       "<caption>OLS Regression Results</caption>\n",
       "<tr>\n",
       "  <th>Dep. Variable:</th>       <td>ln_earning</td>    <th>  R-squared:         </th> <td>   0.008</td>\n",
       "</tr>\n",
       "<tr>\n",
       "  <th>Model:</th>                   <td>OLS</td>       <th>  Adj. R-squared:    </th> <td>   0.007</td>\n",
       "</tr>\n",
       "<tr>\n",
       "  <th>Method:</th>             <td>Least Squares</td>  <th>  F-statistic:       </th> <td>   8.230</td>\n",
       "</tr>\n",
       "<tr>\n",
       "  <th>Date:</th>             <td>Sat, 02 Mar 2024</td> <th>  Prob (F-statistic):</th> <td>0.000274</td>\n",
       "</tr>\n",
       "<tr>\n",
       "  <th>Time:</th>                 <td>14:18:44</td>     <th>  Log-Likelihood:    </th> <td> -3139.2</td>\n",
       "</tr>\n",
       "<tr>\n",
       "  <th>No. Observations:</th>      <td>  2543</td>      <th>  AIC:               </th> <td>   6284.</td>\n",
       "</tr>\n",
       "<tr>\n",
       "  <th>Df Residuals:</th>          <td>  2540</td>      <th>  BIC:               </th> <td>   6302.</td>\n",
       "</tr>\n",
       "<tr>\n",
       "  <th>Df Model:</th>              <td>     2</td>      <th>                     </th>     <td> </td>   \n",
       "</tr>\n",
       "<tr>\n",
       "  <th>Covariance Type:</th>         <td>HC0</td>       <th>                     </th>     <td> </td>   \n",
       "</tr>\n",
       "</table>\n",
       "<table class=\"simpletable\">\n",
       "<tr>\n",
       "       <td></td>         <th>coef</th>     <th>std err</th>      <th>z</th>      <th>P>|z|</th>  <th>[0.025</th>    <th>0.975]</th>  \n",
       "</tr>\n",
       "<tr>\n",
       "  <th>Intercept</th>  <td>    9.1073</td> <td>    0.258</td> <td>   35.241</td> <td> 0.000</td> <td>    8.601</td> <td>    9.614</td>\n",
       "</tr>\n",
       "<tr>\n",
       "  <th>school</th>     <td>    0.0301</td> <td>    0.008</td> <td>    3.633</td> <td> 0.000</td> <td>    0.014</td> <td>    0.046</td>\n",
       "</tr>\n",
       "<tr>\n",
       "  <th>experience</th> <td>    0.0066</td> <td>    0.006</td> <td>    1.195</td> <td> 0.232</td> <td>   -0.004</td> <td>    0.017</td>\n",
       "</tr>\n",
       "</table>\n",
       "<table class=\"simpletable\">\n",
       "<tr>\n",
       "  <th>Omnibus:</th>       <td>1659.354</td> <th>  Durbin-Watson:     </th> <td>   1.920</td> \n",
       "</tr>\n",
       "<tr>\n",
       "  <th>Prob(Omnibus):</th>  <td> 0.000</td>  <th>  Jarque-Bera (JB):  </th> <td>18445.660</td>\n",
       "</tr>\n",
       "<tr>\n",
       "  <th>Skew:</th>           <td>-3.021</td>  <th>  Prob(JB):          </th> <td>    0.00</td> \n",
       "</tr>\n",
       "<tr>\n",
       "  <th>Kurtosis:</th>       <td>14.729</td>  <th>  Cond. No.          </th> <td>    571.</td> \n",
       "</tr>\n",
       "</table><br/><br/>Notes:<br/>[1] Standard Errors are heteroscedasticity robust (HC0)"
      ],
      "text/latex": [
       "\\begin{center}\n",
       "\\begin{tabular}{lclc}\n",
       "\\toprule\n",
       "\\textbf{Dep. Variable:}    &   ln\\_earning    & \\textbf{  R-squared:         } &     0.008   \\\\\n",
       "\\textbf{Model:}            &       OLS        & \\textbf{  Adj. R-squared:    } &     0.007   \\\\\n",
       "\\textbf{Method:}           &  Least Squares   & \\textbf{  F-statistic:       } &     8.230   \\\\\n",
       "\\textbf{Date:}             & Sat, 02 Mar 2024 & \\textbf{  Prob (F-statistic):} &  0.000274   \\\\\n",
       "\\textbf{Time:}             &     14:18:44     & \\textbf{  Log-Likelihood:    } &   -3139.2   \\\\\n",
       "\\textbf{No. Observations:} &        2543      & \\textbf{  AIC:               } &     6284.   \\\\\n",
       "\\textbf{Df Residuals:}     &        2540      & \\textbf{  BIC:               } &     6302.   \\\\\n",
       "\\textbf{Df Model:}         &           2      & \\textbf{                     } &             \\\\\n",
       "\\textbf{Covariance Type:}  &       HC0        & \\textbf{                     } &             \\\\\n",
       "\\bottomrule\n",
       "\\end{tabular}\n",
       "\\begin{tabular}{lcccccc}\n",
       "                    & \\textbf{coef} & \\textbf{std err} & \\textbf{z} & \\textbf{P$> |$z$|$} & \\textbf{[0.025} & \\textbf{0.975]}  \\\\\n",
       "\\midrule\n",
       "\\textbf{Intercept}  &       9.1073  &        0.258     &    35.241  &         0.000        &        8.601    &        9.614     \\\\\n",
       "\\textbf{school}     &       0.0301  &        0.008     &     3.633  &         0.000        &        0.014    &        0.046     \\\\\n",
       "\\textbf{experience} &       0.0066  &        0.006     &     1.195  &         0.232        &       -0.004    &        0.017     \\\\\n",
       "\\bottomrule\n",
       "\\end{tabular}\n",
       "\\begin{tabular}{lclc}\n",
       "\\textbf{Omnibus:}       & 1659.354 & \\textbf{  Durbin-Watson:     } &     1.920  \\\\\n",
       "\\textbf{Prob(Omnibus):} &   0.000  & \\textbf{  Jarque-Bera (JB):  } & 18445.660  \\\\\n",
       "\\textbf{Skew:}          &  -3.021  & \\textbf{  Prob(JB):          } &      0.00  \\\\\n",
       "\\textbf{Kurtosis:}      &  14.729  & \\textbf{  Cond. No.          } &      571.  \\\\\n",
       "\\bottomrule\n",
       "\\end{tabular}\n",
       "%\\caption{OLS Regression Results}\n",
       "\\end{center}\n",
       "\n",
       "Notes: \\newline\n",
       " [1] Standard Errors are heteroscedasticity robust (HC0)"
      ],
      "text/plain": [
       "<class 'statsmodels.iolib.summary.Summary'>\n",
       "\"\"\"\n",
       "                            OLS Regression Results                            \n",
       "==============================================================================\n",
       "Dep. Variable:             ln_earning   R-squared:                       0.008\n",
       "Model:                            OLS   Adj. R-squared:                  0.007\n",
       "Method:                 Least Squares   F-statistic:                     8.230\n",
       "Date:                Sat, 02 Mar 2024   Prob (F-statistic):           0.000274\n",
       "Time:                        14:18:44   Log-Likelihood:                -3139.2\n",
       "No. Observations:                2543   AIC:                             6284.\n",
       "Df Residuals:                    2540   BIC:                             6302.\n",
       "Df Model:                           2                                         \n",
       "Covariance Type:                  HC0                                         \n",
       "==============================================================================\n",
       "                 coef    std err          z      P>|z|      [0.025      0.975]\n",
       "------------------------------------------------------------------------------\n",
       "Intercept      9.1073      0.258     35.241      0.000       8.601       9.614\n",
       "school         0.0301      0.008      3.633      0.000       0.014       0.046\n",
       "experience     0.0066      0.006      1.195      0.232      -0.004       0.017\n",
       "==============================================================================\n",
       "Omnibus:                     1659.354   Durbin-Watson:                   1.920\n",
       "Prob(Omnibus):                  0.000   Jarque-Bera (JB):            18445.660\n",
       "Skew:                          -3.021   Prob(JB):                         0.00\n",
       "Kurtosis:                      14.729   Cond. No.                         571.\n",
       "==============================================================================\n",
       "\n",
       "Notes:\n",
       "[1] Standard Errors are heteroscedasticity robust (HC0)\n",
       "\"\"\""
      ]
     },
     "execution_count": 41,
     "metadata": {},
     "output_type": "execute_result"
    }
   ],
   "source": [
    "df_40_to_49['experience'] = df_40_to_49['age'] - df_40_to_49['school']\n",
    "y,X = patsy.dmatrices('ln_earning ~ school + experience ',data=df_40_to_49, return_type='dataframe')\n",
    "\n",
    "model_3 = sm.OLS(y,X)\n",
    "result_3 = model_3.fit(cov_type='HC0')\n",
    "result_3.summary()"
   ]
  },
  {
   "cell_type": "code",
   "execution_count": 26,
   "metadata": {},
   "outputs": [
    {
     "name": "stderr",
     "output_type": "stream",
     "text": [
      "C:\\Users\\SeanJ\\AppData\\Local\\Temp\\ipykernel_5308\\1114850971.py:2: FutureWarning: Series.__getitem__ treating keys as positions is deprecated. In a future version, integer keys will always be treated as labels (consistent with DataFrame behavior). To access a value by position, use `ser.iloc[pos]`\n",
      "  yhat = pd.Series(result_3.params[0] + result_3.params[1] * school_means.index.values, index=school_means.index.values)\n"
     ]
    },
    {
     "data": {
      "text/plain": [
       "<Axes: xlabel='school'>"
      ]
     },
     "execution_count": 26,
     "metadata": {},
     "output_type": "execute_result"
    },
    {
     "data": {
      "image/png": "[encoded data removed]",
      "text/plain": [
       "<Figure size 640x480 with 1 Axes>"
      ]
     },
     "metadata": {},
     "output_type": "display_data"
    }
   ],
   "source": [
    "school_means = df_40_to_49.groupby('school')['ln_earning'].mean()\n",
    "yhat = pd.Series(result_3.params[0] + result_3.params[1] * school_means.index.values, index=school_means.index.values)\n",
    "\n",
    "import matplotlib.pyplot as plt\n",
    "\n",
    "plt.figure()\n",
    "school_means.plot(kind='line', x='school', y='ln wage', style='-o')\n",
    "yhat.plot()"
   ]
  },
  {
   "cell_type": "code",
   "execution_count": 34,
   "metadata": {},
   "outputs": [
    {
     "data": {
      "text/plain": [
       "2.701854947826664"
      ]
     },
     "execution_count": 34,
     "metadata": {},
     "output_type": "execute_result"
    }
   ],
   "source": [
    "result_3.mse_model**.5"
   ]
  },
  {
   "cell_type": "code",
   "execution_count": 33,
   "metadata": {},
   "outputs": [
    {
     "data": {
      "text/plain": [
       "3.6985881186855756"
      ]
     },
     "execution_count": 33,
     "metadata": {},
     "output_type": "execute_result"
    }
   ],
   "source": [
    "result.mse_model**.5"
   ]
  },
  {
   "cell_type": "code",
   "execution_count": 68,
   "metadata": {},
   "outputs": [
    {
     "data": {
      "text/html": [
       "<div>\n",
       "<style scoped>\n",
       "    .dataframe tbody tr th:only-of-type {\n",
       "        vertical-align: middle;\n",
       "    }\n",
       "\n",
       "    .dataframe tbody tr th {\n",
       "        vertical-align: top;\n",
       "    }\n",
       "\n",
       "    .dataframe thead th {\n",
       "        text-align: right;\n",
       "    }\n",
       "</style>\n",
       "<table border=\"1\" class=\"dataframe\">\n",
       "  <thead>\n",
       "    <tr style=\"text-align: right;\">\n",
       "      <th></th>\n",
       "      <th>model 1</th>\n",
       "      <th>model 2</th>\n",
       "      <th>model 3</th>\n",
       "    </tr>\n",
       "  </thead>\n",
       "  <tbody>\n",
       "    <tr>\n",
       "      <th>obs</th>\n",
       "      <td>2543.000000</td>\n",
       "      <td>2543.000000</td>\n",
       "      <td>2543.000000</td>\n",
       "    </tr>\n",
       "    <tr>\n",
       "      <th>rmse</th>\n",
       "      <td>0.832065</td>\n",
       "      <td>0.832044</td>\n",
       "      <td>0.832011</td>\n",
       "    </tr>\n",
       "    <tr>\n",
       "      <th>R2</th>\n",
       "      <td>0.007716</td>\n",
       "      <td>0.008546</td>\n",
       "      <td>0.008235</td>\n",
       "    </tr>\n",
       "    <tr>\n",
       "      <th>Adj R2</th>\n",
       "      <td>0.007325</td>\n",
       "      <td>0.007375</td>\n",
       "      <td>0.007454</td>\n",
       "    </tr>\n",
       "    <tr>\n",
       "      <th>DoF</th>\n",
       "      <td>2541.000000</td>\n",
       "      <td>2539.000000</td>\n",
       "      <td>2540.000000</td>\n",
       "    </tr>\n",
       "    <tr>\n",
       "      <th>b_school</th>\n",
       "      <td>0.022967</td>\n",
       "      <td>0.023526</td>\n",
       "      <td>0.030084</td>\n",
       "    </tr>\n",
       "  </tbody>\n",
       "</table>\n",
       "</div>"
      ],
      "text/plain": [
       "              model 1      model 2      model 3\n",
       "obs       2543.000000  2543.000000  2543.000000\n",
       "rmse         0.832065     0.832044     0.832011\n",
       "R2           0.007716     0.008546     0.008235\n",
       "Adj R2       0.007325     0.007375     0.007454\n",
       "DoF       2541.000000  2539.000000  2540.000000\n",
       "b_school     0.022967     0.023526     0.030084"
      ]
     },
     "execution_count": 68,
     "metadata": {},
     "output_type": "execute_result"
    }
   ],
   "source": [
    "def stats(ols_result):\n",
    "    list_stats = []\n",
    "    list_stats += [ols_result.nobs]\n",
    "    list_stats += [ols_result.mse_resid**.5]\n",
    "    list_stats += [ols_result.rsquared]\n",
    "    list_stats += [ols_result.rsquared_adj]\n",
    "    list_stats += [ols_result.df_resid]\n",
    "    list_stats += [ols_result.params['school']]\n",
    "    return list_stats\n",
    "\n",
    "pd.DataFrame(\n",
    "        {\n",
    "        'model 1' : stats(result),\n",
    "        'model 2' : stats(result_2),\n",
    "        'model 3' : stats(result_3)\n",
    "        },\n",
    "             index=['obs','rmse','R2','Adj R2','DoF','b_school'])"
   ]
  },
  {
   "cell_type": "code",
   "execution_count": null,
   "metadata": {},
   "outputs": [],
   "source": []
  },
  {
   "cell_type": "code",
   "execution_count": 71,
   "metadata": {},
   "outputs": [
    {
     "name": "stderr",
     "output_type": "stream",
     "text": [
      "C:\\Users\\SeanJ\\AppData\\Local\\Temp\\ipykernel_5308\\1876056179.py:2: FutureWarning: Series.__getitem__ treating keys as positions is deprecated. In a future version, integer keys will always be treated as labels (consistent with DataFrame behavior). To access a value by position, use `ser.iloc[pos]`\n",
      "  yhat = pd.Series(result.params[0] + result.params[1] * school_means.index.values, index=school_means.index.values)\n",
      "C:\\Users\\SeanJ\\AppData\\Local\\Temp\\ipykernel_5308\\1876056179.py:3: FutureWarning: Series.__getitem__ treating keys as positions is deprecated. In a future version, integer keys will always be treated as labels (consistent with DataFrame behavior). To access a value by position, use `ser.iloc[pos]`\n",
      "  yhat_2 = pd.Series(result_2.params[0] + result_2.params[1] * school_means.index.values, index=school_means.index.values)\n",
      "C:\\Users\\SeanJ\\AppData\\Local\\Temp\\ipykernel_5308\\1876056179.py:4: FutureWarning: Series.__getitem__ treating keys as positions is deprecated. In a future version, integer keys will always be treated as labels (consistent with DataFrame behavior). To access a value by position, use `ser.iloc[pos]`\n",
      "  yhat_3 = pd.Series(result_3.params[0] + result_3.params[1] * school_means.index.values, index=school_means.index.values)\n",
      "C:\\Users\\SeanJ\\AppData\\Local\\Temp\\ipykernel_5308\\1876056179.py:6: FutureWarning: Series.__getitem__ treating keys as positions is deprecated. In a future version, integer keys will always be treated as labels (consistent with DataFrame behavior). To access a value by position, use `ser.iloc[pos]`\n",
      "  y_textbook = pd.Series(result_3.params[0] + 0.0674387 * school_means.index.values, index=school_means.index.values)\n"
     ]
    },
    {
     "data": {
      "text/plain": [
       "<Axes: xlabel='school'>"
      ]
     },
     "execution_count": 71,
     "metadata": {},
     "output_type": "execute_result"
    },
    {
     "data": {
      "image/png": "[encoded data removed]",
      "text/plain": [
       "<Figure size 640x480 with 1 Axes>"
      ]
     },
     "metadata": {},
     "output_type": "display_data"
    }
   ],
   "source": [
    "school_means = df_40_to_49.groupby('school')['ln_earning'].mean()\n",
    "yhat = pd.Series(result.params[0] + result.params[1] * school_means.index.values, index=school_means.index.values)\n",
    "yhat_2 = pd.Series(result_2.params[0] + result_2.params[1] * school_means.index.values, index=school_means.index.values)\n",
    "yhat_3 = pd.Series(result_3.params[0] + result_3.params[1] * school_means.index.values, index=school_means.index.values)\n",
    "# textbook \n",
    "y_textbook = pd.Series(result_3.params[0] + 0.0674387 * school_means.index.values, index=school_means.index.values)\n",
    "\n",
    "import matplotlib.pyplot as plt\n",
    "\n",
    "plt.figure()\n",
    "school_means.plot(kind='line', x='school', y='ln wage', style='-o')\n",
    "yhat.plot(c='k')\n",
    "yhat_2.plot(c='b')\n",
    "yhat_3.plot(c='r')\n",
    "y_textbook.plot(c='g',style='*')"
   ]
  },
  {
   "cell_type": "code",
   "execution_count": null,
   "metadata": {},
   "outputs": [],
   "source": []
  },
  {
   "cell_type": "code",
   "execution_count": 76,
   "metadata": {},
   "outputs": [
    {
     "data": {
      "text/plain": [
       "<class 'statsmodels.stats.contrast.ContrastResults'>\n",
       "<Wald test (chi2): statistic=1383.31030321759, p-value=4.149390194713e-301, df_denom=2>"
      ]
     },
     "execution_count": 76,
     "metadata": {},
     "output_type": "execute_result"
    }
   ],
   "source": [
    "result.wald_test(['Intercept', 'school'], use_f=False, scalar=True)\n",
    "result_2.wald_test(['Intercept', 'school'], use_f=False, scalar=True)\n"
   ]
  },
  {
   "cell_type": "code",
   "execution_count": 77,
   "metadata": {},
   "outputs": [
    {
     "data": {
      "text/plain": [
       "<class 'statsmodels.stats.contrast.ContrastResults'>\n",
       "<Wald test (chi2): statistic=5266.289531728599, p-value=0.0, df_denom=2>"
      ]
     },
     "execution_count": 77,
     "metadata": {},
     "output_type": "execute_result"
    }
   ],
   "source": [
    "result_3.wald_test(['Intercept', 'school'], use_f=False, scalar=True)"
   ]
  },
  {
   "cell_type": "code",
   "execution_count": 78,
   "metadata": {},
   "outputs": [
    {
     "data": {
      "text/plain": [
       "<class 'statsmodels.stats.contrast.ContrastResults'>\n",
       "<Wald test (chi2): statistic=349345.49099017336, p-value=0.0, df_denom=3>"
      ]
     },
     "execution_count": 78,
     "metadata": {},
     "output_type": "execute_result"
    }
   ],
   "source": [
    "result_3.wald_test(['Intercept', 'school','experience'], use_f=False, scalar=True)"
   ]
  }
 ],
 "metadata": {
  "kernelspec": {
   "display_name": "base",
   "language": "python",
   "name": "python3"
  },
  "language_info": {
   "codemirror_mode": {
    "name": "ipython",
    "version": 3
   },
   "file_extension": ".py",
   "mimetype": "text/x-python",
   "name": "python",
   "nbconvert_exporter": "python",
   "pygments_lexer": "ipython3",
   "version": "3.11.6"
  }
 },
 "nbformat": 4,
 "nbformat_minor": 2
}
