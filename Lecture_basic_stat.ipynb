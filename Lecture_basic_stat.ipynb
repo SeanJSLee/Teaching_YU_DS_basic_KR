{
 "cells": [
  {
   "cell_type": "markdown",
   "metadata": {},
   "source": [
    "## 기본 통계량 구하기  \n",
    "\n",
    "- numpy는 계산에 특화한 필수 라이브러리\n",
    "- 기초통계량도 함께 제공\n",
    "\n",
    "### 샘플 데이터 생성"
   ]
  },
  {
   "cell_type": "code",
   "execution_count": 63,
   "metadata": {},
   "outputs": [
    {
     "data": {
      "text/plain": [
       "array([1.5, 3.2, nan, 5.8, 7.1, nan, 2.4, 4.9, 6.5, 8.2, 0.9, nan])"
      ]
     },
     "execution_count": 63,
     "metadata": {},
     "output_type": "execute_result"
    }
   ],
   "source": [
    "import numpy as np\n",
    "\n",
    "# 12개 요소를 가진 샘플 데이터 생성, 일부 값은 NaN으로 설정\n",
    "# NaN은 missing value (결측값)\n",
    "data = np.array([1.5, 3.2, np.nan, 5.8, 7.1, np.nan, 2.4, 4.9, 6.5, 8.2, 0.9, np.nan])\n",
    "data"
   ]
  },
  {
   "cell_type": "markdown",
   "metadata": {},
   "source": [
    "### 갯수"
   ]
  },
  {
   "cell_type": "code",
   "execution_count": 64,
   "metadata": {},
   "outputs": [
    {
     "data": {
      "text/plain": [
       "12"
      ]
     },
     "execution_count": 64,
     "metadata": {},
     "output_type": "execute_result"
    }
   ],
   "source": [
    "len(data)"
   ]
  },
  {
   "cell_type": "code",
   "execution_count": 65,
   "metadata": {},
   "outputs": [
    {
     "data": {
      "text/plain": [
       "9"
      ]
     },
     "execution_count": 65,
     "metadata": {},
     "output_type": "execute_result"
    }
   ],
   "source": [
    "len(data[~np.isnan(data)])"
   ]
  },
  {
   "cell_type": "markdown",
   "metadata": {},
   "source": [
    "### (산술)평균\n",
    "\n",
    "$ \n",
    "\\begin{align} \n",
    "    \\bar{X} \\, or \\, E[X]  &= \\frac{1}{n} (X_1 + X_2 + \\cdots + X_n) \\nonumber \\\\\n",
    "     &= \\frac{1}{n} \\sum_{i=1}^{n} X_i \\nonumber  \n",
    "\\end{align}\n",
    "$\n",
    "\n",
    "\n",
    "- [numpy.mean](https://numpy.org/doc/stable/reference/generated/numpy.mean.html)\n",
    "- [numpy.nanmean](https://numpy.org/doc/stable/reference/generated/numpy.nanmean.html)"
   ]
  },
  {
   "cell_type": "code",
   "execution_count": 45,
   "metadata": {},
   "outputs": [
    {
     "data": {
      "text/plain": [
       "nan"
      ]
     },
     "execution_count": 45,
     "metadata": {},
     "output_type": "execute_result"
    }
   ],
   "source": [
    "\n",
    "\n",
    "# 일반 평균 (NaN을 포함한 평균)\n",
    "mean_val = np.mean(data)\n",
    "mean_val"
   ]
  },
  {
   "cell_type": "code",
   "execution_count": 12,
   "metadata": {},
   "outputs": [
    {
     "data": {
      "text/plain": [
       "4.499999999999999"
      ]
     },
     "execution_count": 12,
     "metadata": {},
     "output_type": "execute_result"
    }
   ],
   "source": [
    "(1.5 + 3.2 + 5.8 + 7.1 + 2.4 + 4.9 + 6.5 + 8.2 + 0.9) / 9"
   ]
  },
  {
   "cell_type": "code",
   "execution_count": 36,
   "metadata": {},
   "outputs": [
    {
     "data": {
      "text/plain": [
       "4.499999999999999"
      ]
     },
     "execution_count": 36,
     "metadata": {},
     "output_type": "execute_result"
    }
   ],
   "source": [
    "np.mean(data[~np.isnan(data)])"
   ]
  },
  {
   "cell_type": "code",
   "execution_count": 44,
   "metadata": {},
   "outputs": [
    {
     "data": {
      "text/plain": [
       "4.499999999999999"
      ]
     },
     "execution_count": 44,
     "metadata": {},
     "output_type": "execute_result"
    }
   ],
   "source": [
    "# NaN 값을 무시하고 평균 계산\n",
    "nanmean_val = np.nanmean(data)\n",
    "nanmean_val"
   ]
  },
  {
   "cell_type": "markdown",
   "metadata": {},
   "source": [
    "### 분산과 표준편차\n",
    "\n",
    "분산\n",
    "$ \\begin{align} \n",
    "    \\sigma_X^2 \\, or \\, Var(X) &= E[(X-E[X])^2] \\nonumber \\\\\n",
    "    &= \\frac{1}{n} \\sum_{i=1}^{n} (X_i - E[X])^2 \\nonumber\n",
    "\\end{align} $\n",
    "\n",
    "Unbiased sample variance $ s_X^2 = \\frac{1}{n-1} \\sum_{i=1}^{n} (X_i - E[X])^2 $\n",
    "\n",
    "\n",
    "표준편차\n",
    "$ \\begin{align} \n",
    "    \\sigma_X \\, &= \\sqrt{Var(X)} \\nonumber = (Var(X))^{1/2}\\\\\n",
    "    & \\nonumber\n",
    "\\end{align} $"
   ]
  },
  {
   "cell_type": "code",
   "execution_count": 48,
   "metadata": {},
   "outputs": [
    {
     "data": {
      "text/plain": [
       "nan"
      ]
     },
     "execution_count": 48,
     "metadata": {},
     "output_type": "execute_result"
    }
   ],
   "source": [
    "# 일반 분산\n",
    "var_val = np.var(data, \n",
    "                # 자유도 조정\n",
    "                ddof=1)\n",
    "var_val"
   ]
  },
  {
   "cell_type": "code",
   "execution_count": 47,
   "metadata": {},
   "outputs": [
    {
     "data": {
      "text/plain": [
       "6.794999999999999"
      ]
     },
     "execution_count": 47,
     "metadata": {},
     "output_type": "execute_result"
    }
   ],
   "source": [
    "np.var(data[~np.isnan(data)] , \n",
    "       # 자유도 조정\n",
    "       ddof=1)"
   ]
  },
  {
   "cell_type": "code",
   "execution_count": 46,
   "metadata": {},
   "outputs": [
    {
     "data": {
      "text/plain": [
       "6.794999999999999"
      ]
     },
     "execution_count": 46,
     "metadata": {},
     "output_type": "execute_result"
    }
   ],
   "source": [
    "# NaN 값을 무시하고 분산 계산\n",
    "nanvar_val = np.nanvar(data, \n",
    "                       # 자유도 조정\n",
    "                       ddof=1)\n",
    "nanvar_val"
   ]
  },
  {
   "cell_type": "code",
   "execution_count": 50,
   "metadata": {},
   "outputs": [
    {
     "data": {
      "text/plain": [
       "nan"
      ]
     },
     "execution_count": 50,
     "metadata": {},
     "output_type": "execute_result"
    }
   ],
   "source": [
    "# 일반 표준편차\n",
    "std_val = np.std(data,\n",
    "                # 자유도 조정\n",
    "                ddof=1)\n",
    "std_val"
   ]
  },
  {
   "cell_type": "code",
   "execution_count": 51,
   "metadata": {},
   "outputs": [
    {
     "data": {
      "text/plain": [
       "2.606722079547415"
      ]
     },
     "execution_count": 51,
     "metadata": {},
     "output_type": "execute_result"
    }
   ],
   "source": [
    "np.std([1.5, 3.2, 5.8, 7.1, 2.4, 4.9, 6.5, 8.2, 0.9],\n",
    "        # 자유도 조정\n",
    "        ddof=1)"
   ]
  },
  {
   "cell_type": "code",
   "execution_count": 52,
   "metadata": {},
   "outputs": [
    {
     "data": {
      "text/plain": [
       "2.606722079547415"
      ]
     },
     "execution_count": 52,
     "metadata": {},
     "output_type": "execute_result"
    }
   ],
   "source": [
    "# NaN 값을 무시하고 표준편차 계산\n",
    "nanstd_val = np.nanstd(data,\n",
    "                       # 자유도 조정\n",
    "                       ddof=1)\n",
    "nanstd_val"
   ]
  },
  {
   "cell_type": "markdown",
   "metadata": {},
   "source": [
    "### Confidence interval (신뢰구간)  \n",
    "\n",
    "Student's t 분포\n",
    "\n",
    "\n",
    "\n",
    "$ [E[X] - {critical \\, value}_{\\alpha=0.975}  \\frac{\\sigma_X}{\\sqrt{obs}}, \\quad E[X] + {critical \\, value}_{\\alpha=0.975}  \\frac{\\sigma_X}{\\sqrt{obs}}] $"
   ]
  },
  {
   "cell_type": "code",
   "execution_count": 60,
   "metadata": {},
   "outputs": [
    {
     "data": {
      "text/plain": [
       "(-0.07010176902927956, 9.070101769029275)"
      ]
     },
     "execution_count": 60,
     "metadata": {},
     "output_type": "execute_result"
    }
   ],
   "source": [
    "import scipy.stats as st\n",
    "\n",
    "#create 95% confidence interval for population mean weight\n",
    "st.t.interval(\n",
    "    # 유의수준\n",
    "    confidence=0.90, \n",
    "    # 자유도 = N-1\n",
    "    df=len(data[~np.isnan(data)])-1, \n",
    "    # 평균\n",
    "    loc=np.nanmean(data), \n",
    "    # 표준편차\n",
    "    scale=np.nanstd(data)) "
   ]
  },
  {
   "cell_type": "code",
   "execution_count": 61,
   "metadata": {},
   "outputs": [
    {
     "data": {
      "text/plain": [
       "-1.3968153097434188"
      ]
     },
     "execution_count": 61,
     "metadata": {},
     "output_type": "execute_result"
    }
   ],
   "source": [
    "st.t.ppf(0.1, len(data[~np.isnan(data)])-1)"
   ]
  }
 ],
 "metadata": {
  "kernelspec": {
   "display_name": "base",
   "language": "python",
   "name": "python3"
  },
  "language_info": {
   "codemirror_mode": {
    "name": "ipython",
    "version": 3
   },
   "file_extension": ".py",
   "mimetype": "text/x-python",
   "name": "python",
   "nbconvert_exporter": "python",
   "pygments_lexer": "ipython3",
   "version": "3.11.6"
  }
 },
 "nbformat": 4,
 "nbformat_minor": 2
}
