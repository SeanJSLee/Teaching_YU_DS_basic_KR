{
 "cells": [
  {
   "cell_type": "markdown",
   "metadata": {},
   "source": [
    "# 기본 통계량 구하기  \n",
    "\n",
    "- 분포(distribution)와 관계없는 통계량\n",
    "    - (단순)평균; (arithmetic)mean  \n",
    "    $ \n",
    "\\begin{align} \n",
    "    \\bar{X} \\, or \\, E[X]  &= \\frac{1}{n} (X_1 + X_2 + \\cdots + X_n) \\nonumber \\\\\n",
    "     &= \\frac{1}{n} \\sum_{i=1}^{n} X_i \\nonumber  \n",
    "\\end{align}\n",
    "$\n",
    "    - 분산; variance  \n",
    "        $ \\begin{align} \n",
    "            \\sigma_X^2 \\, or \\, Var(X) &= E[(X-E[X])^2] \\nonumber \\\\\n",
    "            &= \\frac{1}{n} \\sum_{i=1}^{n} (X_i - E[X])^2 \\nonumber\n",
    "        \\end{align} $\n",
    "          \n",
    "        [Unbiased sample variance](https://en.wikipedia.org/wiki/Variance#Unbiased_sample_variance):  \n",
    "        $ \\begin{align} \n",
    "            s_X^2 = \\frac{1}{n-1} \\sum_{i=1}^{n} (X_i - E[X])^2 \\nonumber\n",
    "        \\end{align} $\n",
    "\n",
    "\n",
    "    - 표준편차; standard deviation (unbiased)  \n",
    "        $ \\begin{align} \n",
    "            s_X &= \\sqrt{s_X^2} \\nonumber\n",
    "        \\end{align} $\n",
    "\n",
    "<!-- - (거의) 모든것이 정규분포가 된다? 중심극한정리; the central limit theorem  \n",
    "[![3b1b_clt](https://i.ytimg.com/an_webp/SoKjCUcDBf0/mqdefault_6s.webp?du=3000&sqp=CKbKuq8G&rs=AOn4CLCrxrSFlh-cHNIeeD9MJZTDVFaWEQ)](https://www.youtube.com/watch?v=SoKjCUcDBf0)  \n",
    "[![statquest_normal](https://i.ytimg.com/vi/rzFX5NWojp0/hqdefault.jpg?sqp=-oaymwEcCNACELwBSFXyq4qpAw4IARUAAIhCGAFwAcABBg==&rs=AOn4CLCKnTAtZLuIfqY6Rp_SaAAWLvpFig)](https://www.youtube.com/watch?v=rzFX5NWojp0&t=13)\n",
    "\n",
    "- 정규분포일때, 의미를 가지는 통계량\n",
    "    - student's t-test  \n",
    "        $\n",
    "        \\begin{align}\n",
    "            t = \\frac{\\bar{X}}{s_X / \\sqrt{n}}\n",
    "        \\end{align}\n",
    "        $\n",
    "    - 의미부여의 기준이 되는 유의도 $\\alpha$와 $t_\\alpha$; critical value\n",
    "    - 통계량과 유의도를 더해, 편리하게 표시하는 신뢰구간; confidence interval -->\n"
   ]
  },
  {
   "cell_type": "markdown",
   "metadata": {},
   "source": [
    "## (단순)평균"
   ]
  },
  {
   "cell_type": "code",
   "execution_count": null,
   "metadata": {},
   "outputs": [],
   "source": [
    "(1.5 + 3.2 + 5.8 + 7.1 + 2.4 + 4.9 + 6.5 + 8.2 + 0.9) / 9"
   ]
  },
  {
   "cell_type": "markdown",
   "metadata": {},
   "source": [
    "[np.mean()](https://numpy.org/doc/stable/reference/generated/numpy.mean.html)"
   ]
  },
  {
   "cell_type": "code",
   "execution_count": null,
   "metadata": {},
   "outputs": [],
   "source": [
    "import numpy as np\n",
    "\n",
    "# 샘플 데이터 생성\n",
    "data = np.array([1.5, 3.2, 5.8, 7.1, 2.4, 4.9, 6.5, 8.2, 0.9])\n",
    "data"
   ]
  },
  {
   "cell_type": "code",
   "execution_count": null,
   "metadata": {},
   "outputs": [],
   "source": [
    "# 갯수\n",
    "len(data)"
   ]
  },
  {
   "cell_type": "code",
   "execution_count": null,
   "metadata": {},
   "outputs": [],
   "source": [
    "# 평균값\n",
    "np.mean(data)"
   ]
  },
  {
   "cell_type": "code",
   "execution_count": null,
   "metadata": {},
   "outputs": [],
   "source": [
    "# 최대값 최소값\n",
    "print(np.max(data), np.min(data))"
   ]
  },
  {
   "cell_type": "markdown",
   "metadata": {},
   "source": [
    "[np.nanmean()](https://numpy.org/doc/stable/reference/generated/numpy.nanmean.html) 결측값을 무시함"
   ]
  },
  {
   "cell_type": "code",
   "execution_count": null,
   "metadata": {},
   "outputs": [],
   "source": [
    "# 12개 요소를 가진 샘플 데이터 생성, 일부 값은 NaN으로 설정\n",
    "# NaN은 missing value (결측값)\n",
    "data_missing = np.array([1.5, 3.2, np.nan, 5.8, 7.1, np.nan, 2.4, 4.9, 6.5, 8.2, 0.9, np.nan])\n",
    "data_missing"
   ]
  },
  {
   "cell_type": "code",
   "execution_count": null,
   "metadata": {},
   "outputs": [],
   "source": [
    "# np.mean(), max(), min()은 결측값이 있는 경우, 제대로 동작하지 않음\n",
    "print(np.max(data_missing), np.min(data_missing))\n",
    "np.mean(data_missing)"
   ]
  },
  {
   "cell_type": "code",
   "execution_count": null,
   "metadata": {},
   "outputs": [],
   "source": [
    "# np.nanmean()은 오류없이 결측값을 무시한 값을 출력\n",
    "np.nanmean(data_missing)"
   ]
  },
  {
   "cell_type": "code",
   "execution_count": null,
   "metadata": {},
   "outputs": [],
   "source": [
    "# np.nanmax()와 nanmin()역시 결측값을 무시한 값을 출력\n",
    "print(np.nanmax(data_missing), np.nanmin(data_missing))"
   ]
  },
  {
   "cell_type": "code",
   "execution_count": null,
   "metadata": {},
   "outputs": [],
   "source": [
    "# len()함수는 결측값도 세아리기 때문에 인덱스를 사용하여야 함\n",
    "print(len(data_missing))\n",
    "len(data_missing[~np.isnan(data_missing)]) "
   ]
  },
  {
   "cell_type": "markdown",
   "metadata": {},
   "source": [
    "## 분산"
   ]
  },
  {
   "cell_type": "code",
   "execution_count": null,
   "metadata": {},
   "outputs": [],
   "source": [
    "mean = (1.5 + 3.2 + 5.8 + 7.1 + 2.4 + 4.9 + 6.5 + 8.2 + 0.9) / 9\n",
    "((1.5-mean)**2 + (3.2-mean)**2 + (5.8-mean)**2 + (7.1-mean)**2 + (2.4-mean)**2 + (4.9-mean)**2 + (6.5-mean)**2 + (8.2-mean)**2 + (0.9-mean)**2) / 8"
   ]
  },
  {
   "cell_type": "markdown",
   "metadata": {},
   "source": [
    "[np.var()](https://numpy.org/doc/stable/reference/generated/numpy.var.html)"
   ]
  },
  {
   "cell_type": "code",
   "execution_count": null,
   "metadata": {},
   "outputs": [],
   "source": [
    "# 일반 분산\n",
    "np.var(data, \n",
    "        # 자유도 조정\n",
    "        ddof=1)"
   ]
  },
  {
   "cell_type": "code",
   "execution_count": null,
   "metadata": {},
   "outputs": [],
   "source": [
    "np.var(data_missing, \n",
    "        # 자유도 조정\n",
    "        ddof=1)"
   ]
  },
  {
   "cell_type": "markdown",
   "metadata": {},
   "source": [
    "[np.nanvar()](https://numpy.org/doc/stable/reference/generated/numpy.nanvar.html)"
   ]
  },
  {
   "cell_type": "code",
   "execution_count": null,
   "metadata": {},
   "outputs": [],
   "source": [
    "# NaN 값을 무시하고 분산 계산\n",
    "np.nanvar(data_missing, \n",
    "            # 자유도 조정\n",
    "            ddof=1)"
   ]
  },
  {
   "cell_type": "code",
   "execution_count": null,
   "metadata": {},
   "outputs": [],
   "source": [
    "# 자유도 조정을 하지 않는다면?\n",
    "print('DoF adjusted',np.nanvar(data_missing, \n",
    "            # 자유도 조정\n",
    "            ddof=1),\n",
    "       '\\nDoF not adjusted',\n",
    "        np.nanvar(data_missing, \n",
    "            # 자유도 조정\n",
    "            ddof=0))"
   ]
  },
  {
   "cell_type": "markdown",
   "metadata": {},
   "source": [
    "## 표준편차"
   ]
  },
  {
   "cell_type": "markdown",
   "metadata": {},
   "source": [
    "[np.std()](https://numpy.org/doc/stable/reference/generated/numpy.std.html)"
   ]
  },
  {
   "cell_type": "code",
   "execution_count": null,
   "metadata": {},
   "outputs": [],
   "source": [
    "# 일반 표준편차\n",
    "np.std(data,\n",
    "        # 자유도 조정\n",
    "        ddof=1)"
   ]
  },
  {
   "cell_type": "code",
   "execution_count": null,
   "metadata": {},
   "outputs": [],
   "source": [
    "np.std(data_missing,\n",
    "        # 자유도 조정\n",
    "        ddof=1)"
   ]
  },
  {
   "cell_type": "markdown",
   "metadata": {},
   "source": [
    "[np.nanstd()](https://numpy.org/doc/stable/reference/generated/numpy.nanstd.html)"
   ]
  },
  {
   "cell_type": "code",
   "execution_count": null,
   "metadata": {},
   "outputs": [],
   "source": [
    "# NaN 값을 무시하고 표준편차 계산\n",
    "np.nanstd(data_missing,\n",
    "            # 자유도 조정\n",
    "            ddof=1)\n"
   ]
  },
  {
   "cell_type": "code",
   "execution_count": null,
   "metadata": {},
   "outputs": [],
   "source": [
    "# 자유도 조정을 하지 않는다면?\n",
    "print('DoF adjusted',np.nanstd(data_missing, \n",
    "            # 자유도 조정\n",
    "            ddof=1),\n",
    "       '\\nDoF not adjusted',\n",
    "        np.nanstd(data_missing, \n",
    "            # 자유도 조정\n",
    "            ddof=0))"
   ]
  },
  {
   "cell_type": "markdown",
   "metadata": {},
   "source": [
    "<!-- ### Confidence interval (신뢰구간)  \n",
    "\n",
    "Student's t 분포\n",
    "![t-stat](https://www.scribbr.com/wp-content/uploads/2020/08/diff_scores_ci.png)\n",
    "\n",
    "\n",
    "$ [E[X] - {critical \\, value}_{\\alpha=0.975}  \\frac{\\sigma_X}{\\sqrt{obs}}, \\quad E[X] + {critical \\, value}_{\\alpha=0.975}  \\frac{\\sigma_X}{\\sqrt{obs}}] $ -->\n",
    "\n",
    "<!-- import scipy.stats as st\n",
    "\n",
    "#create 95% confidence interval for population mean weight\n",
    "st.t.interval(\n",
    "    # 유의수준\n",
    "    confidence=0.90, \n",
    "    # 자유도 = N-1\n",
    "    df=len(data[~np.isnan(data)])-1, \n",
    "    # 평균\n",
    "    loc=np.nanmean(data), \n",
    "    # 표준편차\n",
    "    scale=np.nanstd(data)) \n",
    "st.t.ppf(0.1, len(data[~np.isnan(data)])-1) -->"
   ]
  },
  {
   "cell_type": "markdown",
   "metadata": {},
   "source": [
    "# 불러온 데이터의 기초통계량"
   ]
  },
  {
   "cell_type": "code",
   "execution_count": null,
   "metadata": {},
   "outputs": [],
   "source": [
    "import pandas as pd\n",
    "import numpy as np\n",
    "\n",
    "# 소수점 설정\n",
    "pd.options.display.float_format = \"{:,.1f}\".format\n",
    "\n",
    "# CSV 파일 불러오기\n",
    "df_income_csv = pd.read_csv(r'data_cps78_income.csv')\n",
    "print(df_income_csv.dtypes)\n",
    "df_income_csv"
   ]
  }
 ],
 "metadata": {
  "kernelspec": {
   "display_name": "base",
   "language": "python",
   "name": "python3"
  },
  "language_info": {
   "codemirror_mode": {
    "name": "ipython",
    "version": 3
   },
   "file_extension": ".py",
   "mimetype": "text/x-python",
   "name": "python",
   "nbconvert_exporter": "python",
   "pygments_lexer": "ipython3",
   "version": "3.11.6"
  }
 },
 "nbformat": 4,
 "nbformat_minor": 2
}
