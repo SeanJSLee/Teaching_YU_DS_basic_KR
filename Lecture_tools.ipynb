{
 "cells": [
  {
   "cell_type": "markdown",
   "metadata": {},
   "source": [
    "## Colab\n",
    "Google의 무료 클라우드 Jupyter notebook 서비스 ([Colab link](https://colab.research.google.com/))\n",
    "- Jupyter notebook은 interactive python 개발환경 ([Jupyter link](https://jupyter.org/))  \n",
    "\n",
    "<!-- Colab -->\n",
    "<iframe width=\"560\" height=\"315\" src=\"https://www.youtube.com/embed/inN8seMm7UI\" frameborder=\"0\" allow=\"accelerometer; autoplay; clipboard-write; encrypted-media; gyroscope; picture-in-picture\" allowfullscreen></iframe>\n",
    "\n",
    "\n",
    "<!-- Python -->\n",
    "<iframe width=\"560\" height=\"315\" src=\"https://www.youtube.com/embed/rfscVS0vtbw\" frameborder=\"0\" allow=\"accelerometer; autoplay; clipboard-write; encrypted-media; gyroscope; picture-in-picture\" allowfullscreen></iframe>  \n",
    "\n",
    "python 튜토리얼 9분10초부터\n"
   ]
  },
  {
   "cell_type": "code",
   "execution_count": null,
   "metadata": {},
   "outputs": [],
   "source": [
    "print('hello world!')"
   ]
  },
  {
   "cell_type": "code",
   "execution_count": null,
   "metadata": {},
   "outputs": [],
   "source": [
    "x = range(0,10)\n",
    "for value in x :\n",
    "    print(value)"
   ]
  },
  {
   "cell_type": "markdown",
   "metadata": {},
   "source": [
    "# Pandas\n",
    "데이터를 파이썬에 불러오기 위한 라이브러리 ([Pandas link](https://pandas.pydata.org/)), ([Pandas 튜토리얼](https://pandas.pydata.org/docs/getting_started/intro_tutorials/index.html))  \n",
    "\n",
    "\n",
    "<iframe width=\"560\" height=\"315\" src=\"https://www.youtube.com/embed/_T8LGqJtuGc\" frameborder=\"0\" allow=\"accelerometer; autoplay; clipboard-write; encrypted-media; gyroscope; picture-in-picture\" allowfullscreen></iframe> \n",
    "\n",
    "<iframe width=\"560\" height=\"315\" src=https://pandas.pydata.org/docs/_images/01_table_dataframe.svg></iframe>\n",
    "\n",
    "\n",
    "$\n",
    "\\begin{align} \n",
    "    DataFrame \\sim matrix \\sim Excel \\, Worksheet   \\nonumber\n",
    "\\end{align}\n",
    "$"
   ]
  },
  {
   "cell_type": "code",
   "execution_count": null,
   "metadata": {},
   "outputs": [],
   "source": [
    "# 라이브러리 불러오기, 짧은 이름으로 'pd'사용\n",
    "import pandas as pd\n",
    "\n",
    "# 데이터프레임 생성\n",
    "df = pd.DataFrame(\n",
    "        # 중괄호로 시작\n",
    "        {\n",
    "            # 첫번째 컬럼(열)의 이름 및 데이터\n",
    "            \"Name\": [\n",
    "                \"Braund, Mr. Owen Harris\",\n",
    "                \"Allen, Mr. William Henry\",\n",
    "                \"Bonnell, Miss. Elizabeth\",\n",
    "            ],\n",
    "            # 두번쨰 컬럼\n",
    "            \"Age\": [22, 35, 58],\n",
    "            # 세번째 컬럼\n",
    "            \"Sex\": [\"male\", \"male\", \"female\"],\n",
    "        }\n",
    "    )\n",
    "\n",
    "df"
   ]
  },
  {
   "cell_type": "markdown",
   "metadata": {},
   "source": [
    "## NumPy\n",
    "NumPy는 데이터처리를 도와주는 라이브러리. 엑셀의 함수와 비슷한 기능.\n",
    "엑셀의 기능이 파이썬의 여러 라이브러리에 나눠져 있다고 생각 할 수 있음. ([NumPy 링크](https://numpy.org/doc/stable/user/absolute_beginners.html))\n",
    "\n",
    "\n",
    "![numpy_array](https://numpy.org/doc/stable/_images/np_array.png)"
   ]
  },
  {
   "cell_type": "code",
   "execution_count": null,
   "metadata": {},
   "outputs": [],
   "source": [
    "import numpy as np\n",
    "\n",
    "# NumPy의 기본구성요소: array\n",
    "a = np.array([1, 2, 3])\n",
    "a"
   ]
  },
  {
   "cell_type": "code",
   "execution_count": null,
   "metadata": {},
   "outputs": [],
   "source": [
    "# 합계 구하기\n",
    "a.sum()"
   ]
  },
  {
   "cell_type": "code",
   "execution_count": null,
   "metadata": {},
   "outputs": [],
   "source": [
    "a = np.array([11, 11, 12, 13, 14, 15, 16, 17, 12, 13, 11, 14, 18, 19, 20])\n",
    "unique_values = np.unique(a)\n",
    "print(unique_values)"
   ]
  },
  {
   "cell_type": "code",
   "execution_count": null,
   "metadata": {},
   "outputs": [],
   "source": [
    "# array 구성요소의 갯수\n",
    "len(a)"
   ]
  },
  {
   "cell_type": "markdown",
   "metadata": {},
   "source": [
    "## matplotlib\n",
    "그래프 전용 라이브러리 ([matplotlib 링크](https://matplotlib.org/stable/gallery/index.html))\n",
    "\n",
    "![matplot_hist](https://matplotlib.org/stable/_images/sphx_glr_hist_001_2_00x.png)"
   ]
  },
  {
   "cell_type": "code",
   "execution_count": null,
   "metadata": {},
   "outputs": [],
   "source": [
    "import matplotlib.pyplot as plt\n",
    "import numpy as np\n",
    "\n",
    "a = np.array([11, 11, 12, 13, 14, 15, 16, 17, 12, 13, 11, 14, 18, 19, 20])\n",
    "\n",
    "# 그래프 공간 설정\n",
    "fig, ax = plt.subplots()\n",
    "# 그래프 종류와 데이터 설정\n",
    "ax.plot(a)\n",
    "# 그리기 명령\n",
    "plt.show()"
   ]
  },
  {
   "cell_type": "markdown",
   "metadata": {},
   "source": [
    "## statsmodels\n",
    "OLS 회귀분석 라이브러리 ([statsmodels 링크](https://www.statsmodels.org/stable/examples/notebooks/generated/ols.html))\n"
   ]
  },
  {
   "cell_type": "code",
   "execution_count": 2,
   "metadata": {},
   "outputs": [
    {
     "data": {
      "text/html": [
       "<div>\n",
       "<style scoped>\n",
       "    .dataframe tbody tr th:only-of-type {\n",
       "        vertical-align: middle;\n",
       "    }\n",
       "\n",
       "    .dataframe tbody tr th {\n",
       "        vertical-align: top;\n",
       "    }\n",
       "\n",
       "    .dataframe thead th {\n",
       "        text-align: right;\n",
       "    }\n",
       "</style>\n",
       "<table border=\"1\" class=\"dataframe\">\n",
       "  <thead>\n",
       "    <tr style=\"text-align: right;\">\n",
       "      <th></th>\n",
       "      <th>y</th>\n",
       "      <th>x1</th>\n",
       "      <th>x2</th>\n",
       "    </tr>\n",
       "  </thead>\n",
       "  <tbody>\n",
       "    <tr>\n",
       "      <th>0</th>\n",
       "      <td>0.159484</td>\n",
       "      <td>0.00000</td>\n",
       "      <td>0.000000</td>\n",
       "    </tr>\n",
       "    <tr>\n",
       "      <th>1</th>\n",
       "      <td>2.709627</td>\n",
       "      <td>0.10101</td>\n",
       "      <td>0.010203</td>\n",
       "    </tr>\n",
       "    <tr>\n",
       "      <th>2</th>\n",
       "      <td>1.893866</td>\n",
       "      <td>0.20202</td>\n",
       "      <td>0.040812</td>\n",
       "    </tr>\n",
       "    <tr>\n",
       "      <th>3</th>\n",
       "      <td>1.440418</td>\n",
       "      <td>0.30303</td>\n",
       "      <td>0.091827</td>\n",
       "    </tr>\n",
       "    <tr>\n",
       "      <th>4</th>\n",
       "      <td>5.607196</td>\n",
       "      <td>0.40404</td>\n",
       "      <td>0.163249</td>\n",
       "    </tr>\n",
       "    <tr>\n",
       "      <th>...</th>\n",
       "      <td>...</td>\n",
       "      <td>...</td>\n",
       "      <td>...</td>\n",
       "    </tr>\n",
       "    <tr>\n",
       "      <th>95</th>\n",
       "      <td>923.205757</td>\n",
       "      <td>9.59596</td>\n",
       "      <td>92.082441</td>\n",
       "    </tr>\n",
       "    <tr>\n",
       "      <th>96</th>\n",
       "      <td>944.357509</td>\n",
       "      <td>9.69697</td>\n",
       "      <td>94.031221</td>\n",
       "    </tr>\n",
       "    <tr>\n",
       "      <th>97</th>\n",
       "      <td>960.546815</td>\n",
       "      <td>9.79798</td>\n",
       "      <td>96.000408</td>\n",
       "    </tr>\n",
       "    <tr>\n",
       "      <th>98</th>\n",
       "      <td>982.038002</td>\n",
       "      <td>9.89899</td>\n",
       "      <td>97.990001</td>\n",
       "    </tr>\n",
       "    <tr>\n",
       "      <th>99</th>\n",
       "      <td>1000.136853</td>\n",
       "      <td>10.00000</td>\n",
       "      <td>100.000000</td>\n",
       "    </tr>\n",
       "  </tbody>\n",
       "</table>\n",
       "<p>100 rows × 3 columns</p>\n",
       "</div>"
      ],
      "text/plain": [
       "              y        x1          x2\n",
       "0      0.159484   0.00000    0.000000\n",
       "1      2.709627   0.10101    0.010203\n",
       "2      1.893866   0.20202    0.040812\n",
       "3      1.440418   0.30303    0.091827\n",
       "4      5.607196   0.40404    0.163249\n",
       "..          ...       ...         ...\n",
       "95   923.205757   9.59596   92.082441\n",
       "96   944.357509   9.69697   94.031221\n",
       "97   960.546815   9.79798   96.000408\n",
       "98   982.038002   9.89899   97.990001\n",
       "99  1000.136853  10.00000  100.000000\n",
       "\n",
       "[100 rows x 3 columns]"
      ]
     },
     "execution_count": 2,
     "metadata": {},
     "output_type": "execute_result"
    }
   ],
   "source": [
    "import numpy as np\n",
    "import pandas as pd\n",
    "import statsmodels.api as sm\n",
    "import patsy\n",
    "\n",
    "# 랜덤 데이터 생성\n",
    "np.random.seed(9876789)\n",
    "nsample = 100\n",
    "x = np.linspace(0, 10, 100)\n",
    "X = np.column_stack((x, x ** 2))\n",
    "beta = np.array([1, 0.1, 10])\n",
    "e = np.random.normal(size=nsample)\n",
    "X = sm.add_constant(X)\n",
    "y = np.dot(X, beta) + e\n",
    "df = pd.DataFrame({'y':y, 'x1':x, 'x2':x**2})\n",
    "df"
   ]
  },
  {
   "cell_type": "code",
   "execution_count": 3,
   "metadata": {},
   "outputs": [
    {
     "name": "stdout",
     "output_type": "stream",
     "text": [
      "                            OLS Regression Results                            \n",
      "==============================================================================\n",
      "Dep. Variable:                      y   R-squared:                       1.000\n",
      "Model:                            OLS   Adj. R-squared:                  1.000\n",
      "Method:                 Least Squares   F-statistic:                 4.020e+06\n",
      "Date:                Sun, 10 Mar 2024   Prob (F-statistic):          2.83e-239\n",
      "Time:                        13:35:01   Log-Likelihood:                -146.51\n",
      "No. Observations:                 100   AIC:                             299.0\n",
      "Df Residuals:                      97   BIC:                             306.8\n",
      "Df Model:                           2                                         \n",
      "Covariance Type:            nonrobust                                         \n",
      "==============================================================================\n",
      "                 coef    std err          t      P>|t|      [0.025      0.975]\n",
      "------------------------------------------------------------------------------\n",
      "Intercept      1.3423      0.313      4.292      0.000       0.722       1.963\n",
      "x1            -0.0402      0.145     -0.278      0.781      -0.327       0.247\n",
      "x2            10.0103      0.014    715.745      0.000       9.982      10.038\n",
      "==============================================================================\n",
      "Omnibus:                        2.042   Durbin-Watson:                   2.274\n",
      "Prob(Omnibus):                  0.360   Jarque-Bera (JB):                1.875\n",
      "Skew:                           0.234   Prob(JB):                        0.392\n",
      "Kurtosis:                       2.519   Cond. No.                         144.\n",
      "==============================================================================\n",
      "\n",
      "Notes:\n",
      "[1] Standard Errors assume that the covariance matrix of the errors is correctly specified.\n"
     ]
    }
   ],
   "source": [
    "\n",
    "# 모델 specification\n",
    "Dependant_y, Independant_X = patsy.dmatrices('y ~ x1 + x2', df, return_type='dataframe')\n",
    "\n",
    "# OLS로 모델 추정방식 설정\n",
    "model = sm.OLS(Dependant_y, Independant_X)\n",
    "\n",
    "# OLS 추정 - Least Squeared loss function\n",
    "results = model.fit()\n",
    "# 추정결과 표시\n",
    "print(results.summary())"
   ]
  }
 ],
 "metadata": {
  "kernelspec": {
   "display_name": "base",
   "language": "python",
   "name": "python3"
  },
  "language_info": {
   "codemirror_mode": {
    "name": "ipython",
    "version": 3
   },
   "file_extension": ".py",
   "mimetype": "text/x-python",
   "name": "python",
   "nbconvert_exporter": "python",
   "pygments_lexer": "ipython3",
   "version": "3.11.6"
  }
 },
 "nbformat": 4,
 "nbformat_minor": 2
}
