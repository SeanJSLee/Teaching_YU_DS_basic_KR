{
 "cells": [
  {
   "cell_type": "markdown",
   "metadata": {},
   "source": [
    "## Colab\n",
    "Google의 무료 클라우드 Jupyter notebook 서비스 ([Colab link](https://colab.research.google.com/))\n",
    "- Jupyter notebook은 interactive python 개발환경 ([Jupyter link](https://jupyter.org/))  \n",
    "\n",
    "<!-- Colab -->\n",
    "[![colab](https://raw.githubusercontent.com/SeanJSLee/Teaching_YU_DS_basic_KR/main/doc/img/colab_intro.webp)](https://www.youtube.com/watch?v=inN8seMm7UI)\n",
    "\n",
    "\n",
    "<!-- Python -->\n",
    "[![python](https://github.com/SeanJSLee/Teaching_YU_DS_basic_KR/blob/main/doc/img/egoing_python.jpg?raw=true)](https://www.youtube.com/watch?v=-3DHpwy498o&list=PLuHgQVnccGMDtnr4nTSFfmocHL5FeH1xR)\n",
    "\n",
    "\n"
   ]
  },
  {
   "cell_type": "markdown",
   "metadata": {},
   "source": [
    "### 자료 "
   ]
  },
  {
   "cell_type": "markdown",
   "metadata": {},
   "source": [
    "[print()](https://www.w3schools.com/python/ref_func_print.asp) - w3schools.com\n",
    "<!-- ![w3_print](https://github.com/SeanJSLee/Teaching_YU_DS_basic_KR/blob/main/doc/img/py_w3_print.png?raw=true) -->\n",
    "<img src=\"https://github.com/SeanJSLee/Teaching_YU_DS_basic_KR/blob/main/doc/img/py_w3_print.png?raw=true\" width=\"800\"/>"
   ]
  },
  {
   "cell_type": "code",
   "execution_count": null,
   "metadata": {},
   "outputs": [],
   "source": [
    "print('hello world!')"
   ]
  },
  {
   "cell_type": "markdown",
   "metadata": {},
   "source": [
    "[range()](https://www.w3schools.com/python/ref_func_range.asp) - w3schools.com\n",
    "<!-- ![w3_range](https://github.com/SeanJSLee/Teaching_YU_DS_basic_KR/blob/main/doc/img/py_w3_range.png?raw=true) -->\n",
    "<img src=\"https://github.com/SeanJSLee/Teaching_YU_DS_basic_KR/blob/main/doc/img/py_w3_range.png?raw=true\" width=\"800\"/>"
   ]
  },
  {
   "cell_type": "code",
   "execution_count": null,
   "metadata": {},
   "outputs": [],
   "source": [
    "# 0부터 9까지 연속된 정수를 x에 define\n",
    "x = range(0,10)\n",
    "\n",
    "# 각각의 x 값을 출력\n",
    "for value in x :\n",
    "    print(value)"
   ]
  },
  {
   "cell_type": "markdown",
   "metadata": {},
   "source": [
    "[len()](https://www.w3schools.com/python/ref_func_len.asp) - w3schools.com\n",
    "<!-- ![w3_len](https://github.com/SeanJSLee/Teaching_YU_DS_basic_KR/blob/main/doc/img/py_w3_len.png?raw=true) -->\n",
    "<img src=\"https://github.com/SeanJSLee/Teaching_YU_DS_basic_KR/blob/main/doc/img/py_w3_len.png?raw=true\" width=\"800\"/>"
   ]
  },
  {
   "cell_type": "code",
   "execution_count": null,
   "metadata": {},
   "outputs": [],
   "source": [
    "# x 의 길이\n",
    "len(x)"
   ]
  },
  {
   "cell_type": "markdown",
   "metadata": {},
   "source": [
    "[type()](https://www.w3schools.com/python/ref_func_type.asp)"
   ]
  },
  {
   "cell_type": "code",
   "execution_count": null,
   "metadata": {},
   "outputs": [],
   "source": [
    "a = ['apple', 'banana', 'cherry']\n",
    "b = \"Hello World\"\n",
    "c = 33\n",
    "\n",
    "print(type(a))\n",
    "print(type(b))\n",
    "print(type(c))"
   ]
  },
  {
   "cell_type": "markdown",
   "metadata": {},
   "source": [
    "### 데이터 타입 - 아이템들의 묶음\n",
    "- list() : 기본적인 데이터의 묶음\n",
    "- set() : unordered, unchangeable, and unindexed\n",
    "- dict() : a collection (key:value pairs); ordered, changeable and do not allow duplicates\n",
    "- tuple() : ordered and unchangeable"
   ]
  },
  {
   "cell_type": "markdown",
   "metadata": {},
   "source": [
    "[list()](https://www.w3schools.com/python/python_lists.asp) - w3schools.com\n",
    "<!-- ![w3_list](https://github.com/SeanJSLee/Teaching_YU_DS_basic_KR/blob/main/doc/img/py_w3_list.png?raw=true) -->\n",
    "<img src=\"https://github.com/SeanJSLee/Teaching_YU_DS_basic_KR/blob/main/doc/img/py_w3_list.png?raw=true\" width=\"800\"/>"
   ]
  },
  {
   "cell_type": "code",
   "execution_count": null,
   "metadata": {},
   "outputs": [],
   "source": [
    "# 리스트 생성은 브라켓 '[', ']'\n",
    "this_list = [\"apple\", \"banana\", \"cherry\"]\n",
    "print(type(this_list), this_list)"
   ]
  },
  {
   "cell_type": "code",
   "execution_count": null,
   "metadata": {},
   "outputs": [],
   "source": [
    "# indexed\n",
    "print(this_list[0])\n",
    "print(this_list[1])\n",
    "print(this_list[2])"
   ]
  },
  {
   "cell_type": "code",
   "execution_count": null,
   "metadata": {},
   "outputs": [],
   "source": [
    "for element in this_list:\n",
    "    print(element)"
   ]
  },
  {
   "cell_type": "markdown",
   "metadata": {},
   "source": [
    "[set()](https://www.w3schools.com/python/python_sets.asp) - w3schools.com\n",
    "<!-- ![w3_set](https://github.com/SeanJSLee/Teaching_YU_DS_basic_KR/blob/main/doc/img/py_w3_set.png?raw=true) -->\n",
    "<img src=\"https://github.com/SeanJSLee/Teaching_YU_DS_basic_KR/blob/main/doc/img/py_w3_set.png?raw=true\" width=\"800\"/>"
   ]
  },
  {
   "cell_type": "code",
   "execution_count": null,
   "metadata": {},
   "outputs": [],
   "source": [
    "this_set = {\"apple\", \"banana\", \"cherry\"}\n",
    "print(type(this_set), this_set)"
   ]
  },
  {
   "cell_type": "code",
   "execution_count": null,
   "metadata": {},
   "outputs": [],
   "source": [
    "# unindexed\n",
    "print(this_set[0])"
   ]
  },
  {
   "cell_type": "code",
   "execution_count": null,
   "metadata": {},
   "outputs": [],
   "source": [
    "for element in this_set:\n",
    "    print(element)"
   ]
  },
  {
   "cell_type": "markdown",
   "metadata": {},
   "source": [
    "[dict()](https://www.w3schools.com/python/python_dictionaries.asp) - w3schools.com\n",
    "<!-- ![w3_dict](https://github.com/SeanJSLee/Teaching_YU_DS_basic_KR/blob/main/doc/img/py_w3_dict.png?raw=true) -->\n",
    "<img src=\"https://github.com/SeanJSLee/Teaching_YU_DS_basic_KR/blob/main/doc/img/py_w3_dict.png?raw=true\" width=\"800\"/>"
   ]
  },
  {
   "cell_type": "code",
   "execution_count": null,
   "metadata": {},
   "outputs": [],
   "source": [
    "this_dict = {\n",
    "  \"brand\": \"Ford\",\n",
    "  \"model\": \"Mustang\",\n",
    "  \"year\": 1964\n",
    "}\n",
    "print(type(this_dict),this_dict)"
   ]
  },
  {
   "cell_type": "code",
   "execution_count": null,
   "metadata": {},
   "outputs": [],
   "source": [
    "# \n",
    "this_dict[0]"
   ]
  },
  {
   "cell_type": "code",
   "execution_count": null,
   "metadata": {},
   "outputs": [],
   "source": [
    "# aceess value by key\n",
    "print(this_dict['brand'])\n",
    "print(this_dict['model'])\n",
    "print(this_dict['year'])"
   ]
  },
  {
   "cell_type": "code",
   "execution_count": null,
   "metadata": {},
   "outputs": [],
   "source": [
    "for key in this_dict:\n",
    "    print(key, '\\t', this_dict[key])"
   ]
  },
  {
   "cell_type": "markdown",
   "metadata": {},
   "source": [
    "[tuple()](https://www.w3schools.com/python/python_tuples.asp) - 수정불가\n",
    "<!-- ![w3_tuple](https://github.com/SeanJSLee/Teaching_YU_DS_basic_KR/blob/main/doc/img/py_w3_tuple.png?raw=true) -->\n",
    "<img src=\"https://github.com/SeanJSLee/Teaching_YU_DS_basic_KR/blob/main/doc/img/py_w3_tuple.png?raw=true\" width=\"800\"/>"
   ]
  },
  {
   "cell_type": "code",
   "execution_count": null,
   "metadata": {},
   "outputs": [],
   "source": [
    "this_tuple = (\"apple\", \"banana\", \"cherry\")\n",
    "print(type(this_tuple), this_tuple)"
   ]
  },
  {
   "cell_type": "code",
   "execution_count": null,
   "metadata": {},
   "outputs": [],
   "source": [
    "print(this_tuple[0])\n",
    "print(this_tuple[1])\n",
    "print(this_tuple[2])"
   ]
  },
  {
   "cell_type": "code",
   "execution_count": null,
   "metadata": {},
   "outputs": [],
   "source": [
    "for element in this_tuple :\n",
    "    print(element)"
   ]
  },
  {
   "cell_type": "markdown",
   "metadata": {},
   "source": [
    "### 데이터\n",
    "#### string - [string methods](https://www.w3schools.com/python/python_strings_methods.asp)"
   ]
  },
  {
   "cell_type": "code",
   "execution_count": null,
   "metadata": {},
   "outputs": [],
   "source": [
    "s = 'string data'\n",
    "print(type(s),s)"
   ]
  },
  {
   "cell_type": "markdown",
   "metadata": {},
   "source": [
    "#### numeric - 정수, 소수, 복소수"
   ]
  },
  {
   "cell_type": "code",
   "execution_count": null,
   "metadata": {},
   "outputs": [],
   "source": [
    "x = 1    # int\n",
    "y = 2.8  # float\n",
    "z = 1j   # complex\n",
    "\n",
    "print(type(x))\n",
    "print(type(y))\n",
    "print(type(z))"
   ]
  },
  {
   "cell_type": "code",
   "execution_count": null,
   "metadata": {},
   "outputs": [],
   "source": [
    "# integer (정수)\n",
    "x = 1\n",
    "y = 35656222554887711\n",
    "z = -3255522\n",
    "\n",
    "print(type(x), x)\n",
    "print(type(y), y)\n",
    "print(type(z), z)\n",
    "\n",
    "\n",
    "# floate (소수;부동소수점)\n",
    "x = 1.10\n",
    "y = 1.0\n",
    "z = -35.59\n",
    "\n",
    "print(type(x), x)\n",
    "print(type(y), y)\n",
    "print(type(z), z)"
   ]
  },
  {
   "cell_type": "markdown",
   "metadata": {},
   "source": [
    "<br></br>\n",
    "## NumPy\n",
    "NumPy는 데이터처리를 도와주는 라이브러리. 엑셀의 함수와 비슷한 기능.\n",
    "엑셀의 기능이 파이썬의 여러 라이브러리에 나눠져 있다고 생각 할 수 있음. ([NumPy 링크](https://numpy.org/doc/stable/user/absolute_beginners.html))\n",
    "\n",
    "\n",
    "<!-- ![numpy_array](https://numpy.org/doc/stable/_images/np_array.png) -->\n",
    "<img src=\"https://numpy.org/doc/stable/_images/np_array.png\" width=\"800\"/>\n",
    "\n",
    "[np.array()](https://numpy.org/doc/stable/reference/arrays.html)\n",
    "<!-- ![w3_ndarray](https://github.com/SeanJSLee/Teaching_YU_DS_basic_KR/blob/main/doc/img/np_w3_ndarray.png?raw=true) -->\n",
    "<img src=\"https://github.com/SeanJSLee/Teaching_YU_DS_basic_KR/blob/main/doc/img/np_w3_ndarray.png?raw=true\" width=\"800\"/>"
   ]
  },
  {
   "cell_type": "code",
   "execution_count": null,
   "metadata": {},
   "outputs": [],
   "source": [
    "# numpy라이브러리를 \"np\"로 불러오기\n",
    "import numpy as np\n",
    "\n",
    "# NumPy의 기본구성요소: array\n",
    "a = np.array([1, 2, 3, 4, 5])\n",
    "a"
   ]
  },
  {
   "cell_type": "markdown",
   "metadata": {},
   "source": [
    "[np.sum()](https://numpy.org/doc/stable/reference/generated/numpy.sum.html#numpy.sum)"
   ]
  },
  {
   "cell_type": "code",
   "execution_count": null,
   "metadata": {},
   "outputs": [],
   "source": [
    "# 합계 구하기\n",
    "# 이때 sum()은 numpy의 array에서 제공하는 기능을 \".\"로 사용\n",
    "a.sum()"
   ]
  },
  {
   "cell_type": "markdown",
   "metadata": {},
   "source": [
    "[np.unique()](https://numpy.org/doc/stable/reference/generated/numpy.unique.html)"
   ]
  },
  {
   "cell_type": "code",
   "execution_count": null,
   "metadata": {},
   "outputs": [],
   "source": [
    "a = np.array([11, 11, 12, 13, 14, 15, 16, 17, 12, 13, 11, 14, 18, 19, 20])\n",
    "\n",
    "# 중복되지 않는 값들 찾기\n",
    "unique_values = np.unique(a)\n",
    "print(unique_values)"
   ]
  },
  {
   "cell_type": "code",
   "execution_count": null,
   "metadata": {},
   "outputs": [],
   "source": [
    "# array 구성요소의 갯수\n",
    "len(a)"
   ]
  },
  {
   "cell_type": "markdown",
   "metadata": {},
   "source": [
    "<br></br>\n",
    "## Pandas\n",
    "데이터를 파이썬에 불러오기 위한 라이브러리 ([Pandas link](https://pandas.pydata.org/)), ([Pandas 튜토리얼](https://pandas.pydata.org/docs/getting_started/intro_tutorials/index.html))  \n",
    "\n",
    "\n",
    "[![pandas](https://raw.githubusercontent.com/SeanJSLee/Teaching_YU_DS_basic_KR/main/doc/img/pandas_intro.webp?raw=true)](https://www.youtube.com/watch?v=_T8LGqJtuGc)\n",
    "\n",
    "\n",
    "<img src=\"https://pandas.pydata.org/docs/_images/01_table_dataframe.svg\" width=\"800\" style=\"background-color:white;\"/>\n",
    "\n",
    "<!-- <iframe width=\"560\" height=\"315\" src=https://pandas.pydata.org/docs/_images/01_table_dataframe.svg></iframe> -->\n",
    "\n",
    "\n",
    "$\n",
    "\\begin{align} \n",
    "    DataFrame \\sim matrix \\sim Excel \\, Worksheet   \\nonumber\n",
    "\\end{align}\n",
    "$\n",
    "\n",
    "[pd.DataFrame()](https://pandas.pydata.org/docs/reference/api/pandas.DataFrame.html)\n",
    "<!-- ![pd_dataframe](https://github.com/SeanJSLee/Teaching_YU_DS_basic_KR/blob/main/doc/img/pd_dataframe.png?raw=true) -->\n",
    "<img src=\"https://github.com/SeanJSLee/Teaching_YU_DS_basic_KR/blob/main/doc/img/pd_dataframe.png?raw=true\" width=\"800\"/>"
   ]
  },
  {
   "cell_type": "code",
   "execution_count": null,
   "metadata": {},
   "outputs": [],
   "source": [
    "# 라이브러리 불러오기, 짧은 이름으로 'pd'사용\n",
    "import pandas as pd\n",
    "\n",
    "# 데이터프레임 생성\n",
    "df = pd.DataFrame(\n",
    "    \n",
    "        # 중괄호로 시작; dict type\n",
    "        {\n",
    "            # 첫번째 컬럼(열)의 이름 및 데이터\n",
    "            \"Name\": [\n",
    "                \"Braund, Mr. Owen Harris\",\n",
    "                \"Allen, Mr. William Henry\",\n",
    "                \"Bonnell, Miss. Elizabeth\",\n",
    "            ],\n",
    "\n",
    "            # 두번쨰 컬럼\n",
    "            \"Age\": [22, 35, 58],\n",
    "\n",
    "            # 세번째 컬럼\n",
    "            \"Sex\": [\"male\", \"male\", \"female\"],\n",
    "        }\n",
    "    )\n",
    "\n",
    "df"
   ]
  },
  {
   "cell_type": "code",
   "execution_count": null,
   "metadata": {},
   "outputs": [],
   "source": [
    "# 위에서 정의한 'df' 데이터프레임의 'Age'열을 의미; Series로 출력\n",
    "print(type(df['Age']))\n",
    "df['Age']"
   ]
  },
  {
   "cell_type": "code",
   "execution_count": null,
   "metadata": {},
   "outputs": [],
   "source": [
    "df['Age'].sum()"
   ]
  },
  {
   "cell_type": "code",
   "execution_count": null,
   "metadata": {},
   "outputs": [],
   "source": [
    "# 위에서 정의한 'df' 데이터프레임의 'Age'열로 새로운 데이터프레임을 만듦; DataFrame으로 출력\n",
    "print(type(df[['Age']]))\n",
    "df[['Age']]"
   ]
  },
  {
   "cell_type": "code",
   "execution_count": null,
   "metadata": {},
   "outputs": [],
   "source": [
    "# 'df' 데이터프레임의 'Age'열을 이용한 데이터프레임과 동일\n",
    "pd.DataFrame(df['Age'])"
   ]
  },
  {
   "cell_type": "markdown",
   "metadata": {},
   "source": [
    "[pd.read_csv()](https://pandas.pydata.org/pandas-docs/stable/reference/api/pandas.read_csv.html)\n",
    "\n",
    "\n",
    "<img src=\"https://github.com/SeanJSLee/Teaching_YU_DS_basic_KR/blob/main/doc/img/pd_readcsv.png?raw=true\" width=\"800\"/>"
   ]
  },
  {
   "cell_type": "code",
   "execution_count": null,
   "metadata": {},
   "outputs": [],
   "source": [
    "# Load the dataset\n",
    "df_income = pd.read_csv(\"https://raw.githubusercontent.com/SeanJSLee/Teaching_YU_DS_basic_KR/main/data/KOSIS_houshold_panel_survey/data_income_kor.csv\")\n",
    "print(df_income.dtypes)\n",
    "df_income"
   ]
  },
  {
   "cell_type": "markdown",
   "metadata": {},
   "source": [
    "<br></br>\n",
    "## matplotlib\n",
    "그래프 전용 라이브러리 ([matplotlib 링크](https://matplotlib.org/stable/gallery/index.html))\n",
    "\n",
    "<!-- ![matplot_hist](https://matplotlib.org/stable/_images/sphx_glr_hist_001_2_00x.png) -->\n",
    "[matplotlib.pyplot.subplots()](https://matplotlib.org/stable/api/_as_gen/matplotlib.pyplot.subplots.html)  \n",
    "[matplotlib.Figure()](https://matplotlib.org/stable/api/figure_api.html#matplotlib.figure.Figure)  \n",
    "[matplotlib.Axes()](https://matplotlib.org/stable/api/_as_gen/matplotlib.axes.Axes.html#matplotlib.axes.Axes)  \n",
    "[matplotlib.Axes.plot()](https://matplotlib.org/stable/api/_as_gen/matplotlib.axes.Axes.plot.html)  \n",
    "\n",
    "<img src=\"https://github.com/SeanJSLee/Teaching_YU_DS_basic_KR/blob/main/doc/img/plt_ax_plot.png?raw=true\" width=\"800\"/>\n",
    "\n",
    "\n",
    "[matplotlib.pyplot.show()](https://matplotlib.org/stable/api/_as_gen/matplotlib.pyplot.show.html)"
   ]
  },
  {
   "cell_type": "code",
   "execution_count": null,
   "metadata": {},
   "outputs": [],
   "source": [
    "# matplotlib의 그래프기능을 \"plt\"로 불러오기\n",
    "import matplotlib.pyplot as plt\n",
    "\n",
    "a = [11, 11, 12, 13, 14, 15, 16, 17, 12, 13, 11, 14, 18, 19, 20]\n",
    "\n",
    "# 그래프 공간 설정\n",
    "# plt.subplots()는 그래프영역과 그래프요소를 각각 불러오기 때문에 \",\"로 구분\n",
    "fig, ax = plt.subplots()\n",
    "\n",
    "# 그래프요소 종류와 데이터 설정\n",
    "ax.plot(a)\n",
    "\n",
    "# 그리기 명령\n",
    "plt.show()"
   ]
  },
  {
   "cell_type": "markdown",
   "metadata": {},
   "source": [
    "[matplotlib.Axes.hist()](https://matplotlib.org/stable/api/_as_gen/matplotlib.axes.Axes.plot.html)  \n",
    "\n",
    "<img src=\"https://github.com/SeanJSLee/Teaching_YU_DS_basic_KR/blob/main/doc/img/plt_hist.png?raw=true\" width=\"800\"/>\n"
   ]
  },
  {
   "cell_type": "code",
   "execution_count": null,
   "metadata": {},
   "outputs": [],
   "source": [
    "fig, ax = plt.subplots()\n",
    "\n",
    "# 그래프요소 종류와 데이터 설정\n",
    "ax.hist(df_income['age'], bins=50, density=True)\n",
    "\n",
    "# 그리기 명령\n",
    "plt.show()"
   ]
  },
  {
   "cell_type": "markdown",
   "metadata": {},
   "source": [
    "<br></br>\n",
    "## statsmodels\n",
    "OLS 회귀분석 라이브러리 ([statsmodels 링크](https://www.statsmodels.org/stable/examples/notebooks/generated/ols.html))  \n",
    "회귀분석 보조 도구 [patsy](https://patsy.readthedocs.io/en/latest/quickstart.html)\n",
    "\n"
   ]
  },
  {
   "cell_type": "markdown",
   "metadata": {},
   "source": [
    "[patsy.dmatrices()](https://patsy.readthedocs.io/en/latest/API-reference.html#basic-api)  \n",
    "\n",
    "\n",
    "<img src=\"https://github.com/SeanJSLee/Teaching_YU_DS_basic_KR/blob/main/doc/img/patsy_dm.png?raw=true\" width=\"800\"/>\n",
    "\n",
    "\n",
    "\n",
    "\n",
    "\n",
    "\n",
    "\n",
    "\n"
   ]
  },
  {
   "cell_type": "code",
   "execution_count": null,
   "metadata": {},
   "outputs": [],
   "source": [
    "# numpy, pandas는 이전에 불러왔기 떄문에 생략 가능\n",
    "import numpy as np\n",
    "import pandas as pd\n",
    "\n",
    "# statsmodel 분석도구를 \"sm\"으로 불러오기\n",
    "import statsmodels.api as sm\n",
    "\n",
    "# patsy는 그대로 \"patsy\"로 불러오기. \n",
    "import patsy\n",
    "\n",
    "df_income = pd.read_csv(\"https://raw.githubusercontent.com/SeanJSLee/Teaching_YU_DS_basic_KR/main/data/KOSIS_houshold_panel_survey/data_income_kor.csv\")\n",
    "\n",
    "# 모델 specification\n",
    "Dependant_y, Independant_X = patsy.dmatrices(formula_like='ln_income ~ edu_year', data=df_income, return_type='dataframe')\n",
    "\n",
    "Dependant_y, Independant_X"
   ]
  },
  {
   "cell_type": "markdown",
   "metadata": {},
   "source": [
    "[statsmodels.api.OLS()](https://www.statsmodels.org/stable/generated/statsmodels.regression.linear_model.OLS.html#statsmodels.regression.linear_model.OLS)  \n",
    "\n",
    "\n",
    "\n",
    "<img src=\"https://github.com/SeanJSLee/Teaching_YU_DS_basic_KR/blob/main/doc/img/sm_ols.png?raw=true\" width=\"800\"/>"
   ]
  },
  {
   "cell_type": "code",
   "execution_count": null,
   "metadata": {},
   "outputs": [],
   "source": [
    "# OLS로 모델 추정방식 설정\n",
    "model = sm.OLS(endog=Dependant_y, exog=Independant_X)\n",
    "model"
   ]
  },
  {
   "cell_type": "markdown",
   "metadata": {},
   "source": [
    "[statsmodels.api.OLS.fit()](https://www.statsmodels.org/dev/generated/statsmodels.regression.linear_model.OLS.fit.html)  \n",
    "\n",
    "\n",
    "<img src=\"https://github.com/SeanJSLee/Teaching_YU_DS_basic_KR/blob/main/doc/img/sm_ols_fit.png?raw=true\" width=\"800\"/>"
   ]
  },
  {
   "cell_type": "code",
   "execution_count": null,
   "metadata": {},
   "outputs": [],
   "source": [
    "# OLS 추정 - Least Squeared loss function\n",
    "results = model.fit(cov_type='HC0', use_t=True)\n",
    "results"
   ]
  },
  {
   "cell_type": "markdown",
   "metadata": {},
   "source": [
    "[statsmodels.api.OLSResults.summary()](https://www.statsmodels.org/dev/generated/statsmodels.regression.linear_model.OLSResults.summary.html)"
   ]
  },
  {
   "cell_type": "code",
   "execution_count": null,
   "metadata": {},
   "outputs": [],
   "source": [
    "# 추정결과 표시\n",
    "print(results.summary())"
   ]
  }
 ],
 "metadata": {
  "kernelspec": {
   "display_name": "base",
   "language": "python",
   "name": "python3"
  },
  "language_info": {
   "codemirror_mode": {
    "name": "ipython",
    "version": 3
   },
   "file_extension": ".py",
   "mimetype": "text/x-python",
   "name": "python",
   "nbconvert_exporter": "python",
   "pygments_lexer": "ipython3",
   "version": "3.11.6"
  }
 },
 "nbformat": 4,
 "nbformat_minor": 2
}
