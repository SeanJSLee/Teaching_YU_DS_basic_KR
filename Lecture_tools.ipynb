{
 "cells": [
  {
   "cell_type": "markdown",
   "metadata": {},
   "source": [
    "## Colab\n",
    "Google의 무료 클라우드 Jupyter notebook 서비스 ([Colab link](https://colab.research.google.com/))\n",
    "- Jupyter notebook은 interactive python 개발환경 ([Jupyter link](https://jupyter.org/))  \n",
    "\n",
    "<!-- Colab -->\n",
    "[![colab](https://i.ytimg.com/an_webp/inN8seMm7UI/mqdefault_6s.webp?du=3000&sqp=CID_ua8G&rs=AOn4CLCWeXC7JkOqIDUFy4lHACarGQUGcQ)](https://www.youtube.com/watch?v=inN8seMm7UI)\n",
    "\n",
    "\n",
    "<!-- Python -->\n",
    "[![python](https://i.ytimg.com/an_webp/rfscVS0vtbw/mqdefault_6s.webp?du=3000&sqp=CODpua8G&rs=AOn4CLB5va2NHMWNra05ugHUWx2U5BrBVw)](https://youtu.be/rfscVS0vtbw?si=__fJ0av1CNK9LpFW&t=537)\n",
    "\n",
    "python 튜토리얼 9분10초부터\n"
   ]
  },
  {
   "cell_type": "markdown",
   "metadata": {},
   "source": [
    "### 자료 "
   ]
  },
  {
   "cell_type": "markdown",
   "metadata": {},
   "source": [
    "[print()](https://www.w3schools.com/python/ref_func_print.asp) - w3schools.com"
   ]
  },
  {
   "cell_type": "code",
   "execution_count": 40,
   "metadata": {},
   "outputs": [
    {
     "name": "stdout",
     "output_type": "stream",
     "text": [
      "hello world!\n"
     ]
    }
   ],
   "source": [
    "print('hello world!')"
   ]
  },
  {
   "cell_type": "markdown",
   "metadata": {},
   "source": [
    "[range()](https://www.w3schools.com/python/ref_func_range.asp) - w3schools.com"
   ]
  },
  {
   "cell_type": "code",
   "execution_count": 41,
   "metadata": {},
   "outputs": [
    {
     "name": "stdout",
     "output_type": "stream",
     "text": [
      "0\n",
      "1\n",
      "2\n",
      "3\n",
      "4\n",
      "5\n",
      "6\n",
      "7\n",
      "8\n",
      "9\n"
     ]
    }
   ],
   "source": [
    "# 0부터 9까지 연속된 정수를 x에 define\n",
    "x = range(0,10)\n",
    "\n",
    "# 각각의 x 값을 출력\n",
    "for value in x :\n",
    "    print(value)"
   ]
  },
  {
   "cell_type": "markdown",
   "metadata": {},
   "source": [
    "[len()](https://www.w3schools.com/python/ref_func_len.asp) - w3schools.com"
   ]
  },
  {
   "cell_type": "code",
   "execution_count": 42,
   "metadata": {},
   "outputs": [
    {
     "data": {
      "text/plain": [
       "10"
      ]
     },
     "execution_count": 42,
     "metadata": {},
     "output_type": "execute_result"
    }
   ],
   "source": [
    "# x 의 길이\n",
    "len(x)"
   ]
  },
  {
   "cell_type": "markdown",
   "metadata": {},
   "source": [
    "### 데이터 타입 - 아이템들의 묶음\n",
    "- list() : 기본적인 데이터의 묶음\n",
    "- set() : unordered, unchangeable, and unindexed\n",
    "- dict() : a collection (key:value pairs); ordered, changeable and do not allow duplicates\n",
    "- tuple() : ordered and unchangeable"
   ]
  },
  {
   "cell_type": "markdown",
   "metadata": {},
   "source": [
    "[list()](https://www.w3schools.com/python/python_lists.asp) - w3schools.com"
   ]
  },
  {
   "cell_type": "code",
   "execution_count": 43,
   "metadata": {},
   "outputs": [
    {
     "name": "stdout",
     "output_type": "stream",
     "text": [
      "<class 'list'> ['apple', 'banana', 'cherry']\n"
     ]
    }
   ],
   "source": [
    "# 리스트 생성은 브라켓 '[', ']'\n",
    "this_list = [\"apple\", \"banana\", \"cherry\"]\n",
    "print(type(this_list), this_list)"
   ]
  },
  {
   "cell_type": "code",
   "execution_count": 44,
   "metadata": {},
   "outputs": [
    {
     "name": "stdout",
     "output_type": "stream",
     "text": [
      "apple\n",
      "banana\n",
      "cherry\n"
     ]
    }
   ],
   "source": [
    "# indexed\n",
    "print(this_list[0])\n",
    "print(this_list[1])\n",
    "print(this_list[2])"
   ]
  },
  {
   "cell_type": "code",
   "execution_count": 45,
   "metadata": {},
   "outputs": [
    {
     "name": "stdout",
     "output_type": "stream",
     "text": [
      "apple\n",
      "banana\n",
      "cherry\n"
     ]
    }
   ],
   "source": [
    "for element in this_list:\n",
    "    print(element)"
   ]
  },
  {
   "cell_type": "markdown",
   "metadata": {},
   "source": [
    "[set()](https://www.w3schools.com/python/python_sets.asp) - w3schools.com"
   ]
  },
  {
   "cell_type": "code",
   "execution_count": 46,
   "metadata": {},
   "outputs": [
    {
     "name": "stdout",
     "output_type": "stream",
     "text": [
      "<class 'set'> {'apple', 'cherry', 'banana'}\n"
     ]
    }
   ],
   "source": [
    "this_set = {\"apple\", \"banana\", \"cherry\"}\n",
    "print(type(this_set), this_set)"
   ]
  },
  {
   "cell_type": "code",
   "execution_count": 47,
   "metadata": {},
   "outputs": [
    {
     "ename": "TypeError",
     "evalue": "'set' object is not subscriptable",
     "output_type": "error",
     "traceback": [
      "\u001b[1;31m---------------------------------------------------------------------------\u001b[0m",
      "\u001b[1;31mTypeError\u001b[0m                                 Traceback (most recent call last)",
      "Cell \u001b[1;32mIn[47], line 2\u001b[0m\n\u001b[0;32m      1\u001b[0m \u001b[38;5;66;03m# unindexed\u001b[39;00m\n\u001b[1;32m----> 2\u001b[0m \u001b[38;5;28mprint\u001b[39m(\u001b[43mthis_set\u001b[49m\u001b[43m[\u001b[49m\u001b[38;5;241;43m0\u001b[39;49m\u001b[43m]\u001b[49m)\n",
      "\u001b[1;31mTypeError\u001b[0m: 'set' object is not subscriptable"
     ]
    }
   ],
   "source": [
    "# unindexed\n",
    "print(this_set[0])"
   ]
  },
  {
   "cell_type": "code",
   "execution_count": null,
   "metadata": {},
   "outputs": [
    {
     "name": "stdout",
     "output_type": "stream",
     "text": [
      "apple\n",
      "cherry\n",
      "banana\n"
     ]
    }
   ],
   "source": [
    "for element in this_set:\n",
    "    print(element)"
   ]
  },
  {
   "cell_type": "markdown",
   "metadata": {},
   "source": [
    "[dict()](https://www.w3schools.com/python/python_dictionaries.asp) - w3schools.com"
   ]
  },
  {
   "cell_type": "code",
   "execution_count": null,
   "metadata": {},
   "outputs": [
    {
     "name": "stdout",
     "output_type": "stream",
     "text": [
      "<class 'dict'> {'brand': 'Ford', 'model': 'Mustang', 'year': 1964}\n"
     ]
    }
   ],
   "source": [
    "this_dict = {\n",
    "  \"brand\": \"Ford\",\n",
    "  \"model\": \"Mustang\",\n",
    "  \"year\": 1964\n",
    "}\n",
    "print(type(this_dict),this_dict)"
   ]
  },
  {
   "cell_type": "code",
   "execution_count": null,
   "metadata": {},
   "outputs": [
    {
     "ename": "KeyError",
     "evalue": "0",
     "output_type": "error",
     "traceback": [
      "\u001b[1;31m---------------------------------------------------------------------------\u001b[0m",
      "\u001b[1;31mKeyError\u001b[0m                                  Traceback (most recent call last)",
      "Cell \u001b[1;32mIn[35], line 2\u001b[0m\n\u001b[0;32m      1\u001b[0m \u001b[38;5;66;03m# unindexed\u001b[39;00m\n\u001b[1;32m----> 2\u001b[0m \u001b[43mthis_dict\u001b[49m\u001b[43m[\u001b[49m\u001b[38;5;241;43m0\u001b[39;49m\u001b[43m]\u001b[49m\n",
      "\u001b[1;31mKeyError\u001b[0m: 0"
     ]
    }
   ],
   "source": [
    "# \n",
    "this_dict[0]"
   ]
  },
  {
   "cell_type": "code",
   "execution_count": 48,
   "metadata": {},
   "outputs": [
    {
     "name": "stdout",
     "output_type": "stream",
     "text": [
      "Ford\n",
      "Mustang\n",
      "1964\n"
     ]
    }
   ],
   "source": [
    "# aceess value by key\n",
    "print(this_dict['brand'])\n",
    "print(this_dict['model'])\n",
    "print(this_dict['year'])"
   ]
  },
  {
   "cell_type": "code",
   "execution_count": 49,
   "metadata": {},
   "outputs": [
    {
     "name": "stdout",
     "output_type": "stream",
     "text": [
      "brand \t Ford\n",
      "model \t Mustang\n",
      "year \t 1964\n"
     ]
    }
   ],
   "source": [
    "for key in this_dict:\n",
    "    print(key, '\\t', this_dict[key])"
   ]
  },
  {
   "cell_type": "markdown",
   "metadata": {},
   "source": [
    "[tuple()](https://www.w3schools.com/python/python_tuples.asp) - 수정불가"
   ]
  },
  {
   "cell_type": "code",
   "execution_count": 50,
   "metadata": {},
   "outputs": [
    {
     "name": "stdout",
     "output_type": "stream",
     "text": [
      "<class 'tuple'> ('apple', 'banana', 'cherry')\n"
     ]
    }
   ],
   "source": [
    "this_tuple = (\"apple\", \"banana\", \"cherry\")\n",
    "print(type(this_tuple), this_tuple)"
   ]
  },
  {
   "cell_type": "code",
   "execution_count": 51,
   "metadata": {},
   "outputs": [
    {
     "name": "stdout",
     "output_type": "stream",
     "text": [
      "apple\n",
      "banana\n",
      "cherry\n"
     ]
    }
   ],
   "source": [
    "print(this_tuple[0])\n",
    "print(this_tuple[1])\n",
    "print(this_tuple[2])"
   ]
  },
  {
   "cell_type": "code",
   "execution_count": 52,
   "metadata": {},
   "outputs": [
    {
     "name": "stdout",
     "output_type": "stream",
     "text": [
      "apple\n",
      "banana\n",
      "cherry\n"
     ]
    }
   ],
   "source": [
    "for element in this_tuple :\n",
    "    print(element)"
   ]
  },
  {
   "cell_type": "markdown",
   "metadata": {},
   "source": [
    "### 데이터\n",
    "#### string - [string methods](https://www.w3schools.com/python/python_strings_methods.asp)"
   ]
  },
  {
   "cell_type": "code",
   "execution_count": null,
   "metadata": {},
   "outputs": [],
   "source": []
  },
  {
   "cell_type": "markdown",
   "metadata": {},
   "source": [
    "#### numeric - 정수, 소수, 복소수"
   ]
  },
  {
   "cell_type": "code",
   "execution_count": 53,
   "metadata": {},
   "outputs": [
    {
     "name": "stdout",
     "output_type": "stream",
     "text": [
      "<class 'int'>\n",
      "<class 'float'>\n",
      "<class 'complex'>\n"
     ]
    }
   ],
   "source": [
    "x = 1    # int\n",
    "y = 2.8  # float\n",
    "z = 1j   # complex\n",
    "\n",
    "print(type(x))\n",
    "print(type(y))\n",
    "print(type(z))"
   ]
  },
  {
   "cell_type": "code",
   "execution_count": 54,
   "metadata": {},
   "outputs": [
    {
     "name": "stdout",
     "output_type": "stream",
     "text": [
      "<class 'int'> 1\n",
      "<class 'int'> 35656222554887711\n",
      "<class 'int'> -3255522\n",
      "<class 'float'> 1.1\n",
      "<class 'float'> 1.0\n",
      "<class 'float'> -35.59\n"
     ]
    }
   ],
   "source": [
    "# integer (정수)\n",
    "x = 1\n",
    "y = 35656222554887711\n",
    "z = -3255522\n",
    "\n",
    "print(type(x), x)\n",
    "print(type(y), y)\n",
    "print(type(z), z)\n",
    "\n",
    "\n",
    "# floate (소수;부동소수점)\n",
    "x = 1.10\n",
    "y = 1.0\n",
    "z = -35.59\n",
    "\n",
    "print(type(x), x)\n",
    "print(type(y), y)\n",
    "print(type(z), z)"
   ]
  },
  {
   "cell_type": "markdown",
   "metadata": {},
   "source": [
    "## NumPy\n",
    "NumPy는 데이터처리를 도와주는 라이브러리. 엑셀의 함수와 비슷한 기능.\n",
    "엑셀의 기능이 파이썬의 여러 라이브러리에 나눠져 있다고 생각 할 수 있음. ([NumPy 링크](https://numpy.org/doc/stable/user/absolute_beginners.html))\n",
    "\n",
    "\n",
    "![numpy_array](https://numpy.org/doc/stable/_images/np_array.png)\n",
    "\n",
    "[np.array()](https://numpy.org/doc/stable/reference/arrays.html)"
   ]
  },
  {
   "cell_type": "code",
   "execution_count": 55,
   "metadata": {},
   "outputs": [
    {
     "data": {
      "text/plain": [
       "array([1, 2, 3, 4, 5])"
      ]
     },
     "execution_count": 55,
     "metadata": {},
     "output_type": "execute_result"
    }
   ],
   "source": [
    "# numpy라이브러리를 \"np\"로 불러오기\n",
    "import numpy as np\n",
    "\n",
    "# NumPy의 기본구성요소: array\n",
    "a = np.array([1, 2, 3, 4, 5])\n",
    "a"
   ]
  },
  {
   "cell_type": "markdown",
   "metadata": {},
   "source": [
    "[np.sum()](https://numpy.org/doc/stable/reference/generated/numpy.sum.html#numpy.sum)"
   ]
  },
  {
   "cell_type": "code",
   "execution_count": 56,
   "metadata": {},
   "outputs": [
    {
     "data": {
      "text/plain": [
       "15"
      ]
     },
     "execution_count": 56,
     "metadata": {},
     "output_type": "execute_result"
    }
   ],
   "source": [
    "# 합계 구하기\n",
    "# 이때 sum()은 numpy의 array에서 제공하는 기능을 \".\"로 사용\n",
    "a.sum()"
   ]
  },
  {
   "cell_type": "markdown",
   "metadata": {},
   "source": [
    "[np.unique()](https://numpy.org/doc/stable/reference/generated/numpy.unique.html)"
   ]
  },
  {
   "cell_type": "code",
   "execution_count": 57,
   "metadata": {},
   "outputs": [
    {
     "name": "stdout",
     "output_type": "stream",
     "text": [
      "[11 12 13 14 15 16 17 18 19 20]\n"
     ]
    }
   ],
   "source": [
    "a = np.array([11, 11, 12, 13, 14, 15, 16, 17, 12, 13, 11, 14, 18, 19, 20])\n",
    "\n",
    "# 중복되지 않는 값들 찾기\n",
    "unique_values = np.unique(a)\n",
    "print(unique_values)"
   ]
  },
  {
   "cell_type": "code",
   "execution_count": 58,
   "metadata": {},
   "outputs": [
    {
     "data": {
      "text/plain": [
       "15"
      ]
     },
     "execution_count": 58,
     "metadata": {},
     "output_type": "execute_result"
    }
   ],
   "source": [
    "# array 구성요소의 갯수\n",
    "len(a)"
   ]
  },
  {
   "cell_type": "markdown",
   "metadata": {},
   "source": [
    "## Pandas\n",
    "데이터를 파이썬에 불러오기 위한 라이브러리 ([Pandas link](https://pandas.pydata.org/)), ([Pandas 튜토리얼](https://pandas.pydata.org/docs/getting_started/intro_tutorials/index.html))  \n",
    "\n",
    "\n",
    "[![pandas](https://i.ytimg.com/an_webp/_T8LGqJtuGc/mqdefault_6s.webp?du=3000&sqp=CLOuuq8G&rs=AOn4CLDmd1CISHmwrhppKSdWx_5LuMlRbw)](https://www.youtube.com/watch?v=_T8LGqJtuGc)\n",
    "\n",
    "<iframe width=\"560\" height=\"315\" src=https://pandas.pydata.org/docs/_images/01_table_dataframe.svg></iframe>\n",
    "\n",
    "\n",
    "$\n",
    "\\begin{align} \n",
    "    DataFrame \\sim matrix \\sim Excel \\, Worksheet   \\nonumber\n",
    "\\end{align}\n",
    "$\n",
    "\n",
    "[pd.DataFrame()](https://pandas.pydata.org/docs/reference/api/pandas.DataFrame.html)"
   ]
  },
  {
   "cell_type": "code",
   "execution_count": 59,
   "metadata": {},
   "outputs": [
    {
     "data": {
      "text/html": [
       "<div>\n",
       "<style scoped>\n",
       "    .dataframe tbody tr th:only-of-type {\n",
       "        vertical-align: middle;\n",
       "    }\n",
       "\n",
       "    .dataframe tbody tr th {\n",
       "        vertical-align: top;\n",
       "    }\n",
       "\n",
       "    .dataframe thead th {\n",
       "        text-align: right;\n",
       "    }\n",
       "</style>\n",
       "<table border=\"1\" class=\"dataframe\">\n",
       "  <thead>\n",
       "    <tr style=\"text-align: right;\">\n",
       "      <th></th>\n",
       "      <th>Name</th>\n",
       "      <th>Age</th>\n",
       "      <th>Sex</th>\n",
       "    </tr>\n",
       "  </thead>\n",
       "  <tbody>\n",
       "    <tr>\n",
       "      <th>0</th>\n",
       "      <td>Braund, Mr. Owen Harris</td>\n",
       "      <td>22</td>\n",
       "      <td>male</td>\n",
       "    </tr>\n",
       "    <tr>\n",
       "      <th>1</th>\n",
       "      <td>Allen, Mr. William Henry</td>\n",
       "      <td>35</td>\n",
       "      <td>male</td>\n",
       "    </tr>\n",
       "    <tr>\n",
       "      <th>2</th>\n",
       "      <td>Bonnell, Miss. Elizabeth</td>\n",
       "      <td>58</td>\n",
       "      <td>female</td>\n",
       "    </tr>\n",
       "  </tbody>\n",
       "</table>\n",
       "</div>"
      ],
      "text/plain": [
       "                       Name  Age     Sex\n",
       "0   Braund, Mr. Owen Harris   22    male\n",
       "1  Allen, Mr. William Henry   35    male\n",
       "2  Bonnell, Miss. Elizabeth   58  female"
      ]
     },
     "execution_count": 59,
     "metadata": {},
     "output_type": "execute_result"
    }
   ],
   "source": [
    "# 라이브러리 불러오기, 짧은 이름으로 'pd'사용\n",
    "import pandas as pd\n",
    "\n",
    "# 데이터프레임 생성\n",
    "df = pd.DataFrame(\n",
    "    \n",
    "        # 중괄호로 시작; dict type\n",
    "        {\n",
    "            # 첫번째 컬럼(열)의 이름 및 데이터\n",
    "            \"Name\": [\n",
    "                \"Braund, Mr. Owen Harris\",\n",
    "                \"Allen, Mr. William Henry\",\n",
    "                \"Bonnell, Miss. Elizabeth\",\n",
    "            ],\n",
    "\n",
    "            # 두번쨰 컬럼\n",
    "            \"Age\": [22, 35, 58],\n",
    "\n",
    "            # 세번째 컬럼\n",
    "            \"Sex\": [\"male\", \"male\", \"female\"],\n",
    "        }\n",
    "    )\n",
    "\n",
    "df"
   ]
  },
  {
   "cell_type": "markdown",
   "metadata": {},
   "source": [
    "[type()](https://docs.python.org/ko/3.8/library/functions.html#type)"
   ]
  },
  {
   "cell_type": "code",
   "execution_count": 60,
   "metadata": {},
   "outputs": [
    {
     "name": "stdout",
     "output_type": "stream",
     "text": [
      "<class 'pandas.core.series.Series'>\n"
     ]
    },
    {
     "data": {
      "text/plain": [
       "0    22\n",
       "1    35\n",
       "2    58\n",
       "Name: Age, dtype: int64"
      ]
     },
     "execution_count": 60,
     "metadata": {},
     "output_type": "execute_result"
    }
   ],
   "source": [
    "# 위에서 정의한 'df' 데이터프레임의 'Age'열을 의미; Series로 출력\n",
    "print(type(df['Age']))\n",
    "df['Age']"
   ]
  },
  {
   "cell_type": "code",
   "execution_count": 61,
   "metadata": {},
   "outputs": [
    {
     "data": {
      "text/plain": [
       "115"
      ]
     },
     "execution_count": 61,
     "metadata": {},
     "output_type": "execute_result"
    }
   ],
   "source": [
    "df['Age'].sum()"
   ]
  },
  {
   "cell_type": "code",
   "execution_count": 62,
   "metadata": {},
   "outputs": [
    {
     "name": "stdout",
     "output_type": "stream",
     "text": [
      "<class 'pandas.core.frame.DataFrame'>\n"
     ]
    },
    {
     "data": {
      "text/html": [
       "<div>\n",
       "<style scoped>\n",
       "    .dataframe tbody tr th:only-of-type {\n",
       "        vertical-align: middle;\n",
       "    }\n",
       "\n",
       "    .dataframe tbody tr th {\n",
       "        vertical-align: top;\n",
       "    }\n",
       "\n",
       "    .dataframe thead th {\n",
       "        text-align: right;\n",
       "    }\n",
       "</style>\n",
       "<table border=\"1\" class=\"dataframe\">\n",
       "  <thead>\n",
       "    <tr style=\"text-align: right;\">\n",
       "      <th></th>\n",
       "      <th>Age</th>\n",
       "    </tr>\n",
       "  </thead>\n",
       "  <tbody>\n",
       "    <tr>\n",
       "      <th>0</th>\n",
       "      <td>22</td>\n",
       "    </tr>\n",
       "    <tr>\n",
       "      <th>1</th>\n",
       "      <td>35</td>\n",
       "    </tr>\n",
       "    <tr>\n",
       "      <th>2</th>\n",
       "      <td>58</td>\n",
       "    </tr>\n",
       "  </tbody>\n",
       "</table>\n",
       "</div>"
      ],
      "text/plain": [
       "   Age\n",
       "0   22\n",
       "1   35\n",
       "2   58"
      ]
     },
     "execution_count": 62,
     "metadata": {},
     "output_type": "execute_result"
    }
   ],
   "source": [
    "# 위에서 정의한 'df' 데이터프레임의 'Age'열로 새로운 데이터프레임을 만듦; DataFrame으로 출력\n",
    "print(type(df[['Age']]))\n",
    "df[['Age']]"
   ]
  },
  {
   "cell_type": "code",
   "execution_count": 63,
   "metadata": {},
   "outputs": [
    {
     "data": {
      "text/html": [
       "<div>\n",
       "<style scoped>\n",
       "    .dataframe tbody tr th:only-of-type {\n",
       "        vertical-align: middle;\n",
       "    }\n",
       "\n",
       "    .dataframe tbody tr th {\n",
       "        vertical-align: top;\n",
       "    }\n",
       "\n",
       "    .dataframe thead th {\n",
       "        text-align: right;\n",
       "    }\n",
       "</style>\n",
       "<table border=\"1\" class=\"dataframe\">\n",
       "  <thead>\n",
       "    <tr style=\"text-align: right;\">\n",
       "      <th></th>\n",
       "      <th>Age</th>\n",
       "    </tr>\n",
       "  </thead>\n",
       "  <tbody>\n",
       "    <tr>\n",
       "      <th>0</th>\n",
       "      <td>22</td>\n",
       "    </tr>\n",
       "    <tr>\n",
       "      <th>1</th>\n",
       "      <td>35</td>\n",
       "    </tr>\n",
       "    <tr>\n",
       "      <th>2</th>\n",
       "      <td>58</td>\n",
       "    </tr>\n",
       "  </tbody>\n",
       "</table>\n",
       "</div>"
      ],
      "text/plain": [
       "   Age\n",
       "0   22\n",
       "1   35\n",
       "2   58"
      ]
     },
     "execution_count": 63,
     "metadata": {},
     "output_type": "execute_result"
    }
   ],
   "source": [
    "# 'df' 데이터프레임의 'Age'열을 이용한 데이터프레임과 동일\n",
    "pd.DataFrame(df['Age'])"
   ]
  },
  {
   "cell_type": "code",
   "execution_count": 71,
   "metadata": {},
   "outputs": [
    {
     "name": "stdout",
     "output_type": "stream",
     "text": [
      "Unnamed: 0           int64\n",
      "income_78          float64\n",
      "edu_year             int64\n",
      "age                  int64\n",
      "edu_level           object\n",
      "income_at_23       float64\n",
      "ln_income_at_23    float64\n",
      "dtype: object\n"
     ]
    },
    {
     "data": {
      "text/html": [
       "<div>\n",
       "<style scoped>\n",
       "    .dataframe tbody tr th:only-of-type {\n",
       "        vertical-align: middle;\n",
       "    }\n",
       "\n",
       "    .dataframe tbody tr th {\n",
       "        vertical-align: top;\n",
       "    }\n",
       "\n",
       "    .dataframe thead th {\n",
       "        text-align: right;\n",
       "    }\n",
       "</style>\n",
       "<table border=\"1\" class=\"dataframe\">\n",
       "  <thead>\n",
       "    <tr style=\"text-align: right;\">\n",
       "      <th></th>\n",
       "      <th>Unnamed: 0</th>\n",
       "      <th>income_78</th>\n",
       "      <th>edu_year</th>\n",
       "      <th>age</th>\n",
       "      <th>edu_level</th>\n",
       "      <th>income_at_23</th>\n",
       "      <th>ln_income_at_23</th>\n",
       "    </tr>\n",
       "  </thead>\n",
       "  <tbody>\n",
       "    <tr>\n",
       "      <th>0</th>\n",
       "      <td>0</td>\n",
       "      <td>9930.0460</td>\n",
       "      <td>11</td>\n",
       "      <td>37</td>\n",
       "      <td>Secondary</td>\n",
       "      <td>46406.2100</td>\n",
       "      <td>10.745189</td>\n",
       "    </tr>\n",
       "    <tr>\n",
       "      <th>1</th>\n",
       "      <td>1</td>\n",
       "      <td>3595.8940</td>\n",
       "      <td>9</td>\n",
       "      <td>22</td>\n",
       "      <td>Secondary</td>\n",
       "      <td>16804.7360</td>\n",
       "      <td>9.729416</td>\n",
       "    </tr>\n",
       "    <tr>\n",
       "      <th>2</th>\n",
       "      <td>2</td>\n",
       "      <td>24909.4500</td>\n",
       "      <td>12</td>\n",
       "      <td>30</td>\n",
       "      <td>Secondary</td>\n",
       "      <td>116409.6400</td>\n",
       "      <td>11.664870</td>\n",
       "    </tr>\n",
       "    <tr>\n",
       "      <th>3</th>\n",
       "      <td>3</td>\n",
       "      <td>7506.1460</td>\n",
       "      <td>11</td>\n",
       "      <td>27</td>\n",
       "      <td>Secondary</td>\n",
       "      <td>35078.5660</td>\n",
       "      <td>10.465345</td>\n",
       "    </tr>\n",
       "    <tr>\n",
       "      <th>4</th>\n",
       "      <td>4</td>\n",
       "      <td>289.7899</td>\n",
       "      <td>8</td>\n",
       "      <td>33</td>\n",
       "      <td>Secondary</td>\n",
       "      <td>1354.2787</td>\n",
       "      <td>7.211024</td>\n",
       "    </tr>\n",
       "    <tr>\n",
       "      <th>...</th>\n",
       "      <td>...</td>\n",
       "      <td>...</td>\n",
       "      <td>...</td>\n",
       "      <td>...</td>\n",
       "      <td>...</td>\n",
       "      <td>...</td>\n",
       "      <td>...</td>\n",
       "    </tr>\n",
       "    <tr>\n",
       "      <th>13955</th>\n",
       "      <td>13955</td>\n",
       "      <td>2757.4380</td>\n",
       "      <td>12</td>\n",
       "      <td>22</td>\n",
       "      <td>Secondary</td>\n",
       "      <td>12886.3700</td>\n",
       "      <td>9.463925</td>\n",
       "    </tr>\n",
       "    <tr>\n",
       "      <th>13956</th>\n",
       "      <td>13956</td>\n",
       "      <td>6895.0720</td>\n",
       "      <td>12</td>\n",
       "      <td>20</td>\n",
       "      <td>Secondary</td>\n",
       "      <td>32222.8260</td>\n",
       "      <td>10.380430</td>\n",
       "    </tr>\n",
       "    <tr>\n",
       "      <th>13957</th>\n",
       "      <td>13957</td>\n",
       "      <td>4221.8650</td>\n",
       "      <td>12</td>\n",
       "      <td>37</td>\n",
       "      <td>Secondary</td>\n",
       "      <td>19730.0960</td>\n",
       "      <td>9.889900</td>\n",
       "    </tr>\n",
       "    <tr>\n",
       "      <th>13958</th>\n",
       "      <td>13958</td>\n",
       "      <td>13671.9300</td>\n",
       "      <td>9</td>\n",
       "      <td>47</td>\n",
       "      <td>Secondary</td>\n",
       "      <td>63893.2030</td>\n",
       "      <td>11.064968</td>\n",
       "    </tr>\n",
       "    <tr>\n",
       "      <th>13959</th>\n",
       "      <td>13959</td>\n",
       "      <td>7979.7240</td>\n",
       "      <td>10</td>\n",
       "      <td>40</td>\n",
       "      <td>Secondary</td>\n",
       "      <td>37291.7460</td>\n",
       "      <td>10.526527</td>\n",
       "    </tr>\n",
       "  </tbody>\n",
       "</table>\n",
       "<p>13960 rows × 7 columns</p>\n",
       "</div>"
      ],
      "text/plain": [
       "       Unnamed: 0   income_78  edu_year  age  edu_level  income_at_23  \\\n",
       "0               0   9930.0460        11   37  Secondary    46406.2100   \n",
       "1               1   3595.8940         9   22  Secondary    16804.7360   \n",
       "2               2  24909.4500        12   30  Secondary   116409.6400   \n",
       "3               3   7506.1460        11   27  Secondary    35078.5660   \n",
       "4               4    289.7899         8   33  Secondary     1354.2787   \n",
       "...           ...         ...       ...  ...        ...           ...   \n",
       "13955       13955   2757.4380        12   22  Secondary    12886.3700   \n",
       "13956       13956   6895.0720        12   20  Secondary    32222.8260   \n",
       "13957       13957   4221.8650        12   37  Secondary    19730.0960   \n",
       "13958       13958  13671.9300         9   47  Secondary    63893.2030   \n",
       "13959       13959   7979.7240        10   40  Secondary    37291.7460   \n",
       "\n",
       "       ln_income_at_23  \n",
       "0            10.745189  \n",
       "1             9.729416  \n",
       "2            11.664870  \n",
       "3            10.465345  \n",
       "4             7.211024  \n",
       "...                ...  \n",
       "13955         9.463925  \n",
       "13956        10.380430  \n",
       "13957         9.889900  \n",
       "13958        11.064968  \n",
       "13959        10.526527  \n",
       "\n",
       "[13960 rows x 7 columns]"
      ]
     },
     "execution_count": 71,
     "metadata": {},
     "output_type": "execute_result"
    }
   ],
   "source": [
    "df_income_csv = pd.read_csv(\"https://raw.githubusercontent.com/SeanJSLee/Teaching_YU_DS_basic_KR/main/data/Dehejia_and_Wahba_1999/data_cps78_income.csv\")\n",
    "print(df_income_csv.dtypes)\n",
    "df_income_csv"
   ]
  },
  {
   "cell_type": "markdown",
   "metadata": {},
   "source": [
    "## matplotlib\n",
    "그래프 전용 라이브러리 ([matplotlib 링크](https://matplotlib.org/stable/gallery/index.html))\n",
    "\n",
    "![matplot_hist](https://matplotlib.org/stable/_images/sphx_glr_hist_001_2_00x.png)"
   ]
  },
  {
   "cell_type": "markdown",
   "metadata": {},
   "source": [
    "[matplotlib.pyplot.subplots()](https://matplotlib.org/stable/api/_as_gen/matplotlib.pyplot.subplots.html)  \n",
    "[matplotlib.Figure()](https://matplotlib.org/stable/api/figure_api.html#matplotlib.figure.Figure)  \n",
    "[matplotlib.Axes()](https://matplotlib.org/stable/api/_as_gen/matplotlib.axes.Axes.html#matplotlib.axes.Axes)  \n",
    "[matplotlib.pyplot.show()](https://matplotlib.org/stable/api/_as_gen/matplotlib.pyplot.show.html)"
   ]
  },
  {
   "cell_type": "code",
   "execution_count": 64,
   "metadata": {},
   "outputs": [
    {
     "data": {
      "image/png": "[encoded data removed]",
      "text/plain": [
       "<Figure size 640x480 with 1 Axes>"
      ]
     },
     "metadata": {},
     "output_type": "display_data"
    }
   ],
   "source": [
    "# matplotlib의 그래프기능을 \"plt\"로 불러오기\n",
    "import matplotlib.pyplot as plt\n",
    "\n",
    "# numpy는 이전에 불러왔기 떄문에 생략 가능\n",
    "import numpy as np\n",
    "\n",
    "a = np.array([11, 11, 12, 13, 14, 15, 16, 17, 12, 13, 11, 14, 18, 19, 20])\n",
    "\n",
    "# 그래프 공간 설정\n",
    "# plt.subplots()는 그래프영역과 그래프요소를 각각 불러오기 때문에 \",\"로 구분\n",
    "fig, ax = plt.subplots()\n",
    "\n",
    "# 그래프요소 종류와 데이터 설정\n",
    "ax.plot(a)\n",
    "\n",
    "# 그리기 명령\n",
    "plt.show()"
   ]
  },
  {
   "cell_type": "markdown",
   "metadata": {},
   "source": [
    "## statsmodels\n",
    "OLS 회귀분석 라이브러리 ([statsmodels 링크](https://www.statsmodels.org/stable/examples/notebooks/generated/ols.html))  \n",
    "회귀분석 보조 도구 [patsy](https://patsy.readthedocs.io/en/latest/quickstart.html)\n",
    "\n"
   ]
  },
  {
   "cell_type": "code",
   "execution_count": 65,
   "metadata": {},
   "outputs": [
    {
     "data": {
      "text/html": [
       "<div>\n",
       "<style scoped>\n",
       "    .dataframe tbody tr th:only-of-type {\n",
       "        vertical-align: middle;\n",
       "    }\n",
       "\n",
       "    .dataframe tbody tr th {\n",
       "        vertical-align: top;\n",
       "    }\n",
       "\n",
       "    .dataframe thead th {\n",
       "        text-align: right;\n",
       "    }\n",
       "</style>\n",
       "<table border=\"1\" class=\"dataframe\">\n",
       "  <thead>\n",
       "    <tr style=\"text-align: right;\">\n",
       "      <th></th>\n",
       "      <th>y</th>\n",
       "      <th>x1</th>\n",
       "      <th>x2</th>\n",
       "    </tr>\n",
       "  </thead>\n",
       "  <tbody>\n",
       "    <tr>\n",
       "      <th>0</th>\n",
       "      <td>0.159484</td>\n",
       "      <td>0.00000</td>\n",
       "      <td>0.000000</td>\n",
       "    </tr>\n",
       "    <tr>\n",
       "      <th>1</th>\n",
       "      <td>2.709627</td>\n",
       "      <td>0.10101</td>\n",
       "      <td>0.010203</td>\n",
       "    </tr>\n",
       "    <tr>\n",
       "      <th>2</th>\n",
       "      <td>1.893866</td>\n",
       "      <td>0.20202</td>\n",
       "      <td>0.040812</td>\n",
       "    </tr>\n",
       "    <tr>\n",
       "      <th>3</th>\n",
       "      <td>1.440418</td>\n",
       "      <td>0.30303</td>\n",
       "      <td>0.091827</td>\n",
       "    </tr>\n",
       "    <tr>\n",
       "      <th>4</th>\n",
       "      <td>5.607196</td>\n",
       "      <td>0.40404</td>\n",
       "      <td>0.163249</td>\n",
       "    </tr>\n",
       "    <tr>\n",
       "      <th>...</th>\n",
       "      <td>...</td>\n",
       "      <td>...</td>\n",
       "      <td>...</td>\n",
       "    </tr>\n",
       "    <tr>\n",
       "      <th>95</th>\n",
       "      <td>923.205757</td>\n",
       "      <td>9.59596</td>\n",
       "      <td>92.082441</td>\n",
       "    </tr>\n",
       "    <tr>\n",
       "      <th>96</th>\n",
       "      <td>944.357509</td>\n",
       "      <td>9.69697</td>\n",
       "      <td>94.031221</td>\n",
       "    </tr>\n",
       "    <tr>\n",
       "      <th>97</th>\n",
       "      <td>960.546815</td>\n",
       "      <td>9.79798</td>\n",
       "      <td>96.000408</td>\n",
       "    </tr>\n",
       "    <tr>\n",
       "      <th>98</th>\n",
       "      <td>982.038002</td>\n",
       "      <td>9.89899</td>\n",
       "      <td>97.990001</td>\n",
       "    </tr>\n",
       "    <tr>\n",
       "      <th>99</th>\n",
       "      <td>1000.136853</td>\n",
       "      <td>10.00000</td>\n",
       "      <td>100.000000</td>\n",
       "    </tr>\n",
       "  </tbody>\n",
       "</table>\n",
       "<p>100 rows × 3 columns</p>\n",
       "</div>"
      ],
      "text/plain": [
       "              y        x1          x2\n",
       "0      0.159484   0.00000    0.000000\n",
       "1      2.709627   0.10101    0.010203\n",
       "2      1.893866   0.20202    0.040812\n",
       "3      1.440418   0.30303    0.091827\n",
       "4      5.607196   0.40404    0.163249\n",
       "..          ...       ...         ...\n",
       "95   923.205757   9.59596   92.082441\n",
       "96   944.357509   9.69697   94.031221\n",
       "97   960.546815   9.79798   96.000408\n",
       "98   982.038002   9.89899   97.990001\n",
       "99  1000.136853  10.00000  100.000000\n",
       "\n",
       "[100 rows x 3 columns]"
      ]
     },
     "execution_count": 65,
     "metadata": {},
     "output_type": "execute_result"
    }
   ],
   "source": [
    "# numpy, pandas는 이전에 불러왔기 떄문에 생략 가능\n",
    "import numpy as np\n",
    "import pandas as pd\n",
    "\n",
    "# statsmodel 분석도구를 \"sm\"으로 불러오기\n",
    "import statsmodels.api as sm\n",
    "\n",
    "# patsy는 그대로 \"patsy\"로 불러오기. \n",
    "import patsy\n",
    "\n",
    "# 랜덤 데이터 생성\n",
    "np.random.seed(9876789)\n",
    "nsample = 100\n",
    "x = np.linspace(0, 10, 100)\n",
    "X = np.column_stack((x, x ** 2))\n",
    "beta = np.array([1, 0.1, 10])\n",
    "e = np.random.normal(size=nsample)\n",
    "X = sm.add_constant(X)\n",
    "y = np.dot(X, beta) + e\n",
    "df = pd.DataFrame({'y':y, 'x1':x, 'x2':x**2})\n",
    "df"
   ]
  },
  {
   "cell_type": "markdown",
   "metadata": {},
   "source": [
    "[patsy.dmatrices()](https://patsy.readthedocs.io/en/latest/API-reference.html#basic-api)  \n",
    "[statsmodels.api.OLS()](https://www.statsmodels.org/stable/generated/statsmodels.regression.linear_model.OLS.html#statsmodels.regression.linear_model.OLS)  \n",
    "[statsmodels.api.OLS.fit()](https://www.statsmodels.org/dev/generated/statsmodels.regression.linear_model.OLS.fit.html)  \n",
    "[statsmodels.api.OLSResults.summary()](https://www.statsmodels.org/dev/generated/statsmodels.regression.linear_model.OLSResults.summary.html)"
   ]
  },
  {
   "cell_type": "code",
   "execution_count": 66,
   "metadata": {},
   "outputs": [
    {
     "data": {
      "text/html": [
       "<div>\n",
       "<style scoped>\n",
       "    .dataframe tbody tr th:only-of-type {\n",
       "        vertical-align: middle;\n",
       "    }\n",
       "\n",
       "    .dataframe tbody tr th {\n",
       "        vertical-align: top;\n",
       "    }\n",
       "\n",
       "    .dataframe thead th {\n",
       "        text-align: right;\n",
       "    }\n",
       "</style>\n",
       "<table border=\"1\" class=\"dataframe\">\n",
       "  <thead>\n",
       "    <tr style=\"text-align: right;\">\n",
       "      <th></th>\n",
       "      <th>y</th>\n",
       "    </tr>\n",
       "  </thead>\n",
       "  <tbody>\n",
       "    <tr>\n",
       "      <th>0</th>\n",
       "      <td>0.159484</td>\n",
       "    </tr>\n",
       "    <tr>\n",
       "      <th>1</th>\n",
       "      <td>2.709627</td>\n",
       "    </tr>\n",
       "    <tr>\n",
       "      <th>2</th>\n",
       "      <td>1.893866</td>\n",
       "    </tr>\n",
       "    <tr>\n",
       "      <th>3</th>\n",
       "      <td>1.440418</td>\n",
       "    </tr>\n",
       "    <tr>\n",
       "      <th>4</th>\n",
       "      <td>5.607196</td>\n",
       "    </tr>\n",
       "    <tr>\n",
       "      <th>...</th>\n",
       "      <td>...</td>\n",
       "    </tr>\n",
       "    <tr>\n",
       "      <th>95</th>\n",
       "      <td>923.205757</td>\n",
       "    </tr>\n",
       "    <tr>\n",
       "      <th>96</th>\n",
       "      <td>944.357509</td>\n",
       "    </tr>\n",
       "    <tr>\n",
       "      <th>97</th>\n",
       "      <td>960.546815</td>\n",
       "    </tr>\n",
       "    <tr>\n",
       "      <th>98</th>\n",
       "      <td>982.038002</td>\n",
       "    </tr>\n",
       "    <tr>\n",
       "      <th>99</th>\n",
       "      <td>1000.136853</td>\n",
       "    </tr>\n",
       "  </tbody>\n",
       "</table>\n",
       "<p>100 rows × 1 columns</p>\n",
       "</div>"
      ],
      "text/plain": [
       "              y\n",
       "0      0.159484\n",
       "1      2.709627\n",
       "2      1.893866\n",
       "3      1.440418\n",
       "4      5.607196\n",
       "..          ...\n",
       "95   923.205757\n",
       "96   944.357509\n",
       "97   960.546815\n",
       "98   982.038002\n",
       "99  1000.136853\n",
       "\n",
       "[100 rows x 1 columns]"
      ]
     },
     "execution_count": 66,
     "metadata": {},
     "output_type": "execute_result"
    }
   ],
   "source": [
    "# 모델 specification\n",
    "Dependant_y, Independant_X = patsy.dmatrices('y ~ x1 + x2', df, return_type='dataframe')\n",
    "\n",
    "Dependant_y"
   ]
  },
  {
   "cell_type": "code",
   "execution_count": 67,
   "metadata": {},
   "outputs": [
    {
     "data": {
      "text/html": [
       "<div>\n",
       "<style scoped>\n",
       "    .dataframe tbody tr th:only-of-type {\n",
       "        vertical-align: middle;\n",
       "    }\n",
       "\n",
       "    .dataframe tbody tr th {\n",
       "        vertical-align: top;\n",
       "    }\n",
       "\n",
       "    .dataframe thead th {\n",
       "        text-align: right;\n",
       "    }\n",
       "</style>\n",
       "<table border=\"1\" class=\"dataframe\">\n",
       "  <thead>\n",
       "    <tr style=\"text-align: right;\">\n",
       "      <th></th>\n",
       "      <th>Intercept</th>\n",
       "      <th>x1</th>\n",
       "      <th>x2</th>\n",
       "    </tr>\n",
       "  </thead>\n",
       "  <tbody>\n",
       "    <tr>\n",
       "      <th>0</th>\n",
       "      <td>1.0</td>\n",
       "      <td>0.00000</td>\n",
       "      <td>0.000000</td>\n",
       "    </tr>\n",
       "    <tr>\n",
       "      <th>1</th>\n",
       "      <td>1.0</td>\n",
       "      <td>0.10101</td>\n",
       "      <td>0.010203</td>\n",
       "    </tr>\n",
       "    <tr>\n",
       "      <th>2</th>\n",
       "      <td>1.0</td>\n",
       "      <td>0.20202</td>\n",
       "      <td>0.040812</td>\n",
       "    </tr>\n",
       "    <tr>\n",
       "      <th>3</th>\n",
       "      <td>1.0</td>\n",
       "      <td>0.30303</td>\n",
       "      <td>0.091827</td>\n",
       "    </tr>\n",
       "    <tr>\n",
       "      <th>4</th>\n",
       "      <td>1.0</td>\n",
       "      <td>0.40404</td>\n",
       "      <td>0.163249</td>\n",
       "    </tr>\n",
       "    <tr>\n",
       "      <th>...</th>\n",
       "      <td>...</td>\n",
       "      <td>...</td>\n",
       "      <td>...</td>\n",
       "    </tr>\n",
       "    <tr>\n",
       "      <th>95</th>\n",
       "      <td>1.0</td>\n",
       "      <td>9.59596</td>\n",
       "      <td>92.082441</td>\n",
       "    </tr>\n",
       "    <tr>\n",
       "      <th>96</th>\n",
       "      <td>1.0</td>\n",
       "      <td>9.69697</td>\n",
       "      <td>94.031221</td>\n",
       "    </tr>\n",
       "    <tr>\n",
       "      <th>97</th>\n",
       "      <td>1.0</td>\n",
       "      <td>9.79798</td>\n",
       "      <td>96.000408</td>\n",
       "    </tr>\n",
       "    <tr>\n",
       "      <th>98</th>\n",
       "      <td>1.0</td>\n",
       "      <td>9.89899</td>\n",
       "      <td>97.990001</td>\n",
       "    </tr>\n",
       "    <tr>\n",
       "      <th>99</th>\n",
       "      <td>1.0</td>\n",
       "      <td>10.00000</td>\n",
       "      <td>100.000000</td>\n",
       "    </tr>\n",
       "  </tbody>\n",
       "</table>\n",
       "<p>100 rows × 3 columns</p>\n",
       "</div>"
      ],
      "text/plain": [
       "    Intercept        x1          x2\n",
       "0         1.0   0.00000    0.000000\n",
       "1         1.0   0.10101    0.010203\n",
       "2         1.0   0.20202    0.040812\n",
       "3         1.0   0.30303    0.091827\n",
       "4         1.0   0.40404    0.163249\n",
       "..        ...       ...         ...\n",
       "95        1.0   9.59596   92.082441\n",
       "96        1.0   9.69697   94.031221\n",
       "97        1.0   9.79798   96.000408\n",
       "98        1.0   9.89899   97.990001\n",
       "99        1.0  10.00000  100.000000\n",
       "\n",
       "[100 rows x 3 columns]"
      ]
     },
     "execution_count": 67,
     "metadata": {},
     "output_type": "execute_result"
    }
   ],
   "source": [
    "Independant_X"
   ]
  },
  {
   "cell_type": "code",
   "execution_count": 68,
   "metadata": {},
   "outputs": [
    {
     "data": {
      "text/plain": [
       "<statsmodels.regression.linear_model.OLS at 0x2176a259650>"
      ]
     },
     "execution_count": 68,
     "metadata": {},
     "output_type": "execute_result"
    }
   ],
   "source": [
    "# OLS로 모델 추정방식 설정\n",
    "model = sm.OLS(Dependant_y, Independant_X)\n",
    "model"
   ]
  },
  {
   "cell_type": "code",
   "execution_count": 69,
   "metadata": {},
   "outputs": [
    {
     "data": {
      "text/plain": [
       "<statsmodels.regression.linear_model.RegressionResultsWrapper at 0x2176a27ef90>"
      ]
     },
     "execution_count": 69,
     "metadata": {},
     "output_type": "execute_result"
    }
   ],
   "source": [
    "# OLS 추정 - Least Squeared loss function\n",
    "results = model.fit()\n",
    "results"
   ]
  },
  {
   "cell_type": "code",
   "execution_count": 70,
   "metadata": {},
   "outputs": [
    {
     "name": "stdout",
     "output_type": "stream",
     "text": [
      "                            OLS Regression Results                            \n",
      "==============================================================================\n",
      "Dep. Variable:                      y   R-squared:                       1.000\n",
      "Model:                            OLS   Adj. R-squared:                  1.000\n",
      "Method:                 Least Squares   F-statistic:                 4.020e+06\n",
      "Date:                Sun, 17 Mar 2024   Prob (F-statistic):          2.83e-239\n",
      "Time:                        21:37:27   Log-Likelihood:                -146.51\n",
      "No. Observations:                 100   AIC:                             299.0\n",
      "Df Residuals:                      97   BIC:                             306.8\n",
      "Df Model:                           2                                         \n",
      "Covariance Type:            nonrobust                                         \n",
      "==============================================================================\n",
      "                 coef    std err          t      P>|t|      [0.025      0.975]\n",
      "------------------------------------------------------------------------------\n",
      "Intercept      1.3423      0.313      4.292      0.000       0.722       1.963\n",
      "x1            -0.0402      0.145     -0.278      0.781      -0.327       0.247\n",
      "x2            10.0103      0.014    715.745      0.000       9.982      10.038\n",
      "==============================================================================\n",
      "Omnibus:                        2.042   Durbin-Watson:                   2.274\n",
      "Prob(Omnibus):                  0.360   Jarque-Bera (JB):                1.875\n",
      "Skew:                           0.234   Prob(JB):                        0.392\n",
      "Kurtosis:                       2.519   Cond. No.                         144.\n",
      "==============================================================================\n",
      "\n",
      "Notes:\n",
      "[1] Standard Errors assume that the covariance matrix of the errors is correctly specified.\n"
     ]
    }
   ],
   "source": [
    "# 추정결과 표시\n",
    "print(results.summary())"
   ]
  }
 ],
 "metadata": {
  "kernelspec": {
   "display_name": "base",
   "language": "python",
   "name": "python3"
  },
  "language_info": {
   "codemirror_mode": {
    "name": "ipython",
    "version": 3
   },
   "file_extension": ".py",
   "mimetype": "text/x-python",
   "name": "python",
   "nbconvert_exporter": "python",
   "pygments_lexer": "ipython3",
   "version": "3.11.6"
  }
 },
 "nbformat": 4,
 "nbformat_minor": 2
}
