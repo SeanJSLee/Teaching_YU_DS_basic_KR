{
 "cells": [
  {
   "cell_type": "markdown",
   "metadata": {},
   "source": [
    "## Colab\n",
    "Google의 무료 클라우드 Jupyter notebook 서비스 ([Colab link](https://colab.research.google.com/))\n",
    "- Jupyter notebook은 interactive python 개발환경 ([Jupyter link](https://jupyter.org/))  \n",
    "\n",
    "<!-- Colab -->\n",
    "[![colab](https://i.ytimg.com/an_webp/inN8seMm7UI/mqdefault_6s.webp?du=3000&sqp=CID_ua8G&rs=AOn4CLCWeXC7JkOqIDUFy4lHACarGQUGcQ)](https://www.youtube.com/watch?v=inN8seMm7UI)\n",
    "\n",
    "\n",
    "<!-- Python -->\n",
    "[![python](https://i.ytimg.com/an_webp/rfscVS0vtbw/mqdefault_6s.webp?du=3000&sqp=CODpua8G&rs=AOn4CLB5va2NHMWNra05ugHUWx2U5BrBVw)](https://www.youtube.com/watch?v=-3DHpwy498o&list=PLuHgQVnccGMDtnr4nTSFfmocHL5FeH1xR)\n",
    "\n",
    "python 튜토리얼 9분10초부터\n"
   ]
  },
  {
   "cell_type": "markdown",
   "metadata": {},
   "source": [
    "### 자료 "
   ]
  },
  {
   "cell_type": "markdown",
   "metadata": {},
   "source": [
    "[print()](https://www.w3schools.com/python/ref_func_print.asp) - w3schools.com\n",
    "<!-- ![w3_print](https://github.com/SeanJSLee/Teaching_YU_DS_basic_KR/blob/main/doc/img/py_w3_print.png?raw=true) -->\n",
    "<img src=\"https://github.com/SeanJSLee/Teaching_YU_DS_basic_KR/blob/main/doc/img/py_w3_print.png?raw=true\" width=\"800\"/>"
   ]
  },
  {
   "cell_type": "code",
   "execution_count": 5,
   "metadata": {},
   "outputs": [
    {
     "name": "stdout",
     "output_type": "stream",
     "text": [
      "hello world!\n"
     ]
    }
   ],
   "source": [
    "print('hello world!')"
   ]
  },
  {
   "cell_type": "markdown",
   "metadata": {},
   "source": [
    "[range()](https://www.w3schools.com/python/ref_func_range.asp) - w3schools.com\n",
    "<!-- ![w3_range](https://github.com/SeanJSLee/Teaching_YU_DS_basic_KR/blob/main/doc/img/py_w3_range.png?raw=true) -->\n",
    "<img src=\"https://github.com/SeanJSLee/Teaching_YU_DS_basic_KR/blob/main/doc/img/py_w3_range.png?raw=true\" width=\"800\"/>"
   ]
  },
  {
   "cell_type": "code",
   "execution_count": 6,
   "metadata": {},
   "outputs": [
    {
     "name": "stdout",
     "output_type": "stream",
     "text": [
      "0\n",
      "1\n",
      "2\n",
      "3\n",
      "4\n",
      "5\n",
      "6\n",
      "7\n",
      "8\n",
      "9\n"
     ]
    }
   ],
   "source": [
    "# 0부터 9까지 연속된 정수를 x에 define\n",
    "x = range(0,10)\n",
    "\n",
    "# 각각의 x 값을 출력\n",
    "for value in x :\n",
    "    print(value)"
   ]
  },
  {
   "cell_type": "markdown",
   "metadata": {},
   "source": [
    "[len()](https://www.w3schools.com/python/ref_func_len.asp) - w3schools.com\n",
    "<!-- ![w3_len](https://github.com/SeanJSLee/Teaching_YU_DS_basic_KR/blob/main/doc/img/py_w3_len.png?raw=true) -->\n",
    "<img src=\"https://github.com/SeanJSLee/Teaching_YU_DS_basic_KR/blob/main/doc/img/py_w3_len.png?raw=true\" width=\"800\"/>"
   ]
  },
  {
   "cell_type": "code",
   "execution_count": 7,
   "metadata": {},
   "outputs": [
    {
     "data": {
      "text/plain": [
       "10"
      ]
     },
     "execution_count": 7,
     "metadata": {},
     "output_type": "execute_result"
    }
   ],
   "source": [
    "# x 의 길이\n",
    "len(x)"
   ]
  },
  {
   "cell_type": "markdown",
   "metadata": {},
   "source": [
    "[type()](https://www.w3schools.com/python/ref_func_type.asp)"
   ]
  },
  {
   "cell_type": "code",
   "execution_count": 8,
   "metadata": {},
   "outputs": [
    {
     "name": "stdout",
     "output_type": "stream",
     "text": [
      "<class 'list'>\n",
      "<class 'str'>\n",
      "<class 'int'>\n"
     ]
    }
   ],
   "source": [
    "a = ['apple', 'banana', 'cherry']\n",
    "b = \"Hello World\"\n",
    "c = 33\n",
    "\n",
    "print(type(a))\n",
    "print(type(b))\n",
    "print(type(c))"
   ]
  },
  {
   "cell_type": "markdown",
   "metadata": {},
   "source": [
    "### 데이터 타입 - 아이템들의 묶음\n",
    "- list() : 기본적인 데이터의 묶음\n",
    "- set() : unordered, unchangeable, and unindexed\n",
    "- dict() : a collection (key:value pairs); ordered, changeable and do not allow duplicates\n",
    "- tuple() : ordered and unchangeable"
   ]
  },
  {
   "cell_type": "markdown",
   "metadata": {},
   "source": [
    "[list()](https://www.w3schools.com/python/python_lists.asp) - w3schools.com\n",
    "<!-- ![w3_list](https://github.com/SeanJSLee/Teaching_YU_DS_basic_KR/blob/main/doc/img/py_w3_list.png?raw=true) -->\n",
    "<img src=\"https://github.com/SeanJSLee/Teaching_YU_DS_basic_KR/blob/main/doc/img/py_w3_list.png?raw=true\" width=\"800\"/>"
   ]
  },
  {
   "cell_type": "code",
   "execution_count": 9,
   "metadata": {},
   "outputs": [
    {
     "name": "stdout",
     "output_type": "stream",
     "text": [
      "<class 'list'> ['apple', 'banana', 'cherry']\n"
     ]
    }
   ],
   "source": [
    "# 리스트 생성은 브라켓 '[', ']'\n",
    "this_list = [\"apple\", \"banana\", \"cherry\"]\n",
    "print(type(this_list), this_list)"
   ]
  },
  {
   "cell_type": "code",
   "execution_count": 10,
   "metadata": {},
   "outputs": [
    {
     "name": "stdout",
     "output_type": "stream",
     "text": [
      "apple\n",
      "banana\n",
      "cherry\n"
     ]
    }
   ],
   "source": [
    "# indexed\n",
    "print(this_list[0])\n",
    "print(this_list[1])\n",
    "print(this_list[2])"
   ]
  },
  {
   "cell_type": "code",
   "execution_count": 11,
   "metadata": {},
   "outputs": [
    {
     "name": "stdout",
     "output_type": "stream",
     "text": [
      "apple\n",
      "banana\n",
      "cherry\n"
     ]
    }
   ],
   "source": [
    "for element in this_list:\n",
    "    print(element)"
   ]
  },
  {
   "cell_type": "markdown",
   "metadata": {},
   "source": [
    "[set()](https://www.w3schools.com/python/python_sets.asp) - w3schools.com\n",
    "<!-- ![w3_set](https://github.com/SeanJSLee/Teaching_YU_DS_basic_KR/blob/main/doc/img/py_w3_set.png?raw=true) -->\n",
    "<img src=\"https://github.com/SeanJSLee/Teaching_YU_DS_basic_KR/blob/main/doc/img/py_w3_set.png?raw=true\" width=\"800\"/>"
   ]
  },
  {
   "cell_type": "code",
   "execution_count": 12,
   "metadata": {},
   "outputs": [
    {
     "name": "stdout",
     "output_type": "stream",
     "text": [
      "<class 'set'> {'apple', 'banana', 'cherry'}\n"
     ]
    }
   ],
   "source": [
    "this_set = {\"apple\", \"banana\", \"cherry\"}\n",
    "print(type(this_set), this_set)"
   ]
  },
  {
   "cell_type": "code",
   "execution_count": 13,
   "metadata": {},
   "outputs": [
    {
     "ename": "TypeError",
     "evalue": "'set' object is not subscriptable",
     "output_type": "error",
     "traceback": [
      "\u001b[1;31m---------------------------------------------------------------------------\u001b[0m",
      "\u001b[1;31mTypeError\u001b[0m                                 Traceback (most recent call last)",
      "Cell \u001b[1;32mIn[13], line 2\u001b[0m\n\u001b[0;32m      1\u001b[0m \u001b[38;5;66;03m# unindexed\u001b[39;00m\n\u001b[1;32m----> 2\u001b[0m \u001b[38;5;28mprint\u001b[39m(\u001b[43mthis_set\u001b[49m\u001b[43m[\u001b[49m\u001b[38;5;241;43m0\u001b[39;49m\u001b[43m]\u001b[49m)\n",
      "\u001b[1;31mTypeError\u001b[0m: 'set' object is not subscriptable"
     ]
    }
   ],
   "source": [
    "# unindexed\n",
    "print(this_set[0])"
   ]
  },
  {
   "cell_type": "code",
   "execution_count": null,
   "metadata": {},
   "outputs": [
    {
     "name": "stdout",
     "output_type": "stream",
     "text": [
      "apple\n",
      "cherry\n",
      "banana\n"
     ]
    }
   ],
   "source": [
    "for element in this_set:\n",
    "    print(element)"
   ]
  },
  {
   "cell_type": "markdown",
   "metadata": {},
   "source": [
    "[dict()](https://www.w3schools.com/python/python_dictionaries.asp) - w3schools.com\n",
    "<!-- ![w3_dict](https://github.com/SeanJSLee/Teaching_YU_DS_basic_KR/blob/main/doc/img/py_w3_dict.png?raw=true) -->\n",
    "<img src=\"https://github.com/SeanJSLee/Teaching_YU_DS_basic_KR/blob/main/doc/img/py_w3_dict.png?raw=true\" width=\"800\"/>"
   ]
  },
  {
   "cell_type": "code",
   "execution_count": null,
   "metadata": {},
   "outputs": [
    {
     "name": "stdout",
     "output_type": "stream",
     "text": [
      "<class 'dict'> {'brand': 'Ford', 'model': 'Mustang', 'year': 1964}\n"
     ]
    }
   ],
   "source": [
    "this_dict = {\n",
    "  \"brand\": \"Ford\",\n",
    "  \"model\": \"Mustang\",\n",
    "  \"year\": 1964\n",
    "}\n",
    "print(type(this_dict),this_dict)"
   ]
  },
  {
   "cell_type": "code",
   "execution_count": null,
   "metadata": {},
   "outputs": [
    {
     "ename": "KeyError",
     "evalue": "0",
     "output_type": "error",
     "traceback": [
      "\u001b[1;31m---------------------------------------------------------------------------\u001b[0m",
      "\u001b[1;31mKeyError\u001b[0m                                  Traceback (most recent call last)",
      "Cell \u001b[1;32mIn[35], line 2\u001b[0m\n\u001b[0;32m      1\u001b[0m \u001b[38;5;66;03m# unindexed\u001b[39;00m\n\u001b[1;32m----> 2\u001b[0m \u001b[43mthis_dict\u001b[49m\u001b[43m[\u001b[49m\u001b[38;5;241;43m0\u001b[39;49m\u001b[43m]\u001b[49m\n",
      "\u001b[1;31mKeyError\u001b[0m: 0"
     ]
    }
   ],
   "source": [
    "# \n",
    "this_dict[0]"
   ]
  },
  {
   "cell_type": "code",
   "execution_count": null,
   "metadata": {},
   "outputs": [
    {
     "name": "stdout",
     "output_type": "stream",
     "text": [
      "Ford\n",
      "Mustang\n",
      "1964\n"
     ]
    }
   ],
   "source": [
    "# aceess value by key\n",
    "print(this_dict['brand'])\n",
    "print(this_dict['model'])\n",
    "print(this_dict['year'])"
   ]
  },
  {
   "cell_type": "code",
   "execution_count": null,
   "metadata": {},
   "outputs": [
    {
     "name": "stdout",
     "output_type": "stream",
     "text": [
      "brand \t Ford\n",
      "model \t Mustang\n",
      "year \t 1964\n"
     ]
    }
   ],
   "source": [
    "for key in this_dict:\n",
    "    print(key, '\\t', this_dict[key])"
   ]
  },
  {
   "cell_type": "markdown",
   "metadata": {},
   "source": [
    "[tuple()](https://www.w3schools.com/python/python_tuples.asp) - 수정불가\n",
    "<!-- ![w3_tuple](https://github.com/SeanJSLee/Teaching_YU_DS_basic_KR/blob/main/doc/img/py_w3_tuple.png?raw=true) -->\n",
    "<img src=\"https://github.com/SeanJSLee/Teaching_YU_DS_basic_KR/blob/main/doc/img/py_w3_tuple.png?raw=true\" width=\"800\"/>"
   ]
  },
  {
   "cell_type": "code",
   "execution_count": null,
   "metadata": {},
   "outputs": [
    {
     "name": "stdout",
     "output_type": "stream",
     "text": [
      "<class 'tuple'> ('apple', 'banana', 'cherry')\n"
     ]
    }
   ],
   "source": [
    "this_tuple = (\"apple\", \"banana\", \"cherry\")\n",
    "print(type(this_tuple), this_tuple)"
   ]
  },
  {
   "cell_type": "code",
   "execution_count": null,
   "metadata": {},
   "outputs": [
    {
     "name": "stdout",
     "output_type": "stream",
     "text": [
      "apple\n",
      "banana\n",
      "cherry\n"
     ]
    }
   ],
   "source": [
    "print(this_tuple[0])\n",
    "print(this_tuple[1])\n",
    "print(this_tuple[2])"
   ]
  },
  {
   "cell_type": "code",
   "execution_count": null,
   "metadata": {},
   "outputs": [
    {
     "name": "stdout",
     "output_type": "stream",
     "text": [
      "apple\n",
      "banana\n",
      "cherry\n"
     ]
    }
   ],
   "source": [
    "for element in this_tuple :\n",
    "    print(element)"
   ]
  },
  {
   "cell_type": "markdown",
   "metadata": {},
   "source": [
    "### 데이터\n",
    "#### string - [string methods](https://www.w3schools.com/python/python_strings_methods.asp)"
   ]
  },
  {
   "cell_type": "code",
   "execution_count": null,
   "metadata": {},
   "outputs": [],
   "source": []
  },
  {
   "cell_type": "markdown",
   "metadata": {},
   "source": [
    "#### numeric - 정수, 소수, 복소수"
   ]
  },
  {
   "cell_type": "code",
   "execution_count": null,
   "metadata": {},
   "outputs": [
    {
     "name": "stdout",
     "output_type": "stream",
     "text": [
      "<class 'int'>\n",
      "<class 'float'>\n",
      "<class 'complex'>\n"
     ]
    }
   ],
   "source": [
    "x = 1    # int\n",
    "y = 2.8  # float\n",
    "z = 1j   # complex\n",
    "\n",
    "print(type(x))\n",
    "print(type(y))\n",
    "print(type(z))"
   ]
  },
  {
   "cell_type": "code",
   "execution_count": null,
   "metadata": {},
   "outputs": [
    {
     "name": "stdout",
     "output_type": "stream",
     "text": [
      "<class 'int'> 1\n",
      "<class 'int'> 35656222554887711\n",
      "<class 'int'> -3255522\n",
      "<class 'float'> 1.1\n",
      "<class 'float'> 1.0\n",
      "<class 'float'> -35.59\n"
     ]
    }
   ],
   "source": [
    "# integer (정수)\n",
    "x = 1\n",
    "y = 35656222554887711\n",
    "z = -3255522\n",
    "\n",
    "print(type(x), x)\n",
    "print(type(y), y)\n",
    "print(type(z), z)\n",
    "\n",
    "\n",
    "# floate (소수;부동소수점)\n",
    "x = 1.10\n",
    "y = 1.0\n",
    "z = -35.59\n",
    "\n",
    "print(type(x), x)\n",
    "print(type(y), y)\n",
    "print(type(z), z)"
   ]
  },
  {
   "cell_type": "markdown",
   "metadata": {},
   "source": [
    "<br></br>\n",
    "## NumPy\n",
    "NumPy는 데이터처리를 도와주는 라이브러리. 엑셀의 함수와 비슷한 기능.\n",
    "엑셀의 기능이 파이썬의 여러 라이브러리에 나눠져 있다고 생각 할 수 있음. ([NumPy 링크](https://numpy.org/doc/stable/user/absolute_beginners.html))\n",
    "\n",
    "\n",
    "<!-- ![numpy_array](https://numpy.org/doc/stable/_images/np_array.png) -->\n",
    "<img src=\"https://numpy.org/doc/stable/_images/np_array.png\" width=\"800\"/>\n",
    "\n",
    "[np.array()](https://numpy.org/doc/stable/reference/arrays.html)\n",
    "<!-- ![w3_ndarray](https://github.com/SeanJSLee/Teaching_YU_DS_basic_KR/blob/main/doc/img/np_w3_ndarray.png?raw=true) -->\n",
    "<img src=\"https://github.com/SeanJSLee/Teaching_YU_DS_basic_KR/blob/main/doc/img/np_w3_ndarray.png?raw=true\" width=\"800\"/>"
   ]
  },
  {
   "cell_type": "code",
   "execution_count": null,
   "metadata": {},
   "outputs": [
    {
     "data": {
      "text/plain": [
       "array([1, 2, 3, 4, 5])"
      ]
     },
     "execution_count": 55,
     "metadata": {},
     "output_type": "execute_result"
    }
   ],
   "source": [
    "# numpy라이브러리를 \"np\"로 불러오기\n",
    "import numpy as np\n",
    "\n",
    "# NumPy의 기본구성요소: array\n",
    "a = np.array([1, 2, 3, 4, 5])\n",
    "a"
   ]
  },
  {
   "cell_type": "markdown",
   "metadata": {},
   "source": [
    "[np.sum()](https://numpy.org/doc/stable/reference/generated/numpy.sum.html#numpy.sum)"
   ]
  },
  {
   "cell_type": "code",
   "execution_count": null,
   "metadata": {},
   "outputs": [
    {
     "data": {
      "text/plain": [
       "15"
      ]
     },
     "execution_count": 56,
     "metadata": {},
     "output_type": "execute_result"
    }
   ],
   "source": [
    "# 합계 구하기\n",
    "# 이때 sum()은 numpy의 array에서 제공하는 기능을 \".\"로 사용\n",
    "a.sum()"
   ]
  },
  {
   "cell_type": "markdown",
   "metadata": {},
   "source": [
    "[np.unique()](https://numpy.org/doc/stable/reference/generated/numpy.unique.html)"
   ]
  },
  {
   "cell_type": "code",
   "execution_count": null,
   "metadata": {},
   "outputs": [
    {
     "name": "stdout",
     "output_type": "stream",
     "text": [
      "[11 12 13 14 15 16 17 18 19 20]\n"
     ]
    }
   ],
   "source": [
    "a = np.array([11, 11, 12, 13, 14, 15, 16, 17, 12, 13, 11, 14, 18, 19, 20])\n",
    "\n",
    "# 중복되지 않는 값들 찾기\n",
    "unique_values = np.unique(a)\n",
    "print(unique_values)"
   ]
  },
  {
   "cell_type": "code",
   "execution_count": null,
   "metadata": {},
   "outputs": [
    {
     "data": {
      "text/plain": [
       "15"
      ]
     },
     "execution_count": 58,
     "metadata": {},
     "output_type": "execute_result"
    }
   ],
   "source": [
    "# array 구성요소의 갯수\n",
    "len(a)"
   ]
  },
  {
   "cell_type": "markdown",
   "metadata": {},
   "source": [
    "<br></br>\n",
    "## Pandas\n",
    "데이터를 파이썬에 불러오기 위한 라이브러리 ([Pandas link](https://pandas.pydata.org/)), ([Pandas 튜토리얼](https://pandas.pydata.org/docs/getting_started/intro_tutorials/index.html))  \n",
    "\n",
    "\n",
    "[![pandas](https://i.ytimg.com/an_webp/_T8LGqJtuGc/mqdefault_6s.webp?du=3000&sqp=CLOuuq8G&rs=AOn4CLDmd1CISHmwrhppKSdWx_5LuMlRbw)](https://www.youtube.com/watch?v=_T8LGqJtuGc)\n",
    "\n",
    "\n",
    "<img src=\"https://pandas.pydata.org/docs/_images/01_table_dataframe.svg\" width=\"800\" style=\"background-color:white;\"/>\n",
    "\n",
    "<!-- <iframe width=\"560\" height=\"315\" src=https://pandas.pydata.org/docs/_images/01_table_dataframe.svg></iframe> -->\n",
    "\n",
    "\n",
    "$\n",
    "\\begin{align} \n",
    "    DataFrame \\sim matrix \\sim Excel \\, Worksheet   \\nonumber\n",
    "\\end{align}\n",
    "$\n",
    "\n",
    "[pd.DataFrame()](https://pandas.pydata.org/docs/reference/api/pandas.DataFrame.html)\n",
    "<!-- ![pd_dataframe](https://github.com/SeanJSLee/Teaching_YU_DS_basic_KR/blob/main/doc/img/pd_dataframe.png?raw=true) -->\n",
    "<img src=\"https://github.com/SeanJSLee/Teaching_YU_DS_basic_KR/blob/main/doc/img/pd_dataframe.png?raw=true\" width=\"800\"/>"
   ]
  },
  {
   "cell_type": "code",
   "execution_count": 14,
   "metadata": {},
   "outputs": [
    {
     "data": {
      "text/html": [
       "<div>\n",
       "<style scoped>\n",
       "    .dataframe tbody tr th:only-of-type {\n",
       "        vertical-align: middle;\n",
       "    }\n",
       "\n",
       "    .dataframe tbody tr th {\n",
       "        vertical-align: top;\n",
       "    }\n",
       "\n",
       "    .dataframe thead th {\n",
       "        text-align: right;\n",
       "    }\n",
       "</style>\n",
       "<table border=\"1\" class=\"dataframe\">\n",
       "  <thead>\n",
       "    <tr style=\"text-align: right;\">\n",
       "      <th></th>\n",
       "      <th>Name</th>\n",
       "      <th>Age</th>\n",
       "      <th>Sex</th>\n",
       "    </tr>\n",
       "  </thead>\n",
       "  <tbody>\n",
       "    <tr>\n",
       "      <th>0</th>\n",
       "      <td>Braund, Mr. Owen Harris</td>\n",
       "      <td>22</td>\n",
       "      <td>male</td>\n",
       "    </tr>\n",
       "    <tr>\n",
       "      <th>1</th>\n",
       "      <td>Allen, Mr. William Henry</td>\n",
       "      <td>35</td>\n",
       "      <td>male</td>\n",
       "    </tr>\n",
       "    <tr>\n",
       "      <th>2</th>\n",
       "      <td>Bonnell, Miss. Elizabeth</td>\n",
       "      <td>58</td>\n",
       "      <td>female</td>\n",
       "    </tr>\n",
       "  </tbody>\n",
       "</table>\n",
       "</div>"
      ],
      "text/plain": [
       "                       Name  Age     Sex\n",
       "0   Braund, Mr. Owen Harris   22    male\n",
       "1  Allen, Mr. William Henry   35    male\n",
       "2  Bonnell, Miss. Elizabeth   58  female"
      ]
     },
     "execution_count": 14,
     "metadata": {},
     "output_type": "execute_result"
    }
   ],
   "source": [
    "# 라이브러리 불러오기, 짧은 이름으로 'pd'사용\n",
    "import pandas as pd\n",
    "\n",
    "# 데이터프레임 생성\n",
    "df = pd.DataFrame(\n",
    "    \n",
    "        # 중괄호로 시작; dict type\n",
    "        {\n",
    "            # 첫번째 컬럼(열)의 이름 및 데이터\n",
    "            \"Name\": [\n",
    "                \"Braund, Mr. Owen Harris\",\n",
    "                \"Allen, Mr. William Henry\",\n",
    "                \"Bonnell, Miss. Elizabeth\",\n",
    "            ],\n",
    "\n",
    "            # 두번쨰 컬럼\n",
    "            \"Age\": [22, 35, 58],\n",
    "\n",
    "            # 세번째 컬럼\n",
    "            \"Sex\": [\"male\", \"male\", \"female\"],\n",
    "        }\n",
    "    )\n",
    "\n",
    "df"
   ]
  },
  {
   "cell_type": "code",
   "execution_count": null,
   "metadata": {},
   "outputs": [
    {
     "name": "stdout",
     "output_type": "stream",
     "text": [
      "<class 'pandas.core.series.Series'>\n"
     ]
    },
    {
     "data": {
      "text/plain": [
       "0    22\n",
       "1    35\n",
       "2    58\n",
       "Name: Age, dtype: int64"
      ]
     },
     "execution_count": 60,
     "metadata": {},
     "output_type": "execute_result"
    }
   ],
   "source": [
    "# 위에서 정의한 'df' 데이터프레임의 'Age'열을 의미; Series로 출력\n",
    "print(type(df['Age']))\n",
    "df['Age']"
   ]
  },
  {
   "cell_type": "code",
   "execution_count": null,
   "metadata": {},
   "outputs": [
    {
     "data": {
      "text/plain": [
       "115"
      ]
     },
     "execution_count": 61,
     "metadata": {},
     "output_type": "execute_result"
    }
   ],
   "source": [
    "df['Age'].sum()"
   ]
  },
  {
   "cell_type": "code",
   "execution_count": null,
   "metadata": {},
   "outputs": [
    {
     "name": "stdout",
     "output_type": "stream",
     "text": [
      "<class 'pandas.core.frame.DataFrame'>\n"
     ]
    },
    {
     "data": {
      "text/html": [
       "<div>\n",
       "<style scoped>\n",
       "    .dataframe tbody tr th:only-of-type {\n",
       "        vertical-align: middle;\n",
       "    }\n",
       "\n",
       "    .dataframe tbody tr th {\n",
       "        vertical-align: top;\n",
       "    }\n",
       "\n",
       "    .dataframe thead th {\n",
       "        text-align: right;\n",
       "    }\n",
       "</style>\n",
       "<table border=\"1\" class=\"dataframe\">\n",
       "  <thead>\n",
       "    <tr style=\"text-align: right;\">\n",
       "      <th></th>\n",
       "      <th>Age</th>\n",
       "    </tr>\n",
       "  </thead>\n",
       "  <tbody>\n",
       "    <tr>\n",
       "      <th>0</th>\n",
       "      <td>22</td>\n",
       "    </tr>\n",
       "    <tr>\n",
       "      <th>1</th>\n",
       "      <td>35</td>\n",
       "    </tr>\n",
       "    <tr>\n",
       "      <th>2</th>\n",
       "      <td>58</td>\n",
       "    </tr>\n",
       "  </tbody>\n",
       "</table>\n",
       "</div>"
      ],
      "text/plain": [
       "   Age\n",
       "0   22\n",
       "1   35\n",
       "2   58"
      ]
     },
     "execution_count": 62,
     "metadata": {},
     "output_type": "execute_result"
    }
   ],
   "source": [
    "# 위에서 정의한 'df' 데이터프레임의 'Age'열로 새로운 데이터프레임을 만듦; DataFrame으로 출력\n",
    "print(type(df[['Age']]))\n",
    "df[['Age']]"
   ]
  },
  {
   "cell_type": "code",
   "execution_count": null,
   "metadata": {},
   "outputs": [
    {
     "data": {
      "text/html": [
       "<div>\n",
       "<style scoped>\n",
       "    .dataframe tbody tr th:only-of-type {\n",
       "        vertical-align: middle;\n",
       "    }\n",
       "\n",
       "    .dataframe tbody tr th {\n",
       "        vertical-align: top;\n",
       "    }\n",
       "\n",
       "    .dataframe thead th {\n",
       "        text-align: right;\n",
       "    }\n",
       "</style>\n",
       "<table border=\"1\" class=\"dataframe\">\n",
       "  <thead>\n",
       "    <tr style=\"text-align: right;\">\n",
       "      <th></th>\n",
       "      <th>Age</th>\n",
       "    </tr>\n",
       "  </thead>\n",
       "  <tbody>\n",
       "    <tr>\n",
       "      <th>0</th>\n",
       "      <td>22</td>\n",
       "    </tr>\n",
       "    <tr>\n",
       "      <th>1</th>\n",
       "      <td>35</td>\n",
       "    </tr>\n",
       "    <tr>\n",
       "      <th>2</th>\n",
       "      <td>58</td>\n",
       "    </tr>\n",
       "  </tbody>\n",
       "</table>\n",
       "</div>"
      ],
      "text/plain": [
       "   Age\n",
       "0   22\n",
       "1   35\n",
       "2   58"
      ]
     },
     "execution_count": 63,
     "metadata": {},
     "output_type": "execute_result"
    }
   ],
   "source": [
    "# 'df' 데이터프레임의 'Age'열을 이용한 데이터프레임과 동일\n",
    "pd.DataFrame(df['Age'])"
   ]
  },
  {
   "cell_type": "markdown",
   "metadata": {},
   "source": [
    "[pd.read_csv()](https://pandas.pydata.org/pandas-docs/stable/reference/api/pandas.read_csv.html)\n"
   ]
  },
  {
   "cell_type": "code",
   "execution_count": 16,
   "metadata": {},
   "outputs": [
    {
     "name": "stdout",
     "output_type": "stream",
     "text": [
      "Unnamed: 0      int64\n",
      "date           object\n",
      "id              int64\n",
      "household        bool\n",
      "female           bool\n",
      "age           float64\n",
      "ksic           object\n",
      "ksco           object\n",
      "income        float64\n",
      "edu_year        int64\n",
      "ln_income     float64\n",
      "dtype: object\n"
     ]
    },
    {
     "data": {
      "text/html": [
       "<div>\n",
       "<style scoped>\n",
       "    .dataframe tbody tr th:only-of-type {\n",
       "        vertical-align: middle;\n",
       "    }\n",
       "\n",
       "    .dataframe tbody tr th {\n",
       "        vertical-align: top;\n",
       "    }\n",
       "\n",
       "    .dataframe thead th {\n",
       "        text-align: right;\n",
       "    }\n",
       "</style>\n",
       "<table border=\"1\" class=\"dataframe\">\n",
       "  <thead>\n",
       "    <tr style=\"text-align: right;\">\n",
       "      <th></th>\n",
       "      <th>Unnamed: 0</th>\n",
       "      <th>date</th>\n",
       "      <th>id</th>\n",
       "      <th>household</th>\n",
       "      <th>female</th>\n",
       "      <th>age</th>\n",
       "      <th>ksic</th>\n",
       "      <th>ksco</th>\n",
       "      <th>income</th>\n",
       "      <th>edu_year</th>\n",
       "      <th>ln_income</th>\n",
       "    </tr>\n",
       "  </thead>\n",
       "  <tbody>\n",
       "    <tr>\n",
       "      <th>0</th>\n",
       "      <td>0</td>\n",
       "      <td>2023-03-01</td>\n",
       "      <td>1</td>\n",
       "      <td>True</td>\n",
       "      <td>False</td>\n",
       "      <td>43.0</td>\n",
       "      <td>F</td>\n",
       "      <td>3</td>\n",
       "      <td>5170000.0</td>\n",
       "      <td>12</td>\n",
       "      <td>15.458383</td>\n",
       "    </tr>\n",
       "    <tr>\n",
       "      <th>1</th>\n",
       "      <td>1</td>\n",
       "      <td>2023-03-01</td>\n",
       "      <td>2</td>\n",
       "      <td>True</td>\n",
       "      <td>False</td>\n",
       "      <td>66.0</td>\n",
       "      <td>N</td>\n",
       "      <td>9</td>\n",
       "      <td>2176800.0</td>\n",
       "      <td>9</td>\n",
       "      <td>14.593366</td>\n",
       "    </tr>\n",
       "    <tr>\n",
       "      <th>2</th>\n",
       "      <td>2</td>\n",
       "      <td>2023-03-01</td>\n",
       "      <td>4</td>\n",
       "      <td>True</td>\n",
       "      <td>True</td>\n",
       "      <td>50.0</td>\n",
       "      <td>C</td>\n",
       "      <td>7</td>\n",
       "      <td>2078090.0</td>\n",
       "      <td>12</td>\n",
       "      <td>14.546960</td>\n",
       "    </tr>\n",
       "    <tr>\n",
       "      <th>3</th>\n",
       "      <td>3</td>\n",
       "      <td>2023-03-01</td>\n",
       "      <td>5</td>\n",
       "      <td>True</td>\n",
       "      <td>False</td>\n",
       "      <td>30.0</td>\n",
       "      <td>Z</td>\n",
       "      <td>Z</td>\n",
       "      <td>700514.0</td>\n",
       "      <td>14</td>\n",
       "      <td>13.459570</td>\n",
       "    </tr>\n",
       "    <tr>\n",
       "      <th>4</th>\n",
       "      <td>4</td>\n",
       "      <td>2023-03-01</td>\n",
       "      <td>6</td>\n",
       "      <td>True</td>\n",
       "      <td>True</td>\n",
       "      <td>65.0</td>\n",
       "      <td>Q</td>\n",
       "      <td>4</td>\n",
       "      <td>895976.0</td>\n",
       "      <td>12</td>\n",
       "      <td>13.705669</td>\n",
       "    </tr>\n",
       "    <tr>\n",
       "      <th>...</th>\n",
       "      <td>...</td>\n",
       "      <td>...</td>\n",
       "      <td>...</td>\n",
       "      <td>...</td>\n",
       "      <td>...</td>\n",
       "      <td>...</td>\n",
       "      <td>...</td>\n",
       "      <td>...</td>\n",
       "      <td>...</td>\n",
       "      <td>...</td>\n",
       "      <td>...</td>\n",
       "    </tr>\n",
       "    <tr>\n",
       "      <th>22052</th>\n",
       "      <td>22052</td>\n",
       "      <td>2023-12-01</td>\n",
       "      <td>7109</td>\n",
       "      <td>False</td>\n",
       "      <td>True</td>\n",
       "      <td>39.0</td>\n",
       "      <td>M</td>\n",
       "      <td>3</td>\n",
       "      <td>2500000.0</td>\n",
       "      <td>16</td>\n",
       "      <td>14.731801</td>\n",
       "    </tr>\n",
       "    <tr>\n",
       "      <th>22053</th>\n",
       "      <td>22053</td>\n",
       "      <td>2023-12-01</td>\n",
       "      <td>7114</td>\n",
       "      <td>False</td>\n",
       "      <td>True</td>\n",
       "      <td>51.0</td>\n",
       "      <td>P</td>\n",
       "      <td>4</td>\n",
       "      <td>2292890.0</td>\n",
       "      <td>12</td>\n",
       "      <td>14.645324</td>\n",
       "    </tr>\n",
       "    <tr>\n",
       "      <th>22054</th>\n",
       "      <td>22054</td>\n",
       "      <td>2023-12-01</td>\n",
       "      <td>7118</td>\n",
       "      <td>False</td>\n",
       "      <td>True</td>\n",
       "      <td>39.0</td>\n",
       "      <td>P</td>\n",
       "      <td>3</td>\n",
       "      <td>135000.0</td>\n",
       "      <td>16</td>\n",
       "      <td>11.813030</td>\n",
       "    </tr>\n",
       "    <tr>\n",
       "      <th>22055</th>\n",
       "      <td>22055</td>\n",
       "      <td>2023-12-01</td>\n",
       "      <td>7124</td>\n",
       "      <td>False</td>\n",
       "      <td>True</td>\n",
       "      <td>77.0</td>\n",
       "      <td>Q</td>\n",
       "      <td>9</td>\n",
       "      <td>270000.0</td>\n",
       "      <td>6</td>\n",
       "      <td>12.506177</td>\n",
       "    </tr>\n",
       "    <tr>\n",
       "      <th>22056</th>\n",
       "      <td>22056</td>\n",
       "      <td>2023-12-01</td>\n",
       "      <td>7129</td>\n",
       "      <td>False</td>\n",
       "      <td>True</td>\n",
       "      <td>43.0</td>\n",
       "      <td>A</td>\n",
       "      <td>9</td>\n",
       "      <td>1906275.0</td>\n",
       "      <td>14</td>\n",
       "      <td>14.460662</td>\n",
       "    </tr>\n",
       "  </tbody>\n",
       "</table>\n",
       "<p>22057 rows × 11 columns</p>\n",
       "</div>"
      ],
      "text/plain": [
       "       Unnamed: 0        date    id  household  female   age ksic ksco  \\\n",
       "0               0  2023-03-01     1       True   False  43.0    F    3   \n",
       "1               1  2023-03-01     2       True   False  66.0    N    9   \n",
       "2               2  2023-03-01     4       True    True  50.0    C    7   \n",
       "3               3  2023-03-01     5       True   False  30.0    Z    Z   \n",
       "4               4  2023-03-01     6       True    True  65.0    Q    4   \n",
       "...           ...         ...   ...        ...     ...   ...  ...  ...   \n",
       "22052       22052  2023-12-01  7109      False    True  39.0    M    3   \n",
       "22053       22053  2023-12-01  7114      False    True  51.0    P    4   \n",
       "22054       22054  2023-12-01  7118      False    True  39.0    P    3   \n",
       "22055       22055  2023-12-01  7124      False    True  77.0    Q    9   \n",
       "22056       22056  2023-12-01  7129      False    True  43.0    A    9   \n",
       "\n",
       "          income  edu_year  ln_income  \n",
       "0      5170000.0        12  15.458383  \n",
       "1      2176800.0         9  14.593366  \n",
       "2      2078090.0        12  14.546960  \n",
       "3       700514.0        14  13.459570  \n",
       "4       895976.0        12  13.705669  \n",
       "...          ...       ...        ...  \n",
       "22052  2500000.0        16  14.731801  \n",
       "22053  2292890.0        12  14.645324  \n",
       "22054   135000.0        16  11.813030  \n",
       "22055   270000.0         6  12.506177  \n",
       "22056  1906275.0        14  14.460662  \n",
       "\n",
       "[22057 rows x 11 columns]"
      ]
     },
     "execution_count": 16,
     "metadata": {},
     "output_type": "execute_result"
    }
   ],
   "source": [
    "# Load the dataset\n",
    "df_income = pd.read_csv(\"https://raw.githubusercontent.com/SeanJSLee/Teaching_YU_DS_basic_KR/main/data/KOSIS_houshold_panel_survey/data_income_kor.csv\")\n",
    "print(df_income.dtypes)\n",
    "df_income"
   ]
  },
  {
   "cell_type": "markdown",
   "metadata": {},
   "source": [
    "<br></br>\n",
    "## matplotlib\n",
    "그래프 전용 라이브러리 ([matplotlib 링크](https://matplotlib.org/stable/gallery/index.html))\n",
    "\n",
    "<!-- ![matplot_hist](https://matplotlib.org/stable/_images/sphx_glr_hist_001_2_00x.png) -->\n",
    "[matplotlib.pyplot.subplots()](https://matplotlib.org/stable/api/_as_gen/matplotlib.pyplot.subplots.html)  \n",
    "[matplotlib.Figure()](https://matplotlib.org/stable/api/figure_api.html#matplotlib.figure.Figure)  \n",
    "[matplotlib.Axes()](https://matplotlib.org/stable/api/_as_gen/matplotlib.axes.Axes.html#matplotlib.axes.Axes)  \n",
    "[matplotlib.pyplot.show()](https://matplotlib.org/stable/api/_as_gen/matplotlib.pyplot.show.html)"
   ]
  },
  {
   "cell_type": "code",
   "execution_count": 33,
   "metadata": {},
   "outputs": [
    {
     "data": {
      "image/png": "[encoded data removed]",
      "text/plain": [
       "<Figure size 640x480 with 1 Axes>"
      ]
     },
     "metadata": {},
     "output_type": "display_data"
    }
   ],
   "source": [
    "# matplotlib의 그래프기능을 \"plt\"로 불러오기\n",
    "import matplotlib.pyplot as plt\n",
    "\n",
    "# numpy는 이전에 불러왔기 떄문에 생략 가능\n",
    "import numpy as np\n",
    "\n",
    "a = np.array([11, 11, 12, 13, 14, 15, 16, 17, 12, 13, 11, 14, 18, 19, 20])\n",
    "\n",
    "# 그래프 공간 설정\n",
    "# plt.subplots()는 그래프영역과 그래프요소를 각각 불러오기 때문에 \",\"로 구분\n",
    "fig, ax = plt.subplots()\n",
    "\n",
    "# 그래프요소 종류와 데이터 설정\n",
    "ax.plot(a)\n",
    "\n",
    "# 그리기 명령\n",
    "plt.show()"
   ]
  },
  {
   "cell_type": "code",
   "execution_count": 36,
   "metadata": {},
   "outputs": [
    {
     "data": {
      "image/png": "[encoded data removed]",
      "text/plain": [
       "<Figure size 640x480 with 1 Axes>"
      ]
     },
     "metadata": {},
     "output_type": "display_data"
    }
   ],
   "source": [
    "fig, ax = plt.subplots()\n",
    "\n",
    "# 그래프요소 종류와 데이터 설정\n",
    "ax.hist(df_income['income'], bins=50, density=True)\n",
    "\n",
    "# 그리기 명령\n",
    "plt.show()"
   ]
  },
  {
   "cell_type": "code",
   "execution_count": 35,
   "metadata": {},
   "outputs": [
    {
     "data": {
      "image/png": "[encoded data removed]",
      "text/plain": [
       "<Figure size 640x480 with 1 Axes>"
      ]
     },
     "metadata": {},
     "output_type": "display_data"
    }
   ],
   "source": [
    "fig, ax = plt.subplots()\n",
    "\n",
    "# 그래프요소 종류와 데이터 설정\n",
    "ax.hist(df_income['age'], bins=50, density=True)\n",
    "\n",
    "# 그리기 명령\n",
    "plt.show()"
   ]
  },
  {
   "cell_type": "markdown",
   "metadata": {},
   "source": [
    "## statsmodels\n",
    "OLS 회귀분석 라이브러리 ([statsmodels 링크](https://www.statsmodels.org/stable/examples/notebooks/generated/ols.html))  \n",
    "회귀분석 보조 도구 [patsy](https://patsy.readthedocs.io/en/latest/quickstart.html)\n",
    "\n"
   ]
  },
  {
   "cell_type": "markdown",
   "metadata": {},
   "source": [
    "[patsy.dmatrices()](https://patsy.readthedocs.io/en/latest/API-reference.html#basic-api)  \n",
    "[statsmodels.api.OLS()](https://www.statsmodels.org/stable/generated/statsmodels.regression.linear_model.OLS.html#statsmodels.regression.linear_model.OLS)  \n",
    "\n",
    "<!-- <img src=\"\" width=\"800\"/> -->\n",
    "\n",
    "[statsmodels.api.OLS.fit()](https://www.statsmodels.org/dev/generated/statsmodels.regression.linear_model.OLS.fit.html)  \n",
    "[statsmodels.api.OLSResults.summary()](https://www.statsmodels.org/dev/generated/statsmodels.regression.linear_model.OLSResults.summary.html)"
   ]
  },
  {
   "cell_type": "code",
   "execution_count": 37,
   "metadata": {},
   "outputs": [
    {
     "data": {
      "text/html": [
       "<div>\n",
       "<style scoped>\n",
       "    .dataframe tbody tr th:only-of-type {\n",
       "        vertical-align: middle;\n",
       "    }\n",
       "\n",
       "    .dataframe tbody tr th {\n",
       "        vertical-align: top;\n",
       "    }\n",
       "\n",
       "    .dataframe thead th {\n",
       "        text-align: right;\n",
       "    }\n",
       "</style>\n",
       "<table border=\"1\" class=\"dataframe\">\n",
       "  <thead>\n",
       "    <tr style=\"text-align: right;\">\n",
       "      <th></th>\n",
       "      <th>ln_income</th>\n",
       "    </tr>\n",
       "  </thead>\n",
       "  <tbody>\n",
       "    <tr>\n",
       "      <th>0</th>\n",
       "      <td>15.458383</td>\n",
       "    </tr>\n",
       "    <tr>\n",
       "      <th>1</th>\n",
       "      <td>14.593366</td>\n",
       "    </tr>\n",
       "    <tr>\n",
       "      <th>2</th>\n",
       "      <td>14.546960</td>\n",
       "    </tr>\n",
       "    <tr>\n",
       "      <th>3</th>\n",
       "      <td>13.459570</td>\n",
       "    </tr>\n",
       "    <tr>\n",
       "      <th>4</th>\n",
       "      <td>13.705669</td>\n",
       "    </tr>\n",
       "    <tr>\n",
       "      <th>...</th>\n",
       "      <td>...</td>\n",
       "    </tr>\n",
       "    <tr>\n",
       "      <th>22052</th>\n",
       "      <td>14.731801</td>\n",
       "    </tr>\n",
       "    <tr>\n",
       "      <th>22053</th>\n",
       "      <td>14.645324</td>\n",
       "    </tr>\n",
       "    <tr>\n",
       "      <th>22054</th>\n",
       "      <td>11.813030</td>\n",
       "    </tr>\n",
       "    <tr>\n",
       "      <th>22055</th>\n",
       "      <td>12.506177</td>\n",
       "    </tr>\n",
       "    <tr>\n",
       "      <th>22056</th>\n",
       "      <td>14.460662</td>\n",
       "    </tr>\n",
       "  </tbody>\n",
       "</table>\n",
       "<p>22057 rows × 1 columns</p>\n",
       "</div>"
      ],
      "text/plain": [
       "       ln_income\n",
       "0      15.458383\n",
       "1      14.593366\n",
       "2      14.546960\n",
       "3      13.459570\n",
       "4      13.705669\n",
       "...          ...\n",
       "22052  14.731801\n",
       "22053  14.645324\n",
       "22054  11.813030\n",
       "22055  12.506177\n",
       "22056  14.460662\n",
       "\n",
       "[22057 rows x 1 columns]"
      ]
     },
     "execution_count": 37,
     "metadata": {},
     "output_type": "execute_result"
    }
   ],
   "source": [
    "# numpy, pandas는 이전에 불러왔기 떄문에 생략 가능\n",
    "import numpy as np\n",
    "import pandas as pd\n",
    "\n",
    "# statsmodel 분석도구를 \"sm\"으로 불러오기\n",
    "import statsmodels.api as sm\n",
    "\n",
    "# patsy는 그대로 \"patsy\"로 불러오기. \n",
    "import patsy\n",
    "\n",
    "# 모델 specification\n",
    "Dependant_y, Independant_X = patsy.dmatrices('ln_income ~ edu_year', df_income, return_type='dataframe')\n",
    "\n",
    "Dependant_y"
   ]
  },
  {
   "cell_type": "code",
   "execution_count": 38,
   "metadata": {},
   "outputs": [
    {
     "data": {
      "text/html": [
       "<div>\n",
       "<style scoped>\n",
       "    .dataframe tbody tr th:only-of-type {\n",
       "        vertical-align: middle;\n",
       "    }\n",
       "\n",
       "    .dataframe tbody tr th {\n",
       "        vertical-align: top;\n",
       "    }\n",
       "\n",
       "    .dataframe thead th {\n",
       "        text-align: right;\n",
       "    }\n",
       "</style>\n",
       "<table border=\"1\" class=\"dataframe\">\n",
       "  <thead>\n",
       "    <tr style=\"text-align: right;\">\n",
       "      <th></th>\n",
       "      <th>Intercept</th>\n",
       "      <th>edu_year</th>\n",
       "    </tr>\n",
       "  </thead>\n",
       "  <tbody>\n",
       "    <tr>\n",
       "      <th>0</th>\n",
       "      <td>1.0</td>\n",
       "      <td>12.0</td>\n",
       "    </tr>\n",
       "    <tr>\n",
       "      <th>1</th>\n",
       "      <td>1.0</td>\n",
       "      <td>9.0</td>\n",
       "    </tr>\n",
       "    <tr>\n",
       "      <th>2</th>\n",
       "      <td>1.0</td>\n",
       "      <td>12.0</td>\n",
       "    </tr>\n",
       "    <tr>\n",
       "      <th>3</th>\n",
       "      <td>1.0</td>\n",
       "      <td>14.0</td>\n",
       "    </tr>\n",
       "    <tr>\n",
       "      <th>4</th>\n",
       "      <td>1.0</td>\n",
       "      <td>12.0</td>\n",
       "    </tr>\n",
       "    <tr>\n",
       "      <th>...</th>\n",
       "      <td>...</td>\n",
       "      <td>...</td>\n",
       "    </tr>\n",
       "    <tr>\n",
       "      <th>22052</th>\n",
       "      <td>1.0</td>\n",
       "      <td>16.0</td>\n",
       "    </tr>\n",
       "    <tr>\n",
       "      <th>22053</th>\n",
       "      <td>1.0</td>\n",
       "      <td>12.0</td>\n",
       "    </tr>\n",
       "    <tr>\n",
       "      <th>22054</th>\n",
       "      <td>1.0</td>\n",
       "      <td>16.0</td>\n",
       "    </tr>\n",
       "    <tr>\n",
       "      <th>22055</th>\n",
       "      <td>1.0</td>\n",
       "      <td>6.0</td>\n",
       "    </tr>\n",
       "    <tr>\n",
       "      <th>22056</th>\n",
       "      <td>1.0</td>\n",
       "      <td>14.0</td>\n",
       "    </tr>\n",
       "  </tbody>\n",
       "</table>\n",
       "<p>22057 rows × 2 columns</p>\n",
       "</div>"
      ],
      "text/plain": [
       "       Intercept  edu_year\n",
       "0            1.0      12.0\n",
       "1            1.0       9.0\n",
       "2            1.0      12.0\n",
       "3            1.0      14.0\n",
       "4            1.0      12.0\n",
       "...          ...       ...\n",
       "22052        1.0      16.0\n",
       "22053        1.0      12.0\n",
       "22054        1.0      16.0\n",
       "22055        1.0       6.0\n",
       "22056        1.0      14.0\n",
       "\n",
       "[22057 rows x 2 columns]"
      ]
     },
     "execution_count": 38,
     "metadata": {},
     "output_type": "execute_result"
    }
   ],
   "source": [
    "Independant_X"
   ]
  },
  {
   "cell_type": "code",
   "execution_count": 24,
   "metadata": {},
   "outputs": [
    {
     "data": {
      "text/plain": [
       "<statsmodels.regression.linear_model.OLS at 0x1a0fa738fd0>"
      ]
     },
     "execution_count": 24,
     "metadata": {},
     "output_type": "execute_result"
    }
   ],
   "source": [
    "# OLS로 모델 추정방식 설정\n",
    "model = sm.OLS(Dependant_y, Independant_X)\n",
    "model"
   ]
  },
  {
   "cell_type": "code",
   "execution_count": 25,
   "metadata": {},
   "outputs": [
    {
     "data": {
      "text/plain": [
       "<statsmodels.regression.linear_model.RegressionResultsWrapper at 0x1a0fac39510>"
      ]
     },
     "execution_count": 25,
     "metadata": {},
     "output_type": "execute_result"
    }
   ],
   "source": [
    "# OLS 추정 - Least Squeared loss function\n",
    "results = model.fit()\n",
    "results"
   ]
  },
  {
   "cell_type": "code",
   "execution_count": 26,
   "metadata": {},
   "outputs": [
    {
     "name": "stdout",
     "output_type": "stream",
     "text": [
      "                            OLS Regression Results                            \n",
      "==============================================================================\n",
      "Dep. Variable:              ln_income   R-squared:                       0.294\n",
      "Model:                            OLS   Adj. R-squared:                  0.294\n",
      "Method:                 Least Squares   F-statistic:                     9191.\n",
      "Date:                Mon, 18 Mar 2024   Prob (F-statistic):               0.00\n",
      "Time:                        09:58:21   Log-Likelihood:                -28789.\n",
      "No. Observations:               22057   AIC:                         5.758e+04\n",
      "Df Residuals:                   22055   BIC:                         5.760e+04\n",
      "Df Model:                           1                                         \n",
      "Covariance Type:            nonrobust                                         \n",
      "==============================================================================\n",
      "                 coef    std err          t      P>|t|      [0.025      0.975]\n",
      "------------------------------------------------------------------------------\n",
      "Intercept     12.5089      0.023    555.500      0.000      12.465      12.553\n",
      "edu_year       0.1591      0.002     95.871      0.000       0.156       0.162\n",
      "==============================================================================\n",
      "Omnibus:                     6968.947   Durbin-Watson:                   1.814\n",
      "Prob(Omnibus):                  0.000   Jarque-Bera (JB):            29732.713\n",
      "Skew:                          -1.505   Prob(JB):                         0.00\n",
      "Kurtosis:                       7.826   Cond. No.                         51.1\n",
      "==============================================================================\n",
      "\n",
      "Notes:\n",
      "[1] Standard Errors assume that the covariance matrix of the errors is correctly specified.\n"
     ]
    }
   ],
   "source": [
    "# 추정결과 표시\n",
    "print(results.summary())"
   ]
  }
 ],
 "metadata": {
  "kernelspec": {
   "display_name": "base",
   "language": "python",
   "name": "python3"
  },
  "language_info": {
   "codemirror_mode": {
    "name": "ipython",
    "version": 3
   },
   "file_extension": ".py",
   "mimetype": "text/x-python",
   "name": "python",
   "nbconvert_exporter": "python",
   "pygments_lexer": "ipython3",
   "version": "3.11.6"
  }
 },
 "nbformat": 4,
 "nbformat_minor": 2
}
