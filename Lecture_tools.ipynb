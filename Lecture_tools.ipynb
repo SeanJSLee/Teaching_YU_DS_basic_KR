{
 "cells": [
  {
   "cell_type": "markdown",
   "metadata": {},
   "source": [
    "## Colab\n",
    "Google의 무료 클라우드 Jupyter notebook 서비스 ([Colab link](https://colab.research.google.com/))\n",
    "- Jupyter notebook은 interactive python 개발환경 ([Jupyter link](https://jupyter.org/))  \n",
    "\n",
    "<!-- Colab -->\n",
    "[![colab](https://i.ytimg.com/an_webp/inN8seMm7UI/mqdefault_6s.webp?du=3000&sqp=CID_ua8G&rs=AOn4CLCWeXC7JkOqIDUFy4lHACarGQUGcQ)](https://www.youtube.com/watch?v=inN8seMm7UI)\n",
    "\n",
    "\n",
    "<!-- Python -->\n",
    "[![python](https://i.ytimg.com/an_webp/rfscVS0vtbw/mqdefault_6s.webp?du=3000&sqp=CODpua8G&rs=AOn4CLB5va2NHMWNra05ugHUWx2U5BrBVw)](https://youtu.be/rfscVS0vtbw?si=__fJ0av1CNK9LpFW&t=537)\n",
    "\n",
    "python 튜토리얼 9분10초부터\n"
   ]
  },
  {
   "cell_type": "markdown",
   "metadata": {},
   "source": [
    "[print()](https://docs.python.org/ko/3.9/library/functions.html#print)"
   ]
  },
  {
   "cell_type": "code",
   "execution_count": null,
   "metadata": {},
   "outputs": [],
   "source": [
    "print('hello world!')"
   ]
  },
  {
   "cell_type": "markdown",
   "metadata": {},
   "source": [
    "[range()](https://docs.python.org/ko/3.8/library/stdtypes.html#range)"
   ]
  },
  {
   "cell_type": "code",
   "execution_count": null,
   "metadata": {},
   "outputs": [],
   "source": [
    "# 0부터 9까지 연속된 정수를 x에 define\n",
    "x = range(0,10)\n",
    "\n",
    "# 각각의 x 값을 출력\n",
    "for value in x :\n",
    "    print(value)"
   ]
  },
  {
   "cell_type": "markdown",
   "metadata": {},
   "source": [
    "[len()](https://docs.python.org/ko/3.8/library/functions.html#len)"
   ]
  },
  {
   "cell_type": "code",
   "execution_count": null,
   "metadata": {},
   "outputs": [],
   "source": [
    "# x 의 길이\n",
    "len(x)"
   ]
  },
  {
   "cell_type": "markdown",
   "metadata": {},
   "source": [
    "[list()](https://docs.python.org/ko/3.8/library/stdtypes.html#typesseq-list)"
   ]
  },
  {
   "cell_type": "code",
   "execution_count": null,
   "metadata": {},
   "outputs": [],
   "source": [
    "list = ['Mary', 'had', 'a', 'little', 'lamb']\n",
    "for element in list:\n",
    "    print(element)"
   ]
  },
  {
   "cell_type": "markdown",
   "metadata": {},
   "source": [
    "## NumPy\n",
    "NumPy는 데이터처리를 도와주는 라이브러리. 엑셀의 함수와 비슷한 기능.\n",
    "엑셀의 기능이 파이썬의 여러 라이브러리에 나눠져 있다고 생각 할 수 있음. ([NumPy 링크](https://numpy.org/doc/stable/user/absolute_beginners.html))\n",
    "\n",
    "\n",
    "![numpy_array](https://numpy.org/doc/stable/_images/np_array.png)\n",
    "\n",
    "[np.array()](https://numpy.org/doc/stable/reference/arrays.html)"
   ]
  },
  {
   "cell_type": "code",
   "execution_count": null,
   "metadata": {},
   "outputs": [],
   "source": [
    "# numpy라이브러리를 \"np\"로 불러오기\n",
    "import numpy as np\n",
    "\n",
    "# NumPy의 기본구성요소: array\n",
    "a = np.array([1, 2, 3])\n",
    "a"
   ]
  },
  {
   "cell_type": "markdown",
   "metadata": {},
   "source": [
    "[np.sum()](https://numpy.org/doc/stable/reference/generated/numpy.sum.html#numpy.sum)"
   ]
  },
  {
   "cell_type": "code",
   "execution_count": null,
   "metadata": {},
   "outputs": [],
   "source": [
    "# 합계 구하기\n",
    "# 이때 sum()은 numpy의 array에서 제공하는 기능을 \".\"로 사용\n",
    "a.sum()"
   ]
  },
  {
   "cell_type": "markdown",
   "metadata": {},
   "source": [
    "[np.unique()](https://numpy.org/doc/stable/reference/generated/numpy.unique.html)"
   ]
  },
  {
   "cell_type": "code",
   "execution_count": null,
   "metadata": {},
   "outputs": [],
   "source": [
    "a = np.array([11, 11, 12, 13, 14, 15, 16, 17, 12, 13, 11, 14, 18, 19, 20])\n",
    "\n",
    "# 중복되지 않는 값들 찾기\n",
    "unique_values = np.unique(a)\n",
    "print(unique_values)"
   ]
  },
  {
   "cell_type": "code",
   "execution_count": null,
   "metadata": {},
   "outputs": [],
   "source": [
    "# array 구성요소의 갯수\n",
    "len(a)"
   ]
  },
  {
   "cell_type": "markdown",
   "metadata": {},
   "source": [
    "## Pandas\n",
    "데이터를 파이썬에 불러오기 위한 라이브러리 ([Pandas link](https://pandas.pydata.org/)), ([Pandas 튜토리얼](https://pandas.pydata.org/docs/getting_started/intro_tutorials/index.html))  \n",
    "\n",
    "\n",
    "[![pandas](https://i.ytimg.com/an_webp/_T8LGqJtuGc/mqdefault_6s.webp?du=3000&sqp=CLOuuq8G&rs=AOn4CLDmd1CISHmwrhppKSdWx_5LuMlRbw)](https://www.youtube.com/watch?v=_T8LGqJtuGc)\n",
    "\n",
    "<iframe width=\"560\" height=\"315\" src=https://pandas.pydata.org/docs/_images/01_table_dataframe.svg></iframe>\n",
    "\n",
    "\n",
    "$\n",
    "\\begin{align} \n",
    "    DataFrame \\sim matrix \\sim Excel \\, Worksheet   \\nonumber\n",
    "\\end{align}\n",
    "$\n",
    "\n",
    "[pd.DataFrame()](https://pandas.pydata.org/docs/reference/api/pandas.DataFrame.html)"
   ]
  },
  {
   "cell_type": "code",
   "execution_count": null,
   "metadata": {},
   "outputs": [],
   "source": [
    "# 라이브러리 불러오기, 짧은 이름으로 'pd'사용\n",
    "import pandas as pd\n",
    "\n",
    "# 데이터프레임 생성\n",
    "df = pd.DataFrame(\n",
    "    \n",
    "        # 중괄호로 시작\n",
    "        {\n",
    "            # 첫번째 컬럼(열)의 이름 및 데이터\n",
    "            \"Name\": [\n",
    "                \"Braund, Mr. Owen Harris\",\n",
    "                \"Allen, Mr. William Henry\",\n",
    "                \"Bonnell, Miss. Elizabeth\",\n",
    "            ],\n",
    "\n",
    "            # 두번쨰 컬럼\n",
    "            \"Age\": [22, 35, 58],\n",
    "\n",
    "            # 세번째 컬럼\n",
    "            \"Sex\": [\"male\", \"male\", \"female\"],\n",
    "        }\n",
    "    )\n",
    "\n",
    "df"
   ]
  },
  {
   "cell_type": "markdown",
   "metadata": {},
   "source": [
    "[type()](https://docs.python.org/ko/3.8/library/functions.html#type)"
   ]
  },
  {
   "cell_type": "code",
   "execution_count": null,
   "metadata": {},
   "outputs": [],
   "source": [
    "# 위에서 정의한 'df' 데이터프레임의 'Age'열을 의미; Series로 출력\n",
    "print(type(df['Age']))\n",
    "df['Age']"
   ]
  },
  {
   "cell_type": "code",
   "execution_count": null,
   "metadata": {},
   "outputs": [],
   "source": [
    "df['Age'].sum()"
   ]
  },
  {
   "cell_type": "code",
   "execution_count": null,
   "metadata": {},
   "outputs": [],
   "source": [
    "# 위에서 정의한 'df' 데이터프레임의 'Age'열로 새로운 데이터프레임을 만듦; DataFrame으로 출력\n",
    "print(type(df[['Age']]))\n",
    "df[['Age']]"
   ]
  },
  {
   "cell_type": "code",
   "execution_count": null,
   "metadata": {},
   "outputs": [],
   "source": [
    "# 'df' 데이터프레임의 'Age'열을 이용한 데이터프레임과 동일\n",
    "pd.DataFrame(df['Age'])"
   ]
  },
  {
   "cell_type": "markdown",
   "metadata": {},
   "source": [
    "## matplotlib\n",
    "그래프 전용 라이브러리 ([matplotlib 링크](https://matplotlib.org/stable/gallery/index.html))\n",
    "\n",
    "![matplot_hist](https://matplotlib.org/stable/_images/sphx_glr_hist_001_2_00x.png)"
   ]
  },
  {
   "cell_type": "markdown",
   "metadata": {},
   "source": [
    "[matplotlib.pyplot.subplots()](https://matplotlib.org/stable/api/_as_gen/matplotlib.pyplot.subplots.html)  \n",
    "[matplotlib.Figure()](https://matplotlib.org/stable/api/figure_api.html#matplotlib.figure.Figure)  \n",
    "[matplotlib.Axes()](https://matplotlib.org/stable/api/_as_gen/matplotlib.axes.Axes.html#matplotlib.axes.Axes)  \n",
    "[matplotlib.pyplot.show()](https://matplotlib.org/stable/api/_as_gen/matplotlib.pyplot.show.html)"
   ]
  },
  {
   "cell_type": "code",
   "execution_count": null,
   "metadata": {},
   "outputs": [],
   "source": [
    "# matplotlib의 그래프기능을 \"plt\"로 불러오기\n",
    "import matplotlib.pyplot as plt\n",
    "\n",
    "# numpy는 이전에 불러왔기 떄문에 생략 가능\n",
    "import numpy as np\n",
    "\n",
    "a = np.array([11, 11, 12, 13, 14, 15, 16, 17, 12, 13, 11, 14, 18, 19, 20])\n",
    "\n",
    "# 그래프 공간 설정\n",
    "# plt.subplots()는 그래프영역과 그래프요소를 각각 불러오기 때문에 \",\"로 구분\n",
    "fig, ax = plt.subplots()\n",
    "\n",
    "# 그래프요소 종류와 데이터 설정\n",
    "ax.plot(a)\n",
    "\n",
    "# 그리기 명령\n",
    "plt.show()"
   ]
  },
  {
   "cell_type": "markdown",
   "metadata": {},
   "source": [
    "## statsmodels\n",
    "OLS 회귀분석 라이브러리 ([statsmodels 링크](https://www.statsmodels.org/stable/examples/notebooks/generated/ols.html))  \n",
    "회귀분석 보조 도구 [patsy](https://patsy.readthedocs.io/en/latest/quickstart.html)\n",
    "\n"
   ]
  },
  {
   "cell_type": "code",
   "execution_count": null,
   "metadata": {},
   "outputs": [],
   "source": [
    "# numpy, pandas는 이전에 불러왔기 떄문에 생략 가능\n",
    "import numpy as np\n",
    "import pandas as pd\n",
    "\n",
    "# statsmodel 분석도구를 \"sm\"으로 불러오기\n",
    "import statsmodels.api as sm\n",
    "\n",
    "# patsy는 그대로 \"patsy\"로 불러오기. \n",
    "import patsy\n",
    "\n",
    "# 랜덤 데이터 생성\n",
    "np.random.seed(9876789)\n",
    "nsample = 100\n",
    "x = np.linspace(0, 10, 100)\n",
    "X = np.column_stack((x, x ** 2))\n",
    "beta = np.array([1, 0.1, 10])\n",
    "e = np.random.normal(size=nsample)\n",
    "X = sm.add_constant(X)\n",
    "y = np.dot(X, beta) + e\n",
    "df = pd.DataFrame({'y':y, 'x1':x, 'x2':x**2})\n",
    "df"
   ]
  },
  {
   "cell_type": "markdown",
   "metadata": {},
   "source": [
    "[patsy.dmatrices()](https://patsy.readthedocs.io/en/latest/API-reference.html#basic-api)  \n",
    "[statsmodels.api.OLS()](https://www.statsmodels.org/stable/generated/statsmodels.regression.linear_model.OLS.html#statsmodels.regression.linear_model.OLS)  \n",
    "[statsmodels.api.OLS.fit()](https://www.statsmodels.org/dev/generated/statsmodels.regression.linear_model.OLS.fit.html)  \n",
    "[statsmodels.api.OLSResults.summary()](https://www.statsmodels.org/dev/generated/statsmodels.regression.linear_model.OLSResults.summary.html)"
   ]
  },
  {
   "cell_type": "code",
   "execution_count": null,
   "metadata": {},
   "outputs": [],
   "source": [
    "# 모델 specification\n",
    "Dependant_y, Independant_X = patsy.dmatrices('y ~ x1 + x2', df, return_type='dataframe')\n",
    "\n",
    "Dependant_y"
   ]
  },
  {
   "cell_type": "code",
   "execution_count": null,
   "metadata": {},
   "outputs": [],
   "source": [
    "Independant_X"
   ]
  },
  {
   "cell_type": "code",
   "execution_count": null,
   "metadata": {},
   "outputs": [],
   "source": [
    "# OLS로 모델 추정방식 설정\n",
    "model = sm.OLS(Dependant_y, Independant_X)\n",
    "model"
   ]
  },
  {
   "cell_type": "code",
   "execution_count": null,
   "metadata": {},
   "outputs": [],
   "source": [
    "# OLS 추정 - Least Squeared loss function\n",
    "results = model.fit()\n",
    "results"
   ]
  },
  {
   "cell_type": "code",
   "execution_count": null,
   "metadata": {},
   "outputs": [],
   "source": [
    "# 추정결과 표시\n",
    "print(results.summary())"
   ]
  }
 ],
 "metadata": {
  "kernelspec": {
   "display_name": "base",
   "language": "python",
   "name": "python3"
  },
  "language_info": {
   "codemirror_mode": {
    "name": "ipython",
    "version": 3
   },
   "file_extension": ".py",
   "mimetype": "text/x-python",
   "name": "python",
   "nbconvert_exporter": "python",
   "pygments_lexer": "ipython3",
   "version": "3.11.6"
  }
 },
 "nbformat": 4,
 "nbformat_minor": 2
}
